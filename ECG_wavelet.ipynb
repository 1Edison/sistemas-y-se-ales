{
 "cells": [
  {
   "cell_type": "code",
   "execution_count": 1,
   "id": "92bbdf75",
   "metadata": {
    "scrolled": true
   },
   "outputs": [
    {
     "name": "stderr",
     "output_type": "stream",
     "text": [
      "C:\\Users\\Usuario\\.conda\\envs\\SistDin\\lib\\site-packages\\sklearn\\linear_model\\least_angle.py:30: DeprecationWarning: `np.float` is a deprecated alias for the builtin `float`. To silence this warning, use `float` by itself. Doing this will not modify any behavior and is safe. If you specifically wanted the numpy scalar type, use `np.float64` here.\n",
      "Deprecated in NumPy 1.20; for more details and guidance: https://numpy.org/devdocs/release/1.20.0-notes.html#deprecations\n",
      "  method='lar', copy_X=True, eps=np.finfo(np.float).eps,\n",
      "C:\\Users\\Usuario\\.conda\\envs\\SistDin\\lib\\site-packages\\sklearn\\linear_model\\least_angle.py:167: DeprecationWarning: `np.float` is a deprecated alias for the builtin `float`. To silence this warning, use `float` by itself. Doing this will not modify any behavior and is safe. If you specifically wanted the numpy scalar type, use `np.float64` here.\n",
      "Deprecated in NumPy 1.20; for more details and guidance: https://numpy.org/devdocs/release/1.20.0-notes.html#deprecations\n",
      "  method='lar', copy_X=True, eps=np.finfo(np.float).eps,\n",
      "C:\\Users\\Usuario\\.conda\\envs\\SistDin\\lib\\site-packages\\sklearn\\linear_model\\least_angle.py:284: DeprecationWarning: `np.float` is a deprecated alias for the builtin `float`. To silence this warning, use `float` by itself. Doing this will not modify any behavior and is safe. If you specifically wanted the numpy scalar type, use `np.float64` here.\n",
      "Deprecated in NumPy 1.20; for more details and guidance: https://numpy.org/devdocs/release/1.20.0-notes.html#deprecations\n",
      "  eps=np.finfo(np.float).eps, copy_Gram=True, verbose=0,\n",
      "C:\\Users\\Usuario\\.conda\\envs\\SistDin\\lib\\site-packages\\sklearn\\linear_model\\least_angle.py:862: DeprecationWarning: `np.float` is a deprecated alias for the builtin `float`. To silence this warning, use `float` by itself. Doing this will not modify any behavior and is safe. If you specifically wanted the numpy scalar type, use `np.float64` here.\n",
      "Deprecated in NumPy 1.20; for more details and guidance: https://numpy.org/devdocs/release/1.20.0-notes.html#deprecations\n",
      "  eps=np.finfo(np.float).eps, copy_X=True, fit_path=True,\n",
      "C:\\Users\\Usuario\\.conda\\envs\\SistDin\\lib\\site-packages\\sklearn\\linear_model\\least_angle.py:1101: DeprecationWarning: `np.float` is a deprecated alias for the builtin `float`. To silence this warning, use `float` by itself. Doing this will not modify any behavior and is safe. If you specifically wanted the numpy scalar type, use `np.float64` here.\n",
      "Deprecated in NumPy 1.20; for more details and guidance: https://numpy.org/devdocs/release/1.20.0-notes.html#deprecations\n",
      "  eps=np.finfo(np.float).eps, copy_X=True, fit_path=True,\n",
      "C:\\Users\\Usuario\\.conda\\envs\\SistDin\\lib\\site-packages\\sklearn\\linear_model\\least_angle.py:1127: DeprecationWarning: `np.float` is a deprecated alias for the builtin `float`. To silence this warning, use `float` by itself. Doing this will not modify any behavior and is safe. If you specifically wanted the numpy scalar type, use `np.float64` here.\n",
      "Deprecated in NumPy 1.20; for more details and guidance: https://numpy.org/devdocs/release/1.20.0-notes.html#deprecations\n",
      "  eps=np.finfo(np.float).eps, positive=False):\n",
      "C:\\Users\\Usuario\\.conda\\envs\\SistDin\\lib\\site-packages\\sklearn\\linear_model\\least_angle.py:1362: DeprecationWarning: `np.float` is a deprecated alias for the builtin `float`. To silence this warning, use `float` by itself. Doing this will not modify any behavior and is safe. If you specifically wanted the numpy scalar type, use `np.float64` here.\n",
      "Deprecated in NumPy 1.20; for more details and guidance: https://numpy.org/devdocs/release/1.20.0-notes.html#deprecations\n",
      "  max_n_alphas=1000, n_jobs=None, eps=np.finfo(np.float).eps,\n",
      "C:\\Users\\Usuario\\.conda\\envs\\SistDin\\lib\\site-packages\\sklearn\\linear_model\\least_angle.py:1602: DeprecationWarning: `np.float` is a deprecated alias for the builtin `float`. To silence this warning, use `float` by itself. Doing this will not modify any behavior and is safe. If you specifically wanted the numpy scalar type, use `np.float64` here.\n",
      "Deprecated in NumPy 1.20; for more details and guidance: https://numpy.org/devdocs/release/1.20.0-notes.html#deprecations\n",
      "  max_n_alphas=1000, n_jobs=None, eps=np.finfo(np.float).eps,\n",
      "C:\\Users\\Usuario\\.conda\\envs\\SistDin\\lib\\site-packages\\sklearn\\linear_model\\least_angle.py:1738: DeprecationWarning: `np.float` is a deprecated alias for the builtin `float`. To silence this warning, use `float` by itself. Doing this will not modify any behavior and is safe. If you specifically wanted the numpy scalar type, use `np.float64` here.\n",
      "Deprecated in NumPy 1.20; for more details and guidance: https://numpy.org/devdocs/release/1.20.0-notes.html#deprecations\n",
      "  eps=np.finfo(np.float).eps, copy_X=True, positive=False):\n",
      "C:\\Users\\Usuario\\.conda\\envs\\SistDin\\lib\\site-packages\\sklearn\\decomposition\\online_lda.py:29: DeprecationWarning: `np.float` is a deprecated alias for the builtin `float`. To silence this warning, use `float` by itself. Doing this will not modify any behavior and is safe. If you specifically wanted the numpy scalar type, use `np.float64` here.\n",
      "Deprecated in NumPy 1.20; for more details and guidance: https://numpy.org/devdocs/release/1.20.0-notes.html#deprecations\n",
      "  EPS = np.finfo(np.float).eps\n",
      "C:\\Users\\Usuario\\.conda\\envs\\SistDin\\lib\\site-packages\\sklearn\\ensemble\\gradient_boosting.py:32: DeprecationWarning: `np.bool` is a deprecated alias for the builtin `bool`. To silence this warning, use `bool` by itself. Doing this will not modify any behavior and is safe. If you specifically wanted the numpy scalar type, use `np.bool_` here.\n",
      "Deprecated in NumPy 1.20; for more details and guidance: https://numpy.org/devdocs/release/1.20.0-notes.html#deprecations\n",
      "  from ._gradient_boosting import predict_stages\n",
      "C:\\Users\\Usuario\\.conda\\envs\\SistDin\\lib\\site-packages\\sklearn\\ensemble\\gradient_boosting.py:32: DeprecationWarning: `np.bool` is a deprecated alias for the builtin `bool`. To silence this warning, use `bool` by itself. Doing this will not modify any behavior and is safe. If you specifically wanted the numpy scalar type, use `np.bool_` here.\n",
      "Deprecated in NumPy 1.20; for more details and guidance: https://numpy.org/devdocs/release/1.20.0-notes.html#deprecations\n",
      "  from ._gradient_boosting import predict_stages\n"
     ]
    }
   ],
   "source": [
    "import os\n",
    "import time\n",
    "import numpy as np\n",
    "import pandas as pd\n",
    "import scipy.io as sio\n",
    "from scipy.fftpack import fft\n",
    "from IPython.display import display\n",
    "\n",
    "import pywt\n",
    "import scipy.stats\n",
    "\n",
    "import datetime as dt\n",
    "from collections import defaultdict, Counter\n",
    "\n",
    "from sklearn.ensemble import GradientBoostingClassifier\n",
    "\n",
    "import seaborn as sns\n",
    "import matplotlib as mpl\n",
    "import matplotlib.pyplot as plt"
   ]
  },
  {
   "cell_type": "code",
   "execution_count": 2,
   "id": "f65efb9e",
   "metadata": {},
   "outputs": [],
   "source": [
    "def calculate_entropy(datoX):\n",
    "    counter_values = Counter(datoX).most_common()\n",
    "    probabilities = [elem[1]/len(datoX) for elem in counter_values]\n",
    "    entropy=scipy.stats.entropy(probabilities)\n",
    "    return entropy\n",
    "\n",
    "def calculate_statistics(datoX):\n",
    "    n5 = np.nanpercentile(datoX, 5)\n",
    "    n25 = np.nanpercentile(datoX, 25)\n",
    "    n75 = np.nanpercentile(datoX, 75)\n",
    "    n95 = np.nanpercentile(datoX, 95)\n",
    "    median = np.nanpercentile(datoX, 50)\n",
    "    mean = np.nanmean(datoX)\n",
    "    std = np.nanstd(datoX)\n",
    "    var = np.nanvar(datoX)\n",
    "    rms = np.nanmean(np.sqrt(datoX**2))\n",
    "    return [n5, n25, n75, n95, median, mean, std, var, rms]\n",
    "\n",
    "def calculate_crossings(datoX):\n",
    "    zero_crossing_indices = np.nonzero(np.diff(np.array(datoX) > 0))[0]\n",
    "    no_zero_crossings = len(zero_crossing_indices)\n",
    "    mean_crossing_indices = np.nonzero(np.diff(np.array(datoX) > np.nanmean(datoX)))[0]\n",
    "    no_mean_crossings = len(mean_crossing_indices)\n",
    "    return [no_zero_crossings, no_mean_crossings]\n",
    "\n",
    "def get_features(datoX):\n",
    "    entropy = calculate_entropy(datoX)\n",
    "    crossings = calculate_crossings(datoX)\n",
    "    statistics = calculate_statistics(datoX)\n",
    "    return [entropy] + crossings + statistics\n",
    "\n",
    "def get_uci_har_features(dataset, labels, waveletname):\n",
    "    uci_har_features = []\n",
    "    for signal_no in range(0, len(dataset)):\n",
    "        features = []\n",
    "        for signal_comp in range(0,dataset.shape[2]):\n",
    "            signal = dataset[signal_no, :, signal_comp]\n",
    "            list_coeff = pywt.wavedec(signal, waveletname)\n",
    "            for coeff in list_coeff:\n",
    "                features += get_features(coeff)\n",
    "        uci_har_features.append(features)\n",
    "    X = np.array(uci_har_features)\n",
    "    Y = np.array(labels)\n",
    "    return X, Y\n",
    "\n",
    "def get_train_test(df, y_col, x_cols, ratio):\n",
    "    \"\"\" \n",
    "    This method transforms a dataframe into a train and test set, for this you need to specify:\n",
    "    1. the ratio train : test (usually 0.7)\n",
    "    2. the column with the Y_values\n",
    "    \"\"\"\n",
    "    mask = np.random.rand(len(df)) < ratio\n",
    "    df_train = df[mask]\n",
    "    df_test = df[~mask]\n",
    "       \n",
    "    Y_train = df_train[y_col].values\n",
    "    Y_test = df_test[y_col].values\n",
    "    X_train = df_train[x_cols].values\n",
    "    X_test = df_test[x_cols].values\n",
    "    return df_train, df_test, X_train, Y_train, X_test, Y_test"
   ]
  },
  {
   "cell_type": "markdown",
   "id": "e9e8aee4",
   "metadata": {},
   "source": [
    "# Ayuda diagnóstica desde el ECG\n",
    "\n",
    "![figuras/ECGdagrama.png](figuras/ECGdagrama.png)"
   ]
  },
  {
   "cell_type": "code",
   "execution_count": null,
   "id": "7e1ff5b0",
   "metadata": {},
   "outputs": [],
   "source": []
  },
  {
   "cell_type": "markdown",
   "id": "34bb4a12",
   "metadata": {},
   "source": [
    "## Carga de los datos\n",
    "\n",
    "Los datos están disponibles en [https://github.com/mathworks/physionet_ECG_data/blob/master/ECGData.zip](https://github.com/mathworks/physionet_ECG_data/blob/master/ECGData.zip).\n",
    "\n",
    "El archivo corresponde a un workspace de Matlab, por lo que debe importarse."
   ]
  },
  {
   "cell_type": "code",
   "execution_count": 3,
   "id": "5f1c2357",
   "metadata": {
    "scrolled": true
   },
   "outputs": [
    {
     "data": {
      "text/plain": [
       "{'__header__': b'MATLAB 5.0 MAT-file, Platform: PCWIN64, Created on: Fri Dec 15 11:26:17 2017',\n",
       " '__version__': '1.0',\n",
       " '__globals__': [],\n",
       " 'ECGData': array([[(array([[-0.0978573 , -0.15688126, -0.13781616, ..., -0.07490498,\n",
       "                 -0.11652732, -0.18042101],\n",
       "                [ 0.1193611 ,  0.18755853,  0.16956925, ..., -0.09721826,\n",
       "                 -0.12393573, -0.10648055],\n",
       "                [-0.02460175, -0.03627935, -0.0359677 , ..., -0.18614223,\n",
       "                 -0.12998497, -0.12235631],\n",
       "                ...,\n",
       "                [-0.355     , -0.355     , -0.345     , ..., -0.335     ,\n",
       "                 -0.315     , -0.315     ],\n",
       "                [-0.275     , -0.245     , -0.285     , ..., -0.205     ,\n",
       "                 -0.145     , -0.165     ],\n",
       "                [ 0.125     ,  0.005     ,  0.025     , ..., -0.225     ,\n",
       "                 -0.275     , -0.205     ]]), array([[array(['ARR'], dtype='<U3')],\n",
       "                [array(['ARR'], dtype='<U3')],\n",
       "                [array(['ARR'], dtype='<U3')],\n",
       "                [array(['ARR'], dtype='<U3')],\n",
       "                [array(['ARR'], dtype='<U3')],\n",
       "                [array(['ARR'], dtype='<U3')],\n",
       "                [array(['ARR'], dtype='<U3')],\n",
       "                [array(['ARR'], dtype='<U3')],\n",
       "                [array(['ARR'], dtype='<U3')],\n",
       "                [array(['ARR'], dtype='<U3')],\n",
       "                [array(['ARR'], dtype='<U3')],\n",
       "                [array(['ARR'], dtype='<U3')],\n",
       "                [array(['ARR'], dtype='<U3')],\n",
       "                [array(['ARR'], dtype='<U3')],\n",
       "                [array(['ARR'], dtype='<U3')],\n",
       "                [array(['ARR'], dtype='<U3')],\n",
       "                [array(['ARR'], dtype='<U3')],\n",
       "                [array(['ARR'], dtype='<U3')],\n",
       "                [array(['ARR'], dtype='<U3')],\n",
       "                [array(['ARR'], dtype='<U3')],\n",
       "                [array(['ARR'], dtype='<U3')],\n",
       "                [array(['ARR'], dtype='<U3')],\n",
       "                [array(['ARR'], dtype='<U3')],\n",
       "                [array(['ARR'], dtype='<U3')],\n",
       "                [array(['ARR'], dtype='<U3')],\n",
       "                [array(['ARR'], dtype='<U3')],\n",
       "                [array(['ARR'], dtype='<U3')],\n",
       "                [array(['ARR'], dtype='<U3')],\n",
       "                [array(['ARR'], dtype='<U3')],\n",
       "                [array(['ARR'], dtype='<U3')],\n",
       "                [array(['ARR'], dtype='<U3')],\n",
       "                [array(['ARR'], dtype='<U3')],\n",
       "                [array(['ARR'], dtype='<U3')],\n",
       "                [array(['ARR'], dtype='<U3')],\n",
       "                [array(['ARR'], dtype='<U3')],\n",
       "                [array(['ARR'], dtype='<U3')],\n",
       "                [array(['ARR'], dtype='<U3')],\n",
       "                [array(['ARR'], dtype='<U3')],\n",
       "                [array(['ARR'], dtype='<U3')],\n",
       "                [array(['ARR'], dtype='<U3')],\n",
       "                [array(['ARR'], dtype='<U3')],\n",
       "                [array(['ARR'], dtype='<U3')],\n",
       "                [array(['ARR'], dtype='<U3')],\n",
       "                [array(['ARR'], dtype='<U3')],\n",
       "                [array(['ARR'], dtype='<U3')],\n",
       "                [array(['ARR'], dtype='<U3')],\n",
       "                [array(['ARR'], dtype='<U3')],\n",
       "                [array(['ARR'], dtype='<U3')],\n",
       "                [array(['ARR'], dtype='<U3')],\n",
       "                [array(['ARR'], dtype='<U3')],\n",
       "                [array(['ARR'], dtype='<U3')],\n",
       "                [array(['ARR'], dtype='<U3')],\n",
       "                [array(['ARR'], dtype='<U3')],\n",
       "                [array(['ARR'], dtype='<U3')],\n",
       "                [array(['ARR'], dtype='<U3')],\n",
       "                [array(['ARR'], dtype='<U3')],\n",
       "                [array(['ARR'], dtype='<U3')],\n",
       "                [array(['ARR'], dtype='<U3')],\n",
       "                [array(['ARR'], dtype='<U3')],\n",
       "                [array(['ARR'], dtype='<U3')],\n",
       "                [array(['ARR'], dtype='<U3')],\n",
       "                [array(['ARR'], dtype='<U3')],\n",
       "                [array(['ARR'], dtype='<U3')],\n",
       "                [array(['ARR'], dtype='<U3')],\n",
       "                [array(['ARR'], dtype='<U3')],\n",
       "                [array(['ARR'], dtype='<U3')],\n",
       "                [array(['ARR'], dtype='<U3')],\n",
       "                [array(['ARR'], dtype='<U3')],\n",
       "                [array(['ARR'], dtype='<U3')],\n",
       "                [array(['ARR'], dtype='<U3')],\n",
       "                [array(['ARR'], dtype='<U3')],\n",
       "                [array(['ARR'], dtype='<U3')],\n",
       "                [array(['ARR'], dtype='<U3')],\n",
       "                [array(['ARR'], dtype='<U3')],\n",
       "                [array(['ARR'], dtype='<U3')],\n",
       "                [array(['ARR'], dtype='<U3')],\n",
       "                [array(['ARR'], dtype='<U3')],\n",
       "                [array(['ARR'], dtype='<U3')],\n",
       "                [array(['ARR'], dtype='<U3')],\n",
       "                [array(['ARR'], dtype='<U3')],\n",
       "                [array(['ARR'], dtype='<U3')],\n",
       "                [array(['ARR'], dtype='<U3')],\n",
       "                [array(['ARR'], dtype='<U3')],\n",
       "                [array(['ARR'], dtype='<U3')],\n",
       "                [array(['ARR'], dtype='<U3')],\n",
       "                [array(['ARR'], dtype='<U3')],\n",
       "                [array(['ARR'], dtype='<U3')],\n",
       "                [array(['ARR'], dtype='<U3')],\n",
       "                [array(['ARR'], dtype='<U3')],\n",
       "                [array(['ARR'], dtype='<U3')],\n",
       "                [array(['ARR'], dtype='<U3')],\n",
       "                [array(['ARR'], dtype='<U3')],\n",
       "                [array(['ARR'], dtype='<U3')],\n",
       "                [array(['ARR'], dtype='<U3')],\n",
       "                [array(['ARR'], dtype='<U3')],\n",
       "                [array(['ARR'], dtype='<U3')],\n",
       "                [array(['CHF'], dtype='<U3')],\n",
       "                [array(['CHF'], dtype='<U3')],\n",
       "                [array(['CHF'], dtype='<U3')],\n",
       "                [array(['CHF'], dtype='<U3')],\n",
       "                [array(['CHF'], dtype='<U3')],\n",
       "                [array(['CHF'], dtype='<U3')],\n",
       "                [array(['CHF'], dtype='<U3')],\n",
       "                [array(['CHF'], dtype='<U3')],\n",
       "                [array(['CHF'], dtype='<U3')],\n",
       "                [array(['CHF'], dtype='<U3')],\n",
       "                [array(['CHF'], dtype='<U3')],\n",
       "                [array(['CHF'], dtype='<U3')],\n",
       "                [array(['CHF'], dtype='<U3')],\n",
       "                [array(['CHF'], dtype='<U3')],\n",
       "                [array(['CHF'], dtype='<U3')],\n",
       "                [array(['CHF'], dtype='<U3')],\n",
       "                [array(['CHF'], dtype='<U3')],\n",
       "                [array(['CHF'], dtype='<U3')],\n",
       "                [array(['CHF'], dtype='<U3')],\n",
       "                [array(['CHF'], dtype='<U3')],\n",
       "                [array(['CHF'], dtype='<U3')],\n",
       "                [array(['CHF'], dtype='<U3')],\n",
       "                [array(['CHF'], dtype='<U3')],\n",
       "                [array(['CHF'], dtype='<U3')],\n",
       "                [array(['CHF'], dtype='<U3')],\n",
       "                [array(['CHF'], dtype='<U3')],\n",
       "                [array(['CHF'], dtype='<U3')],\n",
       "                [array(['CHF'], dtype='<U3')],\n",
       "                [array(['CHF'], dtype='<U3')],\n",
       "                [array(['CHF'], dtype='<U3')],\n",
       "                [array(['NSR'], dtype='<U3')],\n",
       "                [array(['NSR'], dtype='<U3')],\n",
       "                [array(['NSR'], dtype='<U3')],\n",
       "                [array(['NSR'], dtype='<U3')],\n",
       "                [array(['NSR'], dtype='<U3')],\n",
       "                [array(['NSR'], dtype='<U3')],\n",
       "                [array(['NSR'], dtype='<U3')],\n",
       "                [array(['NSR'], dtype='<U3')],\n",
       "                [array(['NSR'], dtype='<U3')],\n",
       "                [array(['NSR'], dtype='<U3')],\n",
       "                [array(['NSR'], dtype='<U3')],\n",
       "                [array(['NSR'], dtype='<U3')],\n",
       "                [array(['NSR'], dtype='<U3')],\n",
       "                [array(['NSR'], dtype='<U3')],\n",
       "                [array(['NSR'], dtype='<U3')],\n",
       "                [array(['NSR'], dtype='<U3')],\n",
       "                [array(['NSR'], dtype='<U3')],\n",
       "                [array(['NSR'], dtype='<U3')],\n",
       "                [array(['NSR'], dtype='<U3')],\n",
       "                [array(['NSR'], dtype='<U3')],\n",
       "                [array(['NSR'], dtype='<U3')],\n",
       "                [array(['NSR'], dtype='<U3')],\n",
       "                [array(['NSR'], dtype='<U3')],\n",
       "                [array(['NSR'], dtype='<U3')],\n",
       "                [array(['NSR'], dtype='<U3')],\n",
       "                [array(['NSR'], dtype='<U3')],\n",
       "                [array(['NSR'], dtype='<U3')],\n",
       "                [array(['NSR'], dtype='<U3')],\n",
       "                [array(['NSR'], dtype='<U3')],\n",
       "                [array(['NSR'], dtype='<U3')],\n",
       "                [array(['NSR'], dtype='<U3')],\n",
       "                [array(['NSR'], dtype='<U3')],\n",
       "                [array(['NSR'], dtype='<U3')],\n",
       "                [array(['NSR'], dtype='<U3')],\n",
       "                [array(['NSR'], dtype='<U3')],\n",
       "                [array(['NSR'], dtype='<U3')]], dtype=object))                     ]],\n",
       "       dtype=[('Data', 'O'), ('Labels', 'O')])}"
      ]
     },
     "execution_count": 3,
     "metadata": {},
     "output_type": "execute_result"
    }
   ],
   "source": [
    "filename = './datos/ECGData.mat'\n",
    "ecg_data = sio.loadmat(filename)\n",
    "ecg_data"
   ]
  },
  {
   "cell_type": "code",
   "execution_count": 4,
   "id": "03462aab",
   "metadata": {},
   "outputs": [
    {
     "data": {
      "text/plain": [
       "array([[-0.0978573 , -0.15688126, -0.13781616, ..., -0.07490498,\n",
       "        -0.11652732, -0.18042101],\n",
       "       [ 0.1193611 ,  0.18755853,  0.16956925, ..., -0.09721826,\n",
       "        -0.12393573, -0.10648055],\n",
       "       [-0.02460175, -0.03627935, -0.0359677 , ..., -0.18614223,\n",
       "        -0.12998497, -0.12235631],\n",
       "       ...,\n",
       "       [-0.355     , -0.355     , -0.345     , ..., -0.335     ,\n",
       "        -0.315     , -0.315     ],\n",
       "       [-0.275     , -0.245     , -0.285     , ..., -0.205     ,\n",
       "        -0.145     , -0.165     ],\n",
       "       [ 0.125     ,  0.005     ,  0.025     , ..., -0.225     ,\n",
       "        -0.275     , -0.205     ]])"
      ]
     },
     "execution_count": 4,
     "metadata": {},
     "output_type": "execute_result"
    }
   ],
   "source": [
    "ecg_signals = ecg_data['ECGData'][0][0][0]\n",
    "ecg_signals"
   ]
  },
  {
   "cell_type": "code",
   "execution_count": 5,
   "id": "ac9c334e",
   "metadata": {
    "scrolled": true
   },
   "outputs": [
    {
     "data": {
      "text/plain": [
       "array([[array(['ARR'], dtype='<U3')],\n",
       "       [array(['ARR'], dtype='<U3')],\n",
       "       [array(['ARR'], dtype='<U3')],\n",
       "       [array(['ARR'], dtype='<U3')],\n",
       "       [array(['ARR'], dtype='<U3')],\n",
       "       [array(['ARR'], dtype='<U3')],\n",
       "       [array(['ARR'], dtype='<U3')],\n",
       "       [array(['ARR'], dtype='<U3')],\n",
       "       [array(['ARR'], dtype='<U3')],\n",
       "       [array(['ARR'], dtype='<U3')],\n",
       "       [array(['ARR'], dtype='<U3')],\n",
       "       [array(['ARR'], dtype='<U3')],\n",
       "       [array(['ARR'], dtype='<U3')],\n",
       "       [array(['ARR'], dtype='<U3')],\n",
       "       [array(['ARR'], dtype='<U3')],\n",
       "       [array(['ARR'], dtype='<U3')],\n",
       "       [array(['ARR'], dtype='<U3')],\n",
       "       [array(['ARR'], dtype='<U3')],\n",
       "       [array(['ARR'], dtype='<U3')],\n",
       "       [array(['ARR'], dtype='<U3')],\n",
       "       [array(['ARR'], dtype='<U3')],\n",
       "       [array(['ARR'], dtype='<U3')],\n",
       "       [array(['ARR'], dtype='<U3')],\n",
       "       [array(['ARR'], dtype='<U3')],\n",
       "       [array(['ARR'], dtype='<U3')],\n",
       "       [array(['ARR'], dtype='<U3')],\n",
       "       [array(['ARR'], dtype='<U3')],\n",
       "       [array(['ARR'], dtype='<U3')],\n",
       "       [array(['ARR'], dtype='<U3')],\n",
       "       [array(['ARR'], dtype='<U3')],\n",
       "       [array(['ARR'], dtype='<U3')],\n",
       "       [array(['ARR'], dtype='<U3')],\n",
       "       [array(['ARR'], dtype='<U3')],\n",
       "       [array(['ARR'], dtype='<U3')],\n",
       "       [array(['ARR'], dtype='<U3')],\n",
       "       [array(['ARR'], dtype='<U3')],\n",
       "       [array(['ARR'], dtype='<U3')],\n",
       "       [array(['ARR'], dtype='<U3')],\n",
       "       [array(['ARR'], dtype='<U3')],\n",
       "       [array(['ARR'], dtype='<U3')],\n",
       "       [array(['ARR'], dtype='<U3')],\n",
       "       [array(['ARR'], dtype='<U3')],\n",
       "       [array(['ARR'], dtype='<U3')],\n",
       "       [array(['ARR'], dtype='<U3')],\n",
       "       [array(['ARR'], dtype='<U3')],\n",
       "       [array(['ARR'], dtype='<U3')],\n",
       "       [array(['ARR'], dtype='<U3')],\n",
       "       [array(['ARR'], dtype='<U3')],\n",
       "       [array(['ARR'], dtype='<U3')],\n",
       "       [array(['ARR'], dtype='<U3')],\n",
       "       [array(['ARR'], dtype='<U3')],\n",
       "       [array(['ARR'], dtype='<U3')],\n",
       "       [array(['ARR'], dtype='<U3')],\n",
       "       [array(['ARR'], dtype='<U3')],\n",
       "       [array(['ARR'], dtype='<U3')],\n",
       "       [array(['ARR'], dtype='<U3')],\n",
       "       [array(['ARR'], dtype='<U3')],\n",
       "       [array(['ARR'], dtype='<U3')],\n",
       "       [array(['ARR'], dtype='<U3')],\n",
       "       [array(['ARR'], dtype='<U3')],\n",
       "       [array(['ARR'], dtype='<U3')],\n",
       "       [array(['ARR'], dtype='<U3')],\n",
       "       [array(['ARR'], dtype='<U3')],\n",
       "       [array(['ARR'], dtype='<U3')],\n",
       "       [array(['ARR'], dtype='<U3')],\n",
       "       [array(['ARR'], dtype='<U3')],\n",
       "       [array(['ARR'], dtype='<U3')],\n",
       "       [array(['ARR'], dtype='<U3')],\n",
       "       [array(['ARR'], dtype='<U3')],\n",
       "       [array(['ARR'], dtype='<U3')],\n",
       "       [array(['ARR'], dtype='<U3')],\n",
       "       [array(['ARR'], dtype='<U3')],\n",
       "       [array(['ARR'], dtype='<U3')],\n",
       "       [array(['ARR'], dtype='<U3')],\n",
       "       [array(['ARR'], dtype='<U3')],\n",
       "       [array(['ARR'], dtype='<U3')],\n",
       "       [array(['ARR'], dtype='<U3')],\n",
       "       [array(['ARR'], dtype='<U3')],\n",
       "       [array(['ARR'], dtype='<U3')],\n",
       "       [array(['ARR'], dtype='<U3')],\n",
       "       [array(['ARR'], dtype='<U3')],\n",
       "       [array(['ARR'], dtype='<U3')],\n",
       "       [array(['ARR'], dtype='<U3')],\n",
       "       [array(['ARR'], dtype='<U3')],\n",
       "       [array(['ARR'], dtype='<U3')],\n",
       "       [array(['ARR'], dtype='<U3')],\n",
       "       [array(['ARR'], dtype='<U3')],\n",
       "       [array(['ARR'], dtype='<U3')],\n",
       "       [array(['ARR'], dtype='<U3')],\n",
       "       [array(['ARR'], dtype='<U3')],\n",
       "       [array(['ARR'], dtype='<U3')],\n",
       "       [array(['ARR'], dtype='<U3')],\n",
       "       [array(['ARR'], dtype='<U3')],\n",
       "       [array(['ARR'], dtype='<U3')],\n",
       "       [array(['ARR'], dtype='<U3')],\n",
       "       [array(['ARR'], dtype='<U3')],\n",
       "       [array(['CHF'], dtype='<U3')],\n",
       "       [array(['CHF'], dtype='<U3')],\n",
       "       [array(['CHF'], dtype='<U3')],\n",
       "       [array(['CHF'], dtype='<U3')],\n",
       "       [array(['CHF'], dtype='<U3')],\n",
       "       [array(['CHF'], dtype='<U3')],\n",
       "       [array(['CHF'], dtype='<U3')],\n",
       "       [array(['CHF'], dtype='<U3')],\n",
       "       [array(['CHF'], dtype='<U3')],\n",
       "       [array(['CHF'], dtype='<U3')],\n",
       "       [array(['CHF'], dtype='<U3')],\n",
       "       [array(['CHF'], dtype='<U3')],\n",
       "       [array(['CHF'], dtype='<U3')],\n",
       "       [array(['CHF'], dtype='<U3')],\n",
       "       [array(['CHF'], dtype='<U3')],\n",
       "       [array(['CHF'], dtype='<U3')],\n",
       "       [array(['CHF'], dtype='<U3')],\n",
       "       [array(['CHF'], dtype='<U3')],\n",
       "       [array(['CHF'], dtype='<U3')],\n",
       "       [array(['CHF'], dtype='<U3')],\n",
       "       [array(['CHF'], dtype='<U3')],\n",
       "       [array(['CHF'], dtype='<U3')],\n",
       "       [array(['CHF'], dtype='<U3')],\n",
       "       [array(['CHF'], dtype='<U3')],\n",
       "       [array(['CHF'], dtype='<U3')],\n",
       "       [array(['CHF'], dtype='<U3')],\n",
       "       [array(['CHF'], dtype='<U3')],\n",
       "       [array(['CHF'], dtype='<U3')],\n",
       "       [array(['CHF'], dtype='<U3')],\n",
       "       [array(['CHF'], dtype='<U3')],\n",
       "       [array(['NSR'], dtype='<U3')],\n",
       "       [array(['NSR'], dtype='<U3')],\n",
       "       [array(['NSR'], dtype='<U3')],\n",
       "       [array(['NSR'], dtype='<U3')],\n",
       "       [array(['NSR'], dtype='<U3')],\n",
       "       [array(['NSR'], dtype='<U3')],\n",
       "       [array(['NSR'], dtype='<U3')],\n",
       "       [array(['NSR'], dtype='<U3')],\n",
       "       [array(['NSR'], dtype='<U3')],\n",
       "       [array(['NSR'], dtype='<U3')],\n",
       "       [array(['NSR'], dtype='<U3')],\n",
       "       [array(['NSR'], dtype='<U3')],\n",
       "       [array(['NSR'], dtype='<U3')],\n",
       "       [array(['NSR'], dtype='<U3')],\n",
       "       [array(['NSR'], dtype='<U3')],\n",
       "       [array(['NSR'], dtype='<U3')],\n",
       "       [array(['NSR'], dtype='<U3')],\n",
       "       [array(['NSR'], dtype='<U3')],\n",
       "       [array(['NSR'], dtype='<U3')],\n",
       "       [array(['NSR'], dtype='<U3')],\n",
       "       [array(['NSR'], dtype='<U3')],\n",
       "       [array(['NSR'], dtype='<U3')],\n",
       "       [array(['NSR'], dtype='<U3')],\n",
       "       [array(['NSR'], dtype='<U3')],\n",
       "       [array(['NSR'], dtype='<U3')],\n",
       "       [array(['NSR'], dtype='<U3')],\n",
       "       [array(['NSR'], dtype='<U3')],\n",
       "       [array(['NSR'], dtype='<U3')],\n",
       "       [array(['NSR'], dtype='<U3')],\n",
       "       [array(['NSR'], dtype='<U3')],\n",
       "       [array(['NSR'], dtype='<U3')],\n",
       "       [array(['NSR'], dtype='<U3')],\n",
       "       [array(['NSR'], dtype='<U3')],\n",
       "       [array(['NSR'], dtype='<U3')],\n",
       "       [array(['NSR'], dtype='<U3')],\n",
       "       [array(['NSR'], dtype='<U3')]], dtype=object)"
      ]
     },
     "execution_count": 5,
     "metadata": {},
     "output_type": "execute_result"
    }
   ],
   "source": [
    "ecg_labels_ = ecg_data['ECGData'][0][0][1]\n",
    "ecg_labels_"
   ]
  },
  {
   "cell_type": "code",
   "execution_count": 6,
   "id": "9b44dd46",
   "metadata": {
    "scrolled": true
   },
   "outputs": [
    {
     "data": {
      "text/plain": [
       "['ARR',\n",
       " 'ARR',\n",
       " 'ARR',\n",
       " 'ARR',\n",
       " 'ARR',\n",
       " 'ARR',\n",
       " 'ARR',\n",
       " 'ARR',\n",
       " 'ARR',\n",
       " 'ARR',\n",
       " 'ARR',\n",
       " 'ARR',\n",
       " 'ARR',\n",
       " 'ARR',\n",
       " 'ARR',\n",
       " 'ARR',\n",
       " 'ARR',\n",
       " 'ARR',\n",
       " 'ARR',\n",
       " 'ARR',\n",
       " 'ARR',\n",
       " 'ARR',\n",
       " 'ARR',\n",
       " 'ARR',\n",
       " 'ARR',\n",
       " 'ARR',\n",
       " 'ARR',\n",
       " 'ARR',\n",
       " 'ARR',\n",
       " 'ARR',\n",
       " 'ARR',\n",
       " 'ARR',\n",
       " 'ARR',\n",
       " 'ARR',\n",
       " 'ARR',\n",
       " 'ARR',\n",
       " 'ARR',\n",
       " 'ARR',\n",
       " 'ARR',\n",
       " 'ARR',\n",
       " 'ARR',\n",
       " 'ARR',\n",
       " 'ARR',\n",
       " 'ARR',\n",
       " 'ARR',\n",
       " 'ARR',\n",
       " 'ARR',\n",
       " 'ARR',\n",
       " 'ARR',\n",
       " 'ARR',\n",
       " 'ARR',\n",
       " 'ARR',\n",
       " 'ARR',\n",
       " 'ARR',\n",
       " 'ARR',\n",
       " 'ARR',\n",
       " 'ARR',\n",
       " 'ARR',\n",
       " 'ARR',\n",
       " 'ARR',\n",
       " 'ARR',\n",
       " 'ARR',\n",
       " 'ARR',\n",
       " 'ARR',\n",
       " 'ARR',\n",
       " 'ARR',\n",
       " 'ARR',\n",
       " 'ARR',\n",
       " 'ARR',\n",
       " 'ARR',\n",
       " 'ARR',\n",
       " 'ARR',\n",
       " 'ARR',\n",
       " 'ARR',\n",
       " 'ARR',\n",
       " 'ARR',\n",
       " 'ARR',\n",
       " 'ARR',\n",
       " 'ARR',\n",
       " 'ARR',\n",
       " 'ARR',\n",
       " 'ARR',\n",
       " 'ARR',\n",
       " 'ARR',\n",
       " 'ARR',\n",
       " 'ARR',\n",
       " 'ARR',\n",
       " 'ARR',\n",
       " 'ARR',\n",
       " 'ARR',\n",
       " 'ARR',\n",
       " 'ARR',\n",
       " 'ARR',\n",
       " 'ARR',\n",
       " 'ARR',\n",
       " 'ARR',\n",
       " 'CHF',\n",
       " 'CHF',\n",
       " 'CHF',\n",
       " 'CHF',\n",
       " 'CHF',\n",
       " 'CHF',\n",
       " 'CHF',\n",
       " 'CHF',\n",
       " 'CHF',\n",
       " 'CHF',\n",
       " 'CHF',\n",
       " 'CHF',\n",
       " 'CHF',\n",
       " 'CHF',\n",
       " 'CHF',\n",
       " 'CHF',\n",
       " 'CHF',\n",
       " 'CHF',\n",
       " 'CHF',\n",
       " 'CHF',\n",
       " 'CHF',\n",
       " 'CHF',\n",
       " 'CHF',\n",
       " 'CHF',\n",
       " 'CHF',\n",
       " 'CHF',\n",
       " 'CHF',\n",
       " 'CHF',\n",
       " 'CHF',\n",
       " 'CHF',\n",
       " 'NSR',\n",
       " 'NSR',\n",
       " 'NSR',\n",
       " 'NSR',\n",
       " 'NSR',\n",
       " 'NSR',\n",
       " 'NSR',\n",
       " 'NSR',\n",
       " 'NSR',\n",
       " 'NSR',\n",
       " 'NSR',\n",
       " 'NSR',\n",
       " 'NSR',\n",
       " 'NSR',\n",
       " 'NSR',\n",
       " 'NSR',\n",
       " 'NSR',\n",
       " 'NSR',\n",
       " 'NSR',\n",
       " 'NSR',\n",
       " 'NSR',\n",
       " 'NSR',\n",
       " 'NSR',\n",
       " 'NSR',\n",
       " 'NSR',\n",
       " 'NSR',\n",
       " 'NSR',\n",
       " 'NSR',\n",
       " 'NSR',\n",
       " 'NSR',\n",
       " 'NSR',\n",
       " 'NSR',\n",
       " 'NSR',\n",
       " 'NSR',\n",
       " 'NSR',\n",
       " 'NSR']"
      ]
     },
     "execution_count": 6,
     "metadata": {},
     "output_type": "execute_result"
    }
   ],
   "source": [
    "ecg_labels = list(map(lambda x: x[0][0], ecg_labels_))\n",
    "ecg_labels"
   ]
  },
  {
   "cell_type": "code",
   "execution_count": 7,
   "id": "2d9d0c4a",
   "metadata": {
    "scrolled": true
   },
   "outputs": [
    {
     "data": {
      "text/plain": [
       "defaultdict(list,\n",
       "            {'ARR': [array([-0.0978573 , -0.15688126, -0.13781616, ..., -0.07490498,\n",
       "                     -0.11652732, -0.18042101]),\n",
       "              array([ 0.1193611 ,  0.18755853,  0.16956925, ..., -0.09721826,\n",
       "                     -0.12393573, -0.10648055]),\n",
       "              array([-0.02460175, -0.03627935, -0.0359677 , ..., -0.18614223,\n",
       "                     -0.12998497, -0.12235631]),\n",
       "              array([-0.50830948, -0.80800908, -0.72168411, ..., -1.04269618,\n",
       "                     -1.04068357, -1.04819182]),\n",
       "              array([-0.31203941, -0.49525996, -0.44259662, ...,  0.82249412,\n",
       "                      0.78723928,  0.68429342]),\n",
       "              array([-0.03139103, -0.04704876, -0.04569938, ..., -0.2463429 ,\n",
       "                     -0.61526174, -0.61654212]),\n",
       "              array([-0.39269434, -0.62558106, -0.55611118, ..., -0.68287496,\n",
       "                     -0.65005254, -0.64884771]),\n",
       "              array([-0.22679873, -0.32728147, -0.3407746 , ..., -1.17924701,\n",
       "                     -1.18709694, -1.22116229]),\n",
       "              array([-0.62652598, -0.99738271, -0.88657455, ..., -0.91482514,\n",
       "                     -0.91205246, -0.92254378]),\n",
       "              array([-0.56500922, -0.90120318, -0.79688466, ...,  1.5490981 ,\n",
       "                      1.63557032,  1.63294848]),\n",
       "              array([-0.67545113, -1.07019251, -0.96126768, ..., -0.64347125,\n",
       "                     -0.73371845, -0.80795804]),\n",
       "              array([-0.23495099, -0.37007587, -0.33436195, ..., -0.38068571,\n",
       "                     -0.37815822, -0.38809603]),\n",
       "              array([-0.5929848 , -0.94305982, -0.83864175, ..., -0.95122915,\n",
       "                     -0.96303071, -0.94333603]),\n",
       "              array([-0.52895923, -0.8400926 , -0.75020884, ..., -0.79970182,\n",
       "                     -0.77801967, -0.80940754]),\n",
       "              array([-0.5456104 , -0.8670298 , -0.77540677, ..., -0.80509666,\n",
       "                     -0.77889408, -0.78847251]),\n",
       "              array([-0.6777439 , -1.07772459, -0.95858224, ..., -0.45025507,\n",
       "                     -0.04341959,  0.70189663]),\n",
       "              array([0.24656588, 0.36193878, 0.36835795, ..., 0.19792597, 0.10473973,\n",
       "                     0.04851013]),\n",
       "              array([-0.17599347, -0.28057625, -0.2493221 , ..., -0.26111616,\n",
       "                     -0.26656404, -0.28490275]),\n",
       "              array([ 0.00053544, -0.00097952,  0.00131714, ..., -0.1933141 ,\n",
       "                     -0.22262547, -0.23468138]),\n",
       "              array([-0.18031519, -0.27398515, -0.25799974, ...,  0.98880123,\n",
       "                      1.05094249,  1.13452346]),\n",
       "              array([-0.29061014, -0.46461512, -0.41079061, ..., -0.34995587,\n",
       "                     -0.36423776, -0.37345544]),\n",
       "              array([-0.14687022, -0.22983493, -0.2096327 , ..., -0.04055429,\n",
       "                     -0.00902085, -0.01064986]),\n",
       "              array([-0.136247  , -0.21432533, -0.1941601 , ...,  0.16632915,\n",
       "                      0.16258038,  0.16467148]),\n",
       "              array([-0.07112939, -0.11311703, -0.10046672, ..., -0.57027344,\n",
       "                     -0.60981116, -0.68686866]),\n",
       "              array([-0.01463398, -0.01990046, -0.02250012, ..., -0.13079448,\n",
       "                     -0.06276892, -0.02303911]),\n",
       "              array([-0.04526429, -0.06808644, -0.06568417, ..., -0.26042267,\n",
       "                     -0.2223341 , -0.24450365]),\n",
       "              array([-0.34081391, -0.53587728, -0.4865944 , ..., -0.51691249,\n",
       "                     -0.36702879, -0.19581788]),\n",
       "              array([-0.00620672, -0.01146552, -0.00754689, ...,  0.17634467,\n",
       "                      0.00638967, -0.14490052]),\n",
       "              array([-0.06229314, -0.10568398, -0.08540138, ..., -0.32601465,\n",
       "                     -0.29558695, -0.27600766]),\n",
       "              array([ 0.15064932,  0.23480153,  0.2159001 , ..., -0.08675768,\n",
       "                     -0.15220281, -0.07229269]),\n",
       "              array([0.03192975, 0.04627416, 0.04715591, ..., 1.04687877, 1.00387769,\n",
       "                     0.56460258]),\n",
       "              array([-0.47121512, -0.7485716 , -0.66799439, ..., -0.78447533,\n",
       "                     -0.77700379, -0.77726366]),\n",
       "              array([-0.4683807 , -0.74208979, -0.66335344, ..., -0.52748717,\n",
       "                     -0.50359026, -0.5051457 ]),\n",
       "              array([-0.25355055, -0.40509704, -0.35869372, ...,  0.04694046,\n",
       "                     -0.0284162 , -0.09462914]),\n",
       "              array([-0.19430921, -0.30521658, -0.27679654, ..., -0.04032579,\n",
       "                     -0.06354755, -0.05189021]),\n",
       "              array([-0.09612782, -0.14896411, -0.13803508, ..., -0.3114876 ,\n",
       "                     -0.31324694, -0.3147035 ]),\n",
       "              array([-0.63064064, -1.00179222, -0.89406191, ..., -0.49038772,\n",
       "                     -0.51354045, -0.55491936]),\n",
       "              array([-0.10432079, -0.16802435, -0.14698554, ..., -0.41542642,\n",
       "                     -0.45987794, -0.4082027 ]),\n",
       "              array([-0.2582907 , -0.40829691, -0.36689576, ...,  0.01203419,\n",
       "                      0.03203928,  0.0914579 ]),\n",
       "              array([-0.13618155, -0.21453186, -0.19359795, ..., -0.2271327 ,\n",
       "                     -0.22871777, -0.23854792]),\n",
       "              array([-0.16610039, -0.26388955, -0.23584855, ..., -0.21607128,\n",
       "                     -0.22322835, -0.24442429]),\n",
       "              array([-0.06457673, -0.1027095 , -0.09061792, ..., -0.44303907,\n",
       "                     -0.48972683, -0.477166  ]),\n",
       "              array([-0.05347744, -0.08738236, -0.07483616, ..., -0.28227569,\n",
       "                     -0.2601251 , -0.28324487]),\n",
       "              array([-0.04363871, -0.07066086, -0.06137936, ..., -0.18951687,\n",
       "                     -0.22246497, -0.20749653]),\n",
       "              array([-0.10719066, -0.15328477, -0.15733943, ..., -0.4823652 ,\n",
       "                     -0.46775831, -0.46343239]),\n",
       "              array([-0.10808317, -0.17291288, -0.15275002, ..., -0.04933392,\n",
       "                     -0.05640591, -0.05498491]),\n",
       "              array([ 0.00362157,  0.00509996,  0.0053247 , ..., -0.77669648,\n",
       "                     -1.36266576, -1.75843282]),\n",
       "              array([0.03526412, 0.05159878, 0.05189357, ..., 0.31116348, 0.25178414,\n",
       "                     0.2203115 ]),\n",
       "              array([0.13907292, 0.20962178, 0.20095263, ..., 0.09967038, 0.08248077,\n",
       "                     0.1088117 ]),\n",
       "              array([ 0.17723014,  0.27854293,  0.25257209, ..., -0.04934809,\n",
       "                     -0.06676995, -0.04740811]),\n",
       "              array([ 0.13287581,  0.20907457,  0.18931596, ..., -0.08921358,\n",
       "                     -0.07167366, -0.08421808]),\n",
       "              array([-0.84378925, -1.3423491 , -1.20426063, ...,  0.15147014,\n",
       "                      0.19287745,  0.32948737]),\n",
       "              array([-0.52787356, -0.8415032 , -0.7494035 , ...,  0.60759427,\n",
       "                      0.57657481,  0.57963297]),\n",
       "              array([0.43029143, 0.68434715, 0.6097532 , ..., 0.14800924, 0.12790922,\n",
       "                     0.13608045]),\n",
       "              array([0.02171799, 0.04097288, 0.02777215, ..., 0.7471673 , 0.76083747,\n",
       "                     0.74311059]),\n",
       "              array([-0.30152577, -0.47975308, -0.42753072, ..., -0.12672335,\n",
       "                     -0.08217689, -0.04762794]),\n",
       "              array([-0.42033487, -0.66782675, -0.5961312 , ..., -0.70029968,\n",
       "                     -0.67690447, -0.6735801 ]),\n",
       "              array([ 0.08739152,  0.1412281 ,  0.12283859, ..., -0.12562949,\n",
       "                     -0.10245065, -0.08086128]),\n",
       "              array([0.00857914, 0.01863421, 0.00979222, ..., 0.67066646, 0.12138913,\n",
       "                     0.03413816]),\n",
       "              array([-0.22719927, -0.36069437, -0.32239697, ..., -0.31239812,\n",
       "                     -0.29440469, -0.28412399]),\n",
       "              array([-0.83975848, -1.33700727, -1.19664225, ..., -0.92925211,\n",
       "                     -0.93551464, -0.97361701]),\n",
       "              array([-0.31834775, -0.50677628, -0.45059714, ..., -0.45152004,\n",
       "                     -0.47087911, -0.47547551]),\n",
       "              array([-0.34968912, -0.55388214, -0.49596157, ..., -0.33919922,\n",
       "                     -0.35550038, -0.39190528]),\n",
       "              array([-0.31886944, -0.5059388 , -0.45243951, ..., -0.52122044,\n",
       "                     -0.54625841, -0.52969363]),\n",
       "              array([-0.44044789, -0.7005559 , -0.62386189, ..., -0.35604644,\n",
       "                     -0.34260315, -0.32806362]),\n",
       "              array([-0.49334546, -0.79999946, -0.68742549, ..., -0.47583454,\n",
       "                     -0.51204684, -0.4689448 ]),\n",
       "              array([-0.21081907, -0.33303759, -0.29959628, ..., -0.20371939,\n",
       "                     -0.19933974, -0.21069958]),\n",
       "              array([-0.30907049, -0.4890664 , -0.43934303, ..., -0.69471064,\n",
       "                     -0.66621019, -0.68123977]),\n",
       "              array([-0.46400269, -0.73862214, -0.65635906, ..., -1.08079922,\n",
       "                     -0.72897646,  0.01891902]),\n",
       "              array([0.07145084, 0.11278857, 0.10148261, ..., 0.0230324 , 0.01338319,\n",
       "                     0.01536716]),\n",
       "              array([-0.14300674, -0.22524568, -0.20345516, ..., -0.08315081,\n",
       "                     -0.09317839, -0.09670884]),\n",
       "              array([ 0.08456327,  0.13497493,  0.11948407, ..., -0.03104124,\n",
       "                     -0.0881282 , -0.03885793]),\n",
       "              array([0.04241709, 0.07264645, 0.05711647, ..., 0.11025253, 0.07714461,\n",
       "                     0.1210507 ]),\n",
       "              array([-0.36634814, -0.58123536, -0.52005159, ..., -0.41598673,\n",
       "                     -0.43928722, -0.44843675]),\n",
       "              array([0.06253069, 0.1054267 , 0.08628982, ..., 0.1668222 , 0.17234972,\n",
       "                     0.13669129]),\n",
       "              array([0.12745288, 0.2067918 , 0.17858714, ..., 0.31660565, 0.33899304,\n",
       "                     0.36649539]),\n",
       "              array([0.10896849, 0.17153468, 0.155433  , ..., 0.08176656, 0.09606693,\n",
       "                     0.07050614]),\n",
       "              array([-1.38918151, -2.19901195, -2.03842767, ..., -0.76407647,\n",
       "                     -0.61419131, -0.4665487 ]),\n",
       "              array([0.09143076, 0.14566549, 0.12954138, ..., 0.13727875, 0.14957467,\n",
       "                     0.15024036]),\n",
       "              array([0.03330165, 0.05493545, 0.04688269, ..., 0.55469006, 0.15635492,\n",
       "                     0.02508813]),\n",
       "              array([-0.41686421, -0.66278152, -0.59119445, ..., -0.08245686,\n",
       "                     -0.15783988, -0.17335092]),\n",
       "              array([0.01789941, 0.02539089, 0.02668529, ..., 0.20691267, 0.22511613,\n",
       "                     0.19919394]),\n",
       "              array([0.12684152, 0.19691854, 0.18182016, ..., 0.2623743 , 0.27282357,\n",
       "                     0.29738866]),\n",
       "              array([-0.51545794, -0.81870786, -0.73249103, ...,  0.02495208,\n",
       "                     -0.00676396, -0.49569625]),\n",
       "              array([-0.64811071, -1.02801694, -0.91658926, ..., -0.34362833,\n",
       "                     -0.299559  , -0.2603213 ]),\n",
       "              array([-0.25699855, -0.41027883, -0.3634395 , ..., -0.42118009,\n",
       "                     -0.39734939, -0.39561164]),\n",
       "              array([0.03258502, 0.05594866, 0.04462461, ..., 0.18860811, 0.14554097,\n",
       "                     0.19284871]),\n",
       "              array([-0.25457091, -0.40346524, -0.36098573, ..., -0.00239284,\n",
       "                     -0.00756013,  0.00511264]),\n",
       "              array([-0.08330745, -0.13667566, -0.11686448, ..., -0.26549512,\n",
       "                     -0.25970863, -0.26135171]),\n",
       "              array([-0.1081672 , -0.17282089, -0.152813  , ..., -0.26317427,\n",
       "                     -0.25900133, -0.28804082]),\n",
       "              array([-0.06304947, -0.10452665, -0.08745636, ...,  0.24823522,\n",
       "                      0.25452968,  0.22886445]),\n",
       "              array([-0.19332545, -0.30683768, -0.27406078, ...,  0.34456661,\n",
       "                      0.43704208,  0.49253778]),\n",
       "              array([0.05067819, 0.08103389, 0.07163938, ..., 0.17718074, 0.19693379,\n",
       "                     0.19366343]),\n",
       "              array([ 0.14234585,  0.2262599 ,  0.2017392 , ..., -0.04561977,\n",
       "                     -0.01936919, -0.01139264]),\n",
       "              array([0.00637961, 0.01164031, 0.00821418, ..., 0.01826727, 0.0249109 ,\n",
       "                     0.06040634]),\n",
       "              array([0.09180583, 0.14497049, 0.13024407, ..., 0.09873793, 0.09247541,\n",
       "                     0.07054152])],\n",
       "             'CHF': [array([ 0.49693006,  0.6787422 ,  0.51117608, ..., -0.32617657,\n",
       "                     -0.33879874, -0.34902362]),\n",
       "              array([-0.30968813, -0.42722757, -0.35804948, ..., -0.13929464,\n",
       "                     -0.08302583, -0.17026411]),\n",
       "              array([-0.55928464, -1.9469618 , -2.14139799, ...,  0.19266771,\n",
       "                      0.23359514,  0.40912069]),\n",
       "              array([-0.19998466, -0.29946465, -0.28449823, ..., -0.08862246,\n",
       "                     -0.03573233, -0.0138738 ]),\n",
       "              array([-0.52170416, -0.91003007, -0.87808562, ..., -0.50344595,\n",
       "                     -0.5166687 , -0.59497981]),\n",
       "              array([-0.30074228, -0.44421241, -0.41109495, ..., -0.45400946,\n",
       "                     -0.44169494, -0.41227892]),\n",
       "              array([-0.58231302, -1.05138058, -0.94254071, ..., -0.46065674,\n",
       "                     -0.45944319, -0.43507777]),\n",
       "              array([-0.56789371, -1.94823474, -2.7750456 , ..., -0.17060161,\n",
       "                     -0.18516278, -0.19109643]),\n",
       "              array([-0.23107822, -0.34707781, -0.3097994 , ..., -0.22303138,\n",
       "                     -0.1916714 , -0.2051592 ]),\n",
       "              array([-0.22814438, -0.28122491, -0.19896361, ..., -0.07327785,\n",
       "                     -0.10598101, -0.07955017]),\n",
       "              array([-0.19448959, -0.22154846, -0.17080079, ..., -0.06147277,\n",
       "                     -0.07165655, -0.06836829]),\n",
       "              array([-0.36101769, -0.47958528, -0.35475593, ..., -0.71629686,\n",
       "                     -0.71056918, -0.70906965]),\n",
       "              array([-0.00558664, -0.00801268,  0.01328328, ..., -0.03411095,\n",
       "                     -0.03691554, -0.03917014]),\n",
       "              array([-0.33577191, -0.46075164, -0.41321393, ..., -0.2312824 ,\n",
       "                     -0.21388961, -0.22431216]),\n",
       "              array([-0.27717057, -0.35795582, -0.33929397, ..., -0.24991013,\n",
       "                     -0.22835573, -0.22754837]),\n",
       "              array([-0.07542511, -0.08040752, -0.06687487, ..., -0.18316753,\n",
       "                     -0.17797084, -0.16256453]),\n",
       "              array([ 0.19988286,  0.37170711,  0.25640169, ..., -0.2051584 ,\n",
       "                     -0.28878857, -0.37044079]),\n",
       "              array([-0.1338717 , -0.1874086 , -0.16018824, ..., -0.25109204,\n",
       "                     -0.25741423, -0.24686867]),\n",
       "              array([-0.30045015, -0.15709796,  0.18208886, ...,  0.70722696,\n",
       "                      0.75608226,  0.75479247]),\n",
       "              array([ 0.05725492,  0.11185049, -0.00435541, ...,  0.05774731,\n",
       "                      0.0980227 ,  0.0889792 ]),\n",
       "              array([-0.1491586 , -0.21119421, -0.18369982, ..., -1.58427663,\n",
       "                     -1.34178038, -0.808151  ]),\n",
       "              array([-0.0357279 , -0.05713204, -0.07051657, ..., -0.17484633,\n",
       "                     -0.19955433, -0.18657612]),\n",
       "              array([-0.23739224, -0.32328815, -0.31125324, ..., -0.43814413,\n",
       "                     -0.42013454, -0.40589693]),\n",
       "              array([-0.27003688, -0.3374362 , -0.27040964, ...,  0.2200879 ,\n",
       "                      0.25507453,  0.28772053]),\n",
       "              array([-0.3562679 , -0.43168651, -0.34615956, ..., -0.32643113,\n",
       "                     -0.31502849, -0.31908359]),\n",
       "              array([-0.41691581, -0.6025878 , -0.55847775, ..., -0.24446792,\n",
       "                     -0.26581815, -0.25858179]),\n",
       "              array([-0.23168371, -0.33104135, -0.27155303, ..., -0.4689993 ,\n",
       "                     -0.47637366, -0.46933756]),\n",
       "              array([-0.39268236, -0.5411614 , -0.43362456, ..., -0.49893374,\n",
       "                     -0.47780867, -0.47343395]),\n",
       "              array([-0.27917533, -0.41559036, -0.39125815, ..., -0.18286941,\n",
       "                     -0.18824939, -0.18061594]),\n",
       "              array([ 0.26813372,  0.3847924 ,  0.3281117 , ..., -0.30181   ,\n",
       "                     -0.32340148, -0.33454318])],\n",
       "             'NSR': [array([-0.165, -0.155, -0.195, ..., -0.265, -0.325, -0.335]),\n",
       "              array([-0.035, -0.015, -0.045, ..., -0.005, -0.035, -0.055]),\n",
       "              array([ 0.525,  0.695,  0.475, ..., -0.185, -0.225, -0.145]),\n",
       "              array([-0.215, -0.195, -0.185, ..., -0.035, -0.045, -0.025]),\n",
       "              array([-0.325, -0.395, -0.255, ..., -0.165, -0.155, -0.135]),\n",
       "              array([ 0.365,  0.365,  0.355, ..., -0.105, -0.095, -0.105]),\n",
       "              array([ 0.165,  0.155,  0.155, ..., -0.075, -0.075, -0.075]),\n",
       "              array([ 0.675,  0.665,  0.655, ..., -0.245, -0.245, -0.235]),\n",
       "              array([ 0.255,  0.245,  0.235, ..., -0.045, -0.015,  0.025]),\n",
       "              array([-0.435, -0.435, -0.415, ..., -0.135, -0.125, -0.205]),\n",
       "              array([-0.325, -0.325, -0.305, ..., -0.165, -0.205, -0.145]),\n",
       "              array([-0.185, -0.215, -0.215, ..., -0.155, -0.115, -0.105]),\n",
       "              array([-0.085, -0.105, -0.105, ..., -0.125, -0.135, -0.115]),\n",
       "              array([-0.165, -0.145, -0.155, ..., -0.025, -0.025, -0.015]),\n",
       "              array([-0.025, -0.035, -0.025, ...,  0.055,  0.025,  0.005]),\n",
       "              array([-0.16 , -0.16 , -0.19 , ..., -0.995, -2.035, -1.875]),\n",
       "              array([-0.075, -0.045, -0.055, ...,  0.125,  0.135,  0.135]),\n",
       "              array([-0.215, -0.205, -0.205, ..., -0.375, -0.355, -0.365]),\n",
       "              array([-0.015,  0.005, -0.015, ..., -0.145, -0.095, -0.155]),\n",
       "              array([-0.045, -0.135, -0.155, ..., -0.195, -0.165, -0.235]),\n",
       "              array([-0.115, -0.135, -0.125, ..., -0.065, -0.085, -0.085]),\n",
       "              array([ 0.315, -0.515, -1.005, ...,  0.065,  0.045,  0.045]),\n",
       "              array([-0.305, -0.265, -0.245, ..., -0.145, -0.125, -0.115]),\n",
       "              array([-0.015, -0.005,  0.015, ...,  0.045,  0.025,  0.005]),\n",
       "              array([-0.185, -0.155, -0.125, ..., -0.105, -0.095, -0.095]),\n",
       "              array([ 0.245,  0.255,  0.235, ..., -0.095, -0.095, -0.115]),\n",
       "              array([ 0.085,  0.085,  0.085, ..., -0.125, -0.125, -0.125]),\n",
       "              array([ 0.735,  0.735,  0.725, ..., -0.085, -0.085, -0.085]),\n",
       "              array([ 0.185,  0.175,  0.165, ..., -0.025, -0.035, -0.035]),\n",
       "              array([-0.425, -0.415, -0.405, ..., -0.055, -0.025, -0.025]),\n",
       "              array([-0.095, -0.085, -0.085, ..., -0.015, -0.015, -0.065]),\n",
       "              array([-0.075, -0.165, -0.225, ..., -0.195, -0.725, -0.495]),\n",
       "              array([-0.185, -0.155, -0.145, ...,  0.225,  0.225,  0.155]),\n",
       "              array([-0.355, -0.355, -0.345, ..., -0.335, -0.315, -0.315]),\n",
       "              array([-0.275, -0.245, -0.285, ..., -0.205, -0.145, -0.165]),\n",
       "              array([ 0.125,  0.005,  0.025, ..., -0.225, -0.275, -0.205])]})"
      ]
     },
     "execution_count": 7,
     "metadata": {},
     "output_type": "execute_result"
    }
   ],
   "source": [
    "\n",
    "dict_ecg_data = defaultdict(list)\n",
    "for ii, label in enumerate(ecg_labels):\n",
    "    dict_ecg_data[label].append(ecg_signals[ii])\n",
    "dict_ecg_data"
   ]
  },
  {
   "cell_type": "markdown",
   "id": "112c4bb6",
   "metadata": {},
   "source": [
    "Se tienen datos de las siguientes clases:\n",
    "- Normal Sinus Rhythm (NSR) \n",
    "- Abnormal Arrhythmia (ARR) \n",
    "- Congestive Heart Failure (CHF)"
   ]
  },
  {
   "cell_type": "markdown",
   "id": "c7abde16",
   "metadata": {},
   "source": [
    "**Ejemplos de los ECG**"
   ]
  },
  {
   "cell_type": "code",
   "execution_count": 8,
   "id": "5c7a26a5",
   "metadata": {
    "scrolled": true
   },
   "outputs": [
    {
     "data": {
      "text/plain": [
       "(30000, 31000)"
      ]
     },
     "execution_count": 8,
     "metadata": {},
     "output_type": "execute_result"
    },
    {
     "data": {
      "image/png": "[encoded data removed]",
      "text/plain": [
       "<Figure size 432x288 with 1 Axes>"
      ]
     },
     "metadata": {
      "needs_background": "light"
     },
     "output_type": "display_data"
    }
   ],
   "source": [
    "fig, ax = plt.subplots()\n",
    "ax.plot(dict_ecg_data['NSR'][4])\n",
    "plt.xlim([30000,31000])"
   ]
  },
  {
   "cell_type": "code",
   "execution_count": 9,
   "id": "16ed00dd",
   "metadata": {},
   "outputs": [
    {
     "data": {
      "text/plain": [
       "(30000, 31000)"
      ]
     },
     "execution_count": 9,
     "metadata": {},
     "output_type": "execute_result"
    },
    {
     "data": {
      "image/png": "[encoded data removed]",
      "text/plain": [
       "<Figure size 432x288 with 1 Axes>"
      ]
     },
     "metadata": {
      "needs_background": "light"
     },
     "output_type": "display_data"
    }
   ],
   "source": [
    "fig, ax = plt.subplots()\n",
    "ax.plot(dict_ecg_data['NSR'][7])\n",
    "plt.xlim([30000,31000])"
   ]
  },
  {
   "cell_type": "code",
   "execution_count": 10,
   "id": "cb09593b",
   "metadata": {
    "scrolled": true
   },
   "outputs": [
    {
     "data": {
      "text/plain": [
       "(30000, 31000)"
      ]
     },
     "execution_count": 10,
     "metadata": {},
     "output_type": "execute_result"
    },
    {
     "data": {
      "image/png": "[encoded data removed]",
      "text/plain": [
       "<Figure size 432x288 with 1 Axes>"
      ]
     },
     "metadata": {
      "needs_background": "light"
     },
     "output_type": "display_data"
    }
   ],
   "source": [
    "fig, ax = plt.subplots()\n",
    "ax.plot(dict_ecg_data['CHF'][4])\n",
    "plt.xlim([30000,31000])"
   ]
  },
  {
   "cell_type": "code",
   "execution_count": 11,
   "id": "dc8f31c0",
   "metadata": {},
   "outputs": [
    {
     "data": {
      "text/plain": [
       "(30000, 31000)"
      ]
     },
     "execution_count": 11,
     "metadata": {},
     "output_type": "execute_result"
    },
    {
     "data": {
      "image/png": "[encoded data removed]",
      "text/plain": [
       "<Figure size 432x288 with 1 Axes>"
      ]
     },
     "metadata": {
      "needs_background": "light"
     },
     "output_type": "display_data"
    }
   ],
   "source": [
    "fig, ax = plt.subplots()\n",
    "ax.plot(dict_ecg_data['CHF'][8])\n",
    "plt.xlim([30000,31000])"
   ]
  },
  {
   "cell_type": "code",
   "execution_count": 12,
   "id": "60e16a60",
   "metadata": {},
   "outputs": [
    {
     "data": {
      "text/plain": [
       "(30000, 31000)"
      ]
     },
     "execution_count": 12,
     "metadata": {},
     "output_type": "execute_result"
    },
    {
     "data": {
      "image/png": "[encoded data removed]",
      "text/plain": [
       "<Figure size 432x288 with 1 Axes>"
      ]
     },
     "metadata": {
      "needs_background": "light"
     },
     "output_type": "display_data"
    }
   ],
   "source": [
    "fig, ax = plt.subplots()\n",
    "ax.plot(dict_ecg_data['ARR'][4])\n",
    "plt.xlim([30000,31000])"
   ]
  },
  {
   "cell_type": "code",
   "execution_count": 13,
   "id": "5bd191ae",
   "metadata": {},
   "outputs": [
    {
     "data": {
      "text/plain": [
       "(30000, 31000)"
      ]
     },
     "execution_count": 13,
     "metadata": {},
     "output_type": "execute_result"
    },
    {
     "data": {
      "image/png": "[encoded data removed]",
      "text/plain": [
       "<Figure size 432x288 with 1 Axes>"
      ]
     },
     "metadata": {
      "needs_background": "light"
     },
     "output_type": "display_data"
    }
   ],
   "source": [
    "fig, ax = plt.subplots()\n",
    "ax.plot(dict_ecg_data['ARR'][14])\n",
    "plt.xlim([30000,31000])"
   ]
  },
  {
   "cell_type": "markdown",
   "id": "3ddb9ccc",
   "metadata": {},
   "source": [
    "## Extracción de características\n",
    "\n",
    "Basada en la transformada wavelet con el kernal 'sym5'\n",
    "\n",
    "Los coeficientes wavelet se calculan con:\n",
    "\n",
    "$$W T_\\psi (a,b) \\{ x\\} = \\int x(t) \\psi_{a,b}(t)dt$$\n",
    "\n",
    "para la escala $a$ y el desplazamiento $b$. Con ECG suele ser util el kernel sym5.\n",
    "![figuras/sym5.png](figuras/sym5.png)\n",
    "\n",
    "Observe que el efecto del desplazamiento permite recuperar en qué instante ocurre un evento en cada señal. El efecto de la escala permite recuperar las frecuencias momentaneas presentes.\n",
    "\n",
    "![figuras/WaveletEscalaDesplazamiento.png](figuras/WaveletEscalaDesplazamiento.png)\n",
    "\n"
   ]
  },
  {
   "cell_type": "markdown",
   "id": "25492127",
   "metadata": {},
   "source": [
    "\n",
    "En la metodología propuesta, se busca sacar algunos estadísticos a partir de los coeficientes de Wavelet."
   ]
  },
  {
   "cell_type": "code",
   "execution_count": 14,
   "id": "62990397",
   "metadata": {},
   "outputs": [
    {
     "ename": "NameError",
     "evalue": "name 'data' is not defined",
     "output_type": "error",
     "traceback": [
      "\u001b[1;31m---------------------------------------------------------------------------\u001b[0m",
      "\u001b[1;31mNameError\u001b[0m                                 Traceback (most recent call last)",
      "\u001b[1;32m<ipython-input-14-5bab5f331bea>\u001b[0m in \u001b[0;36m<module>\u001b[1;34m\u001b[0m\n\u001b[0;32m      1\u001b[0m \u001b[0mfig\u001b[0m\u001b[1;33m,\u001b[0m \u001b[0maxarr\u001b[0m \u001b[1;33m=\u001b[0m \u001b[0mplt\u001b[0m\u001b[1;33m.\u001b[0m\u001b[0msubplots\u001b[0m\u001b[1;33m(\u001b[0m\u001b[0mnrows\u001b[0m\u001b[1;33m=\u001b[0m\u001b[1;36m5\u001b[0m\u001b[1;33m,\u001b[0m \u001b[0mncols\u001b[0m\u001b[1;33m=\u001b[0m\u001b[1;36m2\u001b[0m\u001b[1;33m)\u001b[0m\u001b[1;33m\u001b[0m\u001b[1;33m\u001b[0m\u001b[0m\n\u001b[1;32m----> 2\u001b[1;33m \u001b[0maxarr\u001b[0m\u001b[1;33m[\u001b[0m\u001b[1;36m0\u001b[0m\u001b[1;33m,\u001b[0m\u001b[1;36m0\u001b[0m\u001b[1;33m]\u001b[0m\u001b[1;33m.\u001b[0m\u001b[0mplot\u001b[0m\u001b[1;33m(\u001b[0m\u001b[0mdata\u001b[0m\u001b[1;33m,\u001b[0m \u001b[1;34m'r'\u001b[0m\u001b[1;33m)\u001b[0m\u001b[1;33m\u001b[0m\u001b[1;33m\u001b[0m\u001b[0m\n\u001b[0m\u001b[0;32m      3\u001b[0m \u001b[0maxarr\u001b[0m\u001b[1;33m[\u001b[0m\u001b[1;36m1\u001b[0m\u001b[1;33m,\u001b[0m \u001b[1;36m1\u001b[0m\u001b[1;33m]\u001b[0m\u001b[1;33m.\u001b[0m\u001b[0mplot\u001b[0m\u001b[1;33m(\u001b[0m\u001b[0mcoeff_d\u001b[0m\u001b[1;33m[\u001b[0m\u001b[1;36m1\u001b[0m\u001b[1;33m]\u001b[0m\u001b[1;33m,\u001b[0m \u001b[1;34m'g'\u001b[0m\u001b[1;33m)\u001b[0m\u001b[1;33m\u001b[0m\u001b[1;33m\u001b[0m\u001b[0m\n",
      "\u001b[1;31mNameError\u001b[0m: name 'data' is not defined"
     ]
    },
    {
     "data": {
      "image/png": "[encoded data removed]",
      "text/plain": [
       "<Figure size 432x288 with 10 Axes>"
      ]
     },
     "metadata": {
      "needs_background": "light"
     },
     "output_type": "display_data"
    }
   ],
   "source": [
    "\n",
    "\n",
    "fig, axarr = plt.subplots(nrows=5, ncols=2)\n",
    "axarr[0,0].plot(data, 'r')\n",
    "axarr[1, 1].plot(coeff_d[1], 'g')"
   ]
  },
  {
   "cell_type": "code",
   "execution_count": null,
   "id": "65fd3837",
   "metadata": {
    "scrolled": true
   },
   "outputs": [],
   "source": [
    "def graf_w(data):\n",
    "    coeff_d = pywt.wavedec(data, 'sym5')\n",
    "    fig, axarr = plt.subplots(nrows=5, ncols=2)\n",
    "    axarr[0, 0].plot(data)\n",
    "    axarr[0, 1].plot(coeff_d[0])\n",
    "    axarr[1, 1].plot(coeff_d[1])\n",
    "    axarr[2, 1].plot(coeff_d[2])\n",
    "    axarr[3, 1].plot(coeff_d[3])\n",
    "    axarr[4, 1].plot(coeff_d[4])"
   ]
  },
  {
   "cell_type": "code",
   "execution_count": null,
   "id": "e77f22c5",
   "metadata": {
    "scrolled": true
   },
   "outputs": [],
   "source": [
    "graf_w(dict_ecg_data['NSR'][4])\n"
   ]
  },
  {
   "cell_type": "code",
   "execution_count": null,
   "id": "6238899e",
   "metadata": {},
   "outputs": [],
   "source": [
    "graf_w(dict_ecg_data['NSR'][7])"
   ]
  },
  {
   "cell_type": "code",
   "execution_count": null,
   "id": "4d313d3f",
   "metadata": {
    "scrolled": true
   },
   "outputs": [],
   "source": [
    "list_labels = []\n",
    "list_features = []#\n",
    "for k, v in dict_ecg_data.items():# para cada clase\n",
    "    yval = list(dict_ecg_data.keys()).index(k) # la señal capturada en la prueba k\n",
    "    \n",
    "    for signal in v: # para cada señal en la clase\n",
    "        \n",
    "        features = []\n",
    "        list_labels.append(yval)\n",
    "        list_coeff = pywt.wavedec(signal, 'sym5')\n",
    "        for coeff in list_coeff:\n",
    "            features += get_features(coeff)\n",
    "        list_features.append(features)\n",
    "df = pd.DataFrame(list_features)\n",
    "ycol = 'y'\n",
    "xcols = list(range(df.shape[1]))\n",
    "df.loc[:,ycol] = list_labels"
   ]
  },
  {
   "cell_type": "code",
   "execution_count": null,
   "id": "e2bf535d",
   "metadata": {
    "scrolled": true
   },
   "outputs": [],
   "source": [
    "list_coeff"
   ]
  },
  {
   "cell_type": "code",
   "execution_count": null,
   "id": "0a64aa35",
   "metadata": {
    "scrolled": true
   },
   "outputs": [],
   "source": [
    "list_features"
   ]
  },
  {
   "cell_type": "code",
   "execution_count": null,
   "id": "69559e1c",
   "metadata": {},
   "outputs": [],
   "source": [
    "df"
   ]
  },
  {
   "cell_type": "markdown",
   "id": "b9a91d7f",
   "metadata": {},
   "source": [
    "## Separa aleatoriamente para train y test"
   ]
  },
  {
   "cell_type": "code",
   "execution_count": null,
   "id": "f26a8cff",
   "metadata": {},
   "outputs": [],
   "source": [
    "df_train, df_test, X_train, Y_train, X_test, Y_test = get_train_test(df, ycol, xcols, ratio = 0.7)"
   ]
  },
  {
   "cell_type": "code",
   "execution_count": null,
   "id": "b29d5177",
   "metadata": {},
   "outputs": [],
   "source": [
    "dict_ecg_data.keys()"
   ]
  },
  {
   "cell_type": "markdown",
   "id": "dbbf1229",
   "metadata": {},
   "source": [
    "- Datos en el conjunto de datos completo por cada clase"
   ]
  },
  {
   "cell_type": "code",
   "execution_count": null,
   "id": "5d960c6f",
   "metadata": {},
   "outputs": [],
   "source": [
    "y0=sum(df.y==0)\n",
    "y1=sum(df.y==1)\n",
    "y2=sum(df.y==2)\n",
    "sns.barplot(x=['ARR','CHF','NSR'],y=[y0,y1,y2])"
   ]
  },
  {
   "cell_type": "markdown",
   "id": "21d3e7e9",
   "metadata": {},
   "source": [
    "- Datos en el conjunto de datos de entrenamiento por cada clase"
   ]
  },
  {
   "cell_type": "code",
   "execution_count": null,
   "id": "0b5f7a3b",
   "metadata": {},
   "outputs": [],
   "source": [
    "y0=sum(df_train.y==0)\n",
    "y1=sum(df_train.y==1)\n",
    "y2=sum(df_train.y==2)\n",
    "sns.barplot(x=['ARR','CHF','NSR'],y=[y0,y1,y2])"
   ]
  },
  {
   "cell_type": "markdown",
   "id": "8e728d87",
   "metadata": {},
   "source": [
    "Entrena el clasificador"
   ]
  },
  {
   "cell_type": "code",
   "execution_count": null,
   "id": "5d9048e5",
   "metadata": {
    "scrolled": true
   },
   "outputs": [],
   "source": [
    "cls = GradientBoostingClassifier(n_estimators=10000)\n",
    "cls.fit(X_train, Y_train)\n",
    "train_score = cls.score(X_train, Y_train)\n",
    "test_score = cls.score(X_test, Y_test)\n"
   ]
  },
  {
   "cell_type": "code",
   "execution_count": null,
   "id": "77d3bcf4",
   "metadata": {},
   "outputs": [],
   "source": [
    "print(\"The Train Score is {}\".format(train_score))\n",
    "\n",
    "print(\"The Test Score is {}\".format(test_score))"
   ]
  },
  {
   "cell_type": "code",
   "execution_count": null,
   "id": "3116324f",
   "metadata": {},
   "outputs": [],
   "source": [
    "from sklearn.metrics import confusion_matrix\n",
    "Y_pred = cls.predict(X_test)\n",
    "confusion_matrix(Y_test, Y_pred, labels=['ARR','CHF','NSR'])"
   ]
  },
  {
   "cell_type": "code",
   "execution_count": null,
   "id": "5306034d",
   "metadata": {},
   "outputs": [],
   "source": [
    "Y_test"
   ]
  },
  {
   "cell_type": "code",
   "execution_count": null,
   "id": "236bb554",
   "metadata": {},
   "outputs": [],
   "source": [
    "Y_pred"
   ]
  },
  {
   "cell_type": "code",
   "execution_count": null,
   "id": "f556cf31",
   "metadata": {},
   "outputs": [],
   "source": [
    "confusion_matrix(Y_test, Y_pred)"
   ]
  },
  {
   "cell_type": "code",
   "execution_count": null,
   "id": "c4805eaa",
   "metadata": {
    "scrolled": true
   },
   "outputs": [],
   "source": [
    "Y_pred"
   ]
  },
  {
   "cell_type": "code",
   "execution_count": null,
   "id": "5ba37a92",
   "metadata": {},
   "outputs": [],
   "source": [
    "Y_test"
   ]
  },
  {
   "cell_type": "code",
   "execution_count": null,
   "id": "92674011",
   "metadata": {},
   "outputs": [],
   "source": [
    "confusion_matrix()"
   ]
  }
 ],
 "metadata": {
  "kernelspec": {
   "display_name": "Python 3",
   "language": "python",
   "name": "python3"
  },
  "language_info": {
   "codemirror_mode": {
    "name": "ipython",
    "version": 3
   },
   "file_extension": ".py",
   "mimetype": "text/x-python",
   "name": "python",
   "nbconvert_exporter": "python",
   "pygments_lexer": "ipython3",
   "version": "3.7.3"
  },
  "varInspector": {
   "cols": {
    "lenName": 16,
    "lenType": 16,
    "lenVar": 40
   },
   "kernels_config": {
    "python": {
     "delete_cmd_postfix": "",
     "delete_cmd_prefix": "del ",
     "library": "var_list.py",
     "varRefreshCmd": "print(var_dic_list())"
    },
    "r": {
     "delete_cmd_postfix": ") ",
     "delete_cmd_prefix": "rm(",
     "library": "var_list.r",
     "varRefreshCmd": "cat(var_dic_list()) "
    }
   },
   "types_to_exclude": [
    "module",
    "function",
    "builtin_function_or_method",
    "instance",
    "_Feature"
   ],
   "window_display": false
  }
 },
 "nbformat": 4,
 "nbformat_minor": 5
}
