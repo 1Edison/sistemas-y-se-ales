{
 "cells": [
  {
   "cell_type": "code",
   "execution_count": 1,
   "metadata": {},
   "outputs": [],
   "source": [
    "import sympy as sym\n",
    "sym.init_printing()\n",
    "%matplotlib inline\n",
    "\n",
    "from pole_zero_plot import pole_zero_plot\n"
   ]
  },
  {
   "cell_type": "markdown",
   "metadata": {},
   "source": [
    "## Definición\n",
    "\n",
    "\n",
    "La [transformada $z$](https://en.wikipedia.org/wiki/Z-transform) permite representar una señal discreta $x[k]$ en el dominio de las frecuencias. La función base para la transformación es $z^{-k}$ con $z \\in \\mathbb{C}$\n",
    "\n",
    "### Transformada bilateral\n",
    "La transformada $z$ bilateral se define como\n",
    "\n",
    "\n",
    "\\begin{equation}\n",
    "X(z) = \\sum_{k = -\\infty}^{\\infty} x[k] \\, z^{-k}\n",
    "\\end{equation}\n",
    "\n",
    "donde $X(z) = \\mathcal{Z} \\{ x[k] \\}$ es la transformada Z de $x[k]$.\n",
    "\n",
    "La variable $z$ puede ser interpretada como una [frecuencia compleja](../discrete_signals/standard_signals.ipynb#Complex-Exponential-Signal) $z = e^{\\Sigma + j \\Omega}$ con $\\Sigma, \\Omega \\in \\mathbb{R}$.\n",
    "\n",
    "La existencia de $X(z) = \\mathcal{Z} \\{ x[k] \\}$ depende de la señal $x[k]$ y los valores $z$. Los valores de $z$ que hacen que la transformada $z$ converja forman la ROC (región de convergencia).\n",
    "\n",
    "\n",
    "La transformada inversa $z$ es:\n",
    "\n",
    "\\begin{equation}\n",
    "x[k] = \\frac{1}{2 \\pi j} \\int_{ }^{ } X(z) \\, z^{k-1} \\; dz\n",
    "\\end{equation}\n",
    "\n",
    "### Transformada de un lado\n",
    "\n",
    "En las señales causales se cumple que $x[k] = 0$ para $k <0$, por lo cual la transformada se convierte en:\n",
    "\n",
    "\\begin{equation}\n",
    "X(z) = \\sum_{k = -\\infty}^{\\infty} x[k] \\cdot \\epsilon[k] \\, z^{-k} = \\sum_{k = 0}^{\\infty} x[k] \\, z^{-k}\n",
    "\\end{equation}\n",
    "\n",
    "\\begin{equation}\n",
    "X(z) = \\sum_{k = 0}^{\\infty} x[k] \\, z^{-k}\n",
    "\\end{equation}\n",
    "\n",
    "Así como la transformada de Laplace se usa para resolver ecuacioes diferenciales, la transforada $z$ se usa para resolver ecuaciones en diferencias."
   ]
  },
  {
   "cell_type": "markdown",
   "metadata": {},
   "source": [
    "### Señales de duración finita\n",
    "\n",
    "Dada una señal $x[k]$ de duración finita, $x[k] = 0$ para $\\{k : k < M_1 \\wedge k \\geq M_2\\}$ con $M_1 < M_2$, por lo cual\n",
    "\n",
    "\\begin{equation}\n",
    "\\begin{split}\n",
    "X(z) &= \\sum_{k = -\\infty}^{\\infty} x[k] \\cdot \\, z^{-k} \n",
    "\\\\\n",
    "&= \\sum_{k=M_1}^{M_2 - 1} x[k] \\, z^{-k}\n",
    "\\\\\n",
    "&= x[M_1] \\, z^{-M_1} + x[M_1 + 1] \\, z^{- (M_1 + 1)} + \\dots + x[M_2 - 1] \\, z^{- (M_2-1)}\n",
    "\\\\\n",
    "\\end{split}\n",
    "\\end{equation}\n",
    "\n",
    "La transformada $z$ de una señal de duración finita es un polinomio en $z$.\n",
    "\n",
    "- Si la señal es causal, la ROC corresponde a $z \\in \\mathbb{C} \\setminus \\{ 0 \\}$. \n",
    "\n",
    "\\begin{equation}\n",
    "X(z) = x[0] + x[1] \\, z^{-1} + \\dots + x[M_2 - 1] \\, z^{- (M_2-1)}\n",
    "\\end{equation}\n",
    "\n",
    "- Si la señal es anticausal, la ROC corresponde a $z \\in \\mathbb{C} \\setminus \\{ \\infty \\}$. \n",
    "\n",
    "\\begin{equation}\n",
    "X(z) = x[M_1] \\, z^{(-M_1)}+ \\dots + x[-2] \\, z^{2} + x[-1] \\, z^{1} + x[0]  \n",
    "\\end{equation}\n",
    "\n",
    "- Si la señal tiene parte causal y parte anticausal, la ROC corresponde a $z \\in \\mathbb{C} \\setminus \\{ infty , 0 \\}$. \n",
    "\n",
    "\\begin{equation}\n",
    "X(z) = x[M_1] \\, z^{(M_1)} + \\dots + x[0] + \\dots + x[M_2 - 1] \\, z^{- (M_2-1)}\n",
    "\\end{equation}\n"
   ]
  },
  {
   "cell_type": "markdown",
   "metadata": {},
   "source": [
    "### Transformada del delta de Dirac\n",
    "\n",
    "\\begin{equation}\n",
    "\\mathcal{Z} \\{ \\delta[k] \\} = \\sum_{k = -\\infty}^{\\infty} \\delta[k] \\, z^{-k} = 1\n",
    "\\end{equation}\n",
    "\n",
    "para $z \\in \\mathbb{C}$. La ROC corresponde a todo el plano $z$.\n",
    "\n",
    "Como $\\mathcal{Z} \\{ \\delta[k] \\} = 1$, todas las frecuencias están presentes en la señal con igual peso.\n"
   ]
  },
  {
   "cell_type": "code",
   "execution_count": 2,
   "metadata": {},
   "outputs": [
    {
     "data": {
      "image/png": "[encoded data removed]",
      "text/latex": [
       "$\\displaystyle 1$"
      ],
      "text/plain": [
       "1"
      ]
     },
     "execution_count": 2,
     "metadata": {},
     "output_type": "execute_result"
    }
   ],
   "source": [
    "\n",
    "\n",
    "k = sym.symbols('k', integer=True)\n",
    "z = sym.symbols('z', complex=True)\n",
    "\n",
    "X = sym.summation(sym.KroneckerDelta(k, 0) * z**(-k), (k, -sym.oo, sym.oo))\n",
    "X"
   ]
  },
  {
   "cell_type": "markdown",
   "metadata": {},
   "source": [
    "### Transformada de un pulso causal\n",
    "\n",
    "Suponga que $x[k] = \\text{rect}_N[k]$ es una señal causal rectangular de duración $N$.\n",
    "\n",
    "\\begin{equation}\n",
    "\\begin{split}\n",
    "\\mathcal{Z} \\{ \\text{rect}_N[k] \\} &= \\sum_{k=0}^{N-1} z^{-k} \n",
    "\\\\ \n",
    "&= 1 + z^{-1} + \\dots + z^{-(N - 1)}\n",
    "\\\\\n",
    "&= 1 + \\frac{1}{z^{1}} + \\dots + \\frac{1}{z^{N-1}}\n",
    "\\\\\n",
    "\\end{split}\n",
    "\\end{equation}\n",
    "\n",
    "con $z \\in \\mathbb{C} \\setminus \\{ 0 \\}$.\n",
    "\n",
    "Observe que la sumatoria resultante puede reescribirse como\n",
    "\n",
    "\\begin{equation}\n",
    "\\mathcal{Z} \\{ \\text{rect}_N[k] \\} =  \\begin{cases}\n",
    "\\frac{1 - z^{-N}}{1 - z^{-1}} & \\text{for } z \\neq 1 \\\\\n",
    "N & \\text{for } z = 1\n",
    "\\end{cases}\n",
    "\\end{equation}"
   ]
  },
  {
   "cell_type": "markdown",
   "metadata": {},
   "source": [
    "### Transformada de una Exponencial Compleja y causal\n",
    "\n",
    "\n",
    "La transformada $X(z) = \\mathcal{Z} \\{ x[k] \\}$ de una señal exponencial compleja y causal\n",
    "\n",
    "\n",
    "\\begin{equation}\n",
    "x[k] = \\epsilon[k] \\cdot z_0^k\n",
    "\\end{equation}\n",
    "\n",
    "con frecuencia compleja $z_0 \\in \\mathbb{C}$ se obtiene de la expresión integral de la transfomada $z$\n",
    "\n",
    "\n",
    "\\begin{equation}\n",
    "X(z) = \\sum_{k=0}^{\\infty} z_0^k \\cdot z^{-k} = \\sum_{k=0}^{\\infty} \\left( \\frac{z_0}{z} \\right)^k = \\frac{z}{z - z_0}\n",
    "\\end{equation}\n",
    "\n",
    "Lo anterior ya que la sumatoria resultante es una [serie geométrica](https://en.wikipedia.org/wiki/Geometric_series). Esta transformada converge si $\\left| \\frac{z_0}{z} \\right| < 1$, es decir, la ROC es\n",
    "\n",
    "\\begin{equation}\n",
    "|z| > |z_0|\n",
    "\\end{equation}\n",
    "\n",
    "Así, la transformada $z$ de la señal causal exponencial compleja es:\n",
    "\n",
    "\\begin{equation}\n",
    "\\mathcal{Z} \\{ \\epsilon[k] \\cdot z_0^k \\} = \\frac{z}{z - z_0} \\qquad \\text{for } |z| > |z_0|\n",
    "\\end{equation}\n"
   ]
  },
  {
   "cell_type": "code",
   "execution_count": 3,
   "metadata": {},
   "outputs": [
    {
     "data": {
      "image/png": "[encoded data removed]",
      "text/latex": [
       "$\\displaystyle \\begin{cases} \\frac{1}{1 - \\frac{z_{0}}{z}} & \\text{for}\\: \\left|{\\frac{z_{0}}{z}}\\right| < 1 \\\\\\sum_{k=0}^{\\infty} z^{- k} z_{0}^{k} & \\text{otherwise} \\end{cases}$"
      ],
      "text/plain": [
       "⎧     1             │z₀│    \n",
       "⎪   ──────      for │──│ < 1\n",
       "⎪       z₀          │z │    \n",
       "⎪   1 - ──                  \n",
       "⎪       z                   \n",
       "⎪                           \n",
       "⎪  ∞                        \n",
       "⎨ ___                       \n",
       "⎪ ╲                         \n",
       "⎪  ╲    -k   k              \n",
       "⎪  ╱   z  ⋅z₀    otherwise  \n",
       "⎪ ╱                         \n",
       "⎪ ‾‾‾                       \n",
       "⎪k = 0                      \n",
       "⎩                           "
      ]
     },
     "execution_count": 3,
     "metadata": {},
     "output_type": "execute_result"
    }
   ],
   "source": [
    "z0 = sym.symbols('z0')\n",
    "\n",
    "X = sym.summation(z0**k * z**(-k), (k, 0, sym.oo))\n",
    "X"
   ]
  },
  {
   "cell_type": "markdown",
   "metadata": {},
   "source": [
    "## Convergencia\n",
    "\n",
    "Teniendo en cuenta que la transformada $z$ es una serie infinita, es una condición necesaria pero no suficiente para su convergencia que las normas de los elementos que la conforman sean sumables.\n",
    "\n",
    "\\begin{equation}\n",
    "\\sum_{k = -\\infty}^{\\infty} | x[k] \\cdot z^{- k} | = \\sum_{k = -\\infty}^{\\infty} | x[k] | \\cdot | z |^{- k}  < \\infty\n",
    "\\end{equation}\n",
    "\n",
    "Observe que la ROC se determina entonces por los valores de $|z|$, por lo cual se generan \"anillos\" en el plano $z$ que pueden incluir $z=0$ o $z=\\infty$. Como $z = e^{\\Sigma} \\cdot e^{j \\Omega}$, la fase $\\Omega$ de $z$ no tiene efectos sobre la convergencia.\n",
    "\n",
    "Puede observarse que la transformada $z$ de la exponencial compleja y causal tiene una ROC en forma de $|z| > z_0$. En términos generales, las ROC se grafican a continuación.\n",
    "\n",
    "\n",
    "![ROCs](figuras/ROC.png)\n",
    "\n"
   ]
  },
  {
   "cell_type": "markdown",
   "metadata": {},
   "source": [
    "## Transformada de Laplace de una señal muestreada\n",
    "\n",
    "Suponga una señal muestreada $x_\\text{s}(t)$,\n",
    "\n",
    "\\begin{equation}\n",
    "x_\\text{s}(t) = \\sum_{k = -\\infty}^{\\infty} x(k T) \\cdot \\delta(t - k T) = \\sum_{k = -\\infty}^{\\infty} x[k] \\cdot \\delta(t - k T)\n",
    "\\end{equation}\n",
    "\n",
    "donde $x(t)$ es una señal de tiempo continuo y $T$ el periodo de muestreo.\n",
    "\n",
    "La transformada de Laplace de una señal muestreada es:\n",
    "\n",
    "\\begin{equation}\n",
    "X_\\text{s}(s) = \\int_{-\\infty}^{\\infty} \\sum_{k = -\\infty}^{\\infty} x[k] \\cdot \\delta(t - k T) \\, e^{- s t} \\; dt = \\sum_{k = -\\infty}^{\\infty} x[k] \\, e^{-s k T}\n",
    "\\end{equation}\n",
    "\n",
    "Comparando la transformada de Laplace de una señal muestreada con la transformada $z$.\n",
    "\n",
    "| Transformada $z$ | Transformada de Laplace |\n",
    "|------------------|-------------------------|\n",
    "|\\begin{equation} X(z) = \\sum_{k = -\\infty}^{\\infty} x[k] \\, z^{-k} \\end{equation} | \\begin{equation} X_\\text{s}(s) = \\sum_{k = -\\infty}^{\\infty} x[k] \\, e^{-s k T} \\end{equation} |\n",
    "\n",
    "Se observa que $X(z) = X_\\text{s}(s)$ si $z^{-k} = e^{-s k T}$, es decir:\n",
    "\n",
    "\\begin{equation}\n",
    "X_\\text{s}(s) = X(z) \\big\\rvert_{z = e^{s T}}\n",
    "\\end{equation}\n",
    "\n",
    "Esto implica que la representación frecuencial de la señal muestreada $X_\\text{s}(s)$ es equivalente a la transformada $z$  de la señal discreta $X(z)$ con $z = e^{s T}$.\n",
    "\n",
    "Un mapeo entre el plano $s$ y el plano $z$ se muestra a continuación.\n",
    "\n",
    "![Mapping of the $s$-plane onto the $z$-plane](figuras/mapping_s_z_plane.png)\n"
   ]
  },
  {
   "cell_type": "markdown",
   "metadata": {},
   "source": [
    "## Mapas de polos y ceros\n",
    "\n",
    "Como la transformada $z$ $X(z) = \\mathcal{Z} \\{ x[k] \\}$ es una función compleja que depende de la variable compleja $z \\in \\mathbb{C}$, puede representarse con su magnitud $|X(z)|$ y fase $\\varphi(z)$ (representación polar) o como sus partes real $\\Re \\{ X(z) \\}$ e imaginaria $\\Im \\{ X(z) \\}$ en el plano $z$ (representación cartesiana).\n",
    "\n",
    "Al igual que con la transformada de Laplace, la transformada $z$ de varias señales o sistemas puede representarse como fracciones entre polinomios. Como los polinomios se pueden representar desde sus raíces, también las transformadas $z$. Las raices del numerador son llamadas *ceros* y las del denominador *polos* de $X(z)$.\n",
    "\n",
    "\n",
    "\\begin{equation}\n",
    "X(z) = \\frac{\\sum_{m=0}^{M} \\beta_m \\, z^{-m}}{\\sum_{n=0}^{N} \\alpha_n \\, z^{-n}} = K \\cdot \\frac{\\prod_{\\mu=0}^{Q} (z - z_{0 \\mu})}{\\prod_{\\nu=0}^{P} (z - z_{\\infty \\nu})}\n",
    "\\end{equation}\n",
    "\n",
    "Es frecuente ilustrar los polos y ceros en un [diagrama de polos y ceros](https://en.wikipedia.org/wiki/Pole%E2%80%93zero_plot). El círculo unitario es relevante en aplicaciones de señales y control.\n",
    "\n",
    "![Exemplary pole-zero plot](figuras/pz_plot.png)\n",
    "\n",
    "La ubicación de los polos y ceros permiten interpretar la composición de la señal. Por ejemplo, la transformada  $z$ de una [señal exponencial compleja](#Transformation-of-the-Causal-Complex-Exponential-Signal) tiene un cero en $z=0$ y un polo en  $z = z_0$. Si una señal es combinación lineal de exponenciales, habrá varios polos con ubicaciones en las frecuencias de cada señal."
   ]
  },
  {
   "cell_type": "markdown",
   "metadata": {},
   "source": [
    "## Propiedades\n",
    "\n",
    "Dadas las propiedades presentadas para la transformada de Fourier y la estructura de las transformadas de Laplace y de Fourier, se obtienen las mismas propiedades.\n",
    "\n",
    "### Invertible\n",
    "\\begin{equation}\n",
    "x[k] = \\mathcal{Z}^{-1} \\left\\{ \\mathcal{Z} \\{ x[k] \\} \\right\\}\n",
    "\\end{equation}\n",
    "\n",
    "\n",
    "### Linealidad\n",
    "\n",
    "\\begin{equation}\n",
    "\\mathcal{Z} \\{ A \\cdot x_1[k] + B \\cdot x_2[k] \\} = A \\cdot X_1(z) + B \\cdot X_2(z)\n",
    "\\end{equation}\n"
   ]
  },
  {
   "cell_type": "markdown",
   "metadata": {},
   "source": [
    "**Ejemplo - Transformada $z$ de una señal senoidal causal**\n",
    "\n",
    "\n",
    "\\begin{equation}\n",
    "x[k] = sin( \\Omega _0 t) \\cdot \\epsilon [k]\n",
    "\\end{equation}\n",
    "\n",
    "con $\\Omega _0 \\in \\mathbb{R}^+$\n",
    "\n",
    "De acuerdo con las expresiones de Euler:\n",
    "\\begin{align}\n",
    "\\cos(\\Omega_0 k) &= \\frac{1}{2} \\left( e^{j \\Omega_0 k} + e^{-j \\Omega_0 k} \\right) \\\\\n",
    "\\sin(\\Omega_0 k) &= \\frac{1}{2j} \\left( e^{j \\Omega_0 k} - e^{-j \\Omega_0 k} \\right)\n",
    "\\end{align}\n",
    "\n",
    "Así, la transformada de $sin( \\Omega _0 k)$ debe ser igual a la de $\\frac{1}{2j} ( e^{j \\Omega_0 k} - e^{-j \\Omega_0 k})$.\n",
    "\n",
    "Dado que la transformada $z$ de una exponencial compleja decreciente y causal es :\n",
    "\n",
    "\\begin{equation}\n",
    "\\mathcal{Z} \\{ \\epsilon[k] \\cdot z_0^{k} \\} = \\frac{z}{z - z_0}\n",
    "\\end{equation}\n",
    "\n",
    "Entonces:\n",
    "\n",
    "\\begin{equation}\n",
    "\\mathcal{Z} \\{ sin( \\Omega _0 t) \\} = \\frac{1}{2j} \\left( \\frac{z}{z - e^{j \\Omega_0}} - \\frac{z}{z - e^{-j \\Omega_0}} \\right) = \\frac{z \\sin(\\Omega_0)}{z^2 - 2z\\cos(\\Omega_0) + 1}\n",
    "\\end{equation}\n",
    "\n",
    "ROC $|z|>1$\n",
    "\n",
    "Aplicando el mismo razonamiento puede encontrarse la transformada del coseno."
   ]
  },
  {
   "cell_type": "markdown",
   "metadata": {},
   "source": [
    "Se define la señal en tiempo discreto"
   ]
  },
  {
   "cell_type": "code",
   "execution_count": 4,
   "metadata": {},
   "outputs": [
    {
     "data": {
      "image/png": "[encoded data removed]",
      "text/latex": [
       "$\\displaystyle \\sin{\\left(\\Omega_{0} k \\right)} \\theta\\left(k\\right)$"
      ],
      "text/plain": [
       "sin(Ω₀⋅k)⋅Heaviside(k)"
      ]
     },
     "execution_count": 4,
     "metadata": {},
     "output_type": "execute_result"
    }
   ],
   "source": [
    "\n",
    "k = sym.symbols('k', integer=True)\n",
    "W0 = sym.symbols('Omega0', real=True)\n",
    "z = sym.symbols('z', complex=True)\n",
    "x = sym.sin(W0 * k)*sym.Heaviside(k)\n",
    "x"
   ]
  },
  {
   "cell_type": "markdown",
   "metadata": {},
   "source": [
    "Se define la transformada $z$"
   ]
  },
  {
   "cell_type": "code",
   "execution_count": 5,
   "metadata": {},
   "outputs": [
    {
     "data": {
      "image/png": "[encoded data removed]",
      "text/latex": [
       "$\\displaystyle \\frac{z \\sin{\\left(\\Omega_{0} \\right)}}{z^{2} - 2 z \\cos{\\left(\\Omega_{0} \\right)} + 1}$"
      ],
      "text/plain": [
       "     z⋅sin(Ω₀)      \n",
       "────────────────────\n",
       " 2                  \n",
       "z  - 2⋅z⋅cos(Ω₀) + 1"
      ]
     },
     "execution_count": 5,
     "metadata": {},
     "output_type": "execute_result"
    }
   ],
   "source": [
    "Xnum = z*sym.sin(W0)\n",
    "Xden = z**2 - 2*z*sym.cos(W0) + 1\n",
    "X = Xnum / Xden\n",
    "X"
   ]
  },
  {
   "cell_type": "markdown",
   "metadata": {},
   "source": [
    "Se encuentran los ceros"
   ]
  },
  {
   "cell_type": "code",
   "execution_count": 6,
   "metadata": {},
   "outputs": [
    {
     "data": {
      "image/png": "[encoded data removed]",
      "text/latex": [
       "$\\displaystyle \\left\\{ 0 : 1\\right\\}$"
      ],
      "text/plain": [
       "{0: 1}"
      ]
     },
     "execution_count": 6,
     "metadata": {},
     "output_type": "execute_result"
    }
   ],
   "source": [
    "ceros = sym.roots(Xnum,z)\n",
    "ceros"
   ]
  },
  {
   "cell_type": "markdown",
   "metadata": {},
   "source": [
    "Se encuentran los polos"
   ]
  },
  {
   "cell_type": "code",
   "execution_count": 7,
   "metadata": {},
   "outputs": [
    {
     "data": {
      "image/png": "[encoded data removed]",
      "text/latex": [
       "$\\displaystyle \\left\\{ - \\sqrt{\\left(\\cos{\\left(\\Omega_{0} \\right)} - 1\\right) \\left(\\cos{\\left(\\Omega_{0} \\right)} + 1\\right)} + \\cos{\\left(\\Omega_{0} \\right)} : 1, \\  \\sqrt{\\left(\\cos{\\left(\\Omega_{0} \\right)} - 1\\right) \\left(\\cos{\\left(\\Omega_{0} \\right)} + 1\\right)} + \\cos{\\left(\\Omega_{0} \\right)} : 1\\right\\}$"
      ],
      "text/plain": [
       "⎧    _____________________________                 ___________________________\n",
       "⎨- ╲╱ (cos(Ω₀) - 1)⋅(cos(Ω₀) + 1)  + cos(Ω₀): 1, ╲╱ (cos(Ω₀) - 1)⋅(cos(Ω₀) + 1\n",
       "⎩                                                                             \n",
       "\n",
       "__             ⎫\n",
       ")  + cos(Ω₀): 1⎬\n",
       "               ⎭"
      ]
     },
     "execution_count": 7,
     "metadata": {},
     "output_type": "execute_result"
    }
   ],
   "source": [
    "polos = sym.roots(Xden,z)\n",
    "polos"
   ]
  },
  {
   "cell_type": "markdown",
   "metadata": {},
   "source": [
    "se grafica el mapa de polos y ceros"
   ]
  },
  {
   "cell_type": "code",
   "execution_count": 8,
   "metadata": {},
   "outputs": [
    {
     "data": {
      "image/png": "[encoded data removed]",
      "text/plain": [
       "<Figure size 360x360 with 1 Axes>"
      ]
     },
     "metadata": {
      "needs_background": "light"
     },
     "output_type": "display_data"
    }
   ],
   "source": [
    "X2 = X.subs(W0,200)\n",
    "pole_zero_plot(sym.roots(sym.denom(X2), z), sym.roots(sym.numer(X2), z))"
   ]
  },
  {
   "cell_type": "markdown",
   "metadata": {},
   "source": [
    "### Lista de propiedades\n",
    "\n",
    "A continuación se listan propiedades y teoremas:\n",
    "\n",
    "| &#65279;  | $x[k]$ | $X(z) = \\mathcal{Z} \\{ x[k] \\}$ | Región de convergencia ROC |\n",
    "|:---|:---:|:---:|:---:|\n",
    "| Linealidad | $A \\, x_1[k] + B \\, x_2[k]$ | $A \\, X_1(z) + B \\, X_2(z)$ | $\\supseteq ROC\\{x_1\\} \\cap ROC\\{x_2\\}$ |\n",
    "| Señales reales | $x[k] = x^*[k]$ | $X(z) = X^*(z^*)$ | | \n",
    "| Convolución | $x[k] * h[k]$ | $X(z) \\cdot H(z)$ | $\\supseteq \\text{ROC}\\{x[k]\\} \\cap \\text{ROC}\\{h(t)\\}$ |\n",
    "| Desplazamiento | $x[k - \\kappa]$ | $z^{- \\kappa} \\cdot X(z)$ | $\\text{ROC}\\{x[k]\\}$ |\n",
    "| Modulación | $z_0^{k}\\cdot x[k]$ | $X(\\frac{z}{z_0})$ | $s: s - \\Re \\{s_0\\} \\in \\text{ROC}\\{x(t)\\}$ |\n",
    "\n",
    "\n",
    "donde $A, B, z_0 \\in \\mathbb{C}$, $a \\in \\mathbb{R} \\setminus \\{0\\}$ y $\\kappa \\in \\mathbb{R}$."
   ]
  },
  {
   "cell_type": "markdown",
   "metadata": {},
   "source": [
    "## Algunas transformadas $z$\n",
    "\n",
    "A continuación se listan las transformadas $z$ de funciones usadas a menudo:\n",
    "\n",
    "| $x[k]$                          | $X(z) = \\mathcal{Z} \\{ x[k] \\}$ | Región de Convergencia ROC |\n",
    "|:-------------------------------:|:-------------------------------:|:------------------------:|\n",
    "| $\\delta[k]$                     | $1$                             | $\\mathbb{C}$             |\n",
    "| $\\epsilon[k]$                   | $\\frac{z}{z-1}$                 | $|z| > 1$                |\n",
    "| $k \\epsilon[k]$                 | $\\frac{z}{(z-1)^2}$             | $\\|z| > 1$               |\n",
    "| $z_0^{k} \\epsilon[k]$           | $\\frac{z}{z - z_0}$             | $|z| > |z_0|$            |\n",
    "| $\\sin(\\Omega_0 k) \\epsilon[k]$  | $\\frac{z\\sin(\\Omega_0)}{z^2 + 2zcos(\\Omega_0) + 1}$ | $|z|>1$ |\n",
    "| $\\cos(\\Omega_0 k) \\epsilon[k]$  | $\\frac{z^2 - z\\cos(\\Omega_0)}{z^2 + 2zcos(\\Omega_0) + 1}$ | $|z|>1$            |\n"
   ]
  },
  {
   "cell_type": "markdown",
   "metadata": {},
   "source": [
    "## Función de transferencia\n",
    "\n",
    "Al igual que con la transformada de Laplace, la transformada $z$ permite modelar sistemas LTI como funciones racionales entre polinomios.\n",
    "\n",
    "\n",
    "**Ejemplo**\n",
    "\n",
    "Suponga el siguiente modelo para un sistema de tiempo discreto cuya entrada es $x[k]$ y salida $y[k]$.\n",
    "\n",
    "\\begin{equation}\n",
    "y[k] - y[k-1] + \\frac{1}{2} y[k-2] = x[k]\n",
    "\\end{equation}\n",
    "\n",
    "\\begin{equation}\n",
    "y[k] = y[k-1] - \\frac{1}{2} y[k-2] + x[k]\n",
    "\\end{equation}\n",
    "\n",
    "\n",
    "Aplicando la transformada $z$ a la ecuación se tiene\n",
    "\n",
    "\\begin{equation}\n",
    "Y(z) - Y(z)z^{-1} + \\frac{1}{2} Y(z)z^{-2} = X(z)\n",
    "\\end{equation}\n",
    "\n",
    "Puede encontrarse una expresión para la salida en el dominio $z$ como\n",
    "\n",
    "\\begin{equation}\n",
    "Y(z) = \\frac{X(z)}{1 - z^{-1} + \\frac{1}{2}z^{-2}}\n",
    "\\end{equation}\n",
    "\n",
    "Así, la función de transferencia es:\n",
    "\n",
    "\\begin{equation}\n",
    "H(z)= \\frac{Y(z)}{X(z)} = \\frac{1}{1 - z^{-1} + \\frac{1}{2}z^{-2}}\n",
    "\\end{equation}\n",
    "\n",
    "\n",
    "Para ilustrar, se grafica la respuesa frecuencial del sistema en tiempo discreto $H(e^{j \\Omega}) = H(z) \\vert_{z = e^{j \\Omega}}$."
   ]
  },
  {
   "cell_type": "code",
   "execution_count": 13,
   "metadata": {},
   "outputs": [
    {
     "data": {
      "image/png": "[encoded data removed]",
      "text/plain": [
       "<Figure size 432x288 with 1 Axes>"
      ]
     },
     "metadata": {
      "needs_background": "light"
     },
     "output_type": "display_data"
    },
    {
     "data": {
      "text/plain": [
       "<sympy.plotting.plot.Plot at 0x2c608def4a8>"
      ]
     },
     "execution_count": 13,
     "metadata": {},
     "output_type": "execute_result"
    }
   ],
   "source": [
    "# define variables and transfer function\n",
    "z = sym.symbols('z', complex=True)\n",
    "W = sym.symbols('Omega', real=True)\n",
    "H = 1 / (1 - z**(-1) + sym.Rational(1, 2)*z**(-2))\n",
    "\n",
    "# plot transfer function\n",
    "sym.plot(sym.Abs(H.subs(z, sym.exp(sym.I*W))), (W, -0*sym.pi, 1*sym.pi),\n",
    "         ylim=(0, 3), xlabel=r'$\\Omega$', ylabel=r'$|H(e^{j \\Omega})|$')"
   ]
  },
  {
   "cell_type": "code",
   "execution_count": 10,
   "metadata": {},
   "outputs": [
    {
     "data": {
      "image/png": "[encoded data removed]",
      "text/latex": [
       "$\\displaystyle \\frac{1}{1 - \\frac{1}{z} + \\frac{1}{2 z^{2}}}$"
      ],
      "text/plain": [
       "     1      \n",
       "────────────\n",
       "    1    1  \n",
       "1 - ─ + ────\n",
       "    z      2\n",
       "        2⋅z "
      ]
     },
     "execution_count": 10,
     "metadata": {},
     "output_type": "execute_result"
    }
   ],
   "source": [
    "H"
   ]
  },
  {
   "cell_type": "code",
   "execution_count": 11,
   "metadata": {},
   "outputs": [
    {
     "data": {
      "image/png": "[encoded data removed]",
      "text/plain": [
       "<Figure size 360x360 with 1 Axes>"
      ]
     },
     "metadata": {
      "needs_background": "light"
     },
     "output_type": "display_data"
    }
   ],
   "source": [
    "H1 = 2* z**2 / ((2* z**2) - (2*z) + 1)\n",
    "pole_zero_plot(sym.roots(sym.denom(H1), z), sym.roots(sym.numer(H1), z))"
   ]
  },
  {
   "cell_type": "markdown",
   "metadata": {},
   "source": [
    "Observe que la respuesta en frecuencia del sistema discreto es periódica.  "
   ]
  },
  {
   "cell_type": "markdown",
   "metadata": {},
   "source": [
    "## Aproximaciones\n",
    "\n",
    "Así como hay equivalencia entre los dominios $s$ y $z$, puede aproximarse la derivada de una función a partir de muestras. Analice la siguiente gráfica.\n",
    "\n",
    "\n",
    "![derivadas](figuras/Derivative.png)\n",
    "\n",
    "La razón de cambio aproximada a partir de las muestras en $x+h$ y en $x$ corresponde a $\\frac{f(x+h)-f(x)}{h}$. Estas muestras están separadas por $h$.\n",
    "\n",
    "En el caso de señales en tiempo discreto, la separación temporal entre muestras es $T_\\text{s}$. Además, debido a restricciones de causalidad, se suele aproximar con información del pasado, por lo cual se hace la siguiente aproximación:\n",
    "\n",
    "\\begin{equation}\n",
    "\\frac{df}{dt}\\big\\rvert_{t = k \\cdot T_\\text{s}} \\approx \\frac{f[k]-f[k-1]}{T_\\text{s}}\n",
    "\\end{equation}"
   ]
  },
  {
   "cell_type": "markdown",
   "metadata": {},
   "source": [
    "\n",
    "$$x[k - \\kappa]$$\n",
    "$$z^{- \\kappa} \\cdot X(z)$$ \n",
    "$$\\text{ROC}\\{x[k]\\}$$"
   ]
  },
  {
   "cell_type": "markdown",
   "metadata": {},
   "source": [
    "$$\\mathcal{L}\\{\\frac{df}{dt}\\}\\approx \\mathcal{z}\\{\\frac{f[k] - f[k-1]}{T_s}\\}$$"
   ]
  },
  {
   "cell_type": "markdown",
   "metadata": {},
   "source": [
    "$$sF(s) \\approx \\frac{F(z)-z^{-1}F(z)}{T_s}$$"
   ]
  },
  {
   "cell_type": "markdown",
   "metadata": {},
   "source": [
    "$$sF(s) \\approx F(z)\\frac{1-z^{-1}}{T_s}$$"
   ]
  },
  {
   "cell_type": "code",
   "execution_count": 19,
   "metadata": {},
   "outputs": [],
   "source": [
    "s = sym.Symbol('s',complex = True)"
   ]
  },
  {
   "cell_type": "code",
   "execution_count": 22,
   "metadata": {
    "scrolled": true
   },
   "outputs": [
    {
     "data": {
      "image/png": "[encoded data removed]",
      "text/latex": [
       "$\\displaystyle \\frac{1}{s + 2}$"
      ],
      "text/plain": [
       "  1  \n",
       "─────\n",
       "s + 2"
      ]
     },
     "execution_count": 22,
     "metadata": {},
     "output_type": "execute_result"
    }
   ],
   "source": [
    "Tm = 0.01\n",
    "Fs = 1/(s+2)\n",
    "Fs"
   ]
  },
  {
   "cell_type": "code",
   "execution_count": 24,
   "metadata": {},
   "outputs": [
    {
     "data": {
      "image/png": "[encoded data removed]",
      "text/latex": [
       "$\\displaystyle \\frac{1}{102.0 - \\frac{100.0}{z}}$"
      ],
      "text/plain": [
       "      1      \n",
       "─────────────\n",
       "        100.0\n",
       "102.0 - ─────\n",
       "          z  "
      ]
     },
     "execution_count": 24,
     "metadata": {},
     "output_type": "execute_result"
    }
   ],
   "source": [
    "Fz = Fs.subs(s,(1-z**(-1))/Tm)\n",
    "Fz"
   ]
  },
  {
   "cell_type": "code",
   "execution_count": 6,
   "metadata": {},
   "outputs": [
    {
     "data": {
      "text/plain": [
       "0.038823644277167516"
      ]
     },
     "execution_count": 6,
     "metadata": {},
     "output_type": "execute_result"
    }
   ],
   "source": [
    "import numpy as np\n",
    "(2/3)/(1/(1-np.exp(-3*0.02)))"
   ]
  },
  {
   "cell_type": "code",
   "execution_count": 16,
   "metadata": {},
   "outputs": [
    {
     "data": {
      "text/latex": [
       "$\\displaystyle s^{3} + 3 s^{2} + 3 s + 1$"
      ],
      "text/plain": [
       "s**3 + 3*s**2 + 3*s + 1"
      ]
     },
     "execution_count": 16,
     "metadata": {},
     "output_type": "execute_result"
    }
   ],
   "source": [
    "import sympy as sym\n",
    "s = sym.Symbol('s')\n",
    "((s+1)*(s+1)*(s+1)).expand()"
   ]
  },
  {
   "cell_type": "code",
   "execution_count": 12,
   "metadata": {},
   "outputs": [
    {
     "data": {
      "text/plain": [
       "(array([[0.        , 0.03882364]]), array([ 1.        , -0.94176453]), 0.02)"
      ]
     },
     "execution_count": 12,
     "metadata": {},
     "output_type": "execute_result"
    }
   ],
   "source": [
    "from scipy.signal import cont2discrete, lti, dlti, dstep\n",
    "\n",
    "d_system = cont2discrete(([2],[1,3]), 0.02)\n",
    "d_system"
   ]
  },
  {
   "cell_type": "code",
   "execution_count": 2,
   "metadata": {},
   "outputs": [
    {
     "data": {
      "text/plain": [
       "0.058235499999999996"
      ]
     },
     "execution_count": 2,
     "metadata": {},
     "output_type": "execute_result"
    }
   ],
   "source": [
    "1-0.9417645"
   ]
  },
  {
   "cell_type": "code",
   "execution_count": 3,
   "metadata": {},
   "outputs": [
    {
     "data": {
      "text/plain": [
       "0.038823333333333335"
      ]
     },
     "execution_count": 3,
     "metadata": {},
     "output_type": "execute_result"
    }
   ],
   "source": [
    "0.058235*2/3"
   ]
  },
  {
   "cell_type": "code",
   "execution_count": null,
   "metadata": {},
   "outputs": [],
   "source": [
    "0.038823"
   ]
  }
 ],
 "metadata": {
  "kernelspec": {
   "display_name": "Python 3",
   "language": "python",
   "name": "python3"
  },
  "language_info": {
   "codemirror_mode": {
    "name": "ipython",
    "version": 3
   },
   "file_extension": ".py",
   "mimetype": "text/x-python",
   "name": "python",
   "nbconvert_exporter": "python",
   "pygments_lexer": "ipython3",
   "version": "3.7.3"
  },
  "latex_envs": {
   "bibliofile": "biblio.bib",
   "cite_by": "apalike",
   "current_citInitial": 1,
   "eqLabelWithNumbers": true,
   "eqNumInitial": 0
  }
 },
 "nbformat": 4,
 "nbformat_minor": 4
}
