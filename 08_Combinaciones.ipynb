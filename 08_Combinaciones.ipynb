{
 "cells": [
  {
   "cell_type": "code",
   "execution_count": 1,
   "metadata": {},
   "outputs": [],
   "source": [
    "import sympy as sym\n",
    "%matplotlib inline\n",
    "sym.init_printing()\n",
    "\n",
    "import matplotlib.pyplot as plt\n",
    "from sympy.plotting.plot import MatplotlibBackend\n",
    "\n",
    "def logx_plot(Hw, wrange, **kwargs):\n",
    "    'create plot with logarithmic x-axis'\n",
    "    p = sym.plot(Hw, wrange, **kwargs)\n",
    "    backend = MatplotlibBackend(p)\n",
    "    backend.process_series()\n",
    "    backend.ax[0].spines['left'].set_position(('axes', 0))\n",
    "    backend.ax[0].spines['bottom'].set_position(('axes', 0))\n",
    "    plt.xscale('log')\n",
    "    plt.grid(which='both')\n",
    "    return p\n",
    "\n",
    "def db(x):\n",
    "    'compute dB value'\n",
    "    return 20 * sym.log(sym.Abs(x), 10)"
   ]
  },
  {
   "cell_type": "markdown",
   "metadata": {},
   "source": [
    "# Combinación de Modelos Frecuenciales"
   ]
  },
  {
   "cell_type": "markdown",
   "metadata": {},
   "source": [
    "Es conveniente analizar sistemas elaborados como una representación de sistemas más sencillos. A continuación los principales tipos de combinación."
   ]
  },
  {
   "cell_type": "markdown",
   "metadata": {},
   "source": [
    "## Concatenación / Serie\n",
    "\n",
    "Cuando dos sistemas LTI $H_1$ y $H_2$ están interconectados de manera que la salida de $H_1$ es la entrada de $H_2$. Esta es la conexión en **Serie** o **Concatenación de sistemas**.\n",
    "\n",
    "Suponga que:\n",
    "- La respuesta impulsional de $H_1$ es $h_1(t)$.\n",
    "- La respuesta impulsional de $H_2$ es $h_2(t)$.\n",
    "- La concatenación se excita con una señal $x(t)$.\n",
    "\n",
    "La salida de $H_1$ es entonces $x(t)*h_1(t)$. La salida de la concatenación de sistemas es:\n",
    "\n",
    "\\begin{equation}\n",
    "y(t) =  x(t) * h_1(t) * h_2(t)\n",
    "\\end{equation}\n",
    "\n",
    "En el dominio de Laplace, la convolución anterior se transforma en:\n",
    "\n",
    "\\begin{equation}\n",
    "Y(s) = \\underbrace{H_1(s) \\cdot H_2(s)}_{H(s)} \\cdot X(s)\n",
    "\\end{equation}\n",
    "\n",
    "Así, los dos sistemas concatenados tienen una equivalencia $H(s) = H_1(s) \\cdot H_2(s)$.\n",
    "\n",
    "![Dos sistemas concatenados](figuras/concatenation.png)\n",
    "\n",
    "Si se tienen $N$ sistemas conectados en serie, el modelo equivalente está dado por la multiplicación de las respectivas funciones de transferencia.\n",
    "\n",
    "\\begin{equation}\n",
    "H(s) = \\prod_{n=1}^{N} H_n(s)\n",
    "\\end{equation}\n"
   ]
  },
  {
   "cell_type": "markdown",
   "metadata": {},
   "source": [
    "**Ejemplo**\n",
    "\n",
    "Al concatenar filtros de bajo orden se obtiene un filtro de orden más elevado.\n",
    "\n",
    "Suponga las siguientes funciones de transferencia para filtros de orden 2.\n",
    "\n",
    "\\begin{equation}\n",
    "G(s) = \\frac{1}{LC s^2 + RC s + 1}\n",
    "\\end{equation}\n",
    "\n",
    "Si se concatenan $N$ filtros con acoples de impedancia, se obtiene:\n",
    "\n",
    "\\begin{equation}\n",
    "H_N(s) = \\left( \\frac{1}{LC s^2 + RC s + 1} \\right)^N\n",
    "\\end{equation}\n",
    "\n",
    "A continuación los diagramas de Bode. Para valores $R$, $L$ y $C$.\n"
   ]
  },
  {
   "cell_type": "code",
   "execution_count": 2,
   "metadata": {},
   "outputs": [
    {
     "data": {
      "image/png": "[encoded data removed]",
      "text/latex": [
       "$\\displaystyle \\left(0.2 s^{2} + 0.4 s + 1\\right)^{- N}$"
      ],
      "text/plain": [
       "                    -N\n",
       "⎛     2            ⎞  \n",
       "⎝0.2⋅s  + 0.4⋅s + 1⎠  "
      ]
     },
     "execution_count": 2,
     "metadata": {},
     "output_type": "execute_result"
    }
   ],
   "source": [
    "s = sym.symbols('s', complex=True)\n",
    "w = sym.symbols('omega', real=True)\n",
    "R = 1\n",
    "L = 0.5\n",
    "C = 0.4\n",
    "\n",
    "N = sym.symbols('N', integer=True)\n",
    "\n",
    "H0 = 1/(L*C*s**2 + R*C*s + 1)\n",
    "HN = H0**N\n",
    "HN\n",
    "\n",
    "\n"
   ]
  },
  {
   "cell_type": "markdown",
   "metadata": {},
   "source": [
    "Ahora se definen valores para $s = \\sigma + j \\omega$."
   ]
  },
  {
   "cell_type": "code",
   "execution_count": 6,
   "metadata": {
    "scrolled": true
   },
   "outputs": [
    {
     "ename": "TypeError",
     "evalue": "'AxesSubplot' object is not subscriptable",
     "output_type": "error",
     "traceback": [
      "\u001b[1;31m---------------------------------------------------------------------------\u001b[0m",
      "\u001b[1;31mTypeError\u001b[0m                                 Traceback (most recent call last)",
      "\u001b[1;32m<ipython-input-6-44e0af184958>\u001b[0m in \u001b[0;36m<module>\u001b[1;34m\u001b[0m\n\u001b[0;32m      7\u001b[0m                \u001b[0mxlabel\u001b[0m\u001b[1;33m=\u001b[0m\u001b[1;34m'$\\omega$'\u001b[0m\u001b[1;33m,\u001b[0m\u001b[1;33m\u001b[0m\u001b[1;33m\u001b[0m\u001b[0m\n\u001b[0;32m      8\u001b[0m                \u001b[0mylabel\u001b[0m\u001b[1;33m=\u001b[0m\u001b[1;34m'$20 \\log_{10} | H(j \\omega) |$ in dB'\u001b[0m\u001b[1;33m,\u001b[0m\u001b[1;33m\u001b[0m\u001b[1;33m\u001b[0m\u001b[0m\n\u001b[1;32m----> 9\u001b[1;33m                line_color='b', show=False)\n\u001b[0m\u001b[0;32m     10\u001b[0m logx_plot(db(HNw.subs(N, 2)), (w, 0.1, 100),\n\u001b[0;32m     11\u001b[0m                \u001b[0mxlabel\u001b[0m\u001b[1;33m=\u001b[0m\u001b[1;34m'$\\omega$'\u001b[0m\u001b[1;33m,\u001b[0m \u001b[0mylabel\u001b[0m\u001b[1;33m=\u001b[0m\u001b[1;34m'$20 \\log_{10} | H(j \\omega) |$ in dB'\u001b[0m\u001b[1;33m,\u001b[0m\u001b[1;33m\u001b[0m\u001b[1;33m\u001b[0m\u001b[0m\n",
      "\u001b[1;32m<ipython-input-1-7031ea1b1a76>\u001b[0m in \u001b[0;36mlogx_plot\u001b[1;34m(Hw, wrange, **kwargs)\u001b[0m\n\u001b[0;32m     11\u001b[0m     \u001b[0mbackend\u001b[0m \u001b[1;33m=\u001b[0m \u001b[0mMatplotlibBackend\u001b[0m\u001b[1;33m(\u001b[0m\u001b[0mp\u001b[0m\u001b[1;33m)\u001b[0m\u001b[1;33m\u001b[0m\u001b[1;33m\u001b[0m\u001b[0m\n\u001b[0;32m     12\u001b[0m     \u001b[0mbackend\u001b[0m\u001b[1;33m.\u001b[0m\u001b[0mprocess_series\u001b[0m\u001b[1;33m(\u001b[0m\u001b[1;33m)\u001b[0m\u001b[1;33m\u001b[0m\u001b[1;33m\u001b[0m\u001b[0m\n\u001b[1;32m---> 13\u001b[1;33m     \u001b[0mbackend\u001b[0m\u001b[1;33m.\u001b[0m\u001b[0max\u001b[0m\u001b[1;33m[\u001b[0m\u001b[1;36m0\u001b[0m\u001b[1;33m]\u001b[0m\u001b[1;33m.\u001b[0m\u001b[0mspines\u001b[0m\u001b[1;33m[\u001b[0m\u001b[1;34m'left'\u001b[0m\u001b[1;33m]\u001b[0m\u001b[1;33m.\u001b[0m\u001b[0mset_position\u001b[0m\u001b[1;33m(\u001b[0m\u001b[1;33m(\u001b[0m\u001b[1;34m'axes'\u001b[0m\u001b[1;33m,\u001b[0m \u001b[1;36m0\u001b[0m\u001b[1;33m)\u001b[0m\u001b[1;33m)\u001b[0m\u001b[1;33m\u001b[0m\u001b[1;33m\u001b[0m\u001b[0m\n\u001b[0m\u001b[0;32m     14\u001b[0m     \u001b[0mbackend\u001b[0m\u001b[1;33m.\u001b[0m\u001b[0max\u001b[0m\u001b[1;33m[\u001b[0m\u001b[1;36m0\u001b[0m\u001b[1;33m]\u001b[0m\u001b[1;33m.\u001b[0m\u001b[0mspines\u001b[0m\u001b[1;33m[\u001b[0m\u001b[1;34m'bottom'\u001b[0m\u001b[1;33m]\u001b[0m\u001b[1;33m.\u001b[0m\u001b[0mset_position\u001b[0m\u001b[1;33m(\u001b[0m\u001b[1;33m(\u001b[0m\u001b[1;34m'axes'\u001b[0m\u001b[1;33m,\u001b[0m \u001b[1;36m0\u001b[0m\u001b[1;33m)\u001b[0m\u001b[1;33m)\u001b[0m\u001b[1;33m\u001b[0m\u001b[1;33m\u001b[0m\u001b[0m\n\u001b[0;32m     15\u001b[0m     \u001b[0mplt\u001b[0m\u001b[1;33m.\u001b[0m\u001b[0mxscale\u001b[0m\u001b[1;33m(\u001b[0m\u001b[1;34m'log'\u001b[0m\u001b[1;33m)\u001b[0m\u001b[1;33m\u001b[0m\u001b[1;33m\u001b[0m\u001b[0m\n",
      "\u001b[1;31mTypeError\u001b[0m: 'AxesSubplot' object is not subscriptable"
     ]
    },
    {
     "data": {
      "image/png": "[encoded data removed]",
      "text/plain": [
       "<Figure size 432x144 with 1 Axes>"
      ]
     },
     "metadata": {
      "needs_background": "light"
     },
     "output_type": "display_data"
    }
   ],
   "source": [
    "H0w = H0.subs(s, sym.I * w)\n",
    "HNw = HN.subs(s, sym.I * w)\n",
    "\n",
    "plt.rcParams['figure.figsize'] = 6, 2\n",
    "\n",
    "m1 = logx_plot(db(H0w), (w, 0.1, 100),\n",
    "               xlabel='$\\omega$',\n",
    "               ylabel='$20 \\log_{10} | H(j \\omega) |$ in dB',\n",
    "               line_color='b', show=False)\n",
    "m2 = logx_plot(db(HNw.subs(N, 2)), (w, 0.1, 100),\n",
    "               xlabel='$\\omega$', ylabel='$20 \\log_{10} | H(j \\omega) |$ in dB',\n",
    "               line_color='r', show=False);\n",
    "m5 = logx_plot(db(HNw.subs(N, 5)), (w, 0.1, 100),\n",
    "               xlabel='$\\omega$', ylabel='$20 \\log_{10} | H(j \\omega) |$ in dB',\n",
    "               line_color='g', show=False);\n",
    "f1 = logx_plot(sym.arg(H0w), (w, 0.1, 100),\n",
    "               xlabel='$\\omega$', ylabel=r'$\\varphi(j \\omega)$',\n",
    "               line_color='b', show=False);\n",
    "f2 = logx_plot(sym.arg(HNw.subs(N, 2)), (w, 0.1, 100),\n",
    "               xlabel='$\\omega$', ylabel=r'$\\varphi(j \\omega)$',\n",
    "               line_color='r', show=False);\n",
    "f5 = logx_plot(sym.arg(HNw.subs(N, 5)), (w, 0.1, 100),\n",
    "               xlabel='$\\omega$', ylabel=r'$\\varphi(j \\omega)$',\n",
    "               line_color='g', show=False);\n",
    "\n",
    "m1.extend(m2)\n",
    "m1.extend(m5)\n",
    "\n",
    "f1.extend(f2)\n",
    "f1.extend(f5)\n",
    "m1.show()"
   ]
  },
  {
   "cell_type": "code",
   "execution_count": null,
   "metadata": {
    "scrolled": true
   },
   "outputs": [],
   "source": [
    "backend = MatplotlibBackend(m1)\n",
    "backend.process_series()\n",
    "backend.ax[0].spines['left'].set_position(('axes', 0))\n",
    "backend.ax[0].spines['bottom'].set_position(('axes', 0))\n",
    "plt.xscale('log')\n",
    "plt.grid(which='both')\n",
    "\n",
    "backend = MatplotlibBackend(f1)\n",
    "backend.process_series()\n",
    "backend.ax[0].spines['left'].set_position(('axes', 0))\n",
    "backend.ax[0].spines['bottom'].set_position(('axes', 0))\n",
    "plt.xscale('log')\n",
    "plt.grid(which='both')"
   ]
  },
  {
   "cell_type": "markdown",
   "metadata": {},
   "source": [
    "## Paralelo\n",
    "\n",
    "Cuando dos sistemas LTI comparten la misma entrada y sus salidas se combinan, están conectados en paralelo.\n",
    "\n",
    "Cuando dos sistemas LTI $H_1$ y $H_2$ están interconectados de manera que tienen la misma entrada y sus salidas se combinan, esta es la conexión en **Paralelo** .\n",
    "\n",
    "Suponga que:\n",
    "- La respuesta impulsional de $H_1$ es $h_1(t)$.\n",
    "- La respuesta impulsional de $H_2$ es $h_2(t)$.\n",
    "- La conexión paralela se excita con una señal $x(t)$.\n",
    "\n",
    "La salida de $H_1$ es entonces $x(t)*h_1(t)$. La salida de $H_2$ es entonces $x(t)*h_2(t)$. La salida de la conexión paralela es:\n",
    "\n",
    "\\begin{equation}\n",
    "y(t) = h_1(t) * x(t) + h_2(t) * x(t)\n",
    "\\end{equation}\n",
    "\n",
    "En el dominio de Laplace, la combinación anterior se transforma en:\n",
    "\n",
    "\\begin{equation}\n",
    "Y(s) = \\underbrace{\\left( H_1(s) + H_2(s)  \\right)}_{H(s)} \\cdot X(s)\n",
    "\\end{equation}\n",
    "\n",
    "Así, los dos sistemas en paralelo tienen una equivalencia $H(s) = H_1(s) + H_2(s)$.\n",
    "\n",
    "![Parallel connection of two systems](figuras/parallel.png)\n",
    "\n",
    "Si se tienen $N$ sistemas conectados en paralelo, el modelo equivalente está dado por la suma de las respectivas funciones de transferencia.\n",
    "\n",
    "\\begin{equation}\n",
    "H(s) = \\sum_{n=1}^{N} H_n(s)\n",
    "\\end{equation}\n"
   ]
  },
  {
   "cell_type": "markdown",
   "metadata": {},
   "source": [
    "## Realimentación\n",
    "\n",
    "En algunos casos, parte de la señal de salida de $H_1$ es devuelta a su entrada a través de otro sistema $H_2$. Esta conexión es llamada **realimentación**.\n",
    "\n",
    "La salida $y(t)$ está dada por:\n",
    "\n",
    "\\begin{equation}\n",
    "y(t) = (x(t) + y(t) * h_2(t)) * h_1(t)\n",
    "\\end{equation}\n",
    "\n",
    "![Realimentacion](figuras/feedback.png)\n",
    "\n",
    "En el dominio de Laplace, la expresión se transforma en:\n",
    "\n",
    "\\begin{equation}\n",
    "y(t) = (x(t) + y(t) * h_2(t)) * h_1(t)\n",
    "\\end{equation}\n",
    "\n",
    "\\begin{equation}\n",
    "Y(s) = (X(s) + Y(s) \\cdot H_2(s)) \\cdot H_1(s)\n",
    "\\end{equation}\n",
    "\n",
    "\\begin{equation}\n",
    "Y(s) = X(s) \\cdot H_1(s) + Y(s) \\cdot H_2(s) \\cdot H_1(s)\n",
    "\\end{equation}\n",
    "\n",
    "\\begin{equation}\n",
    "Y(s) -  Y(s) \\cdot H_2(s) \\cdot H_1(s) = X(s) \\cdot H_1(s)\n",
    "\\end{equation}\n",
    "\n",
    "\\begin{equation}\n",
    "Y(s) \\cdot (1 -  H_2(s) \\cdot H_1(s)) = X(s) \\cdot H_1(s)\n",
    "\\end{equation}\n",
    "\n",
    "\\begin{equation}\n",
    "Y(s) = \\frac{H_1(s)}{1 - H_1(s) \\cdot H_2(s)} \\cdot X(s)\n",
    "\\end{equation}\n",
    "\n",
    "\n",
    "La equivalencia es\n",
    "\n",
    "\\begin{equation}\n",
    "H(s) = \\frac{H_1(s)}{1 - H_1(s) \\cdot H_2(s)}\n",
    "\\end{equation}\n",
    "\n",
    "Si la realimentación es negativa, la equivalencia es:\n",
    "\n",
    "\\begin{equation}\n",
    "H(s) = \\frac{H_1(s)}{1 + H_1(s) \\cdot H_2(s)}\n",
    "\\end{equation}\n"
   ]
  },
  {
   "cell_type": "markdown",
   "metadata": {},
   "source": [
    "## Álgebra de bloques\n",
    "\n",
    "Cuando hay varios subsistemas interactuando entre sí, se modelan por separado y se identifican las conexiones entre ellos. Para encontrar equivalencias deben reducirse el sistema a una sola expresión con las siguientes normas.\n",
    "\n",
    "![Álgebra de bloques](algebra_bloques.png)\n",
    "\n",
    "**Ejemplo**\n",
    "\n",
    "![Ejemplo de bloques](ejercicio_bloques.jpg)\n"
   ]
  },
  {
   "cell_type": "markdown",
   "metadata": {},
   "source": [
    "## Ejercicio para entregar el 7 de Junio\n",
    "\n",
    "Reducir el siguiente diagrama.  Realice el ejercicio en papel y suba fotografías como evidencia.\n",
    "\n",
    "<img src=\"figuras/ejercicio2_bloques.png\" width=\"500\">"
   ]
  },
  {
   "cell_type": "markdown",
   "metadata": {},
   "source": [
    "## Próxima sesión\n",
    "\n",
    "Transformada Z"
   ]
  }
 ],
 "metadata": {
  "kernelspec": {
   "display_name": "Python 3",
   "language": "python",
   "name": "python3"
  },
  "language_info": {
   "codemirror_mode": {
    "name": "ipython",
    "version": 3
   },
   "file_extension": ".py",
   "mimetype": "text/x-python",
   "name": "python",
   "nbconvert_exporter": "python",
   "pygments_lexer": "ipython3",
   "version": "3.7.3"
  },
  "latex_envs": {
   "bibliofile": "biblio.bib",
   "cite_by": "apalike",
   "current_citInitial": 1,
   "eqLabelWithNumbers": true,
   "eqNumInitial": 0
  }
 },
 "nbformat": 4,
 "nbformat_minor": 4
}
