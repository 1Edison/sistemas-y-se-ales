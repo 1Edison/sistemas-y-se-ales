{
 "cells": [
  {
   "cell_type": "markdown",
   "id": "37d272de",
   "metadata": {},
   "source": [
    "# Patrones temporales en la cantidad de manchas solares\n",
    "\n",
    "La superficie del Sol no es uniforme y ciertas regiones oscuras aparecen en posiciones aleatorias a lo largo del tiempo. Rudolf Wolfer propuso en 1848 una regla que combinaba el número y el tamaño de estas manchas solares en un único índice. Usando archivos históricos, los astrónomos aplicaron la regla de Wolfer para determinar la actividad de las manchas solares desde el año 1700.\n",
    "\n",
    "Puede explorar la información disponible [Aquí](http://sidc.oma.be/sunspot-data/). Encotrará datos cuantificados de las manchas solares en archivos ASCII.\n",
    "\n",
    "Desde el enlace yearly sunspot number se ha descargado el fichero yearssn.dat que contiene los datos del número de manchas solares desde el año 1700 hasta el año 2012. Alternativamente, se puede descargar en este enlace yearssn.dat. Una porción del largo fichero es el siguiente:"
   ]
  },
  {
   "cell_type": "code",
   "execution_count": 1,
   "id": "d6d5f31b",
   "metadata": {},
   "outputs": [],
   "source": [
    "import pandas as pd\n",
    "import numpy as np\n",
    "import sympy as sym\n",
    "import matplotlib.pyplot as plt\n",
    "%matplotlib inline\n",
    "sym.init_printing()\n",
    "\n",
    "import scipy as sci\n",
    "import scipy.signal as sig\n",
    "from scipy.fftpack import fft,ifft"
   ]
  },
  {
   "cell_type": "code",
   "execution_count": 2,
   "id": "ee16661f",
   "metadata": {},
   "outputs": [
    {
     "data": {
      "text/html": [
       "<div>\n",
       "<style scoped>\n",
       "    .dataframe tbody tr th:only-of-type {\n",
       "        vertical-align: middle;\n",
       "    }\n",
       "\n",
       "    .dataframe tbody tr th {\n",
       "        vertical-align: top;\n",
       "    }\n",
       "\n",
       "    .dataframe thead th {\n",
       "        text-align: right;\n",
       "    }\n",
       "</style>\n",
       "<table border=\"1\" class=\"dataframe\">\n",
       "  <thead>\n",
       "    <tr style=\"text-align: right;\">\n",
       "      <th></th>\n",
       "      <th>Fecha</th>\n",
       "      <th>NumManchas</th>\n",
       "      <th>DesvEst</th>\n",
       "      <th>NumObs</th>\n",
       "      <th>Def/Prov</th>\n",
       "    </tr>\n",
       "  </thead>\n",
       "  <tbody>\n",
       "    <tr>\n",
       "      <th>0</th>\n",
       "      <td>1700.5</td>\n",
       "      <td>8.3</td>\n",
       "      <td>-1.0</td>\n",
       "      <td>-1</td>\n",
       "      <td>1</td>\n",
       "    </tr>\n",
       "    <tr>\n",
       "      <th>1</th>\n",
       "      <td>1701.5</td>\n",
       "      <td>18.3</td>\n",
       "      <td>-1.0</td>\n",
       "      <td>-1</td>\n",
       "      <td>1</td>\n",
       "    </tr>\n",
       "    <tr>\n",
       "      <th>2</th>\n",
       "      <td>1702.5</td>\n",
       "      <td>26.7</td>\n",
       "      <td>-1.0</td>\n",
       "      <td>-1</td>\n",
       "      <td>1</td>\n",
       "    </tr>\n",
       "    <tr>\n",
       "      <th>3</th>\n",
       "      <td>1703.5</td>\n",
       "      <td>38.3</td>\n",
       "      <td>-1.0</td>\n",
       "      <td>-1</td>\n",
       "      <td>1</td>\n",
       "    </tr>\n",
       "    <tr>\n",
       "      <th>4</th>\n",
       "      <td>1704.5</td>\n",
       "      <td>60.0</td>\n",
       "      <td>-1.0</td>\n",
       "      <td>-1</td>\n",
       "      <td>1</td>\n",
       "    </tr>\n",
       "    <tr>\n",
       "      <th>...</th>\n",
       "      <td>...</td>\n",
       "      <td>...</td>\n",
       "      <td>...</td>\n",
       "      <td>...</td>\n",
       "      <td>...</td>\n",
       "    </tr>\n",
       "    <tr>\n",
       "      <th>317</th>\n",
       "      <td>2017.5</td>\n",
       "      <td>21.7</td>\n",
       "      <td>2.5</td>\n",
       "      <td>11444</td>\n",
       "      <td>1</td>\n",
       "    </tr>\n",
       "    <tr>\n",
       "      <th>318</th>\n",
       "      <td>2018.5</td>\n",
       "      <td>7.0</td>\n",
       "      <td>1.1</td>\n",
       "      <td>12611</td>\n",
       "      <td>1</td>\n",
       "    </tr>\n",
       "    <tr>\n",
       "      <th>319</th>\n",
       "      <td>2019.5</td>\n",
       "      <td>3.6</td>\n",
       "      <td>0.5</td>\n",
       "      <td>12884</td>\n",
       "      <td>1</td>\n",
       "    </tr>\n",
       "    <tr>\n",
       "      <th>320</th>\n",
       "      <td>2020.5</td>\n",
       "      <td>8.8</td>\n",
       "      <td>4.1</td>\n",
       "      <td>14440</td>\n",
       "      <td>1</td>\n",
       "    </tr>\n",
       "    <tr>\n",
       "      <th>321</th>\n",
       "      <td>2021.5</td>\n",
       "      <td>29.7</td>\n",
       "      <td>7.7</td>\n",
       "      <td>14721</td>\n",
       "      <td>0</td>\n",
       "    </tr>\n",
       "  </tbody>\n",
       "</table>\n",
       "<p>322 rows × 5 columns</p>\n",
       "</div>"
      ],
      "text/plain": [
       "      Fecha  NumManchas  DesvEst  NumObs  Def/Prov\n",
       "0    1700.5         8.3     -1.0      -1         1\n",
       "1    1701.5        18.3     -1.0      -1         1\n",
       "2    1702.5        26.7     -1.0      -1         1\n",
       "3    1703.5        38.3     -1.0      -1         1\n",
       "4    1704.5        60.0     -1.0      -1         1\n",
       "..      ...         ...      ...     ...       ...\n",
       "317  2017.5        21.7      2.5   11444         1\n",
       "318  2018.5         7.0      1.1   12611         1\n",
       "319  2019.5         3.6      0.5   12884         1\n",
       "320  2020.5         8.8      4.1   14440         1\n",
       "321  2021.5        29.7      7.7   14721         0\n",
       "\n",
       "[322 rows x 5 columns]"
      ]
     },
     "execution_count": 2,
     "metadata": {},
     "output_type": "execute_result"
    }
   ],
   "source": [
    "datos = pd.read_csv('https://wwwbis.sidc.be/silso/INFO/snytotcsv.php',\n",
    "                    header = None,sep = \";\")\n",
    "datos.columns=['Fecha',\n",
    "               'NumManchas',\n",
    "               'DesvEst',\n",
    "               'NumObs',\n",
    "               'Def/Prov']\n",
    "datos"
   ]
  },
  {
   "cell_type": "markdown",
   "id": "670e5b22",
   "metadata": {},
   "source": [
    "Se grafica la cantidad de manchas para cada año."
   ]
  },
  {
   "cell_type": "code",
   "execution_count": 3,
   "id": "e7374180",
   "metadata": {},
   "outputs": [
    {
     "name": "stderr",
     "output_type": "stream",
     "text": [
      "C:\\Users\\Usuario\\.conda\\envs\\SistDin\\lib\\site-packages\\ipykernel_launcher.py:4: UserWarning: In Matplotlib 3.3 individual lines on a stem plot will be added as a LineCollection instead of individual lines. This significantly improves the performance of a stem plot. To remove this warning and switch to the new behaviour, set the \"use_line_collection\" keyword argument to True.\n",
      "  after removing the cwd from sys.path.\n"
     ]
    },
    {
     "data": {
      "image/png": "[encoded data removed]",
      "text/plain": [
       "<Figure size 648x216 with 1 Axes>"
      ]
     },
     "metadata": {
      "needs_background": "light"
     },
     "output_type": "display_data"
    }
   ],
   "source": [
    "x = datos[\"NumManchas\"]\n",
    "t = datos[\"Fecha\"]\n",
    "plt.rcParams['figure.figsize'] = 9, 3\n",
    "plt.stem(t,x)\n",
    "plt.grid()"
   ]
  },
  {
   "cell_type": "markdown",
   "id": "67dcd641",
   "metadata": {},
   "source": [
    "Se desea identificar si hay algún patrón en este comportamiento.\n"
   ]
  },
  {
   "cell_type": "markdown",
   "id": "5bb98f59",
   "metadata": {},
   "source": [
    "- Como hay datos cada año, se considera que el periodo de muestreo es $T_s = 1 año$, es decir, la frecuencia de muestreo es $f_s = 1 muestra/año$"
   ]
  },
  {
   "cell_type": "code",
   "execution_count": 4,
   "id": "2e888b9d",
   "metadata": {},
   "outputs": [
    {
     "data": {
      "text/plain": [
       "array([ 2.52337000e+04+0.00000000e+00j, -7.13382383e+01+1.11742330e+03j,\n",
       "       -1.69793331e+03+1.22311041e+03j, -4.14618285e+03+2.35973189e+02j,\n",
       "        1.30139288e+03+6.64746754e+02j, -1.27479850e+03-1.54930120e+03j,\n",
       "       -2.56433137e+03+1.08897754e+03j, -4.07561717e+02+8.88046232e+02j,\n",
       "        2.19759404e+02-7.30238063e+02j,  3.87404843e+02+1.62875483e+02j,\n",
       "        5.08580305e+02+2.27063510e+02j,  6.03905754e+01+8.94222344e+02j,\n",
       "        1.47415640e+02-8.53827542e+02j, -4.62379988e+02+2.68943840e+02j,\n",
       "        9.94015908e+01-3.38336436e+02j,  1.31561549e+03-4.47807633e+02j,\n",
       "       -2.54081706e+02+1.12576493e+02j,  1.37615471e+02+6.86718424e+02j,\n",
       "       -4.21111551e+02-3.19591672e+01j,  4.38464175e+02-5.65203725e+02j,\n",
       "       -7.98568509e+02-9.99412884e+01j, -5.07441075e+02+9.62358528e+02j,\n",
       "        9.34050046e+01-6.72526879e+02j, -1.51872726e+03-1.52656743e+02j,\n",
       "       -4.48539493e+02+5.56358038e+02j,  1.05433657e+03-7.76085150e+02j,\n",
       "        1.94379164e+02-8.57189241e+02j, -3.35898956e+03-2.16648037e+03j,\n",
       "        1.00905297e+03-7.05322146e+02j, -4.51046680e+03-5.14298067e+03j,\n",
       "        3.13368818e+03-1.53778036e+03j,  1.00221254e+03+3.11117967e+03j,\n",
       "        1.03937797e+03+5.46404411e+03j,  2.89513371e+02-6.79739328e+02j,\n",
       "        8.38624523e+01-1.27663285e+03j, -2.07613666e+02+1.07803512e+03j,\n",
       "       -5.54384654e+02+8.05090854e+02j,  7.03365433e+02-5.96362831e+02j,\n",
       "       -1.06238739e+02-2.36525822e+03j, -1.01625438e+03-2.22835524e+02j,\n",
       "        1.38028391e+03+8.47016003e+02j,  1.82331867e+02+7.17944913e+02j,\n",
       "       -8.79441932e+00-2.98755155e+02j, -9.56518008e+02+2.71807565e+02j,\n",
       "        3.05026202e+01+5.22917705e+02j,  7.06296330e+02-1.09163372e+02j,\n",
       "       -2.93568358e+02+1.79871468e+02j,  3.15758853e+02+3.78709441e+02j,\n",
       "       -4.48421878e+02+1.03344866e+02j,  2.02027349e+02+1.36913349e+02j,\n",
       "        1.52433743e+01+3.91532514e+02j, -2.88872185e+02+1.25368386e+02j,\n",
       "       -8.06685159e+00+1.47476553e+02j, -1.79307505e+02-2.77542707e+02j,\n",
       "       -4.19196018e+02+5.01621599e+02j,  3.45292738e+02-2.44604126e+02j,\n",
       "       -6.20853010e+02+9.92875421e+02j,  1.62340755e+02-3.61237260e+02j,\n",
       "       -8.67690664e+01+4.00753834e+02j,  9.04407952e+02-9.44410291e+02j,\n",
       "        4.10594492e+02+8.98803241e+01j,  6.90144133e+02+5.48672095e+02j,\n",
       "       -2.11859983e+02+2.15224471e+02j, -3.93501020e+02-4.70082117e+02j,\n",
       "       -2.22996768e+02-3.07334669e+02j, -3.49932194e+01+4.20263708e+02j,\n",
       "        1.32643223e+02+4.00618872e+02j, -1.69355595e+02-7.56060512e+02j,\n",
       "       -5.50644444e+01+2.63460406e+01j,  5.25810591e+01+4.38184037e+02j,\n",
       "        3.09997751e+02+4.32405970e+02j,  3.96633859e+01-1.39724820e+02j,\n",
       "       -2.54311911e+02-5.31900088e+01j,  1.05722482e+02+2.03428878e+02j,\n",
       "        4.14987356e+02-7.22706094e+01j,  2.98804377e+01-4.25848766e+02j,\n",
       "       -8.62532918e+01-3.94059520e+02j, -2.18763130e+02+1.52471938e+02j,\n",
       "        1.14330103e+02+2.38518190e+02j, -1.72070449e+01-3.86430107e+02j,\n",
       "        1.22190071e+02+5.77920964e-01j, -3.36176270e+02-1.44422966e+02j,\n",
       "        1.72887479e+02+1.42692416e+02j,  3.72755762e+02+1.57377769e+01j,\n",
       "       -4.98970783e+01-1.90325770e+01j,  2.66626629e+01+4.91051586e+01j,\n",
       "       -1.22788477e+02-2.81153523e+02j,  1.18141376e+02-5.77125978e+01j,\n",
       "       -3.68977256e+02-5.25138256e+01j,  1.95880850e+02+3.24124245e+02j,\n",
       "       -1.16859765e+02+2.19405571e+02j, -2.77848024e+01+1.17526011e+02j,\n",
       "       -1.04593223e+02-2.15325686e+02j,  1.40585355e+01-2.22662620e+02j,\n",
       "        4.64203200e+01+3.06731016e+02j,  2.83157458e+01-2.12236012e+01j,\n",
       "       -2.28876831e+00-1.21655962e+02j, -1.15818781e+00-3.44683818e+01j,\n",
       "       -8.86927354e+00+1.59801696e+02j, -2.08068783e+01+3.53967136e+02j,\n",
       "       -2.30790337e+02+1.16105856e+02j, -4.90276165e+02-1.57840803e+02j,\n",
       "       -2.20945092e+02-7.57724419e+01j, -1.64394621e+02+1.37285642e+02j,\n",
       "        2.27772516e+02+9.63484630e+01j, -1.22733937e+02-5.57763000e+01j,\n",
       "        8.88545480e+00+5.06191320e+01j, -3.80403268e+01+3.04780771e+01j,\n",
       "       -2.40965625e+01+2.11620084e+01j, -1.26701048e+02-1.52235820e+02j,\n",
       "       -1.61515064e+02+3.56842090e+01j,  1.89045829e+02+2.33887888e+01j,\n",
       "       -5.37473869e+01-1.83484409e+02j, -9.66903291e+01-1.52397275e+02j,\n",
       "       -6.70105159e+01+2.06233402e+01j, -3.01538040e+01+3.74329298e+02j,\n",
       "        1.48229410e+02-1.03973834e+02j,  2.16318004e+02+3.59823103e+01j,\n",
       "        3.63626707e+01-3.75479472e+01j, -6.18375228e+00+1.99030567e+02j,\n",
       "        3.16694111e+01+1.01749875e+02j, -1.36723425e+02+9.55822768e+01j,\n",
       "       -6.73481944e+01-1.04453093e+02j,  1.64325387e+02+8.38747607e+00j,\n",
       "       -2.05063387e+01+5.93730679e+01j, -2.61405682e+01+8.05730518e+01j,\n",
       "        1.55193665e+01-4.97991427e+01j,  1.69770204e+02+6.27238612e+01j,\n",
       "       -1.25623094e+01+1.38662027e+01j,  1.33604758e+02+2.32649498e+02j,\n",
       "       -1.21024307e+02+2.07730320e+02j, -6.71735275e+01-1.03773018e+02j,\n",
       "       -3.14361535e+01-1.83818086e+01j, -1.10238868e+02+1.27183388e+02j,\n",
       "        8.32598643e+01-5.31803716e+01j,  2.07528885e+02-1.29051875e+02j,\n",
       "        1.38237938e+02+8.82715052e+01j, -3.66869631e+00-1.05390596e+02j,\n",
       "       -1.58038419e+02+1.56891902e+02j, -4.12962232e+02+1.62797477e+01j,\n",
       "       -8.01592930e+01-1.56977664e+02j,  3.07026671e+01-5.56215786e+01j,\n",
       "        5.17441979e+01+1.04380548e+02j,  3.56405431e+01-1.60602644e+01j,\n",
       "        1.44813370e+02-2.54989578e+02j, -1.99672571e+01-1.52616563e+02j,\n",
       "        6.64649209e+01-8.84958533e+01j, -4.42553797e+01+8.75528001e+01j,\n",
       "        1.62786909e+02-2.14487122e+01j, -1.50738188e+02+1.93783677e+01j,\n",
       "       -1.10046046e+02-1.26974208e+02j, -5.24089187e+01+2.74134215e+02j,\n",
       "       -2.45869477e+02-1.25389264e+02j,  3.93633386e+01-5.56768057e+01j,\n",
       "        7.92987831e+01-1.95655807e+02j, -1.23588377e+01+8.88443300e+01j,\n",
       "       -9.95070877e+01-1.28770306e+02j, -2.17627278e+01+1.99727566e+02j,\n",
       "       -2.36157552e+02-9.93962959e+01j,  8.49901296e+01-1.31410219e+02j,\n",
       "       -4.64617640e+01+9.78145178e+01j, -5.17000000e+01+0.00000000e+00j,\n",
       "       -4.64617640e+01-9.78145178e+01j,  8.49901296e+01+1.31410219e+02j,\n",
       "       -2.36157552e+02+9.93962959e+01j, -2.17627278e+01-1.99727566e+02j,\n",
       "       -9.95070877e+01+1.28770306e+02j, -1.23588377e+01-8.88443300e+01j,\n",
       "        7.92987831e+01+1.95655807e+02j,  3.93633386e+01+5.56768057e+01j,\n",
       "       -2.45869477e+02+1.25389264e+02j, -5.24089187e+01-2.74134215e+02j,\n",
       "       -1.10046046e+02+1.26974208e+02j, -1.50738188e+02-1.93783677e+01j,\n",
       "        1.62786909e+02+2.14487122e+01j, -4.42553797e+01-8.75528001e+01j,\n",
       "        6.64649209e+01+8.84958533e+01j, -1.99672571e+01+1.52616563e+02j,\n",
       "        1.44813370e+02+2.54989578e+02j,  3.56405431e+01+1.60602644e+01j,\n",
       "        5.17441979e+01-1.04380548e+02j,  3.07026671e+01+5.56215786e+01j,\n",
       "       -8.01592930e+01+1.56977664e+02j, -4.12962232e+02-1.62797477e+01j,\n",
       "       -1.58038419e+02-1.56891902e+02j, -3.66869631e+00+1.05390596e+02j,\n",
       "        1.38237938e+02-8.82715052e+01j,  2.07528885e+02+1.29051875e+02j,\n",
       "        8.32598643e+01+5.31803716e+01j, -1.10238868e+02-1.27183388e+02j,\n",
       "       -3.14361535e+01+1.83818086e+01j, -6.71735275e+01+1.03773018e+02j,\n",
       "       -1.21024307e+02-2.07730320e+02j,  1.33604758e+02-2.32649498e+02j,\n",
       "       -1.25623094e+01-1.38662027e+01j,  1.69770204e+02-6.27238612e+01j,\n",
       "        1.55193665e+01+4.97991427e+01j, -2.61405682e+01-8.05730518e+01j,\n",
       "       -2.05063387e+01-5.93730679e+01j,  1.64325387e+02-8.38747607e+00j,\n",
       "       -6.73481944e+01+1.04453093e+02j, -1.36723425e+02-9.55822768e+01j,\n",
       "        3.16694111e+01-1.01749875e+02j, -6.18375228e+00-1.99030567e+02j,\n",
       "        3.63626707e+01+3.75479472e+01j,  2.16318004e+02-3.59823103e+01j,\n",
       "        1.48229410e+02+1.03973834e+02j, -3.01538040e+01-3.74329298e+02j,\n",
       "       -6.70105159e+01-2.06233402e+01j, -9.66903291e+01+1.52397275e+02j,\n",
       "       -5.37473869e+01+1.83484409e+02j,  1.89045829e+02-2.33887888e+01j,\n",
       "       -1.61515064e+02-3.56842090e+01j, -1.26701048e+02+1.52235820e+02j,\n",
       "       -2.40965625e+01-2.11620084e+01j, -3.80403268e+01-3.04780771e+01j,\n",
       "        8.88545480e+00-5.06191320e+01j, -1.22733937e+02+5.57763000e+01j,\n",
       "        2.27772516e+02-9.63484630e+01j, -1.64394621e+02-1.37285642e+02j,\n",
       "       -2.20945092e+02+7.57724419e+01j, -4.90276165e+02+1.57840803e+02j,\n",
       "       -2.30790337e+02-1.16105856e+02j, -2.08068783e+01-3.53967136e+02j,\n",
       "       -8.86927354e+00-1.59801696e+02j, -1.15818781e+00+3.44683818e+01j,\n",
       "       -2.28876831e+00+1.21655962e+02j,  2.83157458e+01+2.12236012e+01j,\n",
       "        4.64203200e+01-3.06731016e+02j,  1.40585355e+01+2.22662620e+02j,\n",
       "       -1.04593223e+02+2.15325686e+02j, -2.77848024e+01-1.17526011e+02j,\n",
       "       -1.16859765e+02-2.19405571e+02j,  1.95880850e+02-3.24124245e+02j,\n",
       "       -3.68977256e+02+5.25138256e+01j,  1.18141376e+02+5.77125978e+01j,\n",
       "       -1.22788477e+02+2.81153523e+02j,  2.66626629e+01-4.91051586e+01j,\n",
       "       -4.98970783e+01+1.90325770e+01j,  3.72755762e+02-1.57377769e+01j,\n",
       "        1.72887479e+02-1.42692416e+02j, -3.36176270e+02+1.44422966e+02j,\n",
       "        1.22190071e+02-5.77920964e-01j, -1.72070449e+01+3.86430107e+02j,\n",
       "        1.14330103e+02-2.38518190e+02j, -2.18763130e+02-1.52471938e+02j,\n",
       "       -8.62532918e+01+3.94059520e+02j,  2.98804377e+01+4.25848766e+02j,\n",
       "        4.14987356e+02+7.22706094e+01j,  1.05722482e+02-2.03428878e+02j,\n",
       "       -2.54311911e+02+5.31900088e+01j,  3.96633859e+01+1.39724820e+02j,\n",
       "        3.09997751e+02-4.32405970e+02j,  5.25810591e+01-4.38184037e+02j,\n",
       "       -5.50644444e+01-2.63460406e+01j, -1.69355595e+02+7.56060512e+02j,\n",
       "        1.32643223e+02-4.00618872e+02j, -3.49932194e+01-4.20263708e+02j,\n",
       "       -2.22996768e+02+3.07334669e+02j, -3.93501020e+02+4.70082117e+02j,\n",
       "       -2.11859983e+02-2.15224471e+02j,  6.90144133e+02-5.48672095e+02j,\n",
       "        4.10594492e+02-8.98803241e+01j,  9.04407952e+02+9.44410291e+02j,\n",
       "       -8.67690664e+01-4.00753834e+02j,  1.62340755e+02+3.61237260e+02j,\n",
       "       -6.20853010e+02-9.92875421e+02j,  3.45292738e+02+2.44604126e+02j,\n",
       "       -4.19196018e+02-5.01621599e+02j, -1.79307505e+02+2.77542707e+02j,\n",
       "       -8.06685159e+00-1.47476553e+02j, -2.88872185e+02-1.25368386e+02j,\n",
       "        1.52433743e+01-3.91532514e+02j,  2.02027349e+02-1.36913349e+02j,\n",
       "       -4.48421878e+02-1.03344866e+02j,  3.15758853e+02-3.78709441e+02j,\n",
       "       -2.93568358e+02-1.79871468e+02j,  7.06296330e+02+1.09163372e+02j,\n",
       "        3.05026202e+01-5.22917705e+02j, -9.56518008e+02-2.71807565e+02j,\n",
       "       -8.79441932e+00+2.98755155e+02j,  1.82331867e+02-7.17944913e+02j,\n",
       "        1.38028391e+03-8.47016003e+02j, -1.01625438e+03+2.22835524e+02j,\n",
       "       -1.06238739e+02+2.36525822e+03j,  7.03365433e+02+5.96362831e+02j,\n",
       "       -5.54384654e+02-8.05090854e+02j, -2.07613666e+02-1.07803512e+03j,\n",
       "        8.38624523e+01+1.27663285e+03j,  2.89513371e+02+6.79739328e+02j,\n",
       "        1.03937797e+03-5.46404411e+03j,  1.00221254e+03-3.11117967e+03j,\n",
       "        3.13368818e+03+1.53778036e+03j, -4.51046680e+03+5.14298067e+03j,\n",
       "        1.00905297e+03+7.05322146e+02j, -3.35898956e+03+2.16648037e+03j,\n",
       "        1.94379164e+02+8.57189241e+02j,  1.05433657e+03+7.76085150e+02j,\n",
       "       -4.48539493e+02-5.56358038e+02j, -1.51872726e+03+1.52656743e+02j,\n",
       "        9.34050046e+01+6.72526879e+02j, -5.07441075e+02-9.62358528e+02j,\n",
       "       -7.98568509e+02+9.99412884e+01j,  4.38464175e+02+5.65203725e+02j,\n",
       "       -4.21111551e+02+3.19591672e+01j,  1.37615471e+02-6.86718424e+02j,\n",
       "       -2.54081706e+02-1.12576493e+02j,  1.31561549e+03+4.47807633e+02j,\n",
       "        9.94015908e+01+3.38336436e+02j, -4.62379988e+02-2.68943840e+02j,\n",
       "        1.47415640e+02+8.53827542e+02j,  6.03905754e+01-8.94222344e+02j,\n",
       "        5.08580305e+02-2.27063510e+02j,  3.87404843e+02-1.62875483e+02j,\n",
       "        2.19759404e+02+7.30238063e+02j, -4.07561717e+02-8.88046232e+02j,\n",
       "       -2.56433137e+03-1.08897754e+03j, -1.27479850e+03+1.54930120e+03j,\n",
       "        1.30139288e+03-6.64746754e+02j, -4.14618285e+03-2.35973189e+02j,\n",
       "       -1.69793331e+03-1.22311041e+03j, -7.13382383e+01-1.11742330e+03j])"
      ]
     },
     "execution_count": 4,
     "metadata": {},
     "output_type": "execute_result"
    }
   ],
   "source": [
    "nel = len(x) # número de muestras en x\n",
    "fs = 1 # frecuencia de muestreo\n",
    "f = np.linspace(0,fs*(1-(1/nel)),nel)#Vector de frecuencias\n",
    "\n",
    "X_fft = fft(x) # calculate fourier transform (complex numbers list)\n",
    "X_fft"
   ]
  },
  {
   "cell_type": "markdown",
   "id": "6f3ddbd4",
   "metadata": {},
   "source": [
    "Se obtiene el espectro de la señal a través de la Transformada Rápida de Fourier. Preste atención a las frecuencias."
   ]
  },
  {
   "cell_type": "code",
   "execution_count": 5,
   "id": "41925720",
   "metadata": {},
   "outputs": [
    {
     "data": {
      "image/png": "[encoded data removed]",
      "text/plain": [
       "<Figure size 648x216 with 1 Axes>"
      ]
     },
     "metadata": {
      "needs_background": "light"
     },
     "output_type": "display_data"
    }
   ],
   "source": [
    "plt.figure(figsize=(9,3))\n",
    "plt.plot(np.append(np.append(-fs+f,f),\n",
    "                   f+fs),\n",
    "         np.append(np.append(abs(X_fft),abs(X_fft)),\n",
    "                             abs(X_fft)))\n",
    "plt.xlabel(r'$f$')\n",
    "plt.ylabel(r'$|X(f)|$')\n",
    "plt.grid()"
   ]
  },
  {
   "cell_type": "markdown",
   "id": "b4be5e39",
   "metadata": {},
   "source": [
    "La gráfica anterior muestra tres periodos del espectro. Como los espectros de las señales discretas son periódicos, se analizará solamente para las frecuencias entre $0$ y $0.5$"
   ]
  },
  {
   "cell_type": "code",
   "execution_count": 6,
   "id": "b700660e",
   "metadata": {
    "scrolled": true
   },
   "outputs": [
    {
     "data": {
      "image/png": "[encoded data removed]",
      "text/plain": [
       "<Figure size 648x216 with 1 Axes>"
      ]
     },
     "metadata": {
      "needs_background": "light"
     },
     "output_type": "display_data"
    }
   ],
   "source": [
    "plt.plot(np.append(np.append(-fs+f,f),\n",
    "                   f+fs),\n",
    "         np.append(np.append(abs(X_fft),abs(X_fft)),\n",
    "                             abs(X_fft)))\n",
    "plt.xlim([0,0.5])\n",
    "plt.xlabel(r'$f$')\n",
    "plt.ylabel(r'$|X(f)|$')\n",
    "plt.grid()"
   ]
  },
  {
   "cell_type": "markdown",
   "id": "cf4f489e",
   "metadata": {},
   "source": [
    "En ocasiones es interesante analizar a través de la [densidad espectral](https://es.wikipedia.org/wiki/Densidad_espectral) $P$.\n",
    "\n",
    "$$P(j\\omega) = |\\mathcal{F(x(t)}|^2$$"
   ]
  },
  {
   "cell_type": "code",
   "execution_count": 7,
   "id": "e6ad8000",
   "metadata": {},
   "outputs": [
    {
     "data": {
      "image/png": "[encoded data removed]",
      "text/plain": [
       "<Figure size 648x216 with 1 Axes>"
      ]
     },
     "metadata": {
      "needs_background": "light"
     },
     "output_type": "display_data"
    }
   ],
   "source": [
    "PX = abs(X_fft)\n",
    "\n",
    "plt.plot(np.append(np.append(-fs+f,f),\n",
    "                   f+fs),\n",
    "         np.append(np.append(PX,PX),PX))\n",
    "# plt.xlim([0.0,1])\n",
    "# plt.ylim([0,0.6*10**8])\n",
    "\n",
    "plt.xlabel(r'$f$')\n",
    "plt.ylabel(r'$|X(f)|$')\n",
    "plt.grid()"
   ]
  },
  {
   "cell_type": "markdown",
   "id": "2c3a967d",
   "metadata": {},
   "source": [
    "Según el espectro, hay un comportamiento periódico de frecuencia $f=0.__$, es decir que se repite cada"
   ]
  },
  {
   "cell_type": "code",
   "execution_count": 8,
   "id": "8b7b2365",
   "metadata": {},
   "outputs": [],
   "source": [
    "# f0 = \n",
    "# T = 1/f0\n",
    "# T"
   ]
  },
  {
   "cell_type": "markdown",
   "id": "cc6e1bde",
   "metadata": {},
   "source": [
    "Se espera que cada T años haya un máximo de manchas solares."
   ]
  },
  {
   "cell_type": "markdown",
   "id": "cdefdc72",
   "metadata": {},
   "source": [
    "----------------\n"
   ]
  },
  {
   "cell_type": "markdown",
   "id": "34f231f8",
   "metadata": {},
   "source": [
    "Existe una tendencia más lenta en este fenómeno?"
   ]
  },
  {
   "cell_type": "code",
   "execution_count": 9,
   "id": "36488547",
   "metadata": {},
   "outputs": [
    {
     "name": "stderr",
     "output_type": "stream",
     "text": [
      "C:\\Users\\Usuario\\.conda\\envs\\SistDin\\lib\\site-packages\\ipykernel_launcher.py:4: UserWarning: In Matplotlib 3.3 individual lines on a stem plot will be added as a LineCollection instead of individual lines. This significantly improves the performance of a stem plot. To remove this warning and switch to the new behaviour, set the \"use_line_collection\" keyword argument to True.\n",
      "  after removing the cwd from sys.path.\n",
      "C:\\Users\\Usuario\\.conda\\envs\\SistDin\\lib\\site-packages\\matplotlib\\cbook\\__init__.py:1402: FutureWarning: Support for multi-dimensional indexing (e.g. `obj[:, None]`) is deprecated and will be removed in a future version.  Convert to a numpy array before indexing instead.\n",
      "  x[:, None]\n",
      "C:\\Users\\Usuario\\.conda\\envs\\SistDin\\lib\\site-packages\\matplotlib\\axes\\_base.py:276: FutureWarning: Support for multi-dimensional indexing (e.g. `obj[:, None]`) is deprecated and will be removed in a future version.  Convert to a numpy array before indexing instead.\n",
      "  x = x[:, np.newaxis]\n",
      "C:\\Users\\Usuario\\.conda\\envs\\SistDin\\lib\\site-packages\\matplotlib\\axes\\_base.py:278: FutureWarning: Support for multi-dimensional indexing (e.g. `obj[:, None]`) is deprecated and will be removed in a future version.  Convert to a numpy array before indexing instead.\n",
      "  y = y[:, np.newaxis]\n"
     ]
    },
    {
     "data": {
      "image/png": "[encoded data removed]",
      "text/plain": [
       "<Figure size 648x216 with 1 Axes>"
      ]
     },
     "metadata": {
      "needs_background": "light"
     },
     "output_type": "display_data"
    }
   ],
   "source": [
    "P = np.polyfit(t,x,1)\n",
    "x_trend = P[0]*t+P[1]\n",
    "plt.rcParams['figure.figsize'] = 9, 3\n",
    "plt.stem(t,x)\n",
    "plt.plot(t,x_trend,'r')\n",
    "plt.grid()"
   ]
  },
  {
   "cell_type": "markdown",
   "id": "824f9243",
   "metadata": {},
   "source": [
    "Realice el análisis del fenómeno quitando la tendencia de crecimiento lineal."
   ]
  },
  {
   "cell_type": "code",
   "execution_count": null,
   "id": "8bf57a09",
   "metadata": {},
   "outputs": [],
   "source": []
  }
 ],
 "metadata": {
  "kernelspec": {
   "display_name": "Python 3",
   "language": "python",
   "name": "python3"
  },
  "language_info": {
   "codemirror_mode": {
    "name": "ipython",
    "version": 3
   },
   "file_extension": ".py",
   "mimetype": "text/x-python",
   "name": "python",
   "nbconvert_exporter": "python",
   "pygments_lexer": "ipython3",
   "version": "3.7.3"
  },
  "latex_envs": {
   "bibliofile": "biblio.bib",
   "cite_by": "apalike",
   "current_citInitial": 1,
   "eqLabelWithNumbers": true,
   "eqNumInitial": 0
  }
 },
 "nbformat": 4,
 "nbformat_minor": 5
}
