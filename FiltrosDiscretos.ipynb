{
 "cells": [
  {
   "cell_type": "code",
   "execution_count": 1,
   "id": "ce0c18d7",
   "metadata": {},
   "outputs": [],
   "source": [
    "import sympy as sym\n",
    "import scipy as sci\n",
    "from scipy.signal import cont2discrete, lti, dlti, dstep\n",
    "%matplotlib inline\n",
    "sym.init_printing()\n",
    "from sympy import oo\n",
    "\n",
    "import matplotlib.pyplot as plt\n",
    "from sympy.plotting.plot import MatplotlibBackend\n",
    "\n",
    "\n",
    "\n",
    "\n",
    "s = sym.symbols('s', complex=True)\n",
    "z = sym.symbols('z', complex=True)\n",
    "T = sym.symbols('T', real=True,positive=True)\n",
    "wc = sym.symbols('omega_c', real=True,positive=True)\n"
   ]
  },
  {
   "cell_type": "markdown",
   "id": "817fdf59",
   "metadata": {},
   "source": [
    "# Discretización de un filtro\n",
    "\n",
    "A partir de un filtro diseñado en tiempo CONTINUO se pretende encontrar un fitro en tiempo discreto que se implemente en un sistema microcontrolado."
   ]
  },
  {
   "cell_type": "markdown",
   "id": "17f59d19",
   "metadata": {},
   "source": [
    "## Aproximación de la derivada\n",
    "\n",
    "En tiempo discreto no existe la derivada de una señal, pero puede encontrarse una aproximación a partir de observaciones hacia el pasado, es decir, valores anteriores de la señal. Una aproximación a la derivada es:\n",
    "\n",
    "$$\\frac{dx}{dt}\\bigg \\rvert_{t=kT} \\approx \\frac{x[k]-x[k-1]}{T}$$\n",
    "\n",
    "![figuras/deivadaDiscreta1.png](figuras/deivadaDiscreta1.png)"
   ]
  },
  {
   "cell_type": "markdown",
   "id": "0e0c68c0",
   "metadata": {},
   "source": [
    "Llevando al dominio de las frecuencias se obtiene:\n",
    "\n",
    "\\begin{align}\n",
    "\\frac{dx}{dt}\\bigg \\rvert_{t=kT} &\\approx \\frac{x[k]-x[k-1]}{T}\\\\\n",
    "sX(s) &\\approx \\frac{X(z) - z^{-1}X(z)}{T} \\\\\n",
    "sX(s) &\\approx \\frac{1 - z^{-1}}{T} X(z)\n",
    "\\end{align}\n",
    "\n",
    "Por lo cuál podría usarse la equivalencia $s \\approx (1-z^{-1})/T$ para llevar la función de transferencia a tiempo discreto."
   ]
  },
  {
   "cell_type": "code",
   "execution_count": 2,
   "id": "1fc2ca7d",
   "metadata": {},
   "outputs": [
    {
     "data": {
      "image/png": "[encoded data removed]",
      "text/latex": [
       "$\\displaystyle \\frac{1}{s + 1}$"
      ],
      "text/plain": [
       "  1  \n",
       "─────\n",
       "s + 1"
      ]
     },
     "execution_count": 2,
     "metadata": {},
     "output_type": "execute_result"
    }
   ],
   "source": [
    "H1c = 1/(s+1)\n",
    "H1c"
   ]
  },
  {
   "cell_type": "code",
   "execution_count": 3,
   "id": "2022651e",
   "metadata": {},
   "outputs": [
    {
     "data": {
      "image/png": "[encoded data removed]",
      "text/latex": [
       "$\\displaystyle \\frac{1}{1 + \\frac{1 - \\frac{1}{z}}{T}}$"
      ],
      "text/plain": [
       "    1    \n",
       "─────────\n",
       "        1\n",
       "    1 - ─\n",
       "        z\n",
       "1 + ─────\n",
       "      T  "
      ]
     },
     "execution_count": 3,
     "metadata": {},
     "output_type": "execute_result"
    }
   ],
   "source": [
    "H1d = H1c.subs(s,(1-z**(-1))/T)\n",
    "H1d"
   ]
  },
  {
   "cell_type": "markdown",
   "id": "be0824d1",
   "metadata": {},
   "source": [
    "----------\n",
    "Retomando un filtro diseñado"
   ]
  },
  {
   "cell_type": "code",
   "execution_count": 4,
   "id": "fb9e96fb",
   "metadata": {},
   "outputs": [
    {
     "data": {
      "image/png": "[encoded data removed]",
      "text/plain": [
       "<Figure size 400x400 with 1 Axes>"
      ]
     },
     "metadata": {},
     "output_type": "display_data"
    }
   ],
   "source": [
    "def pole_zero_plot(poles, zeros, ax=None):\n",
    "    mR = -2 #  valor inicial para minimo real\n",
    "    MR = 2  #  valor inicial para maximo real\n",
    "    mI = -2 #  valor inicial para minimo imaginario\n",
    "    MI = 2  #  valor inicial para maximo imaginario\n",
    "    for pole in poles:\n",
    "        plt.plot(complex(pole).real, complex(pole).imag, 'rx', markersize=10)\n",
    "        if complex(pole).real < mR:\n",
    "            mR = complex(pole).real\n",
    "        if complex(pole).real > MR:\n",
    "            MR = complex(pole).real\n",
    "        if complex(pole).imag < mI:\n",
    "            mI = complex(pole).imag\n",
    "        if complex(pole).imag > MI:\n",
    "            MI = complex(pole).imag\n",
    "            \n",
    "    for zero in zeros:\n",
    "        plt.plot(complex(zero).real, complex(zero).imag, 'bo', markersize=10)\n",
    "        if complex(zero).real < mR:\n",
    "            mR = complex(zero).real\n",
    "        if complex(zero).real > MR:\n",
    "            MR = complex(zero).real\n",
    "        if complex(zero).imag < mI:\n",
    "            mI = complex(zero).imag\n",
    "        if complex(zero).imag > MI:\n",
    "            MI = complex(zero).imag\n",
    "\n",
    "            \n",
    "    if ax is None:\n",
    "        ax = plt.gca()\n",
    "    ax.set_aspect(1)\n",
    "    \n",
    "    plt.axis([mR*1.1, MR*1.1, mI*1.1, MI*1.1])\n",
    "    plt.xlabel(r'$\\Re \\{ s \\}$')\n",
    "    plt.ylabel(r'$\\Im \\{ s \\}$')\n",
    "    plt.grid()\n",
    "\n",
    "\n",
    "\n",
    "H_norm = 1/((s+1)*(s**2+s+1))\n",
    "\n",
    "plt.rcParams['figure.figsize'] = 4,4\n",
    "pole_zero_plot(sym.roots(sym.denom(H_norm), s),\n",
    "               sym.roots(sym.numer(H_norm), s))"
   ]
  },
  {
   "cell_type": "code",
   "execution_count": 5,
   "id": "449ce061",
   "metadata": {
    "scrolled": true
   },
   "outputs": [
    {
     "data": {
      "image/png": "[encoded data removed]",
      "text/latex": [
       "$\\displaystyle \\frac{1000000}{\\left(s + 100\\right) \\left(s^{2} + 100 s + 10000\\right)}$"
      ],
      "text/plain": [
       "           1000000            \n",
       "──────────────────────────────\n",
       "          ⎛ 2                ⎞\n",
       "(s + 100)⋅⎝s  + 100⋅s + 10000⎠"
      ]
     },
     "execution_count": 5,
     "metadata": {},
     "output_type": "execute_result"
    }
   ],
   "source": [
    "H = H_norm.subs({s:s/wc}).subs({wc:100})\n",
    "H.simplify().together()"
   ]
  },
  {
   "cell_type": "code",
   "execution_count": 6,
   "id": "131d3b18",
   "metadata": {},
   "outputs": [
    {
     "data": {
      "image/png": "[encoded data removed]",
      "text/plain": [
       "<Figure size 400x400 with 1 Axes>"
      ]
     },
     "metadata": {},
     "output_type": "display_data"
    }
   ],
   "source": [
    "\n",
    "plt.rcParams['figure.figsize'] = 4,4\n",
    "pole_zero_plot(sym.roots(sym.denom(H), s),\n",
    "               sym.roots(sym.numer(H), s))"
   ]
  },
  {
   "cell_type": "code",
   "execution_count": 7,
   "id": "e4a4e78f",
   "metadata": {
    "scrolled": true
   },
   "outputs": [
    {
     "data": {
      "image/png": "[encoded data removed]",
      "text/latex": [
       "$\\displaystyle \\left\\{ -100 : 1, \\  -50 - 50 \\sqrt{3} i : 1, \\  -50 + 50 \\sqrt{3} i : 1\\right\\}$"
      ],
      "text/plain": [
       "{-100: 1, -50 - 50⋅√3⋅ⅈ: 1, -50 + 50⋅√3⋅ⅈ: 1}"
      ]
     },
     "execution_count": 7,
     "metadata": {},
     "output_type": "execute_result"
    }
   ],
   "source": [
    "sym.roots(sym.denom(H))"
   ]
  },
  {
   "cell_type": "code",
   "execution_count": 8,
   "id": "8bd1a941",
   "metadata": {},
   "outputs": [
    {
     "data": {
      "image/png": "[encoded data removed]",
      "text/latex": [
       "$\\displaystyle 100.0$"
      ],
      "text/plain": [
       "100.0"
      ]
     },
     "execution_count": 8,
     "metadata": {},
     "output_type": "execute_result"
    }
   ],
   "source": [
    "import numpy as np\n",
    "np.sqrt(50**2 + (50*np.sqrt(3))**2)"
   ]
  },
  {
   "cell_type": "markdown",
   "id": "1c010944",
   "metadata": {},
   "source": [
    "$\\omega = 2\\pi f$"
   ]
  },
  {
   "cell_type": "markdown",
   "id": "ffbf32c9",
   "metadata": {},
   "source": [
    "$\\omega = 2\\pi \\frac{1}{T}$"
   ]
  },
  {
   "cell_type": "markdown",
   "id": "6c9349e3",
   "metadata": {},
   "source": [
    "$T = 2\\pi \\frac{1}{\\omega}$"
   ]
  },
  {
   "cell_type": "code",
   "execution_count": 9,
   "id": "61f1da7a",
   "metadata": {},
   "outputs": [
    {
     "data": {
      "image/png": "[encoded data removed]",
      "text/latex": [
       "$\\displaystyle \\frac{1000000 T^{3} z^{3}}{\\left(100 T z + z - 1\\right) \\left(10000 T^{2} z^{2} + 100 T z \\left(z - 1\\right) + \\left(z - 1\\right)^{2}\\right)}$"
      ],
      "text/plain": [
       "                                3  3                        \n",
       "                       1000000⋅T ⋅z                         \n",
       "────────────────────────────────────────────────────────────\n",
       "                  ⎛       2  2                            2⎞\n",
       "(100⋅T⋅z + z - 1)⋅⎝10000⋅T ⋅z  + 100⋅T⋅z⋅(z - 1) + (z - 1) ⎠"
      ]
     },
     "execution_count": 9,
     "metadata": {},
     "output_type": "execute_result"
    }
   ],
   "source": [
    "H_d = H.subs(s,(1-z**(-1))/T)\n",
    "H_d.together().simplify()"
   ]
  },
  {
   "cell_type": "markdown",
   "id": "f47e2f94",
   "metadata": {},
   "source": [
    "¿Qué valor es apropiado para $T$?"
   ]
  },
  {
   "cell_type": "code",
   "execution_count": 10,
   "id": "ebee9b42",
   "metadata": {},
   "outputs": [
    {
     "data": {
      "image/png": "[encoded data removed]",
      "text/latex": [
       "$\\displaystyle 0.000628$"
      ],
      "text/plain": [
       "0.000628"
      ]
     },
     "execution_count": 10,
     "metadata": {},
     "output_type": "execute_result"
    }
   ],
   "source": [
    "Ts = 2*3.14/10000\n",
    "Ts"
   ]
  },
  {
   "cell_type": "code",
   "execution_count": 11,
   "id": "5df6972d",
   "metadata": {},
   "outputs": [],
   "source": [
    "Ts = 0.0005"
   ]
  },
  {
   "cell_type": "code",
   "execution_count": 12,
   "id": "e98fdbf2",
   "metadata": {},
   "outputs": [
    {
     "data": {
      "image/png": "[encoded data removed]",
      "text/latex": [
       "$\\displaystyle \\frac{1.0 z^{3}}{8841.0 z^{3} - 25640.0 z^{2} + 24800.0 z - 8000.0}$"
      ],
      "text/plain": [
       "                        3                  \n",
       "                   1.0⋅z                   \n",
       "───────────────────────────────────────────\n",
       "        3            2                     \n",
       "8841.0⋅z  - 25640.0⋅z  + 24800.0⋅z - 8000.0"
      ]
     },
     "execution_count": 12,
     "metadata": {},
     "output_type": "execute_result"
    }
   ],
   "source": [
    "\n",
    "H_d = H_d.subs({T:Ts})\n",
    "H_d.together().simplify()"
   ]
  },
  {
   "cell_type": "markdown",
   "id": "e3d339a9",
   "metadata": {},
   "source": [
    "Esta función de transferencia tiene asociada una ecuación en diferencias.\n",
    "$$\\frac{Y(z)}{X(z)}=\\frac{z^{3}}{8841z^{3}-25640z^{2}+24800z-8000}$$\n"
   ]
  },
  {
   "cell_type": "markdown",
   "id": "6a452782",
   "metadata": {},
   "source": [
    "\n",
    "$$Y(z)(8841z^{3}-25640z^{2}+24800z-8000)=X(z)z^{3} $$\n",
    "\n",
    "$$8841 y[k+3] - 25640 y[k+2] + 24800 y[k+1] + 8000 y[k] = x[k+3]$$\n"
   ]
  },
  {
   "cell_type": "markdown",
   "id": "06c83a03",
   "metadata": {},
   "source": [
    "\n",
    "Si se considera que el instante $k$ es el instante presente, se necesitaría conocer valores futuros de $x$ y de $y$ para calcular el valor present de $y$.\n",
    "\n",
    "La ecuación debe conservar relaciones temporales y puede considerarse que el instante presente es $k+3$. Así, el instante $k+2$ corresponde a un instante anterior al presente.  Teniendo en consideración lo anterior, puede escribirse la ecuación como:\n",
    "\n",
    "$$8441 y[k] - 25640 y[k-1] + 24800 y[k-2] + 8000 y[k-3] = x[k]$$\n",
    "\n",
    "Y se despeja $y[k]$"
   ]
  },
  {
   "cell_type": "markdown",
   "id": "3c901a2e",
   "metadata": {},
   "source": [
    "Esta última ecuación en diferencias se puede programar en un sistema microcontrolado, introduciéndola en un ciclo y completando el periodo de muestreo."
   ]
  },
  {
   "cell_type": "markdown",
   "id": "47777a5c",
   "metadata": {},
   "source": [
    "Existen diversas equivalencias para discretizar sistemas.\n",
    "\n",
    "- ¿Cuál usaría para discretizar el filtro diseñado para la voz soprano?}\n",
    "\n",
    "- Encuentre una versión discreta del filtro diseñado para la voz soprano.\n",
    "\n",
    "- Encuentre los espectros correspondientes a los filtros en tiempo continuo y tiempo discreto.\n",
    "\n",
    "- Use el filtro para transformar un sonido extraido de una ópera."
   ]
  },
  {
   "cell_type": "code",
   "execution_count": 13,
   "id": "2a16fc73",
   "metadata": {},
   "outputs": [
    {
     "data": {
      "image/png": "[encoded data removed]",
      "text/latex": [
       "$\\displaystyle \\frac{1}{\\left(\\frac{s}{100} + 1\\right) \\left(\\frac{s^{2}}{10000} + \\frac{s}{100} + 1\\right)}$"
      ],
      "text/plain": [
       "             1             \n",
       "───────────────────────────\n",
       "          ⎛   2           ⎞\n",
       "⎛ s     ⎞ ⎜  s      s     ⎟\n",
       "⎜─── + 1⎟⋅⎜───── + ─── + 1⎟\n",
       "⎝100    ⎠ ⎝10000   100    ⎠"
      ]
     },
     "execution_count": 13,
     "metadata": {},
     "output_type": "execute_result"
    }
   ],
   "source": [
    "H"
   ]
  },
  {
   "cell_type": "markdown",
   "id": "3d3508d2",
   "metadata": {},
   "source": [
    "s^3 + 200s^2 + 20000s + 1000000"
   ]
  },
  {
   "cell_type": "code",
   "execution_count": 14,
   "id": "f33c727e",
   "metadata": {},
   "outputs": [
    {
     "data": {
      "text/plain": [
       "TransferFunctionContinuous(\n",
       "array([1000000.]),\n",
       "array([1.e+00, 2.e+02, 2.e+04, 1.e+06]),\n",
       "dt: None\n",
       ")"
      ]
     },
     "execution_count": 14,
     "metadata": {},
     "output_type": "execute_result"
    }
   ],
   "source": [
    "# Averigüe como se usa cont2discrete()\n",
    "Hc2 = lti(1000000,[1,200,20000,1000000])\n",
    "Hc2"
   ]
  },
  {
   "cell_type": "code",
   "execution_count": 15,
   "id": "15168ba0",
   "metadata": {},
   "outputs": [
    {
     "data": {
      "image/png": "[encoded data removed]",
      "text/latex": [
       "$\\displaystyle 0.0005$"
      ],
      "text/plain": [
       "0.0005"
      ]
     },
     "execution_count": 15,
     "metadata": {},
     "output_type": "execute_result"
    }
   ],
   "source": [
    "Ts"
   ]
  },
  {
   "cell_type": "code",
   "execution_count": 16,
   "id": "d611331c",
   "metadata": {},
   "outputs": [
    {
     "data": {
      "text/plain": [
       "(array([[ 1.13109377e-04,  0.00000000e+00, -8.88178420e-16,\n",
       "          2.22044605e-16]]),\n",
       " array([ 1.        , -2.90012442,  2.80511254, -0.90487501]),\n",
       " 0.0005)"
      ]
     },
     "execution_count": 16,
     "metadata": {},
     "output_type": "execute_result"
    }
   ],
   "source": [
    "Hd2 = cont2discrete((1000000,[1,200,20000,1000000]),Ts,method='backward_diff')\n",
    "Hd2"
   ]
  },
  {
   "cell_type": "markdown",
   "id": "e75d7b3e",
   "metadata": {},
   "source": [
    "$$\\frac{Y(z)}{X(z)}=\\frac{z^{3}}{8841z^{3}-25640z^{2}+24800z-8000}$$\n"
   ]
  },
  {
   "cell_type": "code",
   "execution_count": 17,
   "id": "e6b00190",
   "metadata": {},
   "outputs": [
    {
     "data": {
      "image/png": "[encoded data removed]",
      "text/latex": [
       "$\\displaystyle 0.000113109376767334$"
      ],
      "text/plain": [
       "0.00011310937676733401"
      ]
     },
     "execution_count": 17,
     "metadata": {},
     "output_type": "execute_result"
    }
   ],
   "source": [
    "1/8841"
   ]
  },
  {
   "cell_type": "code",
   "execution_count": null,
   "id": "6a570ac4",
   "metadata": {},
   "outputs": [],
   "source": []
  }
 ],
 "metadata": {
  "kernelspec": {
   "display_name": "Python 3 (ipykernel)",
   "language": "python",
   "name": "python3"
  },
  "language_info": {
   "codemirror_mode": {
    "name": "ipython",
    "version": 3
   },
   "file_extension": ".py",
   "mimetype": "text/x-python",
   "name": "python",
   "nbconvert_exporter": "python",
   "pygments_lexer": "ipython3",
   "version": "3.10.9"
  },
  "latex_envs": {
   "LaTeX_envs_menu_present": true,
   "autoclose": false,
   "autocomplete": true,
   "bibliofile": "biblio.bib",
   "cite_by": "apalike",
   "current_citInitial": 1,
   "eqLabelWithNumbers": true,
   "eqNumInitial": 0,
   "hotkeys": {
    "equation": "Ctrl-E",
    "itemize": "Ctrl-I"
   },
   "labels_anchors": false,
   "latex_user_defs": false,
   "report_style_numbering": false,
   "user_envs_cfg": false
  },
  "varInspector": {
   "cols": {
    "lenName": 16,
    "lenType": 16,
    "lenVar": 40
   },
   "kernels_config": {
    "python": {
     "delete_cmd_postfix": "",
     "delete_cmd_prefix": "del ",
     "library": "var_list.py",
     "varRefreshCmd": "print(var_dic_list())"
    },
    "r": {
     "delete_cmd_postfix": ") ",
     "delete_cmd_prefix": "rm(",
     "library": "var_list.r",
     "varRefreshCmd": "cat(var_dic_list()) "
    }
   },
   "types_to_exclude": [
    "module",
    "function",
    "builtin_function_or_method",
    "instance",
    "_Feature"
   ],
   "window_display": false
  }
 },
 "nbformat": 4,
 "nbformat_minor": 5
}
