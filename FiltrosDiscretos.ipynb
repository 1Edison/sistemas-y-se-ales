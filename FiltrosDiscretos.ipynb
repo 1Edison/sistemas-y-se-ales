{
 "cells": [
  {
   "cell_type": "code",
   "execution_count": 13,
   "id": "604d5912",
   "metadata": {},
   "outputs": [],
   "source": [
    "import sympy as sym\n",
    "import scipy as sci\n",
    "from scipy.signal import cont2discrete, lti, dlti, dstep\n",
    "%matplotlib inline\n",
    "sym.init_printing()\n",
    "from sympy import oo\n",
    "\n",
    "import matplotlib.pyplot as plt\n",
    "from sympy.plotting.plot import MatplotlibBackend\n",
    "\n",
    "\n",
    "\n",
    "\n",
    "s = sym.symbols('s', complex=True)\n",
    "z = sym.symbols('z', complex=True)\n",
    "T = sym.symbols('T', real=True,positive=True)\n",
    "wc = sym.symbols('omega_c', real=True,positive=True)\n"
   ]
  },
  {
   "cell_type": "markdown",
   "id": "1a3df93c",
   "metadata": {},
   "source": [
    "# Discretización de un filtro\n",
    "\n",
    "A partir de un filtro diseñado en tiempo discreto se pretende encontrar un fitro en tiempo discreto que se implemente en un sistema microcontrolado."
   ]
  },
  {
   "cell_type": "markdown",
   "id": "7ab03a74",
   "metadata": {},
   "source": [
    "## Aproximación de la derivada\n",
    "\n",
    "En tiempo discreto no existe la derivada de una señal, pero puede encontrarse una aproximación a partir de observaciones hacia el pasado, es decir, valores anteriores de la señal. Una aproximación a la derivada es:\n",
    "\n",
    "$$\\frac{dx}{dt}\\bigg \\rvert_{t=kT} \\approx \\frac{x[k]-x[k-1]}{T}$$\n",
    "\n",
    "![figuras/deivadaDiscreta1.png](figuras/deivadaDiscreta1.png)"
   ]
  },
  {
   "cell_type": "markdown",
   "id": "83c4341c",
   "metadata": {},
   "source": [
    "Llevando al dominio de las frecuencias se obtiene:\n",
    "\n",
    "\\begin{align}\n",
    "sX(s) &\\approx \\frac{X(z)}{T} - \\frac{z^{-1}X(z)}{T} \\\\\n",
    "&\\approx \\frac{1 - z^{-1}}{T} X(z)\n",
    "\\end{align}\n",
    "\n",
    "Por lo cuál podría usarse la equivalencia $s \\approx (1-z^{-1})/T$ para llevar la función de transferencia a tiempo discreto."
   ]
  },
  {
   "cell_type": "code",
   "execution_count": 7,
   "id": "b3d033cb",
   "metadata": {},
   "outputs": [
    {
     "data": {
      "image/png": "[encoded data removed]",
      "text/latex": [
       "$\\displaystyle \\frac{1}{s + 1}$"
      ],
      "text/plain": [
       "  1  \n",
       "─────\n",
       "s + 1"
      ]
     },
     "execution_count": 7,
     "metadata": {},
     "output_type": "execute_result"
    }
   ],
   "source": [
    "H1c = 1/(s+1)\n",
    "H1c"
   ]
  },
  {
   "cell_type": "code",
   "execution_count": 8,
   "id": "42fe091a",
   "metadata": {},
   "outputs": [
    {
     "data": {
      "image/png": "[encoded data removed]",
      "text/latex": [
       "$\\displaystyle \\frac{1}{1 + \\frac{1 - \\frac{1}{z}}{T}}$"
      ],
      "text/plain": [
       "    1    \n",
       "─────────\n",
       "        1\n",
       "    1 - ─\n",
       "        z\n",
       "1 + ─────\n",
       "      T  "
      ]
     },
     "execution_count": 8,
     "metadata": {},
     "output_type": "execute_result"
    }
   ],
   "source": [
    "H1d = H1c.subs(s,(1-z**(-1))/T)\n",
    "H1d"
   ]
  },
  {
   "cell_type": "markdown",
   "id": "4313026f",
   "metadata": {},
   "source": [
    "----------\n",
    "Retomando un filtro diseñado"
   ]
  },
  {
   "cell_type": "code",
   "execution_count": 9,
   "id": "5cdcdf07",
   "metadata": {},
   "outputs": [
    {
     "data": {
      "image/png": "[encoded data removed]",
      "text/latex": [
       "$\\displaystyle \\frac{1}{\\left(\\frac{s}{100} + 1\\right) \\left(\\frac{s^{2}}{10000} + \\frac{s}{100} + 1\\right)}$"
      ],
      "text/plain": [
       "             1             \n",
       "───────────────────────────\n",
       "          ⎛   2           ⎞\n",
       "⎛ s     ⎞ ⎜  s      s     ⎟\n",
       "⎜─── + 1⎟⋅⎜───── + ─── + 1⎟\n",
       "⎝100    ⎠ ⎝10000   100    ⎠"
      ]
     },
     "execution_count": 9,
     "metadata": {},
     "output_type": "execute_result"
    }
   ],
   "source": [
    "H_norm = 1/((s+1)*(s**2+s+1))\n",
    "H = H_norm.subs({s:s/wc}).subs({wc:100})\n",
    "H"
   ]
  },
  {
   "cell_type": "code",
   "execution_count": 10,
   "id": "d00de6a4",
   "metadata": {},
   "outputs": [
    {
     "data": {
      "image/png": "[encoded data removed]",
      "text/latex": [
       "$\\displaystyle \\frac{1000000 T^{3} z^{3}}{\\left(100 T z + z - 1\\right) \\left(10000 T^{2} z^{2} + 100 T z \\left(z - 1\\right) + \\left(z - 1\\right)^{2}\\right)}$"
      ],
      "text/plain": [
       "                                3  3                        \n",
       "                       1000000⋅T ⋅z                         \n",
       "────────────────────────────────────────────────────────────\n",
       "                  ⎛       2  2                            2⎞\n",
       "(100⋅T⋅z + z - 1)⋅⎝10000⋅T ⋅z  + 100⋅T⋅z⋅(z - 1) + (z - 1) ⎠"
      ]
     },
     "execution_count": 10,
     "metadata": {},
     "output_type": "execute_result"
    }
   ],
   "source": [
    "H_d = H.subs(s,(1-z**(-1))/T)\n",
    "H_d.together().simplify()"
   ]
  },
  {
   "cell_type": "markdown",
   "id": "a68d7a0d",
   "metadata": {},
   "source": [
    "¿Qué valor es apropiado para $T$?"
   ]
  },
  {
   "cell_type": "code",
   "execution_count": 11,
   "id": "3e00ab41",
   "metadata": {},
   "outputs": [
    {
     "data": {
      "image/png": "[encoded data removed]",
      "text/latex": [
       "$\\displaystyle \\frac{1.0 z^{3}}{1000200020001.0 z^{3} - 3000400020000.0 z^{2} + 3000200000000.0 z - 1000000000000.0}$"
      ],
      "text/plain": [
       "                                         3                                   \n",
       "                                    1.0⋅z                                    \n",
       "─────────────────────────────────────────────────────────────────────────────\n",
       "                 3                    2                                      \n",
       "1000200020001.0⋅z  - 3000400020000.0⋅z  + 3000200000000.0⋅z - 1000000000000.0"
      ]
     },
     "execution_count": 11,
     "metadata": {},
     "output_type": "execute_result"
    }
   ],
   "source": [
    "Ts = 0.000001\n",
    "H_d = H_d.subs({T:Ts})\n",
    "H_d.together().simplify()"
   ]
  },
  {
   "cell_type": "markdown",
   "id": "90d1bc21",
   "metadata": {},
   "source": [
    "Esta función de transferencia tiene asociada una ecuación en diferencias.\n",
    "$$\\frac{Y(z)}{X(z)}=\\frac{z^{3}}{1000200020001z^{3}-3000400020000z^{2}+3000200000000z-1000000000000}$$\n",
    "\n",
    "$$Y(z)(1000200020001z^{3}-3000400020000z^{2}+3000200000000z-1000000000000)=X(z)z^{3} $$\n",
    "\n",
    "$$1000200020001 y[k+3] - 3000400020000 y[k+2] + 3000200000000 y[k+1] + 1000000000000 y[k] = x[k+3]$$\n",
    "\n",
    "Si se considera que el instante $k$ es el instante presente, se necesitaría conocer valores futuros de $x$ y de $y$ para calcular el valor present de $y$.\n",
    "\n",
    "La ecuación debe conservar relaciones temporales y puede considerarse que el instante presente es $k+3$. Así, el instante $k+2$ corresponde a un instante anterior al presente.  Teniendo en consideración lo anterior, puede escribirse la ecuación como:\n",
    "\n",
    "$$1000200020001 y[k] - 3000400020000 y[k-1] + 3000200000000 y[k-2] + 1000000000000 y[k-3] = x[k]$$\n",
    "\n",
    "Y se despeja $y[k]$\n",
    "\n",
    "$$y[k] = (x[k]  + 3000400020000 y[k-1] - 3000200000000 y[k-2] - 1000000000000 y[k-3])/1000200020001$$"
   ]
  },
  {
   "cell_type": "markdown",
   "id": "e85989a8",
   "metadata": {},
   "source": [
    "Esta última ecuación en diferencias se puede programar en un sistema microcontrolado, introduciéndola en un ciclo y completando el periodo de muestreo."
   ]
  },
  {
   "cell_type": "markdown",
   "id": "650009da",
   "metadata": {},
   "source": [
    "Existen diversas equivalencias para discretizar sistemas.\n",
    "\n",
    "- ¿Cuál usaría para discretizar el filtro diseñado para la voz soprano?}\n",
    "\n",
    "- Encuentre una versión discreta del filtro diseñado para la voz soprano.\n",
    "\n",
    "- Encuentre los espectros correspondientes a los filtros en tiempo continuo y tiempo discreto.\n",
    "\n",
    "- Use el filtro para transformar un sonido extraido de una ópera."
   ]
  },
  {
   "cell_type": "code",
   "execution_count": null,
   "id": "43046bd9",
   "metadata": {},
   "outputs": [],
   "source": [
    "# Averigüe como se usa cont2discrete()"
   ]
  }
 ],
 "metadata": {
  "kernelspec": {
   "display_name": "Python 3",
   "language": "python",
   "name": "python3"
  },
  "language_info": {
   "codemirror_mode": {
    "name": "ipython",
    "version": 3
   },
   "file_extension": ".py",
   "mimetype": "text/x-python",
   "name": "python",
   "nbconvert_exporter": "python",
   "pygments_lexer": "ipython3",
   "version": "3.7.3"
  },
  "latex_envs": {
   "bibliofile": "biblio.bib",
   "cite_by": "apalike",
   "current_citInitial": 1,
   "eqLabelWithNumbers": true,
   "eqNumInitial": 0
  }
 },
 "nbformat": 4,
 "nbformat_minor": 5
}
