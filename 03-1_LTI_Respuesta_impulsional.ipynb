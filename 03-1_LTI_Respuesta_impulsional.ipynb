{
 "cells": [
  {
   "cell_type": "code",
   "execution_count": 1,
   "metadata": {},
   "outputs": [],
   "source": [
    "import sympy as sym\n",
    "import matplotlib.pyplot as plt\n",
    "%matplotlib inline\n",
    "sym.init_printing()"
   ]
  },
  {
   "cell_type": "markdown",
   "metadata": {},
   "source": [
    "# Caracterización de Sistemas en el Dominio del Tiempo\n"
   ]
  },
  {
   "cell_type": "markdown",
   "metadata": {},
   "source": [
    "## Respuesta al impulso\n",
    "\n",
    "A continuación se discutirá sobre la respuesta $y(t)$ de un sistema $\\mathcal{H}$, Lineal e Invariante en el Tiempo (LTI), ante una señal de entrada $x(t)$. \n",
    "\n",
    "Tenga en cuenta que la señal de entrada puede representarse como una integral:\n",
    "\n",
    "\\begin{equation}\n",
    "x(t) = \\int_{-\\infty}^{\\infty} x(\\tau) \\cdot \\delta(t-\\tau) \\; d \\tau\n",
    "\\end{equation}\n",
    "\n",
    "Si se introduce esta representación de la señal de entrada en la transformación que realiza el sistema $\\mathcal{H}$ para formar la salida  $y(t) = \\mathcal{H} \\{ x(t) \\}$, se obtiene:\n",
    "\n",
    "\n",
    "\\begin{equation}\n",
    "y(t) = \\mathcal{H} \\left\\{ \\int_{-\\infty}^{\\infty} x(\\tau) \\cdot \\delta(t-\\tau) \\; d \\tau \\right\\}\n",
    "\\end{equation}\n",
    "\n",
    "\n",
    "donde $\\mathcal{H} \\{ \\cdot \\}$ representa un operador que encuentra la salida del sistema. Como $x(\\tau)$ puede verse como una constante ante la variable $t$, la expresión para $y(t)$ puede escribirse como:\n",
    "\n",
    "\n",
    "\\begin{equation}\n",
    "y(t) = \\int_{-\\infty}^{\\infty}  x(\\tau) \\cdot \\mathcal{H} \\left\\{ \\delta(t-\\tau) \\right\\} \\; d \\tau \n",
    "\\end{equation}\n",
    "\n",
    "Observe que $\\mathcal{H} \\{\\cdot\\}$ opera únicamente sobre el impulso de Dirac.\n",
    "\n",
    "La respuesta de un sistema ante una señal impulso de Dirac es conocida como la \n",
    "[*respuesta al impulso*](https://en.wikipedia.org/wiki/Impulse_response).\n",
    "\n",
    "\\begin{equation}\n",
    "h(t) = \\mathcal{H} \\left\\{ \\delta(t) \\right\\}\n",
    "\\end{equation}\n",
    "\n",
    "Si el sistema es invariante en el tiempo, la respuesta a un impulso desplazado es $\\mathcal{H} \\left\\{ \\delta(t-\\tau) \\right\\} = h(t-\\tau)$. Así, para un sistema LTI se obtiene que:\n",
    "\n",
    "\\begin{equation}\n",
    "y(t) = \\int_{-\\infty}^{\\infty}  x(\\tau) \\cdot h(t-\\tau) \\; d \\tau \n",
    "\\end{equation}\n",
    "\n",
    "\n",
    "Esta operación es conocida como [*convolución*](https://en.wikipedia.org/wiki/Convolution). Se simboliza mediante $*$, de manera que la integral se represente como $y(t) = x(t) * h(t)$ o, para algunos autores, $y(t) = (x*h)(t)$.\n",
    "\n",
    "La respuesta $y(t)$ de un sistema LTI \\mathcal{H} ante una entrada $x(t)$ se determina completamente a partir de su respuesta impulsional $h(t)$ como la convolución de la entrada $x(t)$ con la respuesta impulsional $h(t)$.\n"
   ]
  },
  {
   "cell_type": "markdown",
   "metadata": {},
   "source": [
    "Un sistema LTI con $x(t)$ como entrada y $y(t)$ como salida es descrito mediante la siguiente Ecuación Diferencial Ordinaria (ODE):\n",
    "\n",
    "\n",
    "\\begin{equation}\n",
    "y(t) + \\frac{d}{dt} y(t) = x(t)\n",
    "\\end{equation}\n",
    "\n",
    "Se desea encontrar la respuesta del sistema ante una entrada $x(t) = e^{- 2 t} \\cdot \\epsilon(t)$\n"
   ]
  },
  {
   "cell_type": "markdown",
   "metadata": {},
   "source": [
    "### Solución A\n",
    "Primero, se va a resolver la ODE teniendo en cuenta  que deben satisfacerse las condiciones iniciales $y(t)\\big\\vert_{t = 0-} = 0$ y $\\frac{d}{dt}y(t)\\big\\vert_{t = 0-} = 0$ relacionadas con la causalidad.\n",
    "\n",
    "a. Defina la ODE en`SymPy`"
   ]
  },
  {
   "cell_type": "code",
   "execution_count": 2,
   "metadata": {},
   "outputs": [
    {
     "data": {
      "image/png": "[encoded data removed]",
      "text/latex": [
       "$\\displaystyle y{\\left(t \\right)} + \\frac{d}{d t} y{\\left(t \\right)} = x{\\left(t \\right)}$"
      ],
      "text/plain": [
       "       d              \n",
       "y(t) + ──(y(t)) = x(t)\n",
       "       dt             "
      ]
     },
     "execution_count": 2,
     "metadata": {},
     "output_type": "execute_result"
    }
   ],
   "source": [
    "t = sym.symbols('t', real=True)\n",
    "x = sym.Function('x')(t)\n",
    "y = sym.Function('y')(t)\n",
    "\n",
    "ode = sym.Eq(y + y.diff(t), x)\n",
    "ode"
   ]
  },
  {
   "cell_type": "markdown",
   "metadata": {},
   "source": [
    "Se resuelve la ODE para la entrada establecida y considerando que las constantes de integración deben garantiza las condiciones inicales.\n"
   ]
  },
  {
   "cell_type": "code",
   "execution_count": 3,
   "metadata": {},
   "outputs": [
    {
     "data": {
      "image/png": "[encoded data removed]",
      "text/latex": [
       "$\\displaystyle y{\\left(t \\right)} = \\left(C_{1} + \\left(1 - e^{- t}\\right) \\theta\\left(t\\right)\\right) e^{- t}$"
      ],
      "text/plain": [
       "       ⎛     ⎛     -t⎞     ⎞  -t\n",
       "y(t) = ⎝C₁ + ⎝1 - ℯ  ⎠⋅θ(t)⎠⋅ℯ  "
      ]
     },
     "execution_count": 3,
     "metadata": {},
     "output_type": "execute_result"
    }
   ],
   "source": [
    "xinput = sym.exp(-2*t)*sym.Heaviside(t)\n",
    "\n",
    "solution = sym.dsolve(ode.subs(x, xinput))\n",
    "solution"
   ]
  },
  {
   "cell_type": "code",
   "execution_count": 4,
   "metadata": {},
   "outputs": [
    {
     "data": {
      "image/png": "[encoded data removed]",
      "text/latex": [
       "$\\displaystyle y{\\left(t \\right)} = \\left(1 - e^{- t}\\right) e^{- t} \\theta\\left(t\\right)$"
      ],
      "text/plain": [
       "       ⎛     -t⎞  -t     \n",
       "y(t) = ⎝1 - ℯ  ⎠⋅ℯ  ⋅θ(t)"
      ]
     },
     "execution_count": 4,
     "metadata": {},
     "output_type": "execute_result"
    }
   ],
   "source": [
    "\n",
    "integration_constants = sym.solve(\n",
    "    (solution.rhs.limit(t, 0, '-'), solution.rhs.diff(t).limit(t, 0, '-')), 'C1')\n",
    "\n",
    "yA = solution.subs(integration_constants)\n",
    "yA"
   ]
  },
  {
   "cell_type": "markdown",
   "metadata": {},
   "source": [
    "Se grafica la señal de salida obtenida al resolver la ODE."
   ]
  },
  {
   "cell_type": "code",
   "execution_count": 5,
   "metadata": {},
   "outputs": [
    {
     "data": {
      "image/png": "[encoded data removed]",
      "text/plain": [
       "<Figure size 504x144 with 1 Axes>"
      ]
     },
     "metadata": {
      "needs_background": "light"
     },
     "output_type": "display_data"
    }
   ],
   "source": [
    "plt.rcParams['figure.figsize'] = 7, 2\n",
    "sym.plot(yA.rhs, (t,-1,10), ylabel=r'$y(t)$');"
   ]
  },
  {
   "cell_type": "markdown",
   "metadata": {},
   "source": [
    "### Solución B\n",
    "Ahora se va a resolver el problema a través de la respuesta impulsional.\n",
    "\n",
    "La respuesta impulsional $h(t)$ se encuentra al resolver la ODE para una señal impulso de Dirac como entrada, $x(t) = \\delta(t)$."
   ]
  },
  {
   "cell_type": "code",
   "execution_count": 6,
   "metadata": {},
   "outputs": [
    {
     "data": {
      "image/png": "[encoded data removed]",
      "text/latex": [
       "$\\displaystyle y{\\left(t \\right)} + \\frac{d}{d t} y{\\left(t \\right)} = x{\\left(t \\right)}$"
      ],
      "text/plain": [
       "       d              \n",
       "y(t) + ──(y(t)) = x(t)\n",
       "       dt             "
      ]
     },
     "execution_count": 6,
     "metadata": {},
     "output_type": "execute_result"
    }
   ],
   "source": [
    "ode"
   ]
  },
  {
   "cell_type": "code",
   "execution_count": null,
   "metadata": {
    "scrolled": true
   },
   "outputs": [],
   "source": []
  },
  {
   "cell_type": "code",
   "execution_count": 7,
   "metadata": {},
   "outputs": [
    {
     "data": {
      "image/png": "[encoded data removed]",
      "text/latex": [
       "$\\displaystyle h{\\left(t \\right)} = e^{- t} \\theta\\left(t\\right)$"
      ],
      "text/plain": [
       "        -t     \n",
       "h(t) = ℯ  ⋅θ(t)"
      ]
     },
     "execution_count": 7,
     "metadata": {},
     "output_type": "execute_result"
    }
   ],
   "source": [
    "h = sym.Function('h')(t)\n",
    "\n",
    "solution2 = sym.dsolve(ode.subs(x, sym.DiracDelta(t)).subs(y, h))\n",
    "\n",
    "integration_constants = sym.solve((solution2.rhs.limit(\n",
    "    t, 0, '-'), solution2.rhs.diff(t).limit(t, 0, '-')), 'C1')\n",
    "\n",
    "h = solution2.subs(integration_constants)\n",
    "h"
   ]
  },
  {
   "cell_type": "markdown",
   "metadata": {},
   "source": [
    "La respuesta impulsional se grafica."
   ]
  },
  {
   "cell_type": "code",
   "execution_count": 8,
   "metadata": {},
   "outputs": [
    {
     "data": {
      "image/png": "[encoded data removed]",
      "text/plain": [
       "<Figure size 504x144 with 1 Axes>"
      ]
     },
     "metadata": {
      "needs_background": "light"
     },
     "output_type": "display_data"
    }
   ],
   "source": [
    "plt.rcParams['figure.figsize'] = 7, 2\n",
    "sym.plot(h.rhs, (t,-1,10), ylabel=r'$h(t)$');"
   ]
  },
  {
   "cell_type": "markdown",
   "metadata": {},
   "source": [
    "Ahora se calcula la convolución $y(t) = x(t) * h(t)$ como:\n",
    "\n",
    "\\begin{equation}\n",
    "y(t) = \\int_{-\\infty}^{\\infty}  x(\\tau) \\cdot h(t-\\tau) \\; d \\tau \n",
    "\\end{equation}\n",
    "\n",
    "Debido a que $h(t)$ y $x(t)$ son señales causales, la expresión de convolución se convierte en:\n",
    "\n",
    "\\begin{equation}\n",
    "y(t) = \\int_{0}^{t} x(\\tau) \\cdot h(t - \\tau) \\; d\\tau \\; \\forall t \\geq 0\n",
    "\\end{equation}\n",
    "\n",
    "\n",
    "Observe que $y(t) = 0 \\; \\forall t<0$."
   ]
  },
  {
   "cell_type": "code",
   "execution_count": 9,
   "metadata": {},
   "outputs": [
    {
     "data": {
      "image/png": "[encoded data removed]",
      "text/latex": [
       "$\\displaystyle h{\\left(t \\right)} = e^{- t} \\theta\\left(t\\right)$"
      ],
      "text/plain": [
       "        -t     \n",
       "h(t) = ℯ  ⋅θ(t)"
      ]
     },
     "execution_count": 9,
     "metadata": {},
     "output_type": "execute_result"
    }
   ],
   "source": [
    "h"
   ]
  },
  {
   "cell_type": "code",
   "execution_count": 10,
   "metadata": {},
   "outputs": [
    {
     "data": {
      "image/png": "[encoded data removed]",
      "text/latex": [
       "$\\displaystyle e^{- t} \\theta\\left(t\\right)$"
      ],
      "text/plain": [
       " -t     \n",
       "ℯ  ⋅θ(t)"
      ]
     },
     "execution_count": 10,
     "metadata": {},
     "output_type": "execute_result"
    }
   ],
   "source": [
    "h.rhs"
   ]
  },
  {
   "cell_type": "code",
   "execution_count": 11,
   "metadata": {},
   "outputs": [
    {
     "data": {
      "image/png": "[encoded data removed]",
      "text/latex": [
       "$\\displaystyle h{\\left(t \\right)}$"
      ],
      "text/plain": [
       "h(t)"
      ]
     },
     "execution_count": 11,
     "metadata": {},
     "output_type": "execute_result"
    }
   ],
   "source": [
    "h.lhs"
   ]
  },
  {
   "cell_type": "code",
   "execution_count": 12,
   "metadata": {},
   "outputs": [
    {
     "data": {
      "image/png": "[encoded data removed]",
      "text/latex": [
       "$\\displaystyle \\left(e^{- t} - e^{- 2 t}\\right) \\left(\\theta\\left(t\\right)\\right)^{2}$"
      ],
      "text/plain": [
       "⎛ -t    -2⋅t⎞  2   \n",
       "⎝ℯ   - ℯ    ⎠⋅θ (t)"
      ]
     },
     "execution_count": 12,
     "metadata": {},
     "output_type": "execute_result"
    }
   ],
   "source": [
    "tau = sym.symbols('tau', real=True)\n",
    "\n",
    "yB = sym.integrate(xinput.subs(t, tau) * h.rhs.subs(t, t-tau), (tau, 0, t))\n",
    "yB"
   ]
  },
  {
   "cell_type": "markdown",
   "metadata": {},
   "source": [
    "La señal de salida obtenida mediante el método de convolución se grafica."
   ]
  },
  {
   "cell_type": "code",
   "execution_count": 13,
   "metadata": {},
   "outputs": [
    {
     "data": {
      "image/png": "[encoded data removed]",
      "text/plain": [
       "<Figure size 504x144 with 1 Axes>"
      ]
     },
     "metadata": {
      "needs_background": "light"
     },
     "output_type": "display_data"
    }
   ],
   "source": [
    "plt.rcParams['figure.figsize'] = 7, 2\n",
    "sym.plot(yB, (t,-1,10), ylabel=r'$y(t)$');"
   ]
  },
  {
   "cell_type": "markdown",
   "metadata": {},
   "source": [
    "Las señales obtenidas con los dos métodos deben ser iguales."
   ]
  },
  {
   "cell_type": "code",
   "execution_count": 14,
   "metadata": {},
   "outputs": [
    {
     "data": {
      "image/png": "[encoded data removed]",
      "text/latex": [
       "$\\displaystyle y{\\left(t \\right)} = \\left(1 - e^{- t}\\right) e^{- t} \\theta\\left(t\\right)$"
      ],
      "text/plain": [
       "       ⎛     -t⎞  -t     \n",
       "y(t) = ⎝1 - ℯ  ⎠⋅ℯ  ⋅θ(t)"
      ]
     },
     "execution_count": 14,
     "metadata": {},
     "output_type": "execute_result"
    }
   ],
   "source": [
    "yA"
   ]
  },
  {
   "cell_type": "code",
   "execution_count": 15,
   "metadata": {},
   "outputs": [
    {
     "data": {
      "image/png": "[encoded data removed]",
      "text/latex": [
       "$\\displaystyle \\left(e^{- t} - e^{- 2 t}\\right) \\left(\\theta\\left(t\\right)\\right)^{2}$"
      ],
      "text/plain": [
       "⎛ -t    -2⋅t⎞  2   \n",
       "⎝ℯ   - ℯ    ⎠⋅θ (t)"
      ]
     },
     "execution_count": 15,
     "metadata": {},
     "output_type": "execute_result"
    }
   ],
   "source": [
    "yB"
   ]
  },
  {
   "cell_type": "markdown",
   "metadata": {},
   "source": [
    "Puede observarse que $y_A(t) = y_B(t)$, aunque tengan expresiones diferentes."
   ]
  },
  {
   "cell_type": "code",
   "execution_count": 16,
   "metadata": {},
   "outputs": [
    {
     "data": {
      "image/png": "[encoded data removed]",
      "text/plain": [
       "<Figure size 504x144 with 1 Axes>"
      ]
     },
     "metadata": {
      "needs_background": "light"
     },
     "output_type": "display_data"
    }
   ],
   "source": [
    "plt.rcParams['figure.figsize'] = 7, 2\n",
    "graf1 = sym.plot(yA.rhs, (t,-1,10), ylabel=r'$y(t)$', show=False, line_color='red',legend=True, label = 'ODE')\n",
    "graf2 = sym.plot(yB, (t,-1,10), show=False, legend=True, label = 'convolución')\n",
    "graf1.extend(graf2)\n",
    "graf1.show()"
   ]
  },
  {
   "cell_type": "code",
   "execution_count": null,
   "metadata": {},
   "outputs": [],
   "source": []
  }
 ],
 "metadata": {
  "kernelspec": {
   "display_name": "Python 3",
   "language": "python",
   "name": "python3"
  },
  "language_info": {
   "codemirror_mode": {
    "name": "ipython",
    "version": 3
   },
   "file_extension": ".py",
   "mimetype": "text/x-python",
   "name": "python",
   "nbconvert_exporter": "python",
   "pygments_lexer": "ipython3",
   "version": "3.7.8"
  },
  "latex_envs": {
   "bibliofile": "biblio.bib",
   "cite_by": "apalike",
   "current_citInitial": 1,
   "eqLabelWithNumbers": true,
   "eqNumInitial": 0
  }
 },
 "nbformat": 4,
 "nbformat_minor": 4
}
