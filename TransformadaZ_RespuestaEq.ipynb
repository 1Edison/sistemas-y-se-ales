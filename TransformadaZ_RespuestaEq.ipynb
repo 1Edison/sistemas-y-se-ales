{
 "cells": [
  {
   "cell_type": "markdown",
   "id": "1287268d",
   "metadata": {},
   "source": [
    "# Transformada z y respuesta temporal"
   ]
  },
  {
   "cell_type": "code",
   "execution_count": 48,
   "id": "014edefa",
   "metadata": {},
   "outputs": [],
   "source": [
    "import numpy as np\n",
    "import sympy as sym\n",
    "import matplotlib.pyplot as plt\n",
    "import pandas as pd"
   ]
  },
  {
   "cell_type": "markdown",
   "id": "6a6b29ac",
   "metadata": {},
   "source": [
    "Se tiene un sistema de tiempo discreto cuyo modelo es:\n",
    "\n",
    "$$y[k] = x[k] + \\frac{1}{2}y[k-1]$$"
   ]
  },
  {
   "cell_type": "markdown",
   "id": "d5cd5795",
   "metadata": {},
   "source": [
    "Suponga que el sistema se excita por un impulso $\\delta[k]$. Utilizando la ecuación en diferencias se nota que el sistema es IIR."
   ]
  },
  {
   "cell_type": "markdown",
   "id": "137b0103",
   "metadata": {},
   "source": [
    "\\begin{align}\n",
    "y[k] &= \\delta [k] + \\frac{1}{2}y[k-1] \\\\\n",
    "y[k<0] &= 0 + \\frac{1}{2}0 \\\\\n",
    "y[0] &= 1 + \\frac{1}{2}0 \\\\\n",
    "y[1] &= 0 + \\frac{1}{2}  \\\\\n",
    "y[2] &= 0 + \\frac{1}{2} \\frac{1}{2}  \\\\\n",
    "y[3] &= 0 + \\frac{1}{2} \\frac{1}{2} \\frac{1}{2}  \\\\\n",
    "y[k] &= \\left( \\frac{1}{2}  \\right)^k \\\\\n",
    "\\end{align}"
   ]
  },
  {
   "cell_type": "code",
   "execution_count": 88,
   "id": "4a7cc33b",
   "metadata": {
    "scrolled": false
   },
   "outputs": [
    {
     "name": "stderr",
     "output_type": "stream",
     "text": [
      "C:\\Users\\Usuario\\.conda\\envs\\SistDin\\lib\\site-packages\\ipykernel_launcher.py:8: UserWarning: In Matplotlib 3.3 individual lines on a stem plot will be added as a LineCollection instead of individual lines. This significantly improves the performance of a stem plot. To remove this warning and switch to the new behaviour, set the \"use_line_collection\" keyword argument to True.\n",
      "  \n"
     ]
    },
    {
     "data": {
      "image/png": "[encoded data removed]",
      "text/plain": [
       "<Figure size 432x288 with 1 Axes>"
      ]
     },
     "metadata": {
      "needs_background": "light"
     },
     "output_type": "display_data"
    }
   ],
   "source": [
    "K = np.linspace(-5,25,31)\n",
    "impulso = np.where(K==0,1,0)\n",
    "impulso\n",
    "y = [0]\n",
    "for x in impulso:\n",
    "    y.append(x+0.5*y[-1])\n",
    "\n",
    "plt.stem(K,y[1:])\n",
    "plt.grid()"
   ]
  },
  {
   "cell_type": "code",
   "execution_count": 89,
   "id": "4950fcfe",
   "metadata": {},
   "outputs": [
    {
     "data": {
      "text/html": [
       "<div>\n",
       "<style scoped>\n",
       "    .dataframe tbody tr th:only-of-type {\n",
       "        vertical-align: middle;\n",
       "    }\n",
       "\n",
       "    .dataframe tbody tr th {\n",
       "        vertical-align: top;\n",
       "    }\n",
       "\n",
       "    .dataframe thead th {\n",
       "        text-align: right;\n",
       "    }\n",
       "</style>\n",
       "<table border=\"1\" class=\"dataframe\">\n",
       "  <thead>\n",
       "    <tr style=\"text-align: right;\">\n",
       "      <th></th>\n",
       "      <th>k</th>\n",
       "      <th>x</th>\n",
       "      <th>y</th>\n",
       "    </tr>\n",
       "  </thead>\n",
       "  <tbody>\n",
       "    <tr>\n",
       "      <th>0</th>\n",
       "      <td>-5.0</td>\n",
       "      <td>0</td>\n",
       "      <td>0.000000e+00</td>\n",
       "    </tr>\n",
       "    <tr>\n",
       "      <th>1</th>\n",
       "      <td>-4.0</td>\n",
       "      <td>0</td>\n",
       "      <td>0.000000e+00</td>\n",
       "    </tr>\n",
       "    <tr>\n",
       "      <th>2</th>\n",
       "      <td>-3.0</td>\n",
       "      <td>0</td>\n",
       "      <td>0.000000e+00</td>\n",
       "    </tr>\n",
       "    <tr>\n",
       "      <th>3</th>\n",
       "      <td>-2.0</td>\n",
       "      <td>0</td>\n",
       "      <td>0.000000e+00</td>\n",
       "    </tr>\n",
       "    <tr>\n",
       "      <th>4</th>\n",
       "      <td>-1.0</td>\n",
       "      <td>0</td>\n",
       "      <td>0.000000e+00</td>\n",
       "    </tr>\n",
       "    <tr>\n",
       "      <th>5</th>\n",
       "      <td>0.0</td>\n",
       "      <td>1</td>\n",
       "      <td>1.000000e+00</td>\n",
       "    </tr>\n",
       "    <tr>\n",
       "      <th>6</th>\n",
       "      <td>1.0</td>\n",
       "      <td>0</td>\n",
       "      <td>5.000000e-01</td>\n",
       "    </tr>\n",
       "    <tr>\n",
       "      <th>7</th>\n",
       "      <td>2.0</td>\n",
       "      <td>0</td>\n",
       "      <td>2.500000e-01</td>\n",
       "    </tr>\n",
       "    <tr>\n",
       "      <th>8</th>\n",
       "      <td>3.0</td>\n",
       "      <td>0</td>\n",
       "      <td>1.250000e-01</td>\n",
       "    </tr>\n",
       "    <tr>\n",
       "      <th>9</th>\n",
       "      <td>4.0</td>\n",
       "      <td>0</td>\n",
       "      <td>6.250000e-02</td>\n",
       "    </tr>\n",
       "    <tr>\n",
       "      <th>10</th>\n",
       "      <td>5.0</td>\n",
       "      <td>0</td>\n",
       "      <td>3.125000e-02</td>\n",
       "    </tr>\n",
       "    <tr>\n",
       "      <th>11</th>\n",
       "      <td>6.0</td>\n",
       "      <td>0</td>\n",
       "      <td>1.562500e-02</td>\n",
       "    </tr>\n",
       "    <tr>\n",
       "      <th>12</th>\n",
       "      <td>7.0</td>\n",
       "      <td>0</td>\n",
       "      <td>7.812500e-03</td>\n",
       "    </tr>\n",
       "    <tr>\n",
       "      <th>13</th>\n",
       "      <td>8.0</td>\n",
       "      <td>0</td>\n",
       "      <td>3.906250e-03</td>\n",
       "    </tr>\n",
       "    <tr>\n",
       "      <th>14</th>\n",
       "      <td>9.0</td>\n",
       "      <td>0</td>\n",
       "      <td>1.953125e-03</td>\n",
       "    </tr>\n",
       "    <tr>\n",
       "      <th>15</th>\n",
       "      <td>10.0</td>\n",
       "      <td>0</td>\n",
       "      <td>9.765625e-04</td>\n",
       "    </tr>\n",
       "    <tr>\n",
       "      <th>16</th>\n",
       "      <td>11.0</td>\n",
       "      <td>0</td>\n",
       "      <td>4.882812e-04</td>\n",
       "    </tr>\n",
       "    <tr>\n",
       "      <th>17</th>\n",
       "      <td>12.0</td>\n",
       "      <td>0</td>\n",
       "      <td>2.441406e-04</td>\n",
       "    </tr>\n",
       "    <tr>\n",
       "      <th>18</th>\n",
       "      <td>13.0</td>\n",
       "      <td>0</td>\n",
       "      <td>1.220703e-04</td>\n",
       "    </tr>\n",
       "    <tr>\n",
       "      <th>19</th>\n",
       "      <td>14.0</td>\n",
       "      <td>0</td>\n",
       "      <td>6.103516e-05</td>\n",
       "    </tr>\n",
       "    <tr>\n",
       "      <th>20</th>\n",
       "      <td>15.0</td>\n",
       "      <td>0</td>\n",
       "      <td>3.051758e-05</td>\n",
       "    </tr>\n",
       "    <tr>\n",
       "      <th>21</th>\n",
       "      <td>16.0</td>\n",
       "      <td>0</td>\n",
       "      <td>1.525879e-05</td>\n",
       "    </tr>\n",
       "    <tr>\n",
       "      <th>22</th>\n",
       "      <td>17.0</td>\n",
       "      <td>0</td>\n",
       "      <td>7.629395e-06</td>\n",
       "    </tr>\n",
       "    <tr>\n",
       "      <th>23</th>\n",
       "      <td>18.0</td>\n",
       "      <td>0</td>\n",
       "      <td>3.814697e-06</td>\n",
       "    </tr>\n",
       "    <tr>\n",
       "      <th>24</th>\n",
       "      <td>19.0</td>\n",
       "      <td>0</td>\n",
       "      <td>1.907349e-06</td>\n",
       "    </tr>\n",
       "    <tr>\n",
       "      <th>25</th>\n",
       "      <td>20.0</td>\n",
       "      <td>0</td>\n",
       "      <td>9.536743e-07</td>\n",
       "    </tr>\n",
       "    <tr>\n",
       "      <th>26</th>\n",
       "      <td>21.0</td>\n",
       "      <td>0</td>\n",
       "      <td>4.768372e-07</td>\n",
       "    </tr>\n",
       "    <tr>\n",
       "      <th>27</th>\n",
       "      <td>22.0</td>\n",
       "      <td>0</td>\n",
       "      <td>2.384186e-07</td>\n",
       "    </tr>\n",
       "    <tr>\n",
       "      <th>28</th>\n",
       "      <td>23.0</td>\n",
       "      <td>0</td>\n",
       "      <td>1.192093e-07</td>\n",
       "    </tr>\n",
       "    <tr>\n",
       "      <th>29</th>\n",
       "      <td>24.0</td>\n",
       "      <td>0</td>\n",
       "      <td>5.960464e-08</td>\n",
       "    </tr>\n",
       "    <tr>\n",
       "      <th>30</th>\n",
       "      <td>25.0</td>\n",
       "      <td>0</td>\n",
       "      <td>2.980232e-08</td>\n",
       "    </tr>\n",
       "  </tbody>\n",
       "</table>\n",
       "</div>"
      ],
      "text/plain": [
       "       k  x             y\n",
       "0   -5.0  0  0.000000e+00\n",
       "1   -4.0  0  0.000000e+00\n",
       "2   -3.0  0  0.000000e+00\n",
       "3   -2.0  0  0.000000e+00\n",
       "4   -1.0  0  0.000000e+00\n",
       "5    0.0  1  1.000000e+00\n",
       "6    1.0  0  5.000000e-01\n",
       "7    2.0  0  2.500000e-01\n",
       "8    3.0  0  1.250000e-01\n",
       "9    4.0  0  6.250000e-02\n",
       "10   5.0  0  3.125000e-02\n",
       "11   6.0  0  1.562500e-02\n",
       "12   7.0  0  7.812500e-03\n",
       "13   8.0  0  3.906250e-03\n",
       "14   9.0  0  1.953125e-03\n",
       "15  10.0  0  9.765625e-04\n",
       "16  11.0  0  4.882812e-04\n",
       "17  12.0  0  2.441406e-04\n",
       "18  13.0  0  1.220703e-04\n",
       "19  14.0  0  6.103516e-05\n",
       "20  15.0  0  3.051758e-05\n",
       "21  16.0  0  1.525879e-05\n",
       "22  17.0  0  7.629395e-06\n",
       "23  18.0  0  3.814697e-06\n",
       "24  19.0  0  1.907349e-06\n",
       "25  20.0  0  9.536743e-07\n",
       "26  21.0  0  4.768372e-07\n",
       "27  22.0  0  2.384186e-07\n",
       "28  23.0  0  1.192093e-07\n",
       "29  24.0  0  5.960464e-08\n",
       "30  25.0  0  2.980232e-08"
      ]
     },
     "execution_count": 89,
     "metadata": {},
     "output_type": "execute_result"
    }
   ],
   "source": [
    "df = pd.DataFrame(data = {'k':K,\n",
    "                          'x':impulso,\n",
    "                          'y':y[1:]})\n",
    "df"
   ]
  },
  {
   "cell_type": "code",
   "execution_count": 90,
   "id": "a3f767d5",
   "metadata": {},
   "outputs": [
    {
     "data": {
      "text/latex": [
       "$\\displaystyle 0.5^{k} C_{0}$"
      ],
      "text/plain": [
       "0.5**k*C0"
      ]
     },
     "execution_count": 90,
     "metadata": {},
     "output_type": "execute_result"
    }
   ],
   "source": [
    "import sympy as sym\n",
    "\n",
    "k = sym.symbols('k', integer=True)\n",
    "y = sym.Function('y')(k)\n",
    "x = sym.Function('x')(k)\n",
    "\n",
    "# Definir la ecuación en diferencia \n",
    "modelo = y - 0.5 * y.subs(k, k-1) - x \n",
    "\n",
    "# Se encuentra la solución homogenea\n",
    "sol = sym.rsolve(modelo.subs(x,0), y)\n",
    "sol"
   ]
  },
  {
   "cell_type": "markdown",
   "id": "9c8ce2b0",
   "metadata": {},
   "source": [
    "Como el impulso unitario aparece en el intante $k=0$, es fácil constatar que la solución en $k=0$ debe ser igual a $1$, por lo que $C_0=1$"
   ]
  },
  {
   "cell_type": "markdown",
   "id": "3dea2223",
   "metadata": {},
   "source": [
    "Aplicando la transformada $z$ al modelo, se tiene:\n",
    "\n",
    "$$Y(z) = X(z) + \\frac{1}{2}Y(z)z^{-1}$$"
   ]
  },
  {
   "cell_type": "markdown",
   "id": "d516db01",
   "metadata": {},
   "source": [
    "Este modelo está ahora en el dominio de las frecuencias. Puede operarse para encontrar la función de transferencia del sistema.\n",
    "\n",
    "Se resta $\\frac{1}{2}Y(z)z^{-1}$ a ambos lados de la ecuación.\n",
    "\n",
    "$$Y(z)- \\frac{1}{2}Y(z)z^{-1} = X(z) + \\frac{1}{2}Y(z)z^{-1} - \\frac{1}{2}Y(z)z^{-1}$$\n",
    "\n",
    "$$Y(z)- \\frac{1}{2}Y(z)z^{-1} = X(z)$$\n",
    "\n",
    "Se pone $Y(z)$ como factor común.\n",
    "\n",
    "$$Y(z)\\left( 1 - \\frac{1}{2}z^{-1} \\right) = X(z)$$\n",
    "\n",
    "Se divide por $X(z)\\left( 1 - \\frac{1}{2}z^{-1} \\right)$ a ambos lados de la ecuación.\n",
    "$$Y(z)\\left(1 - \\frac{1}{2}z^{-1}\\right)\\frac{1}{ X(z)\\left( 1 - \\frac{1}{2}z^{-1}\\right)} = X(z)\\frac{1}{ X(z)\\left( 1 - \\frac{1}{2}z^{-1}\\right)}$$\n",
    "\n",
    "Se obtiene la función de transferencia.\n",
    "\n",
    "$$\\frac{Y(z)}{X(z)} = \\frac{1}{1 - \\frac{1}{2}z^{-1}}$$\n",
    "$$\\frac{Y(z)}{X(z)}=\\frac{1}{1 - \\frac{1}{2}z^{-1}} \\cdot \\frac{z}{z} = \\frac{z}{z - \\frac{1}{2}}$$"
   ]
  },
  {
   "cell_type": "markdown",
   "id": "ee7737c7",
   "metadata": {},
   "source": [
    "Con anterioridad se había obtenido que:\n",
    "\n",
    "$$\\mathcal{Z} \\{ \\epsilon[k] \\cdot z_0^k \\} = \\frac{z}{z - z_0} \\qquad \\text{for } |z| > |z_0|$$\n",
    "\n",
    "Observe que tiene la misma forma que la función de transferencia encontrada. Esto indica que la respuesta impulsional del sistema es $\\epsilon[k] \\cdot z_0^k $ con $z_0 = \\frac{1}{2}$."
   ]
  },
  {
   "cell_type": "code",
   "execution_count": 91,
   "id": "4af14cf4",
   "metadata": {},
   "outputs": [],
   "source": [
    "import control"
   ]
  },
  {
   "cell_type": "code",
   "execution_count": 92,
   "id": "a8aaf1b4",
   "metadata": {},
   "outputs": [
    {
     "data": {
      "text/latex": [
       "$$\\frac{z}{z - 0.5}\\quad dt = 1$$"
      ],
      "text/plain": [
       "TransferFunction(array([1, 0]), array([ 1. , -0.5]), 1)"
      ]
     },
     "execution_count": 92,
     "metadata": {},
     "output_type": "execute_result"
    }
   ],
   "source": [
    "G = control.tf([1,0],[1,-0.5],1)\n",
    "G"
   ]
  },
  {
   "cell_type": "markdown",
   "id": "cf95af20",
   "metadata": {},
   "source": [
    "- El sistema tiene 1 polo.\n",
    "$$z-\\frac{1}{2}=0$$\n",
    "$$z = \\frac{1}{2}$$"
   ]
  },
  {
   "cell_type": "code",
   "execution_count": 93,
   "id": "982e3b79",
   "metadata": {
    "scrolled": true
   },
   "outputs": [
    {
     "data": {
      "text/plain": [
       "array([0.5])"
      ]
     },
     "execution_count": 93,
     "metadata": {},
     "output_type": "execute_result"
    }
   ],
   "source": [
    "G.pole()"
   ]
  },
  {
   "cell_type": "markdown",
   "id": "0dd9a610",
   "metadata": {},
   "source": [
    "- El sistema tiene 1 cero.\n",
    "$$z = 0$$"
   ]
  },
  {
   "cell_type": "code",
   "execution_count": 94,
   "id": "ad0f36a6",
   "metadata": {
    "scrolled": true
   },
   "outputs": [
    {
     "data": {
      "text/plain": [
       "array([0.])"
      ]
     },
     "execution_count": 94,
     "metadata": {},
     "output_type": "execute_result"
    }
   ],
   "source": [
    "G.zero()"
   ]
  },
  {
   "cell_type": "markdown",
   "id": "4ee93e9d",
   "metadata": {},
   "source": [
    "Con la ubicación de las raíces, se puede generar el mapa de polos y ceros en $z$."
   ]
  },
  {
   "cell_type": "code",
   "execution_count": 95,
   "id": "0a9e2e4d",
   "metadata": {},
   "outputs": [
    {
     "data": {
      "image/png": "[encoded data removed]",
      "text/plain": [
       "<Figure size 432x288 with 1 Axes>"
      ]
     },
     "metadata": {
      "needs_background": "light"
     },
     "output_type": "display_data"
    }
   ],
   "source": [
    "control.pzmap(G, plot=True, grid=True)\n",
    "plt.grid()"
   ]
  },
  {
   "cell_type": "markdown",
   "id": "afd999b0",
   "metadata": {},
   "source": [
    "- ¿Qué podría decir de la estabilidad del sistema?\n",
    "- ¿Del amortiguamiento?"
   ]
  },
  {
   "cell_type": "code",
   "execution_count": 97,
   "id": "012abc20",
   "metadata": {},
   "outputs": [
    {
     "name": "stderr",
     "output_type": "stream",
     "text": [
      "C:\\Users\\Usuario\\.conda\\envs\\SistDin\\lib\\site-packages\\ipykernel_launcher.py:2: UserWarning: In Matplotlib 3.3 individual lines on a stem plot will be added as a LineCollection instead of individual lines. This significantly improves the performance of a stem plot. To remove this warning and switch to the new behaviour, set the \"use_line_collection\" keyword argument to True.\n",
      "  \n"
     ]
    },
    {
     "data": {
      "image/png": "[encoded data removed]",
      "text/plain": [
       "<Figure size 432x288 with 1 Axes>"
      ]
     },
     "metadata": {
      "needs_background": "light"
     },
     "output_type": "display_data"
    }
   ],
   "source": [
    "tc,yc = control.impulse_response(G);\n",
    "plt.stem(tc,yc)\n",
    "plt.grid()"
   ]
  },
  {
   "cell_type": "code",
   "execution_count": null,
   "id": "341b0cf5",
   "metadata": {},
   "outputs": [],
   "source": []
  },
  {
   "cell_type": "code",
   "execution_count": null,
   "id": "b0ebcf53",
   "metadata": {},
   "outputs": [],
   "source": []
  }
 ],
 "metadata": {
  "kernelspec": {
   "display_name": "Python 3",
   "language": "python",
   "name": "python3"
  },
  "language_info": {
   "codemirror_mode": {
    "name": "ipython",
    "version": 3
   },
   "file_extension": ".py",
   "mimetype": "text/x-python",
   "name": "python",
   "nbconvert_exporter": "python",
   "pygments_lexer": "ipython3",
   "version": "3.7.3"
  },
  "latex_envs": {
   "LaTeX_envs_menu_present": true,
   "autoclose": false,
   "autocomplete": true,
   "bibliofile": "biblio.bib",
   "cite_by": "apalike",
   "current_citInitial": 1,
   "eqLabelWithNumbers": true,
   "eqNumInitial": 1,
   "hotkeys": {
    "equation": "Ctrl-E",
    "itemize": "Ctrl-I"
   },
   "labels_anchors": false,
   "latex_user_defs": false,
   "report_style_numbering": false,
   "user_envs_cfg": false
  },
  "toc": {
   "base_numbering": 1,
   "nav_menu": {},
   "number_sections": true,
   "sideBar": true,
   "skip_h1_title": false,
   "title_cell": "Table of Contents",
   "title_sidebar": "Contents",
   "toc_cell": false,
   "toc_position": {},
   "toc_section_display": true,
   "toc_window_display": false
  },
  "varInspector": {
   "cols": {
    "lenName": 16,
    "lenType": 16,
    "lenVar": 40
   },
   "kernels_config": {
    "python": {
     "delete_cmd_postfix": "",
     "delete_cmd_prefix": "del ",
     "library": "var_list.py",
     "varRefreshCmd": "print(var_dic_list())"
    },
    "r": {
     "delete_cmd_postfix": ") ",
     "delete_cmd_prefix": "rm(",
     "library": "var_list.r",
     "varRefreshCmd": "cat(var_dic_list()) "
    }
   },
   "types_to_exclude": [
    "module",
    "function",
    "builtin_function_or_method",
    "instance",
    "_Feature"
   ],
   "window_display": false
  }
 },
 "nbformat": 4,
 "nbformat_minor": 5
}
