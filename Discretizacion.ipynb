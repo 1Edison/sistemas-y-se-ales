{
 "cells": [
  {
   "cell_type": "markdown",
   "id": "64b9d042",
   "metadata": {},
   "source": [
    "# Discretización aproximada de sistemas."
   ]
  },
  {
   "cell_type": "markdown",
   "id": "0b5f24e4",
   "metadata": {},
   "source": [
    "Dado un modelo $G(s)$ como función de transferencia en dominio $s$, se desea encontrar un modelo equivalente $G(z)$ en dominio $z$.\n",
    "\n",
    "$$G(s)=\\frac{10}{s^2 + 4s + 10}$$"
   ]
  },
  {
   "cell_type": "markdown",
   "id": "3ce7d019",
   "metadata": {},
   "source": [
    "- Analice la función de transferencia $G(s)$"
   ]
  },
  {
   "cell_type": "markdown",
   "id": "b82c315e",
   "metadata": {},
   "source": [
    "- Su análisis"
   ]
  },
  {
   "cell_type": "code",
   "execution_count": 1,
   "id": "375b531c",
   "metadata": {},
   "outputs": [],
   "source": [
    "# Su código\n"
   ]
  },
  {
   "cell_type": "markdown",
   "id": "2e2e50db",
   "metadata": {},
   "source": [
    "- Cuál es un periodo de muestro $T_s$ apropiado?"
   ]
  },
  {
   "cell_type": "markdown",
   "id": "5684c427",
   "metadata": {},
   "source": [
    "- Su análisis"
   ]
  },
  {
   "cell_type": "code",
   "execution_count": 1,
   "id": "6b36b023",
   "metadata": {},
   "outputs": [],
   "source": [
    "# Su código\n"
   ]
  },
  {
   "cell_type": "markdown",
   "id": "6a26dc24",
   "metadata": {},
   "source": [
    "Con anterioridad se ha encontrado una relación entre la transformada de Laplace y la transformada z de una señal muestrada. La representación frecuencial de la señal muestreada $X_\\text{s}(s)$ es equivalente a la transformada $z$  de la señal discreta $X(z)$ con $z = e^{s T}$."
   ]
  },
  {
   "cell_type": "markdown",
   "id": "a855c163",
   "metadata": {},
   "source": [
    "- Encuentre una función de transferencia G(z) a partir del mapeo de polos y ceros de $G(s)$. Es decir, las raíces de $G(z)$ deben cumplir con la ubicación mapada de las raíces de $G(s)$ mediante $z = e^{s T}$."
   ]
  },
  {
   "cell_type": "markdown",
   "id": "4b04c912",
   "metadata": {},
   "source": [
    "- Su análisis"
   ]
  },
  {
   "cell_type": "code",
   "execution_count": 1,
   "id": "fdef1775",
   "metadata": {},
   "outputs": [],
   "source": [
    "# Su código\n"
   ]
  },
  {
   "cell_type": "markdown",
   "id": "5983d690",
   "metadata": {},
   "source": [
    "También se ha encontrado una relación entre la transformada de Laplace y la transformada z mediante una aproximación de la derivada como diferencias hacia atrás.\n",
    "\n",
    "$$\\frac{dy}{dt} \\sim \\frac{y[k] - y[k-1]}{T_s}$$\n",
    "$$sY(s) \\sim \\frac{Y(z) - Y(z)z^{-1}}{T_s} = \\frac{1 - z^{-1}}{T_s}Y(z)$$\n",
    "$$s \\sim \\frac{1 - z^{-1}}{T_s}$$"
   ]
  },
  {
   "cell_type": "markdown",
   "id": "49057af9",
   "metadata": {},
   "source": [
    "- Encuentre una función de transferencia G(z) a partir del mapeo de polos y ceros de $G(s)$. Es decir, las raíces de $G(z)$ deben cumplir con la ubicación mapada de las raíces de $G(s)$ mediante $s=\\frac{1 - z^{-1}}{T_s}$."
   ]
  },
  {
   "cell_type": "markdown",
   "id": "3f857fe6",
   "metadata": {},
   "source": [
    "- Su análisis"
   ]
  },
  {
   "cell_type": "code",
   "execution_count": 1,
   "id": "20169919",
   "metadata": {},
   "outputs": [],
   "source": [
    "# Su código\n"
   ]
  },
  {
   "cell_type": "markdown",
   "id": "4c5ec2e8",
   "metadata": {},
   "source": [
    "Los sistemas de tiempo discreto interactúan con los sistemas de tiempo continuo mediante retenedores.\n",
    "\n",
    "![https://slideplayer.com/slide/4046828/13/images/2/3.1+Zero-order-hold+%28ZOH%29.jpg](https://slideplayer.com/slide/4046828/13/images/2/3.1+Zero-order-hold+%28ZOH%29.jpg)"
   ]
  },
  {
   "cell_type": "markdown",
   "id": "2f5b6b3a",
   "metadata": {},
   "source": [
    "El sistema ZoH recibe una señal en tiempo discreto y entrega una señal de tiempo continuo.\n",
    "\n",
    "Su respuesta impulsional es una señal pulso de duración $T_s$.\n",
    "\n",
    "$$G_{zoh}(s) = \\frac{1-e^{-sT_s}}{s}$$"
   ]
  },
  {
   "cell_type": "markdown",
   "id": "5c885ecd",
   "metadata": {},
   "source": [
    "Observe que conecta en serie en retenedor $G_{zoh}(s)$ y el sistema $G(s)$. Por lo cuál resulta coherente transformar $G_{zoh}(s)G(s)$"
   ]
  },
  {
   "cell_type": "markdown",
   "id": "79204037",
   "metadata": {},
   "source": [
    "- Encuentre una función de transferencia $G(z)$ a partir del mapeo de polos y ceros de $G_{zoh}(s)G(s)$. Es decir, las raíces en $z$ deben cumplir con la ubicación mapa de las raíces de mediante $z = e^{s T}$."
   ]
  },
  {
   "cell_type": "markdown",
   "id": "af0154f1",
   "metadata": {},
   "source": [
    "- Su análisis"
   ]
  },
  {
   "cell_type": "code",
   "execution_count": 1,
   "id": "c2ae60df",
   "metadata": {},
   "outputs": [],
   "source": [
    "# Su código\n"
   ]
  },
  {
   "cell_type": "code",
   "execution_count": null,
   "id": "bf9042fd",
   "metadata": {},
   "outputs": [],
   "source": []
  }
 ],
 "metadata": {
  "kernelspec": {
   "display_name": "Python 3",
   "language": "python",
   "name": "python3"
  },
  "language_info": {
   "codemirror_mode": {
    "name": "ipython",
    "version": 3
   },
   "file_extension": ".py",
   "mimetype": "text/x-python",
   "name": "python",
   "nbconvert_exporter": "python",
   "pygments_lexer": "ipython3",
   "version": "3.7.3"
  },
  "latex_envs": {
   "LaTeX_envs_menu_present": true,
   "autoclose": false,
   "autocomplete": true,
   "bibliofile": "biblio.bib",
   "cite_by": "apalike",
   "current_citInitial": 1,
   "eqLabelWithNumbers": true,
   "eqNumInitial": 1,
   "hotkeys": {
    "equation": "Ctrl-E",
    "itemize": "Ctrl-I"
   },
   "labels_anchors": false,
   "latex_user_defs": false,
   "report_style_numbering": false,
   "user_envs_cfg": false
  },
  "toc": {
   "base_numbering": 1,
   "nav_menu": {},
   "number_sections": true,
   "sideBar": true,
   "skip_h1_title": false,
   "title_cell": "Table of Contents",
   "title_sidebar": "Contents",
   "toc_cell": false,
   "toc_position": {},
   "toc_section_display": true,
   "toc_window_display": false
  },
  "varInspector": {
   "cols": {
    "lenName": 16,
    "lenType": 16,
    "lenVar": 40
   },
   "kernels_config": {
    "python": {
     "delete_cmd_postfix": "",
     "delete_cmd_prefix": "del ",
     "library": "var_list.py",
     "varRefreshCmd": "print(var_dic_list())"
    },
    "r": {
     "delete_cmd_postfix": ") ",
     "delete_cmd_prefix": "rm(",
     "library": "var_list.r",
     "varRefreshCmd": "cat(var_dic_list()) "
    }
   },
   "types_to_exclude": [
    "module",
    "function",
    "builtin_function_or_method",
    "instance",
    "_Feature"
   ],
   "window_display": false
  }
 },
 "nbformat": 4,
 "nbformat_minor": 5
}
