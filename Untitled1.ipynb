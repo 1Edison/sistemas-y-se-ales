{
 "cells": [
  {
   "cell_type": "code",
   "execution_count": 3,
   "id": "05ad2bde",
   "metadata": {},
   "outputs": [
    {
     "name": "stdout",
     "output_type": "stream",
     "text": [
      "Collecting package metadata (current_repodata.json): ...working... done\n",
      "Solving environment: ...working... done\n",
      "\n",
      "# All requested packages already installed.\n",
      "\n"
     ]
    }
   ],
   "source": [
    "!conda install python-sounddevice"
   ]
  },
  {
   "cell_type": "code",
   "execution_count": 11,
   "id": "ee1baa15",
   "metadata": {},
   "outputs": [],
   "source": [
    "from math import exp, log\n",
    " \n",
    "import numpy as np\n",
    "import matplotlib.pyplot as plt\n",
    "plt.style.use(\"bmh\")\n",
    "import sounddevice as sd\n",
    "import soundfile as sf\n",
    "import scipy.signal as sig\n",
    "import scipy\n",
    "from scipy.fftpack import fft,ifft"
   ]
  },
  {
   "cell_type": "code",
   "execution_count": 12,
   "id": "8d44ea67",
   "metadata": {},
   "outputs": [],
   "source": [
    "def frec(nota: int, octava: int) -> int:\n",
    "    expo = octava * 12 + (nota - 58)\n",
    "    return int(440 * ((2 ** (1 / 12)) ** expo))"
   ]
  },
  {
   "cell_type": "code",
   "execution_count": 19,
   "id": "4ab2ff1c",
   "metadata": {},
   "outputs": [],
   "source": [
    "framerate = 44100\n",
    "duration = 1000\n",
    "t = np.linspace(0, duration / 1000, int(framerate * duration / 1000))\n",
    "frequency = frec(10, 4) # LA4\n",
    "data = np.sin(2 * np.pi * frequency * t)\n",
    "nel = len(data)\n",
    "f = np.linspace(0,framerate,nel)\n"
   ]
  },
  {
   "cell_type": "code",
   "execution_count": 22,
   "id": "fe75063f",
   "metadata": {},
   "outputs": [
    {
     "data": {
      "image/png": "[encoded data removed]",
      "text/plain": [
       "<Figure size 864x288 with 1 Axes>"
      ]
     },
     "metadata": {
      "needs_background": "light"
     },
     "output_type": "display_data"
    }
   ],
   "source": [
    "plt.figure(figsize=(12,4))\n",
    "plt.plot(f,abs(fft(data))) \n",
    "plt.xlabel(r'$f$ en Hz')\n",
    "plt.ylabel(r'$|X(f)|$')\n",
    "plt.\n",
    "plt.grid()"
   ]
  },
  {
   "cell_type": "code",
   "execution_count": null,
   "id": "49253816",
   "metadata": {},
   "outputs": [],
   "source": []
  }
 ],
 "metadata": {
  "kernelspec": {
   "display_name": "Python 3",
   "language": "python",
   "name": "python3"
  },
  "language_info": {
   "codemirror_mode": {
    "name": "ipython",
    "version": 3
   },
   "file_extension": ".py",
   "mimetype": "text/x-python",
   "name": "python",
   "nbconvert_exporter": "python",
   "pygments_lexer": "ipython3",
   "version": "3.7.3"
  },
  "latex_envs": {
   "bibliofile": "biblio.bib",
   "cite_by": "apalike",
   "current_citInitial": 1,
   "eqLabelWithNumbers": true,
   "eqNumInitial": 0
  }
 },
 "nbformat": 4,
 "nbformat_minor": 5
}
