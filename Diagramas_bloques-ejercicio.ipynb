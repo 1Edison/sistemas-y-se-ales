{
 "cells": [
  {
   "cell_type": "code",
   "execution_count": 1,
   "id": "23be4f0a",
   "metadata": {},
   "outputs": [],
   "source": [
    "import sympy\n",
    "sympy.init_printing()"
   ]
  },
  {
   "cell_type": "markdown",
   "id": "324a15fc",
   "metadata": {},
   "source": [
    "# Tarea: Álgebra de bloques\n",
    "**Nombres completos**:\n",
    "\n",
    "- *Fulano de Tal*\n",
    "- *Mengano de Tal*"
   ]
  },
  {
   "cell_type": "markdown",
   "id": "d80d3b6a",
   "metadata": {},
   "source": [
    "\n",
    "## Ejercicio para entregar\n",
    "\n",
    "1. Reducir el siguiente diagrama.\n",
    "![](figuras/ejercicio_bloques03.png)\n",
    "2. Realice el ejercicio en papel y verifique su resultado con `Sympy`.\n",
    "3. Documente el proceso y la comparación y suba un archivo pdf a la plataforma."
   ]
  },
  {
   "cell_type": "code",
   "execution_count": null,
   "id": "24366dea",
   "metadata": {},
   "outputs": [],
   "source": []
  }
 ],
 "metadata": {
  "kernelspec": {
   "display_name": "Python 3",
   "language": "python",
   "name": "python3"
  },
  "language_info": {
   "codemirror_mode": {
    "name": "ipython",
    "version": 3
   },
   "file_extension": ".py",
   "mimetype": "text/x-python",
   "name": "python",
   "nbconvert_exporter": "python",
   "pygments_lexer": "ipython3",
   "version": "3.7.3"
  },
  "latex_envs": {
   "bibliofile": "biblio.bib",
   "cite_by": "apalike",
   "current_citInitial": 1,
   "eqLabelWithNumbers": true,
   "eqNumInitial": 0
  }
 },
 "nbformat": 4,
 "nbformat_minor": 5
}
