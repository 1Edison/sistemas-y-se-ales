{
 "cells": [
  {
   "cell_type": "code",
   "execution_count": 1,
   "metadata": {},
   "outputs": [],
   "source": [
    "# !pip install sympy==1.4\n",
    "%matplotlib inline\n",
    "import matplotlib.pyplot as plt\n",
    "import sympy as sym\n",
    "from sympy import oo\n",
    "sym.init_printing()\n",
    "\n",
    "\n",
    "\n",
    "def fourier_transform(x):\n",
    "    return sym.transforms._fourier_transform(x, t, w, 1, -1, 'Fourier')\n",
    "    #return sym.integrate(x*sym.exp(-1j*w*t), (t,0,oo)).evalf()"
   ]
  },
  {
   "cell_type": "markdown",
   "metadata": {},
   "source": [
    "## Definición\n",
    "\n",
    "La [transformada de Fourier](https://en.wikipedia.org/wiki/Fourier_transform) está definida por\n",
    "\n",
    "\\begin{equation}\n",
    "X(j \\omega) = \\int_{-\\infty}^{\\infty} x(t) \\, e^{-j \\omega t} \\; dt\n",
    "\\end{equation}\n",
    "\n",
    "donde $X(j \\omega) = \\mathcal{F} \\{ x(t) \\}$ se usa como notación de la Transformada de Fourier de la señal $x(t)$. $X(j \\omega)$ es el espectro de la señal $x(t)$. El argumento $j \\omega$, como exponente de la exponencial, encierra el comportamiento de todas las señales oscilatorias $cos(\\omega t)$.\n",
    "\n",
    "Observe que la forma de la transformada de Fourier corresponde a la forma de la correlación. De esta manera, podría interpretarse como el \"parecido\" entre la señal $x(t)$ y  $e^{j \\omega t}$, es decir entre $x(t)$ y $cos(\\omega t)$\n",
    "\n",
    "\n",
    "La transformada inversa de Fourier $x(t) = \\mathcal{F}^{-1} \\{ X(j \\omega) \\}$ se define como\n",
    "\n",
    "\\begin{equation}\n",
    "x(t) = \\frac{1}{2 \\pi} \\int_{-\\infty}^{\\infty} X(j \\omega) \\, e^{j \\omega t} \\; d\\omega\n",
    "\\end{equation}\n"
   ]
  },
  {
   "cell_type": "markdown",
   "metadata": {},
   "source": [
    "## Propiedades\n",
    "\n",
    "### Invertible\n",
    "\n",
    "\\begin{equation}\n",
    "x(t) = \\mathcal{F}^{-1} \\left\\{ \\mathcal{F} \\{ x(t) \\} \\right\\}\n",
    "\\end{equation}\n",
    "\n",
    "Tomando las expresiones de la Transformada de Fourier y la Transformada Inversa de Fourier, se obtiene:\n",
    "\n",
    "\\begin{equation}\n",
    "\\begin{split}\n",
    "x(t) &= \\frac{1}{2 \\pi} \\int_{-\\infty}^{\\infty} \\underbrace{\\int_{-\\infty}^{\\infty} x(\\tau) e^{-j \\omega \\tau} d\\tau}_{X(j \\omega)} \\; e^{j \\omega t} d\\omega \\\\\n",
    "&= \\int_{-\\infty}^{\\infty} x(\\tau) \\left( \\frac{1}{2 \\pi} \\int_{-\\infty}^{\\infty} e^{-j \\omega \\tau} e^{j \\omega t}  d\\omega \\right) d\\tau \\\\\n",
    "&= \\int_{-\\infty}^{\\infty} x(\\tau) \\delta(t - \\tau) d\\tau = x(t)\n",
    "\\end{split}\n",
    "\\end{equation}\n",
    "\n",
    "### Linealidad\n",
    "\n",
    "\\begin{equation}\n",
    "\\mathcal{F} \\{ A \\cdot x_1(t) + B \\cdot x_2(t) \\} = A \\cdot X_1(j \\omega) + B \\cdot X_2(j \\omega)\n",
    "\\end{equation}\n",
    "\n",
    "Tomando la expresión de la Transformada de Fourier se obtiene:\n",
    "\n",
    "\n",
    "\\begin{equation}\n",
    "\\begin{split}\n",
    "&= \\int_{-\\infty}^{\\infty} (A \\cdot x_1(t) + B \\cdot x_2(t)) \\, e^{-j \\omega t} \\; dt \\\\\n",
    "&= \\int_{-\\infty}^{\\infty} A \\cdot x_1(t) \\, e^{-j \\omega t} \\; dt + \\int_{-\\infty}^{\\infty} B \\cdot x_2(t) \\, e^{-j \\omega t} \\; dt \\\\\n",
    "&= A \\cdot \\int_{-\\infty}^{\\infty} x_1(t) \\, e^{-j \\omega t} \\; dt + B \\cdot\\int_{-\\infty}^{\\infty} x_2(t) \\, e^{-j \\omega t} \\; dt\n",
    "\\end{split}\n",
    "\\end{equation}\n"
   ]
  },
  {
   "cell_type": "markdown",
   "metadata": {},
   "source": [
    "**Ejemplo - Transformada de Fourier de una señal exponencial causal**\n",
    "\n",
    "\n",
    "\\begin{equation}\n",
    "x(t) = e^{- \\alpha t} \\cdot \\epsilon(t)\n",
    "\\end{equation}\n",
    "\n",
    "con $\\alpha \\in \\mathbb{R}^+$ "
   ]
  },
  {
   "cell_type": "code",
   "execution_count": 2,
   "metadata": {},
   "outputs": [
    {
     "data": {
      "image/png": "[encoded data removed]",
      "text/latex": [
       "$\\displaystyle e^{- 4 t} \\theta\\left(t\\right)$"
      ],
      "text/plain": [
       " -4⋅t             \n",
       "ℯ    ⋅Heaviside(t)"
      ]
     },
     "execution_count": 2,
     "metadata": {},
     "output_type": "execute_result"
    }
   ],
   "source": [
    "t,w = sym.symbols('t omega', real=True)\n",
    "a = 4\n",
    "x = sym.exp(-a * t)*sym.Heaviside(t)\n",
    "x"
   ]
  },
  {
   "cell_type": "code",
   "execution_count": 3,
   "metadata": {},
   "outputs": [
    {
     "data": {
      "image/png": "[encoded data removed]",
      "text/latex": [
       "$\\displaystyle \\frac{1}{i \\omega + 4}$"
      ],
      "text/plain": [
       "   1   \n",
       "───────\n",
       "ⅈ⋅ω + 4"
      ]
     },
     "execution_count": 3,
     "metadata": {},
     "output_type": "execute_result"
    }
   ],
   "source": [
    "X = fourier_transform(x)\n",
    "X"
   ]
  },
  {
   "cell_type": "code",
   "execution_count": 4,
   "metadata": {},
   "outputs": [
    {
     "data": {
      "image/png": "[encoded data removed]",
      "text/plain": [
       "<Figure size 360x144 with 1 Axes>"
      ]
     },
     "metadata": {
      "needs_background": "light"
     },
     "output_type": "display_data"
    },
    {
     "data": {
      "image/png": "[encoded data removed]",
      "text/plain": [
       "<Figure size 360x144 with 1 Axes>"
      ]
     },
     "metadata": {
      "needs_background": "light"
     },
     "output_type": "display_data"
    },
    {
     "data": {
      "image/png": "[encoded data removed]",
      "text/plain": [
       "<Figure size 360x144 with 1 Axes>"
      ]
     },
     "metadata": {
      "needs_background": "light"
     },
     "output_type": "display_data"
    },
    {
     "data": {
      "image/png": "[encoded data removed]",
      "text/plain": [
       "<Figure size 360x144 with 1 Axes>"
      ]
     },
     "metadata": {
      "needs_background": "light"
     },
     "output_type": "display_data"
    },
    {
     "data": {
      "text/plain": [
       "<sympy.plotting.plot.Plot at 0x23f384c7198>"
      ]
     },
     "execution_count": 4,
     "metadata": {},
     "output_type": "execute_result"
    }
   ],
   "source": [
    "plt.rcParams['figure.figsize'] = 5, 2\n",
    "sym.plot(x, (t,-1,10), ylabel=r'Amp',line_color='blue',legend=True, label = 'x(t)')\n",
    "sym.plot(sym.re(X), (w,-20,20), ylabel=r'Real',line_color='blue',legend=True, label = 'X(w)')\n",
    "sym.plot(sym.im(X), (w,-20,20), ylabel=r'Imag',line_color='blue',legend=True, label = 'X(w)')\n",
    "\n",
    "sym.plot(sym.sqrt(\n",
    "         (sym.im(X)*sym.im(X)) + (sym.re(X)*sym.re(X))),\n",
    "         (w,-20,20), ylabel=r'Mag',line_color='blue',legend=True, label = 'X(w)')\n",
    "\n"
   ]
  },
  {
   "cell_type": "markdown",
   "metadata": {},
   "source": [
    "Observe que:\n",
    "\n",
    "- $X(\\omega)$ es una función definida para todos los valores de $\\omega$ y no solamente para los múltiplos enteros de un valor determinado $\\omega_0$.\n",
    "\n",
    "- $X(\\omega)$ es una función compleja, es decir que tiene parte imaginaria y parte real. Así, puede expresarse de forma cartesiana ($real + j \\cdot imaginario$) o de forma polar ($magnitud \\angle ángulo$). El \"parecido\" entre la señal $x(t)$ con $sin(\\omega t)$ se puede apreciar en la magnitud de $X(\\omega)$.\n",
    "\n",
    "- $|X(\\omega)|$ tiene un valor máximo en $\\omega=0$ y un decaimiento a medida que aumenta $\\omega$\n",
    "\n"
   ]
  },
  {
   "cell_type": "markdown",
   "metadata": {},
   "source": [
    "Analizando la magnitud de $X(\\omega)$"
   ]
  },
  {
   "cell_type": "code",
   "execution_count": 5,
   "metadata": {},
   "outputs": [
    {
     "data": {
      "image/png": "[encoded data removed]",
      "text/latex": [
       "$\\displaystyle \\frac{1}{i \\omega + 4}$"
      ],
      "text/plain": [
       "   1   \n",
       "───────\n",
       "ⅈ⋅ω + 4"
      ]
     },
     "execution_count": 5,
     "metadata": {},
     "output_type": "execute_result"
    }
   ],
   "source": [
    "X"
   ]
  },
  {
   "cell_type": "code",
   "execution_count": 6,
   "metadata": {},
   "outputs": [
    {
     "data": {
      "image/png": "[encoded data removed]",
      "text/latex": [
       "$\\displaystyle \\frac{4}{\\omega^{2} + 16}$"
      ],
      "text/plain": [
       "   4   \n",
       "───────\n",
       " 2     \n",
       "ω  + 16"
      ]
     },
     "execution_count": 6,
     "metadata": {},
     "output_type": "execute_result"
    }
   ],
   "source": [
    "X_real  = sym.re(X)\n",
    "X_real"
   ]
  },
  {
   "cell_type": "code",
   "execution_count": 7,
   "metadata": {},
   "outputs": [
    {
     "data": {
      "image/png": "[encoded data removed]",
      "text/latex": [
       "$\\displaystyle - \\frac{\\omega}{\\omega^{2} + 16}$"
      ],
      "text/plain": [
       "  -ω   \n",
       "───────\n",
       " 2     \n",
       "ω  + 16"
      ]
     },
     "execution_count": 7,
     "metadata": {},
     "output_type": "execute_result"
    }
   ],
   "source": [
    "X_imag  = sym.im(X)\n",
    "X_imag"
   ]
  },
  {
   "cell_type": "code",
   "execution_count": 8,
   "metadata": {},
   "outputs": [
    {
     "data": {
      "image/png": "[encoded data removed]",
      "text/latex": [
       "$\\displaystyle \\frac{1}{\\sqrt{\\omega^{2} + 16}}$"
      ],
      "text/plain": [
       "     1      \n",
       "────────────\n",
       "   _________\n",
       "  ╱  2      \n",
       "╲╱  ω  + 16 "
      ]
     },
     "execution_count": 8,
     "metadata": {},
     "output_type": "execute_result"
    }
   ],
   "source": [
    "X_magn = sym.sqrt(X_real*X_real + X_imag*X_imag).simplify()\n",
    "X_magn"
   ]
  },
  {
   "cell_type": "markdown",
   "metadata": {},
   "source": [
    "La magnitud de $X(\\omega)$ es simétrica respecto a $\\omega = 0$. Así, será suficiente analizar solamente un lado del espectro de una señal de tiempo continuo."
   ]
  },
  {
   "cell_type": "markdown",
   "metadata": {},
   "source": [
    "**Ejemplo - Transformada de Fourier de una señal exponencial por una senoidal**\n",
    "\n",
    "\n",
    "\\begin{equation}\n",
    "x(t) = sin(\\omega_0 t) \\cdot e^{- \\alpha t} \\cdot \\epsilon(t)\n",
    "\\end{equation}\n",
    "\n",
    "con $\\omega \\in \\mathbb{R}^+$ "
   ]
  },
  {
   "cell_type": "code",
   "execution_count": 9,
   "metadata": {},
   "outputs": [
    {
     "data": {
      "image/png": "[encoded data removed]",
      "text/latex": [
       "$\\displaystyle e^{- 2 t} \\sin{\\left(10 t \\right)} \\theta\\left(t\\right)$"
      ],
      "text/plain": [
       " -2⋅t                       \n",
       "ℯ    ⋅sin(10⋅t)⋅Heaviside(t)"
      ]
     },
     "execution_count": 9,
     "metadata": {},
     "output_type": "execute_result"
    }
   ],
   "source": [
    "t,w = sym.symbols('t omega', real=True)\n",
    "w0 = 10\n",
    "x1 = sym.sin(w0 * t)*sym.exp(-2*t)*sym.Heaviside(t)\n",
    "x1"
   ]
  },
  {
   "cell_type": "code",
   "execution_count": 10,
   "metadata": {},
   "outputs": [
    {
     "data": {
      "image/png": "[encoded data removed]",
      "text/latex": [
       "$\\displaystyle \\frac{10}{\\left(i \\omega + 2\\right)^{2} + 100}$"
      ],
      "text/plain": [
       "       10       \n",
       "────────────────\n",
       "         2      \n",
       "(ⅈ⋅ω + 2)  + 100"
      ]
     },
     "execution_count": 10,
     "metadata": {},
     "output_type": "execute_result"
    }
   ],
   "source": [
    "X1 = fourier_transform(x1)\n",
    "X1"
   ]
  },
  {
   "cell_type": "code",
   "execution_count": 11,
   "metadata": {
    "scrolled": true
   },
   "outputs": [
    {
     "data": {
      "image/png": "[encoded data removed]",
      "text/plain": [
       "<Figure size 360x144 with 1 Axes>"
      ]
     },
     "metadata": {
      "needs_background": "light"
     },
     "output_type": "display_data"
    },
    {
     "data": {
      "image/png": "[encoded data removed]",
      "text/plain": [
       "<Figure size 360x144 with 1 Axes>"
      ]
     },
     "metadata": {
      "needs_background": "light"
     },
     "output_type": "display_data"
    },
    {
     "data": {
      "text/plain": [
       "<sympy.plotting.plot.Plot at 0x23f385d7898>"
      ]
     },
     "execution_count": 11,
     "metadata": {},
     "output_type": "execute_result"
    }
   ],
   "source": [
    "plt.rcParams['figure.figsize'] = 5, 2\n",
    "sym.plot(x1, (t,-2,5), ylabel=r'Amp',line_color='blue',legend=True, label = 'x1(t)')\n",
    "#sym.plot(sym.re(X), (w,-20,20), ylabel=r'Real',line_color='blue',legend=True, label = 'X(w)')\n",
    "#sym.plot(sym.im(X), (w,-20,20), ylabel=r'Imag',line_color='blue',legend=True, label = 'X(w)')\n",
    "\n",
    "sym.plot(sym.sqrt(\n",
    "         (sym.im(X1)*sym.im(X1)) + (sym.re(X1)*sym.re(X1))),\n",
    "         (w,-60,60), ylabel=r'Mag',line_color='blue',legend=False, label = 'X1(w)')\n",
    "\n"
   ]
  },
  {
   "cell_type": "markdown",
   "metadata": {},
   "source": [
    "Observe que:\n",
    "- $x1(t)$ corresponde a $x(t)$ multiplicada con una función senoidal de frecuencia angular de $10$ rad/seg.\n",
    "\n",
    "- Al igual que con la magnitud de $X(\\omega)$, la magnitud de $X1(\\omega)$ decae con $\\omega$, sin embargo, hay un pico en $\\omega=10$ que se relaciona con la senoidal.\n"
   ]
  },
  {
   "cell_type": "markdown",
   "metadata": {},
   "source": [
    "**Ejemplo - Transformada de Fourier de senoidales y combinaciones causales**\n",
    "\n",
    "\n",
    "\n",
    "\\begin{equation}\n",
    "x(t) = sin(\\omega_0 t) \\cdot \\epsilon(t)\n",
    "\\end{equation}\n",
    "\n",
    "con $\\omega \\in \\mathbb{R}^+$ "
   ]
  },
  {
   "cell_type": "code",
   "execution_count": 12,
   "metadata": {},
   "outputs": [
    {
     "data": {
      "image/png": "[encoded data removed]",
      "text/latex": [
       "$\\displaystyle \\sin{\\left(5 t \\right)} \\theta\\left(t\\right) + \\sin{\\left(10 t \\right)} \\theta\\left(t\\right)$"
      ],
      "text/plain": [
       "sin(5⋅t)⋅Heaviside(t) + sin(10⋅t)⋅Heaviside(t)"
      ]
     },
     "execution_count": 12,
     "metadata": {},
     "output_type": "execute_result"
    }
   ],
   "source": [
    "w1 = 10\n",
    "w2 = 5\n",
    "x2_1 = sym.sin(w1 * t)*sym.Heaviside(t)\n",
    "\n",
    "x2_2 = sym.sin(w2 * t)*sym.Heaviside(t)\n",
    "\n",
    "\n",
    "x2 = x2_1 + x2_2\n",
    "x2"
   ]
  },
  {
   "cell_type": "code",
   "execution_count": 13,
   "metadata": {},
   "outputs": [
    {
     "data": {
      "image/png": "[encoded data removed]",
      "text/latex": [
       "$\\displaystyle - \\frac{10}{\\omega^{2} - 100}$"
      ],
      "text/plain": [
       "  -10   \n",
       "────────\n",
       " 2      \n",
       "ω  - 100"
      ]
     },
     "execution_count": 13,
     "metadata": {},
     "output_type": "execute_result"
    }
   ],
   "source": [
    "X2_1 = fourier_transform(x2_1)\n",
    "X2_1\n"
   ]
  },
  {
   "cell_type": "code",
   "execution_count": 14,
   "metadata": {},
   "outputs": [
    {
     "data": {
      "image/png": "[encoded data removed]",
      "text/latex": [
       "$\\displaystyle - \\frac{5}{\\omega^{2} - 25}$"
      ],
      "text/plain": [
       "  -5   \n",
       "───────\n",
       " 2     \n",
       "ω  - 25"
      ]
     },
     "execution_count": 14,
     "metadata": {},
     "output_type": "execute_result"
    }
   ],
   "source": [
    "X2_2 = fourier_transform(x2_2)\n",
    "X2_2"
   ]
  },
  {
   "cell_type": "code",
   "execution_count": 15,
   "metadata": {},
   "outputs": [
    {
     "data": {
      "image/png": "[encoded data removed]",
      "text/latex": [
       "$\\displaystyle \\frac{15 \\left(50 - \\omega^{2}\\right)}{\\left(\\omega^{2} - 100\\right) \\left(\\omega^{2} - 25\\right)}$"
      ],
      "text/plain": [
       "       ⎛      2⎞    \n",
       "    15⋅⎝50 - ω ⎠    \n",
       "────────────────────\n",
       "⎛ 2      ⎞ ⎛ 2     ⎞\n",
       "⎝ω  - 100⎠⋅⎝ω  - 25⎠"
      ]
     },
     "execution_count": 15,
     "metadata": {},
     "output_type": "execute_result"
    }
   ],
   "source": [
    "(X2_1+X2_2).simplify()"
   ]
  },
  {
   "cell_type": "code",
   "execution_count": 16,
   "metadata": {},
   "outputs": [
    {
     "data": {
      "image/png": "[encoded data removed]",
      "text/latex": [
       "$\\displaystyle \\frac{15 \\left(50 - \\omega^{2}\\right)}{\\left(\\omega^{2} - 100\\right) \\left(\\omega^{2} - 25\\right)}$"
      ],
      "text/plain": [
       "       ⎛      2⎞    \n",
       "    15⋅⎝50 - ω ⎠    \n",
       "────────────────────\n",
       "⎛ 2      ⎞ ⎛ 2     ⎞\n",
       "⎝ω  - 100⎠⋅⎝ω  - 25⎠"
      ]
     },
     "execution_count": 16,
     "metadata": {},
     "output_type": "execute_result"
    }
   ],
   "source": [
    "X2 = fourier_transform(x2)\n",
    "X2"
   ]
  },
  {
   "cell_type": "code",
   "execution_count": 17,
   "metadata": {},
   "outputs": [
    {
     "data": {
      "image/png": "[encoded data removed]",
      "text/plain": [
       "<Figure size 360x144 with 1 Axes>"
      ]
     },
     "metadata": {
      "needs_background": "light"
     },
     "output_type": "display_data"
    }
   ],
   "source": [
    "plt.rcParams['figure.figsize'] = 5, 2\n",
    "gt2_1 = sym.plot(x2_1, (t,-1,5), ylabel=r'Amp',line_color='blue',legend=True, label = 'x2_1(t)', show = False)\n",
    "gt2_2 = sym.plot(x2_2, (t,-1,5), ylabel=r'Amp',line_color='green',legend=True, label = 'x2_2(t)', show = False)\n",
    "gt2 = sym.plot(x2, (t,-1,5), ylabel=r'Amp',line_color='red',legend=True, label = 'x2(t)', show = False)\n",
    "gt2.extend(gt2_1)\n",
    "gt2.extend(gt2_2)\n",
    "gt2.show()\n",
    "\n"
   ]
  },
  {
   "cell_type": "code",
   "execution_count": 18,
   "metadata": {},
   "outputs": [
    {
     "data": {
      "image/png": "[encoded data removed]",
      "text/plain": [
       "<Figure size 432x216 with 1 Axes>"
      ]
     },
     "metadata": {
      "needs_background": "light"
     },
     "output_type": "display_data"
    }
   ],
   "source": [
    "\n",
    "plt.rcParams['figure.figsize'] = 6, 3\n",
    "\n",
    "gw2_1 = sym.plot(sym.sqrt(\n",
    "         (sym.im(X2_1)*sym.im(X2_1)) + (sym.re(X2_1)*sym.re(X2_1))),\n",
    "         (w,0,14), ylabel=r'Mag',line_color='blue',legend=False, label = 'X2_1(w)',show = False)\n",
    "gw2_2 = sym.plot(sym.sqrt(\n",
    "         (sym.im(X2_2)*sym.im(X2_2)) + (sym.re(X2_2)*sym.re(X2_2))),\n",
    "         (w,0,14), ylabel=r'Mag',line_color='green',legend=False, label = 'X2_2(w)',show = False)\n",
    "gw2 = sym.plot(sym.sqrt(\n",
    "         (sym.im(X2)*sym.im(X2)) + (sym.re(X2)*sym.re(X2))),\n",
    "         (w,0,14), ylabel=r'Mag',line_color='red',legend=False, label = 'X2(w)',show = False)\n",
    "\n",
    "gw2.extend(gw2_1)\n",
    "gw2.extend(gw2_2)\n",
    "gw2.show()"
   ]
  },
  {
   "cell_type": "code",
   "execution_count": 19,
   "metadata": {},
   "outputs": [
    {
     "data": {
      "image/png": "[encoded data removed]",
      "text/latex": [
       "$\\displaystyle \\frac{15 \\left(50 - \\omega^{2}\\right)}{\\left(\\omega^{2} - 100\\right) \\left(\\omega^{2} - 25\\right)}$"
      ],
      "text/plain": [
       "       ⎛      2⎞    \n",
       "    15⋅⎝50 - ω ⎠    \n",
       "────────────────────\n",
       "⎛ 2      ⎞ ⎛ 2     ⎞\n",
       "⎝ω  - 100⎠⋅⎝ω  - 25⎠"
      ]
     },
     "execution_count": 19,
     "metadata": {},
     "output_type": "execute_result"
    }
   ],
   "source": [
    "X2"
   ]
  },
  {
   "cell_type": "markdown",
   "metadata": {},
   "source": [
    "En la gráfica anterior se observa el efecto de la superposición lineal de los espectros de las dos señales senoidales."
   ]
  },
  {
   "cell_type": "markdown",
   "metadata": {},
   "source": [
    "**Ejercicio**\n",
    "\n",
    "Analice el espectro de\n",
    "\n",
    "\\begin{equation}\n",
    "x(t) = (sin(\\omega_0 t) + e^{-2t}) \\cdot \\epsilon(t)\n",
    "\\end{equation}\n",
    "\n",
    "con $\\omega_0 \\in \\mathbb{R}^+$ \n"
   ]
  },
  {
   "cell_type": "code",
   "execution_count": 20,
   "metadata": {},
   "outputs": [
    {
     "data": {
      "image/png": "[encoded data removed]",
      "text/latex": [
       "$\\displaystyle \\left(\\sin{\\left(15 t \\right)} + e^{- 2 t}\\right) \\theta\\left(t\\right)$"
      ],
      "text/plain": [
       "⎛             -2⋅t⎞             \n",
       "⎝sin(15⋅t) + ℯ    ⎠⋅Heaviside(t)"
      ]
     },
     "execution_count": 20,
     "metadata": {},
     "output_type": "execute_result"
    }
   ],
   "source": [
    "t,w = sym.symbols('t omega', real=True)\n",
    "w0 = 15\n",
    "a = 2\n",
    "x4 = (sym.sin(w0 * t) + sym.exp(-a*t))*sym.Heaviside(t)\n",
    "x4"
   ]
  },
  {
   "cell_type": "code",
   "execution_count": null,
   "metadata": {},
   "outputs": [],
   "source": []
  },
  {
   "cell_type": "markdown",
   "metadata": {},
   "source": [
    "### Dualidad\n",
    "\n",
    "Observe que la **Transformada de Fourier** y la **Transformada Inversa de Fourier** tienen formas parecidas.\n",
    "\n",
    "\\begin{align}\n",
    "X(\\omega) &= \\int_{-\\infty}^{\\infty} x(t) \\, e^{-j \\omega t} \\; dt \\\\\n",
    "x(t) &= \\frac{1}{2 \\pi} \\int_{-\\infty}^{\\infty} X(j \\omega) \\, e^{j \\omega t} \\; d\\omega\n",
    "\\end{align}\n",
    "\n",
    "La principal diferencia está en el factor de normalización $2 \\pi$ y el signo de la exponencial.\n",
    "\n",
    "Suponga que:\n",
    "\n",
    "\\begin{equation}\n",
    "x_2(\\omega) = \\mathcal{F} \\{ x_1(t) \\}\n",
    "\\end{equation}\n",
    "\n",
    "Puede pensarse que: \n",
    "\n",
    "\\begin{equation}\n",
    "x_2(t) = x_2(\\omega) \\big\\vert_{\\omega=t}\n",
    "\\end{equation}\n",
    "\n",
    "Entonces\n",
    "\n",
    "\\begin{equation}\n",
    "\\mathcal{F} \\{ x_2(t) \\} = \\int_{-\\infty}^{\\infty} x_2(\\omega) \\big\\vert_{\\omega=t} \\, e^{-j \\omega t} \\; dt\n",
    "\\end{equation}\n",
    "\n",
    "Esta tiene la forma de **Transformada de Fourier**, pero la función interna tiene a $\\omega$ como variable, esto indica que la integral se trata como una **Transformada inversa**.  Así, para volver a la **Transformada de Fourier**, se debe multiplicar por $2\\pi$ y quitar el signo de la exponencial del kernel de transformación.\n",
    "\n",
    "\\begin{equation}\n",
    "\\mathcal{F} \\{ x_2(t) \\} = 2 \\pi \\cdot x_1(- \\omega)\n",
    "\\end{equation}\n",
    "\n",
    "Esta propiedad permite llevar los análisis desde el dominio de las frecuencias al dominio del tiempo y viceversa."
   ]
  },
  {
   "cell_type": "markdown",
   "metadata": {},
   "source": [
    "## Teoremas\n",
    "\n",
    "Retomando la transformada\n",
    "\n",
    "\\begin{equation}\n",
    "X(j \\omega) = \\int_{-\\infty}^{\\infty} x(t) \\, e^{-j \\omega t} \\; dt\n",
    "\\end{equation}\n",
    "\n",
    "### Derivadas\n",
    "\n",
    "Dadas una señal $x(t)$ y su derivada respecto al tiempo $\\frac{d x(t)}{dt}$, y conocida la **Transformada de Fourier** $X(\\omega)$ :\n",
    "\n",
    "\n",
    "\\begin{equation}\n",
    "\\mathcal{F} \\left\\{ \\frac{d x(t)}{dt} \\right\\}  = \\int_{-\\infty}^{\\infty} \\frac{d x(t)}{dt} \\, e^{-j \\omega t} \\; dt\n",
    "\\end{equation}\n",
    "\n",
    "La integral se puede resolver por partes:\n",
    "\n",
    "\\begin{equation}\n",
    "\\begin{split}\n",
    "\\mathcal{F} \\left\\{ \\frac{d x(t)}{dt} \\right\\} &= x(t) \\cdot e^{-j \\omega t} \\big\\vert_{-\\infty}^{\\infty} - \\int_{-\\infty}^{\\infty} x(t) (-j \\omega) e^{-j \\omega t} \\; dt \\\\\n",
    "&= j \\omega \\int_{-\\infty}^{\\infty} x(t) e^{-j \\omega t} \\; dt \\\\\n",
    "&= j \\omega X(\\omega) \\\n",
    "\\end{split}\n",
    "\\end{equation}\n",
    "\n",
    "\\begin{equation}\n",
    "\\frac{d x(t)}{dt} = \\frac{d \\delta(t)}{dt} * x(t)\n",
    "\\end{equation}\n",
    "\n",
    "\n",
    "La principal aplicación está en la transformación de ecuaciones diferenciales.\n",
    "\n",
    "** Ejemplo**\n",
    "\n",
    "\\begin{equation}\n",
    "2y(t) + 2 \\frac{dy}{dt} - x(t) = 0 \n",
    "\\end{equation}\n",
    "\n",
    "Aplicando la **Transformada de Fourier** con sus propiedades se obtiene:\n",
    "\\begin{equation}\n",
    "2Y(\\omega) + 2 j \\omega Y(\\omega) - X(\\omega) = 0 \n",
    "\\end{equation}\n",
    "\n",
    "Observe que en el modelo en el dominio del tiempo (ecuación diferencial) no es posible despejar una expresión equivalente a $\\frac{x(t)}{y(t)}$. Por su parte, usando el modelo en el dominio de la frecuencia, se obtiene:\n",
    "\n",
    "\n",
    "\\begin{equation}\n",
    "Y(\\omega)(2 + 2 j \\omega ) = X(\\omega) \n",
    "\\end{equation}\n",
    "\n",
    "\\begin{equation}\n",
    "\\frac{Y(\\omega)}{X(\\omega)} = \\frac{1}{2+2j\\omega} = F(\\omega)\n",
    "\\end{equation}\n",
    "\n",
    "Esta relación es conocida como **Función de transferencia** y representa el efecto que tiene el sistema sobre una señal de entrada que en el caso de la transformada de Fourier es senoidal.\n",
    "\n"
   ]
  },
  {
   "cell_type": "code",
   "execution_count": 21,
   "metadata": {},
   "outputs": [
    {
     "data": {
      "image/png": "[encoded data removed]",
      "text/latex": [
       "$\\displaystyle \\frac{1}{2.0 i \\omega + 2}$"
      ],
      "text/plain": [
       "     1     \n",
       "───────────\n",
       "2.0⋅ⅈ⋅ω + 2"
      ]
     },
     "execution_count": 21,
     "metadata": {},
     "output_type": "execute_result"
    }
   ],
   "source": [
    "# La función de transferencia\n",
    "F = 1 / (2 +1j*2*w  )\n",
    "\n",
    "F"
   ]
  },
  {
   "cell_type": "code",
   "execution_count": 22,
   "metadata": {},
   "outputs": [
    {
     "data": {
      "image/png": "[encoded data removed]",
      "text/plain": [
       "<Figure size 360x144 with 1 Axes>"
      ]
     },
     "metadata": {
      "needs_background": "light"
     },
     "output_type": "display_data"
    },
    {
     "data": {
      "text/plain": [
       "<sympy.plotting.plot.Plot at 0x23f39c14a20>"
      ]
     },
     "execution_count": 22,
     "metadata": {},
     "output_type": "execute_result"
    }
   ],
   "source": [
    "plt.rcParams['figure.figsize'] = 5, 2\n",
    "sym.plot(sym.Abs(F), (w,0,10), ylabel=r'Mag',line_color='blue',legend=True, label = 'F(w)', show = True)\n"
   ]
  },
  {
   "cell_type": "markdown",
   "metadata": {},
   "source": [
    "La respuesta de un sistema ante una entrada senoidal de frecuencia específica $\\omega$ se determina por el valor complejo que toma $F(\\omega)$. Por ejemplo, en la frecuencia $\\omega = 1$, $F(1) = \\frac{1}{2+2j}$"
   ]
  },
  {
   "cell_type": "code",
   "execution_count": 23,
   "metadata": {},
   "outputs": [
    {
     "data": {
      "image/png": "[encoded data removed]",
      "text/latex": [
       "$\\displaystyle 0.125 \\left(2 - 2.0 i\\right)$"
      ],
      "text/plain": [
       "0.125⋅(2 - 2.0⋅ⅈ)"
      ]
     },
     "execution_count": 23,
     "metadata": {},
     "output_type": "execute_result"
    }
   ],
   "source": [
    "F1 = F.subs(w,1)\n",
    "F1\n"
   ]
  },
  {
   "cell_type": "code",
   "execution_count": 24,
   "metadata": {},
   "outputs": [
    {
     "data": {
      "image/png": "[encoded data removed]",
      "text/latex": [
       "$\\displaystyle 0.353553390593274$"
      ],
      "text/plain": [
       "0.353553390593274"
      ]
     },
     "execution_count": 24,
     "metadata": {},
     "output_type": "execute_result"
    }
   ],
   "source": [
    "magF1 = sym.Abs(F1)\n",
    "magF1"
   ]
  },
  {
   "cell_type": "markdown",
   "metadata": {},
   "source": [
    "Así, si el sistema es excitado con un seno de frecuencia 1, con amplitud 1, la salida será un seno de amplitud 0.35 y tendrá un desfase definido por el ángulo de la función de transferencia.\n",
    "\n",
    "\\begin{equation}\n",
    "0.35 sin(1t + ang)\n",
    "\\end{equation}\n",
    "\n",
    "### Ejercicio\n",
    "\n",
    "Deduzca cómo se calcula el ángulo de fase que introduce el sistema."
   ]
  },
  {
   "cell_type": "code",
   "execution_count": 25,
   "metadata": {},
   "outputs": [
    {
     "data": {
      "image/png": "[encoded data removed]",
      "text/latex": [
       "$\\displaystyle \\frac{1}{2.0 i \\omega + 2}$"
      ],
      "text/plain": [
       "     1     \n",
       "───────────\n",
       "2.0⋅ⅈ⋅ω + 2"
      ]
     },
     "execution_count": 25,
     "metadata": {},
     "output_type": "execute_result"
    }
   ],
   "source": [
    "F"
   ]
  },
  {
   "cell_type": "code",
   "execution_count": 26,
   "metadata": {},
   "outputs": [
    {
     "data": {
      "image/png": "[encoded data removed]",
      "text/latex": [
       "$\\displaystyle 0.025 \\left(2 - 6.0 i\\right)$"
      ],
      "text/plain": [
       "0.025⋅(2 - 6.0⋅ⅈ)"
      ]
     },
     "execution_count": 26,
     "metadata": {},
     "output_type": "execute_result"
    }
   ],
   "source": [
    "F.subs(w,3)"
   ]
  },
  {
   "cell_type": "code",
   "execution_count": 27,
   "metadata": {},
   "outputs": [
    {
     "data": {
      "image/png": "[encoded data removed]",
      "text/latex": [
       "$\\displaystyle \\frac{2}{4.0 \\omega^{2} + 4}$"
      ],
      "text/plain": [
       "    2     \n",
       "──────────\n",
       "     2    \n",
       "4.0⋅ω  + 4"
      ]
     },
     "execution_count": 27,
     "metadata": {},
     "output_type": "execute_result"
    }
   ],
   "source": [
    "sym.re(F)"
   ]
  },
  {
   "cell_type": "code",
   "execution_count": 28,
   "metadata": {},
   "outputs": [
    {
     "data": {
      "image/png": "[encoded data removed]",
      "text/latex": [
       "$\\displaystyle - \\frac{2.0 \\omega}{4.0 \\omega^{2} + 4}$"
      ],
      "text/plain": [
       " -2.0⋅ω   \n",
       "──────────\n",
       "     2    \n",
       "4.0⋅ω  + 4"
      ]
     },
     "execution_count": 28,
     "metadata": {},
     "output_type": "execute_result"
    }
   ],
   "source": [
    "sym.im(F)"
   ]
  },
  {
   "cell_type": "code",
   "execution_count": 29,
   "metadata": {},
   "outputs": [
    {
     "data": {
      "image/png": "[encoded data removed]",
      "text/latex": [
       "$\\displaystyle \\sqrt{\\frac{4.0 \\omega^{2}}{\\left(4.0 \\omega^{2} + 4\\right)^{2}} + \\frac{4}{\\left(4.0 \\omega^{2} + 4\\right)^{2}}}$"
      ],
      "text/plain": [
       "       _______________________________\n",
       "      ╱          2                    \n",
       "     ╱      4.0⋅ω             4       \n",
       "    ╱   ───────────── + ───────────── \n",
       "   ╱                2               2 \n",
       "  ╱     ⎛     2    ⎞    ⎛     2    ⎞  \n",
       "╲╱      ⎝4.0⋅ω  + 4⎠    ⎝4.0⋅ω  + 4⎠  "
      ]
     },
     "execution_count": 29,
     "metadata": {},
     "output_type": "execute_result"
    }
   ],
   "source": [
    "sym.sqrt(sym.re(F)**2 + \n",
    "     sym.im(F)**2  )"
   ]
  },
  {
   "cell_type": "code",
   "execution_count": 30,
   "metadata": {},
   "outputs": [
    {
     "data": {
      "image/png": "[encoded data removed]",
      "text/latex": [
       "$\\displaystyle - \\operatorname{atan}{\\left(\\frac{2.0 \\omega \\left(2.0 \\omega^{2} + 2\\right)}{4.0 \\omega^{2} + 4} \\right)}$"
      ],
      "text/plain": [
       "     ⎛      ⎛     2    ⎞⎞\n",
       "     ⎜2.0⋅ω⋅⎝2.0⋅ω  + 2⎠⎟\n",
       "-atan⎜──────────────────⎟\n",
       "     ⎜         2        ⎟\n",
       "     ⎝    4.0⋅ω  + 4    ⎠"
      ]
     },
     "execution_count": 30,
     "metadata": {},
     "output_type": "execute_result"
    }
   ],
   "source": [
    "sym.atan(sym.im(F)/sym.re(F))"
   ]
  },
  {
   "cell_type": "code",
   "execution_count": 31,
   "metadata": {},
   "outputs": [
    {
     "data": {
      "image/png": "[encoded data removed]",
      "text/latex": [
       "$\\displaystyle \\sqrt{- \\frac{1}{- 4.0 \\omega^{2} - 4}}$"
      ],
      "text/plain": [
       "     ______________\n",
       "    ╱     -1       \n",
       "   ╱  ──────────── \n",
       "  ╱          2     \n",
       "╲╱    - 4.0⋅ω  - 4 "
      ]
     },
     "execution_count": 31,
     "metadata": {},
     "output_type": "execute_result"
    }
   ],
   "source": [
    "sym.Abs(F)"
   ]
  },
  {
   "cell_type": "code",
   "execution_count": 32,
   "metadata": {},
   "outputs": [
    {
     "data": {
      "image/png": "[encoded data removed]",
      "text/latex": [
       "$\\displaystyle \\arg{\\left(\\frac{1}{2.0 i \\omega + 2} \\right)}$"
      ],
      "text/plain": [
       "   ⎛     1     ⎞\n",
       "arg⎜───────────⎟\n",
       "   ⎝2.0⋅ⅈ⋅ω + 2⎠"
      ]
     },
     "execution_count": 32,
     "metadata": {},
     "output_type": "execute_result"
    }
   ],
   "source": [
    "sym.arg(F)"
   ]
  },
  {
   "cell_type": "code",
   "execution_count": 33,
   "metadata": {},
   "outputs": [
    {
     "data": {
      "image/png": "[encoded data removed]",
      "text/plain": [
       "<Figure size 360x144 with 1 Axes>"
      ]
     },
     "metadata": {
      "needs_background": "light"
     },
     "output_type": "display_data"
    },
    {
     "data": {
      "image/png": "[encoded data removed]",
      "text/plain": [
       "<Figure size 360x144 with 1 Axes>"
      ]
     },
     "metadata": {
      "needs_background": "light"
     },
     "output_type": "display_data"
    },
    {
     "data": {
      "text/plain": [
       "<sympy.plotting.plot.Plot at 0x23f38584a58>"
      ]
     },
     "execution_count": 33,
     "metadata": {},
     "output_type": "execute_result"
    }
   ],
   "source": [
    "plt.rcParams['figure.figsize'] = 5, 2\n",
    "sym.plot(sym.Abs(F), (w,0,10), ylabel=r'Mag',line_color='blue',legend=True, label = 'F(w)', show = True)\n",
    "sym.plot(sym.arg(F), (w,0,10), ylabel=r'arg',line_color='blue',legend=True, label = 'F(w)', show = True)\n"
   ]
  },
  {
   "cell_type": "code",
   "execution_count": null,
   "metadata": {},
   "outputs": [],
   "source": []
  }
 ],
 "metadata": {
  "kernelspec": {
   "display_name": "Python 3",
   "language": "python",
   "name": "python3"
  },
  "language_info": {
   "codemirror_mode": {
    "name": "ipython",
    "version": 3
   },
   "file_extension": ".py",
   "mimetype": "text/x-python",
   "name": "python",
   "nbconvert_exporter": "python",
   "pygments_lexer": "ipython3",
   "version": "3.7.3"
  },
  "latex_envs": {
   "bibliofile": "biblio.bib",
   "cite_by": "apalike",
   "current_citInitial": 1,
   "eqLabelWithNumbers": true,
   "eqNumInitial": 0
  },
  "varInspector": {
   "cols": {
    "lenName": 16,
    "lenType": 16,
    "lenVar": 40
   },
   "kernels_config": {
    "python": {
     "delete_cmd_postfix": "",
     "delete_cmd_prefix": "del ",
     "library": "var_list.py",
     "varRefreshCmd": "print(var_dic_list())"
    },
    "r": {
     "delete_cmd_postfix": ") ",
     "delete_cmd_prefix": "rm(",
     "library": "var_list.r",
     "varRefreshCmd": "cat(var_dic_list()) "
    }
   },
   "types_to_exclude": [
    "module",
    "function",
    "builtin_function_or_method",
    "instance",
    "_Feature"
   ],
   "window_display": false
  }
 },
 "nbformat": 4,
 "nbformat_minor": 4
}
