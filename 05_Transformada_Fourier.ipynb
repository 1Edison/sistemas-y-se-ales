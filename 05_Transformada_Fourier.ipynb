{
 "cells": [
  {
   "cell_type": "markdown",
   "metadata": {},
   "source": [
    "# Transformada de Fourier"
   ]
  },
  {
   "cell_type": "code",
<<<<<<< Updated upstream
   "execution_count": 1,
=======
   "execution_count": 6,
>>>>>>> Stashed changes
   "metadata": {},
   "outputs": [],
   "source": [
    "\n",
    "# !pip install sympy==1.4\n",
    "%matplotlib inline\n",
    "import matplotlib.pyplot as plt\n",
    "import sympy as sym\n",
    "from sympy import oo\n",
    "sym.init_printing()\n",
    "\n",
    "\n",
    "\n",
    "def fourier_transform(x):\n",
    "    return sym.fourier_transform(x, t, w/(2*sym.pi))\n",
    "    #\n",
    "    #return sym.integrate(x*sym.exp(-1j*w*t), (t,0,oo)).evalf()"
   ]
  },
  {
   "cell_type": "markdown",
   "metadata": {},
   "source": [
    "## Definición\n",
    "\n",
    "La [transformada de Fourier](https://en.wikipedia.org/wiki/Fourier_transform) está definida por\n",
    "\n",
    "\\begin{equation}\n",
    "X(j \\omega) = \\int_{-\\infty}^{\\infty} x(t) \\, e^{-j \\omega t} \\; dt\n",
    "\\end{equation}\n",
    "\n",
    "donde $X(j \\omega) = \\mathcal{F} \\{ x(t) \\}$ se usa como notación de la Transformada de Fourier de la señal $x(t)$. $X(j \\omega)$ es el espectro de la señal $x(t)$. El argumento $j \\omega$, como exponente de la exponencial, encierra el comportamiento de todas las señales oscilatorias $cos(\\omega t)$.\n",
    "\n",
    "Observe que la forma de la transformada de Fourier corresponde a la forma de la correlación. De esta manera, podría interpretarse como el \"parecido\" entre la señal $x(t)$ y  $e^{j \\omega t}$, es decir entre $x(t)$ y $cos(\\omega t)$\n",
    "\n",
    "\n",
    "La transformada inversa de Fourier $x(t) = \\mathcal{F}^{-1} \\{ X(j \\omega) \\}$ se define como\n",
    "\n",
    "\\begin{equation}\n",
    "x(t) = \\frac{1}{2 \\pi} \\int_{-\\infty}^{\\infty} X(j \\omega) \\, e^{j \\omega t} \\; d\\omega\n",
    "\\end{equation}\n"
   ]
  },
  {
   "cell_type": "markdown",
   "metadata": {},
   "source": [
    "## Propiedades\n",
    "\n",
    "### Invertible\n",
    "\n",
    "\\begin{equation}\n",
    "x(t) = \\mathcal{F}^{-1} \\left\\{ \\mathcal{F} \\{ x(t) \\} \\right\\}\n",
    "\\end{equation}\n",
    "\n",
    "Tomando las expresiones de la Transformada de Fourier y la Transformada Inversa de Fourier, se obtiene:\n",
    "\n",
    "\\begin{equation}\n",
    "\\begin{split}\n",
    "x(t) &= \\frac{1}{2 \\pi} \\int_{-\\infty}^{\\infty} \\underbrace{\\int_{-\\infty}^{\\infty} x(\\tau) e^{-j \\omega \\tau} d\\tau}_{X(j \\omega)} \\; e^{j \\omega t} d\\omega \\\\\n",
    "&= \\int_{-\\infty}^{\\infty} x(\\tau) \\left( \\frac{1}{2 \\pi} \\int_{-\\infty}^{\\infty} e^{-j \\omega \\tau} e^{j \\omega t}  d\\omega \\right) d\\tau \\\\\n",
    "&= \\int_{-\\infty}^{\\infty} x(\\tau) \\delta(t - \\tau) d\\tau = x(t)\n",
    "\\end{split}\n",
    "\\end{equation}\n",
    "\n",
    "### Linealidad\n",
    "\n",
    "\\begin{equation}\n",
    "\\mathcal{F} \\{ A \\cdot x_1(t) + B \\cdot x_2(t) \\} = A \\cdot X_1(j \\omega) + B \\cdot X_2(j \\omega)\n",
    "\\end{equation}\n",
    "\n",
    "Tomando la expresión de la Transformada de Fourier se obtiene:\n",
    "\n",
    "\n",
    "\\begin{equation}\n",
    "\\begin{split}\n",
    "&= \\int_{-\\infty}^{\\infty} (A \\cdot x_1(t) + B \\cdot x_2(t)) \\, e^{-j \\omega t} \\; dt \\\\\n",
    "&= \\int_{-\\infty}^{\\infty} A \\cdot x_1(t) \\, e^{-j \\omega t} \\; dt + \\int_{-\\infty}^{\\infty} B \\cdot x_2(t) \\, e^{-j \\omega t} \\; dt \\\\\n",
    "&= A \\cdot \\int_{-\\infty}^{\\infty} x_1(t) \\, e^{-j \\omega t} \\; dt + B \\cdot\\int_{-\\infty}^{\\infty} x_2(t) \\, e^{-j \\omega t} \\; dt\n",
    "\\end{split}\n",
    "\\end{equation}\n"
   ]
  },
  {
   "cell_type": "markdown",
   "metadata": {},
   "source": [
    "**Ejemplo - Transformada de Fourier de una señal exponencial causal**\n",
    "\n",
    "\n",
    "\\begin{equation}\n",
    "x(t) = e^{- \\alpha t} \\cdot \\epsilon(t)\n",
    "\\end{equation}\n",
    "\n",
    "con $\\alpha \\in \\mathbb{R}^+$ "
   ]
  },
  {
   "cell_type": "markdown",
   "metadata": {},
   "source": [
    "\\begin{equation}\n",
    "X(j \\omega) = \\int_{-\\infty}^{\\infty} x(t) \\, e^{-j \\omega t} \\; dt\n",
    "\\end{equation}"
   ]
  },
  {
   "cell_type": "markdown",
   "metadata": {},
   "source": [
    "\\begin{equation}\n",
    "X(j \\omega) = \\int_{-\\infty}^{\\infty} e^{- \\alpha t} \\cdot \\epsilon(t) \\, e^{-j \\omega t} \\; dt\n",
    "\\end{equation}"
   ]
  },
  {
   "cell_type": "markdown",
   "metadata": {},
   "source": [
    "\\begin{equation}\n",
    "X(j \\omega) = \\int_0^{\\infty} e^{- \\alpha t} \\, e^{-j \\omega t} \\; dt\n",
    "\\end{equation}"
   ]
  },
  {
   "cell_type": "markdown",
   "metadata": {},
   "source": [
    "\\begin{equation}\n",
    "X(j \\omega) = \\int_0^{\\infty} e^{- (\\alpha + j\\omega) t}\\; dt\n",
    "\\end{equation}"
   ]
  },
  {
   "cell_type": "markdown",
   "metadata": {},
   "source": [
    "\\begin{equation}\n",
    "X(j \\omega) = \\lim_{t\\rightarrow \\infty}\\frac{e^{- (\\alpha + j\\omega)t}}{- (\\alpha + j\\omega)} - \\frac{e^{- (\\alpha + j\\omega)t}}{- (\\alpha + j\\omega)}(0) \\end{equation}"
   ]
  },
  {
   "cell_type": "markdown",
   "metadata": {},
   "source": [
    "\\begin{equation}\n",
    "X(j \\omega) = 0 - \\frac{1}{-(\\alpha+j\\omega)} \n",
    "\\end{equation}"
   ]
  },
  {
   "cell_type": "markdown",
   "metadata": {},
   "source": [
    "\\begin{equation}\n",
    "X(j \\omega) = \\frac{1}{(\\alpha+j\\omega)} \n",
    "\\end{equation}"
   ]
  },
  {
   "cell_type": "code",
   "execution_count": 2,
   "metadata": {
    "scrolled": true
   },
   "outputs": [
    {
     "data": {
<<<<<<< Updated upstream
      "image/png": "iVBORw0KGgoAAAANSUhEUgAAAEQAAAAVCAYAAAD/wUjgAAAAOXRFWHRTb2Z0d2FyZQBNYXRwbG90bGliIHZlcnNpb24zLjYuMiwgaHR0cHM6Ly9tYXRwbG90bGliLm9yZy8o6BhiAAAACXBIWXMAABJ0AAASdAHeZh94AAAEXElEQVR4nO2YfYhWVRDGf7t+sKKUoJG6YAaRJCrmFkqYIWz24T+VUCZpHwhRqUFosVQ8PqHlQhBFEEQWlkYpS0lJVEa2kYSrlX1okFAppJZpmpq2bdsf51z37PXe1zXWF4Kef+Zl5s7MuXPPPGfOW9PZ2cn/6EJtNZPZftL2+mrmPFNUtSDA5cCWKuc8I9RUo2Vs9wOOAv0S9deSxuWeGwAsBmYDo4BfgFcASWovif0ycC1woaSjPVhLA+GjzJO0Im+v1g7pAKbE35OA4cDU9AHbw4E24BFgG/A0cBhoAp4tCmr7MuA2YHlRMWw/YLvT9uxMJ2kr8Caw1PagvE9VCiLpb2AE8DvQJmmvpIOZ3XZ/4C3Crpgm6RZJDxGKtwuYZ3tYQejHCUV7riT1xCi35vRPAMOAhXmHvj19qSLYXgLoNI9Nk7QRuBTYJqmoRxcBDcB8SZ9kSklHbL8B3A9cCaxNcl8MNAIvSPqjJHcDcAT4LlVK2mz7W+Bu282SOjJbYUFszwTmEUjwHOBH4CWgmzNhK79WspgMu6KcAHxekCvjjT3A8wX+v0aZ3yF3ATXA6wUxm4EHE1WH7ez3HEmr4rqXEIr6bmbsVhDbfYBVwCxgJ+GLnACuA5YBo4Hbs+cl7Qf2F7xEEcYR2iKPG4HBwIoS4qyL8s+cvpHATZ8W+GwFVsa1bgLeT2wfRZntxKspKwiByGYBy4FHJf0FYHsxsBGYG7fY9oJFnA61wHjbI4Bjkn6L+hlR1scWzKMxyt2ZwvZAwo7bUUSmktbYHkwoyEpJRTuvLcpu5H6yILYnAfcC6yQ15RK0214JXEEgun9TkIeBZmA+gQTvi/rs9Jl1Gv80Zz3Qh9BmZcgI9bMio6RDto8DI1N9ukMWEHryWMmXGhtlTYVFlELSamB1qotfeiQFM0m0DwIOAPsk/ZCYhkR5MO+TYCLQDnxV4ZkDwPmpIi3I9ChvrRAAukiyN1Af5U8l9msIw1x+3M9OlToKYLsvgbO2SzpRIf+AJBYQC2K7DjgPaJV0VYUAvY3+UZYt+s4oX8zpf45yCMUYQyhWYbsA2K4lkPn3qT4bzLI2GFoW4Cxhb5SnDF22JwPXA+9I2pwz7yGM9aNL4k6I8pRjPsFownt/kSprAeJg8yUwxvZNRd62p8RjudcQj+0dQIPt8UmuCwhzwiEC0ef9OoFWYKjtiwpCZzvncIX0k6P8MFWmHLKY0KsttjcQClRL6PMGoJ+kbozcS1hKINsPbK8CBgI3A53AjByZpmgBZhJ4ZmfOlo3qy2yPJVwsv5G0NnlmOmGOWZc6nrzLSHqPcKy2EAhpITAHuATYQFc/9yokvQrcQeCFewhtsgYYK2lTBdcWYB8wtyBmK+HUPBql6GojbJ8L3AC8LWl36luV6//Zgu0mwgVvoqRKfJH3WwA8A0yV9HFqq/YfRL2NpwhjwGM9dYh3pyagJV8M+I8XRNJxQltviUNeTzCKcIlcVGT8BziScn6mRNXWAAAAAElFTkSuQmCC\n",
=======
      "image/png": "iVBORw0KGgoAAAANSUhEUgAAAEEAAAAYCAYAAACldpB6AAAACXBIWXMAAA7EAAAOxAGVKw4bAAADg0lEQVRYCdWY7XETMRCG7QwFONCB3UEgFWB3kJgKwB0kk1/2P4Z0kHSQCR0kVJBxOsAdENyBeR9ldeh0OsUHvgNr5rw66d0P7a5W8vU3m02vi7ZYLJbScyq66kJfEx39LpyghQ9k1E/RfhPjusIedKRoLD2PHelqrKZVJyjyQz1fZBVPj76eo8ZWbsEgucMtYNhQxbEd2n7m8/lSz0lbeiT7bFv5wo3Bh7Z0VROovoeKwjoXLc2faf6NYW70/uIWEuZE+GPR85zscM70rEWvGW/kBDGRyi61Q6GJ/kxYdwqIUg9uRQ8TuGJI83eGu1afQroUHRWARMdw30TfJqZ7Ns+pNFG/dCrpnfH3outXKea6MTEQmUndfM04jrtnTvwsjjpRirDefc1wkdE7UQJ3pKeERU7Q4LsK3uMuAaAGPMUTeocP/lmrhdEUE80H61+IxhHBSWyDVIZVi5gJMjKVk5zjysPFGwFbCVPZhsYH/6ALJ+DxkZR9EmWfxwY5x2jcZQvmq0/G0F4/k+qvMNSCkkOrqB6Z8DUx7ofgn5a2gynHqB+GIornGo8Nt+mXiXhJ51kKafpYTFzU3hk+t0iiXDjOy5dMFo4+HEkmsaVuRR9EL0XDBv+kcIIxEzWutm4fipKqOCU2UkM7aWQHLV4Memk5J+Ao7C012Yyse1GcOxbN1bDvYJwTBMRjVGeqeliI8CrjbbUPJvhCekMdLIDimHMCkU4VPC+HxYdr8eMhhX/oM8F7dCDFFCka5/Wd3uMouckd/RBxonbq5anP4nDCZz9WQ6kXuW1KAHP1ALE4eeCd4BhkQLxnALbSbLHIjjNtagpzVT9rk8n22Z3DOkceBAh/jAVDnXTjlKX+cGHKRRnDSGWyJtUIak8yiiw2x8RY+J+8E0gLf10tAcVMau68SW5lkaaL6GxTiLGZaKdaqR6Y3BQWXSu/HdzNKZQmRrzEeOoSE0L/ps+eddEM9Lmr7BZCyaDjGpxbHHMml9tnqj5w3X50ThDA3ddFWTDHBo0imTzfn6d38vtRUvh7TZS4k1Tu+BktN5rj/E81MulKct0RLFpX69g2s0Z/oFLa/uWYFkfAintNE1vM8Zx+I18TmvD/T1gy90+zlWxxW32vnaAocoyy31NFrzZYhofPHcN77QRbJRctf9mrXXg0Af53BoWfmfa1r89lw/iTWd1awIEP538BYbOnTbbRaEAAAAAASUVORK5CYII=\n",
>>>>>>> Stashed changes
      "text/latex": [
       "$\\displaystyle e^{- t} \\theta\\left(t\\right)$"
      ],
      "text/plain": [
       " -t     \n",
       "ℯ  ⋅θ(t)"
      ]
     },
     "execution_count": 2,
     "metadata": {},
     "output_type": "execute_result"
    }
   ],
   "source": [
    "t,w = sym.symbols('t omega', real=True)\n",
    "a = 1\n",
    "x = sym.exp(-a * t)*sym.Heaviside(t)\n",
    "x"
   ]
  },
  {
   "cell_type": "code",
   "execution_count": 3,
   "metadata": {},
   "outputs": [
    {
<<<<<<< Updated upstream
     "data": {
      "image/png": "iVBORw0KGgoAAAANSUhEUgAAAC0AAAAcCAYAAAD1PDaSAAAAOXRFWHRTb2Z0d2FyZQBNYXRwbG90bGliIHZlcnNpb24zLjYuMiwgaHR0cHM6Ly9tYXRwbG90bGliLm9yZy8o6BhiAAAACXBIWXMAABJ0AAASdAHeZh94AAACEklEQVR4nO2XMWgUQRSGvzMBi4RoJSgWES1ioYkYEBtBrAQtLJSU9toE1CKIv7+dpBAVxU7tTaNFQIQgNhZKToOIGkS00uIU1IAIOYuZM5t1T7lz7sJCfjj25s3c229/3sy+q9TrdcqmNSsN0I56UyWyvQ84DewGNgJHJd1JlT+rlE73Ac+AkwlzFiqZ05KmgWkA26nSFqqUNb0K3S2tQndLlVRvRNv9wLY4nCWc2Q+AmqT3SW4SlezIA0aBmcx4Ml5vA8cT3ied091UKWu6lNC9ALZLUyOSKuWvadvXbHeknUyp/JF3Fvi5EiCt9OPLoCV97gDMLeCdpPP/WNrox28CU39b+Bva9mbgAzAk6ZXty8BeYI+kZYVvuwrMSBpv8RmaqpV+POv0CLAAvLG9HTgBHMgDR70EdqWAbUfZjTgMPJe0CJwBqpIeNvldDdjQabhmyjtdtd0DHAEuNiZsXwLeSroaQwPA96KEtieAiUxoLVC3fSoTOyjpUbvQeaerwBZgHTCXmTuWg9wJvGiS8wbBgMbnbkHsSbvAsPRG7AO2Ruj1ce5bnNsPbAJ+xPEQsAM4V5RQUo1QPsT1Xwnt6fz/gP4BTXAOgrv9wCIwZvsLcAW4Bxy2PUdw7WmMJVOuHwcYtD1CQT/eKI9h4LWkBUmfCDU5BtwHrrN06D8GPgKH4oZNqVHCn4fZOJ6M3y/kF/4CnmKp2VKiOdQAAAAASUVORK5CYII=\n",
      "text/latex": [
       "$\\displaystyle \\frac{1}{i \\omega + 1}$"
      ],
      "text/plain": [
       "   1   \n",
       "───────\n",
       "ⅈ⋅ω + 1"
      ]
     },
     "execution_count": 3,
     "metadata": {},
     "output_type": "execute_result"
=======
     "ename": "AttributeError",
     "evalue": "module 'sympy' has no attribute 'transforms'",
     "output_type": "error",
     "traceback": [
      "\u001b[1;31m---------------------------------------------------------------------------\u001b[0m",
      "\u001b[1;31mAttributeError\u001b[0m                            Traceback (most recent call last)",
      "Cell \u001b[1;32mIn[3], line 1\u001b[0m\n\u001b[1;32m----> 1\u001b[0m X \u001b[38;5;241m=\u001b[39m \u001b[43mfourier_transform\u001b[49m\u001b[43m(\u001b[49m\u001b[43mx\u001b[49m\u001b[43m)\u001b[49m\n\u001b[0;32m      2\u001b[0m X\n",
      "Cell \u001b[1;32mIn[1], line 11\u001b[0m, in \u001b[0;36mfourier_transform\u001b[1;34m(x)\u001b[0m\n\u001b[0;32m     10\u001b[0m \u001b[38;5;28;01mdef\u001b[39;00m \u001b[38;5;21mfourier_transform\u001b[39m(x):\n\u001b[1;32m---> 11\u001b[0m     \u001b[38;5;28;01mreturn\u001b[39;00m \u001b[43msym\u001b[49m\u001b[38;5;241;43m.\u001b[39;49m\u001b[43mtransforms\u001b[49m\u001b[38;5;241m.\u001b[39m_fourier_transform(x, t, w, \u001b[38;5;241m1\u001b[39m, \u001b[38;5;241m-\u001b[39m\u001b[38;5;241m1\u001b[39m, \u001b[38;5;124m'\u001b[39m\u001b[38;5;124mFourier\u001b[39m\u001b[38;5;124m'\u001b[39m)\n",
      "\u001b[1;31mAttributeError\u001b[0m: module 'sympy' has no attribute 'transforms'"
     ]
>>>>>>> Stashed changes
    }
   ],
   "source": [
    "X = fourier_transform(x)\n",
    "X"
   ]
  },
  {
   "cell_type": "code",
<<<<<<< Updated upstream
   "execution_count": 4,
   "metadata": {},
   "outputs": [
    {
     "data": {
      "image/png": "iVBORw0KGgoAAAANSUhEUgAAADAAAAAfCAYAAACh+E5kAAAAOXRFWHRTb2Z0d2FyZQBNYXRwbG90bGliIHZlcnNpb24zLjYuMiwgaHR0cHM6Ly9tYXRwbG90bGliLm9yZy8o6BhiAAAACXBIWXMAABJ0AAASdAHeZh94AAACSElEQVR4nO2XT4jNURTHP2+MphBKKUpRFij/8kpSSrJQFAvMRilLSgqLKb6+s9E0Cw0ly2F2EguLKckkko2MmYWNLEazYPFSWIjmWfzu4/feNOY3793fm3413839nfO7fe8595x7zz2larVKkdEZm9D2PuASsAtYAxyX9CD2OjV05MC5FHgHnMuBexqiR0DSMDAMYDs2/TTkEYG2YsGB+caCA/ONUuxCZnsZsDGIb0lqwlOgImki6mLkcI0CZWAkJfeH8S5wOvZi0SPQbhT+DBTegU4A24XNo8KfgaZuIdvrgCFgNfALsKSHMQ3LimbPwG/gvKQtwEFgwPaSeGZlR5QUsj0GHM6jUM2GlguZ7TKwGPjUujl1vJk6u5auUdurgHvAGUmzhtL2oO1rGekzdXZ1EbA9AOwBdjcaZHsUGJF0IchdwCPguqRXGY3KjKyd3V8HbG8GzgIHZtjN98DOMLcEDALPJA1Fs7oJpCNwGRiV9HyGuRVge/jeC5wExmwfDbpTksZzsfI/qFXiRcAxoK/2w/YN4KOkW0G1HPgBIOklGc6P7R6gJ6XqAqq2L6Z0hyS9aMkBYAOwAkjv4AngSkreRvK+nwvuAPdTch8wCdxM6SbnyFmHmgMrw/gdwPZ+YC3wM8ibgK3A1bmQS6qQpB6B5xtJY/OhFaPTqDkwAUwB3ba/kuzQY+CI7XGSnXwTdG1BQ2cHsN72Dho6uw4ASV9IcrUbeALc5l8ReQ18Jqm0U22xPkGZJGVradsfvnvTkwr/Gi18Q/MHcx28INXtqS4AAAAASUVORK5CYII=\n",
      "text/latex": [
       "$\\displaystyle \\frac{1}{\\omega^{2} + 1}$"
      ],
      "text/plain": [
       "  1   \n",
       "──────\n",
       " 2    \n",
       "ω  + 1"
      ]
     },
     "execution_count": 4,
     "metadata": {},
     "output_type": "execute_result"
    }
   ],
=======
   "execution_count": null,
   "metadata": {},
   "outputs": [],
>>>>>>> Stashed changes
   "source": [
    "sym.re(X)"
   ]
  },
  {
   "cell_type": "code",
<<<<<<< Updated upstream
   "execution_count": 5,
   "metadata": {},
   "outputs": [
    {
     "data": {
      "image/png": "iVBORw0KGgoAAAANSUhEUgAAAEEAAAAcCAYAAAA+59JsAAAAOXRFWHRTb2Z0d2FyZQBNYXRwbG90bGliIHZlcnNpb24zLjYuMiwgaHR0cHM6Ly9tYXRwbG90bGliLm9yZy8o6BhiAAAACXBIWXMAABJ0AAASdAHeZh94AAACeElEQVR4nO2YT4hNYRjGf9efphBTSlFCWaAMMiUpJVkoigVmwcoSSWExxeOx0WQxDaVZTiYb+bOwmLIgkWxkzE02SKNRLG4KRTTX4pw7c+7Jnbl/Ps5Rns2533ve877vffve7zznKZTLZfIE233AZmCTpHLq3jBwX9KJkDlnhQzWKmyvBo4A29MNiPES2BA674zQAVvEaWBY0oMa90vAotBJc9ME2zOBvcDNhK3X9rGE23zga+jcuWkCsAJYABQTtv1U/+kO4EXoxHlqQnt8/QJgexuwBPger1cBa4HboRPn6WAcBcaBLtufgEvAHWC37SLQDzyNbUGRm50g6SPQDXQBd4ErwClgI/AE+ADskjQeOnchbzwhC1SNg+23wLIGnr8m6WDQijJA+kx4DXxr4Pn3AWvJDEHGwfY/O1OSCv/PBDJ8RdpeCgwS0eAfgCXdyqKWLF+RP4HjktYAO4A+23OyKCQ342B7hIgHjP7t3LlgjLY7gdnAu4AxtzJJthYD+yTd+J1v5ozR9kLgKnC4hoaQ9h+wfa6O0HOB58DR6RyD7oRGVSHbbUQfRBckPQ5Zi6QhYCjOM6VvsCY0qgrZLgADwD1Jg6HqaAYhd0I9qtC6xHoLcAAYsb0nth2SVEw/+KcRpAkJVagnYesF3ki6HJuqVCFJj6jjTLLdTfR1WUEbULZ9MmHbKelhs/WH2gm1VKEziXUH8KyJ2P3A9cS6Bxgj0hsqGGsi7gRCNaE9vk6nCp1tNLCkEtEoEcf6DJQkvWqt5EmEakJmqlAt2J4HrEyYltteT9TAKkIWhCdkqQpNgU6i8auM4MX49/m0Y25oc5bInDHmAb8AdXLrFDPuIzQAAAAASUVORK5CYII=\n",
      "text/latex": [
       "$\\displaystyle - \\frac{\\omega}{\\omega^{2} + 1}$"
      ],
      "text/plain": [
       " -ω   \n",
       "──────\n",
       " 2    \n",
       "ω  + 1"
      ]
     },
     "execution_count": 5,
     "metadata": {},
     "output_type": "execute_result"
    }
   ],
=======
   "execution_count": null,
   "metadata": {},
   "outputs": [],
>>>>>>> Stashed changes
   "source": [
    "sym.im(X)"
   ]
  },
  {
   "cell_type": "code",
<<<<<<< Updated upstream
   "execution_count": 6,
   "metadata": {
    "scrolled": false
   },
   "outputs": [
    {
     "data": {
      "image/png": "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\n",
      "text/plain": [
       "<Figure size 500x200 with 1 Axes>"
      ]
     },
     "metadata": {},
     "output_type": "display_data"
    },
    {
     "data": {
      "image/png": "iVBORw0KGgoAAAANSUhEUgAAAeoAAAC+CAYAAAD6BUxvAAAAOXRFWHRTb2Z0d2FyZQBNYXRwbG90bGliIHZlcnNpb24zLjYuMiwgaHR0cHM6Ly9tYXRwbG90bGliLm9yZy8o6BhiAAAACXBIWXMAAA9hAAAPYQGoP6dpAAAnhUlEQVR4nO3deVwV5f4H8M8B2QQFEdmUEPcFF8QNu4im4ZJbdc22q/VT00orsc0227xaVno1l0y0brfUe69ZmpqSV1BTc0MjxCVFMAVJk0WI/fn98TgHDiAc4JwzM/h5v17zmjlzZs58h/H4Oc+sBiGEABEREWmSndoFEBER0a0xqImIiDSMQU1ERKRhDGoiIiINY1ATERFpGIOaiIhIwxjUREREGsagJmpAhBDIzs4Gb49A1HAwqIkakJycHLi7uyMnJ0ftUojIQhjUREREGsagJiIi0jAGNZGV7NmzB6NHj4a/vz8MBgO++eabGueJi4tDaGgonJ2d0aZNG6xcudL6hRKRpjGoiawkNzcXPXr0wMcff2zW9MnJyRg5ciTCw8MRHx+PV155Bc888ww2btxo5UqJSMsMfHoWkfUZDAZs2rQJ48aNu+U0L730EjZv3oykpCTjuOnTp+PEiRM4cOBAlfMUFBSgoKAAAJCSYsDTTxdh797mOHEiC927N7XoOhCROhqpXQARSQcOHEBkZKTJuGHDhiE6OhpFRUVwcHCoNM/8+fPx1ltv3Xy1H0BXAMDkycChQ4DBYOWiqcErKSlBUVGR2mXojoODA+zt7S3yWQxqIo1IT0+Hj4+PyTgfHx8UFxfj6tWr8PPzqzTPnDlzEBUVhQMH7DF8uCuAbADAkSPAvn1AeLgtKqeGSAiB9PR0ZGZmql2Kbnl4eMDX1xeGev5iZlATaUjFL7RyZOpWX3QnJyc4OTlhyxb5+uGHga++ksMbNjCoqe6UkPb29kbjxo3rHTa3EyEE8vLykJGRAQBV/siuDQY1kUb4+voiPT3dZFxGRgYaNWqE5s2bVzvvtm2yP2ZMWVBv326NKul2UFJSYgzpmv7tUdVcXFwAyO+wt7d3vXaD86xvIo0ICwtDTEyMybidO3eid+/eVR6fVqSkAMnJgL19WQva3h44fx5ITbVmxdRQKcekGzdurHIl+qb8/ep7jJ9BTWQlN27cwPHjx3H8+HEA8vKr48ePI/Vmes6ZMwcTJ040Tj99+nSkpKQgKioKSUlJWLNmDaKjo/H8889Xu5wff5T90FDAzU0O9+hh+h5RXXB3d/1Y6u/HoCaykiNHjiAkJAQhISEAgKioKISEhOCNN94AAKSlpRlDGwCCgoKwbds2xMbGomfPnnjnnXewZMkS3H///dUu59Ah2e/fv2xcnz5KDZZbHyJSB49RE1nJoEGDqn2K1WeffVZpXEREBI4dO1ar5Rw9KvtKOANlLepafhQRaRBb1EQ6JgTw889yuGfPsvHdu8t+fLychohMvf7663jiiSfqNO93332HkJAQlJaWWriqqjGoiXQsJQXIzgYcHICOHcvGd+oEODoCWVnyRDOi20FJSQkGDBhQ6XBRVlYWAgIC8NprrwEArly5gn/84x945ZVX6rScUaNGwWAw4CvlEgsrY1AT6ZjSmu7SRYa1wsEB6NxZDicm2r4uIjXY29vj888/x/fff48vv/zSOH7mzJnw9PQ0nh8SHR2NsLAwtG7dus7Levzxx7F06dL6lmwWBjWRjiUkyH63bpXf69JF9k+etF091HAJAeTmqtPV5vBN+/btMX/+fMycOROXL1/Gt99+i/Xr1+Pzzz+Ho6MjAGD9+vUYM2aMcZ4tW7bAw8PDuCv7+PHjMBgMeOGFF4zTTJs2DQ899JDx9ZgxY3Do0CGcP3++nn/ZmvFkMiIdU57f0bVr5fcY1GRJeXlll//Z2o0bgKur+dPPnDkTmzZtwsSJE5GQkIA33ngDPW+exHH9+nX88ssv6N27t3H6gQMHIicnB/Hx8QgNDUVcXBy8vLwQFxdnnCY2NhazZs0yvg4MDIS3tzf27t2LNm3a1Hsdq8MWNZGOnTol+506VX6PQU23K4PBgBUrVmDXrl3w8fHByy+/bHwvJSUFQgj4+/sbx7m7u6Nnz56IjY0FUBbKJ06cQE5ODtLT03HmzBkMGjTIZDktW7bEhQsXrL4+bFET6ZQQ5gV1UhJQWgrY8Wc51UPjxrJlq9aya2vNmjVo3LgxkpOT8dtvvxmPR//5558AAGdnZ5PpBw0ahNjYWERFRWHv3r149913sXHjRuzbtw+ZmZnw8fFBpwpfNBcXF+Tl5dVpnWqDQU2kU5cuyeN3jRoBbdtWfr9tW3kr0dxc4PJloFUr29dIDYfBULvdz2o6cOAAFi1ahO3bt+P999/H5MmT8cMPP8BgMMDLywuA3AXeokUL4zyDBg1CdHQ0Tpw4ATs7O3Tp0gURERGIi4vD9evXERERUWk5f/zxh8lnWAt/YxPp1OnTst+mjekZ3woHB/keAJw9a7u6iNT0559/YtKkSZg2bRqGDh2K1atX4/Dhw/jkk08AAG3btkXTpk1xssIxIeU49eLFixEREQGDwYCIiAjExsYiNja2UlDn5+fj3LlzxjsPWhODmkinfv1V9tu1u/U07dvL/pkz1q+HSAtefvlllJaW4r333gMA3HHHHfjwww/xwgsv4MKFC7Czs8PQoUOxb98+k/mU49T/+te/jMeiBw4ciGPHjlV5fPrgwYNwcnJCWFiY1deJQU2kU+fOyX51Qd2hg+yzRU23g7i4OCxbtgyfffYZXMvtp586dSoGDBiAyZMnQwiBJ554AuvXr690Z7HBgwejpKTEGMrNmjVDly5d0KJFC3RWbkxw07p16/DII4/Y5AljPEZNpFNKi7qq49MKtqjpdhIREYHi4uIq39uxY4dxODIyEi1btsSGDRtMro3+4IMP8MEHH5jMpzz9rrzff/8d//3vf3HERk+9YYuaSKfMaVErQc0WNVEZg8GAVatW3TLUa5KcnIzly5cjKCjIwpVVjS1qIh0Soiyoq2tRKyGenMxLtIjK69GjB3ooj5mrpb59+6Jv374WrujW+LUl0qErV+RlV3Z2QHW3Kw4IkJdvFRTIy7mISH8Y1EQ6pByfDggAnJxuPV2jRmVBrrTAicxV3fPUqWaW+vsxqIl0yJzj0wpl1ziDmszlcPPCfFvcdashU/5+DlXd6KAWeIyaSIfMOT6tYFBTbdnb28PDwwMZGRkAgMaNG8NgMKhclX4IIZCXl4eMjAx4eHjA3t6+Xp/HoCbSIXNudqJQglqZh8gcvr6+AGAMa6o9Dw8P49+xPhjURDrEFjVZm8FggJ+fH7y9vVFUVKR2Obrj4OBQ75a0gkFNpEO1aVEr05w7Jy/r4h5Mqg17e3uLBQ7VDU8mI9KZ69eBP/6Qw+Y8r16ZJiurbD4i0g8GNZHOKLuwfX0BN7eap3dxAfz9TeclIv1gUBPpTG2OTyt4nJpIvxjURDpTm+PTCgY1kX4xqIl0pj4tal6iRaQ/DGoinalLi7r8md9EpC8MaiKd4TFqotsLg5pIR/LygMuX5XBdgjotTX4GEekHg5pIR86fl30PD8DT0/z5PD3lPOU/g4j0gUFNpCPK8em2bWt/hzHu/ibSJwY1kY7U5vGWFfHMbyJ9YlAT6UhdTiRT8MxvIn1iUBPpSF0uzVJw1zeRPjGoiXSkPi1qBjWRPjGoiXSioAC4cEEO16VFrcxz4QJQWGipqojI2hjURDpx/jxQWiqfmOXnV/v5/f2Bxo2BkhIgOdny9RGRdTCoiXTi9GnZ79ix9pdmAXKeDh3k8JkzlquLiKyLQU2kE0q4KmFbFwxqIv1hUBPpBIOa6PbEoCbSifK7vuuKQU2kPwxqIp1gi5ro9sSgJtKBzEwgI0MOt29f989R5r18Gbhxo95lEZENNFK7ACItCAkJgcHMU6mPHTtm5WoqU1rAfn5A06Z1/xxPT8DLC7h6FTh7FggJsUx9RGQ9DGoiAOPGjVO7hGpZYre3okMHGdSnTzOoifSAQU0EYO7cuWqXUC1LBnXnzsD+/UBSUv0/i4isj8eoiXTg1CnZr88Z34ouXWT/5Mn6fxYRWR9b1EQVlJSUYNGiRfj3v/+N1NRUFFa4MfYff/xh85oSEmQ/OLj+n9W1q+wnJtb/s4jI+tiiJqrgrbfewkcffYQHHngAWVlZiIqKwn333Qc7Ozu8+eabNq8nP1+e+AVYJqiVFvXZs3w4B5EeMKiJKvjyyy/x6aef4vnnn0ejRo3w0EMPYfXq1XjjjTdw8ODBWn3W8uXLERQUBGdnZ4SGhmLv3r23nDY2NhYGg6FS9/33ySgpATw85IM16qtVK6BJE6C4uOz51kSkXQxqogrS09PRrVs3AICbmxuysrIAAKNGjcLWrVvN/pwNGzbgueeew6uvvor4+HiEh4djxIgRSE1NrXa+06dPIy0tzdjl5AQCALp1q9vDOCoyGMpa1dz9TaR9DGqiClq1aoW0tDQAQLt27bBz504AwOHDh+Hk5GT253z00UeYPHkypkyZgs6dO2Px4sUICAjAihUrqp3P29sbvr6+xi4xUX5NLbHbW8ETyoj0g0FNVMG9996LXbt2AQCeffZZvP7662jfvj0mTpyI//u//zPrMwoLC3H06FFERkaajI+MjMT+/furnTckJAR+fn4YMmQIdu/ejV9+keOrCuqCggJkZ2ebdOZgi5pIP3jWN1EFCxYsMA7/9a9/RatWrbB//360a9cOY8aMMeszrl69ipKSEvj4+JiM9/HxQXp6epXz+Pn5YdWqVQgNDUVBQQG++OILDBkyBD4+eQCccXNvvIn58+fjrbfeMnvdFN27y/6JE7WelYhsjEFNVIP+/fujf//+dZq34m1JhRC3vFVpx44d0bHchdJhYWE4f/4qduxwBlB2WVV5c+bMQVRUlPF1dnY2AgICaqyrZ0/ZP3tW3vPbza3GWYhIJdz1TVSFL774AnfeeSf8/f2RkpICAFi8eDG+/fZbs+b38vKCvb19pdZzRkZGpVZ2dQIDRwKQZ3t7elZ+38nJCU2bNjXpzOHtLT9TCODnn80uh4hUwKAmqmDFihWIiorCyJEjkZmZiZKSEgCAh4cHFi9ebNZnODo6IjQ0FDExMSbjY2JiMGDAALNrOXIkHwCq3O1dX0qr+vhxy382EVkOg5qogqVLl+LTTz/Fq6++Cnt7e+P43r17I0G5RZgZoqKisHr1aqxZswZJSUmYNWsWUlNTMX36dAByt/XEiRON0y9evBjffPMNzp49i8TERMyZMwfHjgkAZceULUl5IEd8vOU/m4gsh8eoiSpITk5GSBWPlXJyckJubq7ZnzNhwgRcu3YNb7/9NtLS0hAcHIxt27YhMFBeF52WlmZyTXVhYSGef/55XLp0CS4uLujatSvat9+Cs2eB3r3rv14VsUVNpA8GIYRQuwgiLenSpQvmz5+PsWPHokmTJjhx4gTatGmDJUuW4LPPPrPZ86gLCuQdxIqKgPPngaCgmufJzs6Gu7s7srKyajxe/euvQPv2gJOTPKGsEX+2E2kSv5pEFbzwwgt4+umnkZ+fDyEEDh06hHXr1uHvf/87oqOjbVbHL7/IkPb0BFq3tvznt2kjfwjk5Minc1nyhipEZDkMaqIKHn/8cRQXF+PFF19EXl4eHn74YbRs2RJLly5FeHi4zeo4fFj2e/e2zK1DK7Kzk8ep9+yRy2JQE2kTTyYjqsLUqVORkpKCjIwMpKen49ChQ4iPj0e7du1sVsORI7Lfp4/1lqFcHl7DzdKISEUMaqKbMjMz8cgjj6BFixbw9/fHkiVL4OnpiWXLlqFdu3Y4ePAg1qxZY7N6lKC2xolkCuVKsQMHrLcMIqofnkxGdNNTTz2FLVu2YMKECfj++++RlJSEYcOGIT8/H3PnzkVERITNasnNBdzdgZIS4OJF+WhKc9TmZDIAyMgAfHzkrvXr1+UyiUhb2KImumnr1q1Yu3YtPvjgA2zevBlCCHTo0AH/+9//bBrSgGzhlpQAAQFAy5bWW463tzypTAjgp5+stxwiqjsGNdFNly9fRpebj5Vq06YNnJ2dMWXKFFVq2bNH9iMirHMiWXlhYbLP49RE2sSgJrqptLQUDg4Oxtf29vZwdXVVpZa4ONkfOND6y1KCmsepibSJl2cR3SSEwGOPPQYnJycAQH5+PqZPn14prL/++mur1pGfX7Yb2hZ73MufUFZUBJT7rUJEGsCgJrpp0qRJJq8fffRRVeo4dEjelczXV945zNp69AC8vICrV2VY26IVT0TmY1AT3bR27Vq1SwBgutvb2senAXnjk8hI4KuvgO+/Z1ATaQ2PURNpjBLUtjzRfPhw2f/+e9stk4jMw6Am0pAbN4C9e+XwoEG2W+6wYbIfHw+kp9tuuURUMwY1kYbs2gUUFsonZXXubLvlensDoaFyeMcO2y2XiGrGoCbSkC1bZH/0aNscny6Pu7+JtIlBTaQRpaXA1q1yeNQo2y9/xAjZ37lT3hWNiLSBQU2kEUePyuPDbm7qnHndr5+81/cff5Q9EISI1MegJtKI776T/WHDgJv3XLGpRo2Au++Ww9u22X75RFQ1BjWRBggBbNggh8eMUa+O0aNlf906WRMRqY9BTaQBR48Cp08DLi7AuHHq1XHffYCrK3D2LO/9TaQVDGoiDfjXv2R/7FjAjMdIW42bGzB+vBz+7DP16iCiMgxqIpUVF8tdzQCg0u3FTSi3PN+wAfjzT3VrISIGNZHqvvsOyMiQD8aIjFS7GnnGeevWQHY28M03aldDRAxqIhUJAbz/vhyeMkUbj5i0sytrVXP3N5H6DELw3E4itezbB4SHA46OQEqKfLRlfWRnZ8Pd3R1ZWVloWo+D3efPA23byrujHT8OdO9ev7qIqO7YoiZSkdKanjSp/iFtSW3aAA88IFv8L72kdjVEtze2qIlUcvIk0LWrbLWeOgV06FD/z7RUixoAzp2TDwYpKgJiYoChQ+tfHxHVHlvURCr54APZv/dey4S0pbVtCzz1lBx+8UV5L3Iisj0GNZEKfvut7NrpF19Ut5bqvPaavK47Ph746iu1qyG6PTGoiVQwe7bcpRwRIR+GoVVeXsCcOXL41VeB/Hx16yG6HTGoiWxs61bg3/8G7O2BRYvUrqZmzz4LtGoFpKYCH3+sdjVEtx8GNZEN3bhRdtx31iwgJETdeszh4gK8844cnjdPPgaTiGyHQU1kQ3PnypZp69bAm2+qXY35/vY3oFs3IDNThjUR2Q6DmshGtm8HFi+WwytWyKdU6YW9PbBwoRxetEjuuici22BQE9nAjh3yMqzSUuCxx4Dhw9WuqPYiI+VueyHkw0N27lS7IqLbA4OayMp++EE+Y7qgQIb1qlVqV1Q3BgOwZAkwYYI8Y/2++4CfflK7KqKGj0FNZEW7dwNjxsjLmsaMAdav18aDN+rK3h745z+Bu+8GcnOBkSOBpCS1qyJq2BjURFayZw8wapR8pvPIkfK4rqOj2lXVn6Mj8PXXQN++8gzwyEh5ghwRWQeDmsgKfvxRhnNeHjBsGLBxI+DkpHZVluPmJq8H79RJ3mUtMhK4elXtqogaJgY1kYUdPAiMGCF3DQ8dCmzaBDg7q12V5Xl5yRPKAgKA06eBXr2AbdvUroqo4WFQE1lIVpZ8JGREBJCTAwweDHz7rbxhSEMVECDDOigIuHgRuOce4OGHgd9/V7syooaDQU1UT8XFwPLlQLt28vnShYUysLZsARo3Vrs66+vUCUhIkPcvt7MD1q2Tj8f84gt5KRcR1Q+DmqiOhJDHabt3B55+Wh6j7dQJ+O47GdJ6uqFJfbm6ysd2/vST/HtcuwZMnCgPAVy4oHZ1RPrGoCaqgxMn5AlUo0bJy5O8vIBly4Cff5ataYNB7QrV0bs3cOQI8Pe/y5PnduwAunQBpk6V49nCJqo9gxD86hCZ4/ff5Ylh//kPsGuXDB1HR/l0qVdeATw81K4QyM7Ohru7O7KystC0aVNVazlzBnjiCSAurmxcSAgwbZo8jt2kiXq1EekJg5qoGuXDefduoKSk7L0HHgAWLJAnUmmFloIakD9m9u0DPvkE+O9/5d3ZALmr/IEH5K7xwYPlHgkiqhqDmqicnBzg8GF5idXu3ZXDuVcvYPx42bVtq16dt6K1oC7v2jV5V7NVq4BTp0zfCwkBhgyRXXj47XV8n6gmDGq6beXny92zhw7Jk6AOHgQSEysfR9V6OJen5aBWCAHs3SvvbrZrF/DLL6bvOzjIu5716AEEB8vHawYHa+PQApEaGNTUoOXnyztnpabKUD51St6c4/RpICVFPs2qosBAoH9/2Y0erf1wLk8PQV1Rejrwv//Jh5fs2nXr25G2aiVDu1s3uU3uuEN2AQE83k0NG4OadEcIuYs6I8O0+/13+Z/+xYtlXU033mjaVLaYlWDu1w/w9bXNeliDHoO6PCGAc+eAAwdkSzshQfYvXqx+vmbNTIPb1xfw9gZatDDtmjWT13oT6QmDmmxCCNm6/fNPef/r3Fzgxg3ZV4Zv3JABnJ1d1mVlAZmZwPXrsvvjD/m6uNj8Zbu4yP+827cHOnY07Xx8rHsp1fLly7Fw4UKkpaWha9euWLx4McLDw285fVxcHKKiopCYmAh/f3+8+OKLmD59utnL03tQ30pmpjwskZAg+xcuyJZ3aqp8z1z29kDz5jKw3d1l5+FRNqx0bm5lnaur6bCLi+ycnRn6ZBsMao0SQu6WLSkp61ccrq4rLq7cr6orKirrKr4uLKzcV7qCAtmVH87PL+srw3l5Mpz//NPyfyM3N9lK8vY27QICTLtmzdS5rnnDhg3429/+huXLl+POO+/EJ598gtWrV+PkyZO44447Kk2fnJyM4OBgTJ06FdOmTcOPP/6Ip556CuvWrcP9999v1jIbalBXJztbtriV4E5NBa5ckXtTyndZWZZftrNzWXAr4e3sLK8hV/rKsKNj1Z2Dg+zKDytdo0Zl/eo6e3vTYXM6O7vK/dv1+n+tUy2oly41vQGCEGVd+dcV37NmV1pa/XDFfsVxSlfxtbmdEsTKZzRUjRqVtU6UTnnt7i53RytdkyayxdOsGeDpKfvKsNZvz9mvXz/06tULK1asMI7r3Lkzxo0bh/nz51ea/qWXXsLmzZuRVO4Bz9OnT8eJEydw4MABs5Z5Owa1uQoL5d3jrl6VrfDMTBneSlf+dfm9POWHb9yo3d4cPaoY3uZ2BoN5w8rr8v3qhqt6XdP46jqg5vEVpwHkzXxmzrT99gCARuZMJIRATk6ORRe8c6e81SLVncFQ/S/m8r+07exMf5mX/wVefnz5X/HKr3xHRzlO+cXv6ChbCRVbBUqLonwLonxrQ+kamfWvrnrFxbIlpVWFhYU4cuQInnnmGWSXKzQiIgJ79uwxGafYu3cvIiIiTN4LDw/H6tWrce3aNTg4OFSap6CgAAXKxcmA8Xta1edT2S7s+igulnuIlEM5+flyz5GyJ0nZy1R+uKDg1nunyu/BKr9Xq+KeL2XvWPnhqvae3aoz98e/Mn1RUf3+Tg3N9evApEmW/9wmTZrAUMOuDLNa1MqvdCIiIrIcc/Z+mRXU1mhRZ2dnIyAgABcvXmxQu+ga4no1xHUCrLteaWlp6NSpE2JiYtC3b1/j+IULF2L9+vU4evRopXlCQkLw6KOPYvbs2cZxBw8exLBhw3DmzBn4+PhUmqdiizotLQ19+/bFyZMn0bJlS4uuk1r4708/GuI6AdZdL3Na1GbthDQYDFb7ozdt2rRBbVBFQ1yvhrhOgHXWy9nZGfb29sjJyTH57OzsbPj7+1e5vJYtWyIzM9PkvdzcXDRq1AitW7euctf3rTRp0qTBbSv++9OPhrhOgHrrxYsLiKzA0dERoaGhiImJMRkfExODAQMGVDlPWFhYpel37tyJ3r171yqkiahhYVATWUlUVBRWr16NNWvWICkpCbNmzUJqaqrxuug5c+Zg4sSJxumnT5+OlJQUREVFISkpCWvWrEF0dDSef/55tVaBiDTAAuff1o2TkxPmzp0LJycntUqwioa4Xg1xnQDrr9eECRNw7do1vP3220hLS0NwcDC2bduGwMBAAPJ4cmq5+2UGBQVh27ZtmDVrFpYtWwZ/f38sWbLE7GuoARjXpSFtK/7704+GuE6A+uvFG54QNSDKiZ/mnKBCRPrAoCYiItIwHqMmIiLSMAY1ERGRhjGoiYiINMzmQX3hwgVMnjwZQUFBcHFxQdu2bTF37lwUFhaaTJeamorRo0fD1dUVXl5eeOaZZypNozXz5s3DgAED0LhxY3h4eFQ5jcFgqNStXLnStoXWgjnrpMdtVVHr1q0rbZeXX35Z7bJqZfny5QgKCoKzszNCQ0Oxd+9etUuqlzfffLPSNvHV4cPC9+zZg9GjR8Pf3x8GgwHffPONyftCCLz55pvw9/eHi4sLBg0ahMTERHWKNVNN6/TYY49V2nb9+/dXp1gzzZ8/H3369EGTJk3g7e2NcePG4fTp0ybTqLWtbB7Up06dQmlpKT755BMkJiZi0aJFWLlyJV555RXjNCUlJbjnnnuQm5uLffv2Yf369di4caPJrRW1qLCwEOPHj8eTTz5Z7XRr165FWlqasZtkjTu9W0hN66TXbVUV5TIqpXvttdfULslsGzZswHPPPYdXX30V8fHxCA8Px4gRI0wu/9Kjrl27mmyThIQEtUuqtdzcXPTo0QMff/xxle+///77+Oijj/Dxxx/j8OHD8PX1xd13323x2zZbUk3rBADDhw832Xbbtm2zYYW1FxcXh6effhoHDx5ETEwMiouLERkZidzcXOM0qm0roQHvv/++CAoKMr7etm2bsLOzE5cuXTKOW7dunXBychJZWVlqlFgra9euFe7u7lW+B0Bs2rTJpvVYwq3WSe/bShEYGCgWLVqkdhl11rdvXzF9+nSTcZ06dRIvv/yyShXV39y5c0WPHj3ULsOiKn7/S0tLha+vr1iwYIFxXH5+vnB3dxcrV65UocLaq+r/tEmTJomxY8eqUo+lZGRkCAAiLi5OCKHuttLEMeqsrCx4enoaXx84cADBwcHw9/c3jhs2bBgKCgqqfJiB3syYMQNeXl7o06cPVq5cidLSUrVLqrOGtK3ee+89NG/eHD179sS8efN0s/u+sLAQR48eRWRkpMn4yMhI7N+/X6WqLOPs2bPw9/dHUFAQHnzwQZw/f17tkiwqOTkZ6enpJtvOyckJERERut92sbGx8Pb2RocOHTB16lRkZGSoXVKtZGVlAYAxm9TcVqrdmUxx7tw5LF26FB9++KFxXHp6eqUnBTVr1gyOjo5IT0+3dYkW9c4772DIkCFwcXHBrl27MHv2bFy9elVXu1nLayjb6tlnn0WvXr3QrFkzHDp0CHPmzEFycjJWr16tdmk1unr1KkpKSiptBx8fH11tg4r69euHf/7zn+jQoQOuXLmCd999FwMGDEBiYiKaN2+udnkWoWyfqrZdSkqKGiVZxIgRIzB+/HgEBgYiOTkZr7/+Ou666y4cPXpUF3ctE0IgKioKf/nLXxAcHAxA3W1lsRZ1VSd+VOyOHDliMs/ly5cxfPhwjB8/HlOmTDF5r6q7KgkhbH63pbqsV3Vee+01hIWFoWfPnpg9ezbefvttLFy40IprUJml10kr26qi2qznrFmzEBERge7du2PKlClYuXIloqOjce3aNVXXoTYq/r21sA3qY8SIEbj//vvRrVs3DB06FFu3bgUAfP755ypXZnkNbdtNmDAB99xzD4KDgzF69Ghs374dZ86cMW5DrZsxYwZ+/vlnrFu3rtJ7amwri7WoZ8yYgQcffLDaaVq3bm0cvnz5MgYPHoywsDCsWrXKZDpfX1/89NNPJuOuX7+OoqKiKp/Ja021Xa/a6t+/P7Kzs3HlyhWbrZsl10lL26qi+qyncobqr7/+qvnWm5eXF+zt7Su1njMyMlTfBpbk6uqKbt264ezZs2qXYjHKWezp6enw8/Mzjm9o287Pzw+BgYG62HYzZ87E5s2bsWfPHrRq1co4Xs1tZbGg9vLygpeXl1nTXrp0CYMHD0ZoaCjWrl0LOzvThn1YWBjmzZuHtLQ04x9k586dcHJyQmhoqKVKNktt1qsu4uPj4ezsfMtLn6zBkuukpW1VUX3WMz4+HgBMvpBaVf6Rmvfee69xfExMDMaOHatiZZZVUFCApKQkhIeHq12KxQQFBcHX1xcxMTEICQkBIM85iIuLw3vvvadydZZz7do1XLx4UdPfJyEEZs6ciU2bNiE2NhZBQUEm76u6rax6qloVLl26JNq1ayfuuusu8dtvv4m0tDRjpyguLhbBwcFiyJAh4tixY+KHH34QrVq1EjNmzLB1ubWSkpIi4uPjxVtvvSXc3NxEfHy8iI+PFzk5OUIIITZv3ixWrVolEhISxK+//io+/fRT0bRpU/HMM8+oXPmt1bROet1W5e3fv1989NFHIj4+Xpw/f15s2LBB+Pv7izFjxqhdmtnWr18vHBwcRHR0tDh58qR47rnnhKurq7hw4YLapdXZ7NmzRWxsrDh//rw4ePCgGDVqlGjSpInu1iknJ8f4vQFg/LeWkpIihBBiwYIFwt3dXXz99dciISFBPPTQQ8LPz09kZ2erXPmtVbdOOTk5Yvbs2WL//v0iOTlZ7N69W4SFhYmWLVtqep2efPJJ4e7uLmJjY01yKS8vzziNWtvK5kG9du1aAaDKrryUlBRxzz33CBcXF+Hp6SlmzJgh8vPzbV1urUyaNKnK9dq9e7cQQojt27eLnj17Cjc3N9G4cWMRHBwsFi9eLIqKitQtvBo1rZMQ+txW5R09elT069dPuLu7C2dnZ9GxY0cxd+5ckZubq3ZptbJs2TIRGBgoHB0dRa9evYyXlejVhAkThJ+fn3BwcBD+/v7ivvvuE4mJiWqXVWu7d++u8js0adIkIYS87Gfu3LnC19dXODk5iYEDB4qEhAR1i65BdeuUl5cnIiMjRYsWLYSDg4O44447xKRJk0RqaqraZVfrVrm0du1a4zRqbSs+PYuIiEjDNHEdNREREVWNQU1ERKRhDGoiIiINY1ATERFpGIOaiIhIwxjUREREGsagJiIi0jAGNRERkYYxqImIiDSMQU1ERKRhDGoiIiINY1AT6dyMGTPwl7/8pcr3WrdujXnz5tm4IiKyJIs9j5qIbO/kyZNYsWIF9uzZU+X7nTt3xvHjx21bFBFZFFvURDq2cOFC9OnTB3feeWeV73t6euLKlSs2roqILIlBTaRTxcXF2LhxI+6//37juGnTpiE6Otr4OicnB66urmqUR0QWwqAm0qlz584hJycH3bp1AwCUlpbiP//5D9zc3IzT/Pzzz+jcubNaJRKRBTCoiXQqMzMTAIzBvGPHDly/fh2Ojo4AgEOHDiElJQXjxo1TqUIisgSeTEakU4GBgTAYDFi3bh1cXV0xe/ZsjBw5Et9++y1at26NadOm4a677sLAgQPVLpWI6sEghBBqF0FEdTN//nwsWLAALi4uePfdd9G3b1+MHTsWGRkZGD16NJYvXw5PT0+1yySiemBQExERaRiPURMREWkYg5qIiEjDGNREREQaxqAmIiLSMAY1ERGRhjGoiYiINIxBTUREpGEMaiIiIg1jUBMREWkYg5qIiEjDGNREREQa9v+Ouxfw42SwBQAAAABJRU5ErkJggg==\n",
      "text/plain": [
       "<Figure size 500x200 with 1 Axes>"
      ]
     },
     "metadata": {},
     "output_type": "display_data"
    },
    {
     "data": {
      "image/png": "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\n",
      "text/plain": [
       "<Figure size 500x200 with 1 Axes>"
      ]
     },
     "metadata": {},
     "output_type": "display_data"
    },
    {
     "data": {
      "image/png": "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\n",
      "text/plain": [
       "<Figure size 500x200 with 1 Axes>"
      ]
     },
     "metadata": {},
     "output_type": "display_data"
    },
    {
     "data": {
      "text/plain": [
       "<sympy.plotting.plot.Plot at 0x20dc22724d0>"
      ]
     },
     "execution_count": 6,
     "metadata": {},
     "output_type": "execute_result"
    }
   ],
=======
   "execution_count": null,
   "metadata": {
    "scrolled": false
   },
   "outputs": [],
>>>>>>> Stashed changes
   "source": [
    "plt.rcParams['figure.figsize'] = 5, 2\n",
    "sym.plot(x, (t,-1,10), ylabel=r'Amp',line_color='blue',legend=True, label = 'x(t)')\n",
    "sym.plot(sym.re(X), (w,-20,20), ylabel=r'Real',line_color='blue',legend=True, label = 'X(w)')\n",
    "sym.plot(sym.im(X), (w,-20,20), ylabel=r'Imag',line_color='blue',legend=True, label = 'X(w)')\n",
    "\n",
    "sym.plot(sym.sqrt(\n",
    "         (sym.im(X)*sym.im(X)) + (sym.re(X)*sym.re(X))),\n",
    "         (w,-20,20), ylabel=r'Mag',line_color='blue',legend=True, label = 'X(w)')\n",
    "\n"
   ]
  },
  {
   "cell_type": "markdown",
   "metadata": {},
   "source": [
    "Observe que:\n",
    "\n",
    "- $X(\\omega)$ es una función definida para todos los valores de $\\omega$ y no solamente para los múltiplos enteros de un valor determinado $\\omega_0$.\n",
    "\n",
    "- $X(\\omega)$ es una función compleja, es decir que tiene parte imaginaria y parte real. Así, puede expresarse de forma cartesiana ($real + j \\cdot imaginario$) o de forma polar ($magnitud \\angle ángulo$). El \"parecido\" entre la señal $x(t)$ con $sin(\\omega t)$ se puede apreciar en la magnitud de $X(\\omega)$.\n",
    "\n",
    "- $|X(\\omega)|$ tiene un valor máximo en $\\omega=0$ y un decaimiento a medida que aumenta $\\omega$\n",
    "\n"
   ]
  },
  {
   "cell_type": "markdown",
   "metadata": {},
   "source": [
    "Analizando la magnitud de $X(\\omega)$"
   ]
  },
  {
   "cell_type": "code",
   "execution_count": null,
   "metadata": {},
<<<<<<< Updated upstream
   "outputs": [
    {
     "data": {
      "image/png": "iVBORw0KGgoAAAANSUhEUgAAAC0AAAAcCAYAAAD1PDaSAAAAOXRFWHRTb2Z0d2FyZQBNYXRwbG90bGliIHZlcnNpb24zLjYuMiwgaHR0cHM6Ly9tYXRwbG90bGliLm9yZy8o6BhiAAAACXBIWXMAABJ0AAASdAHeZh94AAACEklEQVR4nO2XMWgUQRSGvzMBi4RoJSgWES1ioYkYEBtBrAQtLJSU9toE1CKIv7+dpBAVxU7tTaNFQIQgNhZKToOIGkS00uIU1IAIOYuZM5t1T7lz7sJCfjj25s3c229/3sy+q9TrdcqmNSsN0I56UyWyvQ84DewGNgJHJd1JlT+rlE73Ac+AkwlzFiqZ05KmgWkA26nSFqqUNb0K3S2tQndLlVRvRNv9wLY4nCWc2Q+AmqT3SW4SlezIA0aBmcx4Ml5vA8cT3ied091UKWu6lNC9ALZLUyOSKuWvadvXbHeknUyp/JF3Fvi5EiCt9OPLoCV97gDMLeCdpPP/WNrox28CU39b+Bva9mbgAzAk6ZXty8BeYI+kZYVvuwrMSBpv8RmaqpV+POv0CLAAvLG9HTgBHMgDR70EdqWAbUfZjTgMPJe0CJwBqpIeNvldDdjQabhmyjtdtd0DHAEuNiZsXwLeSroaQwPA96KEtieAiUxoLVC3fSoTOyjpUbvQeaerwBZgHTCXmTuWg9wJvGiS8wbBgMbnbkHsSbvAsPRG7AO2Ruj1ce5bnNsPbAJ+xPEQsAM4V5RQUo1QPsT1Xwnt6fz/gP4BTXAOgrv9wCIwZvsLcAW4Bxy2PUdw7WmMJVOuHwcYtD1CQT/eKI9h4LWkBUmfCDU5BtwHrrN06D8GPgKH4oZNqVHCn4fZOJ6M3y/kF/4CnmKp2VKiOdQAAAAASUVORK5CYII=\n",
      "text/latex": [
       "$\\displaystyle \\frac{1}{i \\omega + 1}$"
      ],
      "text/plain": [
       "   1   \n",
       "───────\n",
       "ⅈ⋅ω + 1"
      ]
     },
     "execution_count": 7,
     "metadata": {},
     "output_type": "execute_result"
    }
   ],
=======
   "outputs": [],
>>>>>>> Stashed changes
   "source": [
    "X"
   ]
  },
  {
   "cell_type": "code",
   "execution_count": null,
   "metadata": {},
<<<<<<< Updated upstream
   "outputs": [
    {
     "data": {
      "image/png": "iVBORw0KGgoAAAANSUhEUgAAADAAAAAfCAYAAACh+E5kAAAAOXRFWHRTb2Z0d2FyZQBNYXRwbG90bGliIHZlcnNpb24zLjYuMiwgaHR0cHM6Ly9tYXRwbG90bGliLm9yZy8o6BhiAAAACXBIWXMAABJ0AAASdAHeZh94AAACSElEQVR4nO2XT4jNURTHP2+MphBKKUpRFij/8kpSSrJQFAvMRilLSgqLKb6+s9E0Cw0ly2F2EguLKckkko2MmYWNLEazYPFSWIjmWfzu4/feNOY3793fm3413839nfO7fe8595x7zz2larVKkdEZm9D2PuASsAtYAxyX9CD2OjV05MC5FHgHnMuBexqiR0DSMDAMYDs2/TTkEYG2YsGB+caCA/ONUuxCZnsZsDGIb0lqwlOgImki6mLkcI0CZWAkJfeH8S5wOvZi0SPQbhT+DBTegU4A24XNo8KfgaZuIdvrgCFgNfALsKSHMQ3LimbPwG/gvKQtwEFgwPaSeGZlR5QUsj0GHM6jUM2GlguZ7TKwGPjUujl1vJk6u5auUdurgHvAGUmzhtL2oO1rGekzdXZ1EbA9AOwBdjcaZHsUGJF0IchdwCPguqRXGY3KjKyd3V8HbG8GzgIHZtjN98DOMLcEDALPJA1Fs7oJpCNwGRiV9HyGuRVge/jeC5wExmwfDbpTksZzsfI/qFXiRcAxoK/2w/YN4KOkW0G1HPgBIOklGc6P7R6gJ6XqAqq2L6Z0hyS9aMkBYAOwAkjv4AngSkreRvK+nwvuAPdTch8wCdxM6SbnyFmHmgMrw/gdwPZ+YC3wM8ibgK3A1bmQS6qQpB6B5xtJY/OhFaPTqDkwAUwB3ba/kuzQY+CI7XGSnXwTdG1BQ2cHsN72Dho6uw4ASV9IcrUbeALc5l8ReQ18Jqm0U22xPkGZJGVradsfvnvTkwr/Gi18Q/MHcx28INXtqS4AAAAASUVORK5CYII=\n",
      "text/latex": [
       "$\\displaystyle \\frac{1}{\\omega^{2} + 1}$"
      ],
      "text/plain": [
       "  1   \n",
       "──────\n",
       " 2    \n",
       "ω  + 1"
      ]
     },
     "execution_count": 8,
     "metadata": {},
     "output_type": "execute_result"
    }
   ],
=======
   "outputs": [],
>>>>>>> Stashed changes
   "source": [
    "X_real  = sym.re(X)\n",
    "X_real"
   ]
  },
  {
   "cell_type": "code",
   "execution_count": null,
   "metadata": {},
<<<<<<< Updated upstream
   "outputs": [
    {
     "data": {
      "image/png": "iVBORw0KGgoAAAANSUhEUgAAAEEAAAAcCAYAAAA+59JsAAAAOXRFWHRTb2Z0d2FyZQBNYXRwbG90bGliIHZlcnNpb24zLjYuMiwgaHR0cHM6Ly9tYXRwbG90bGliLm9yZy8o6BhiAAAACXBIWXMAABJ0AAASdAHeZh94AAACeElEQVR4nO2YT4hNYRjGf9efphBTSlFCWaAMMiUpJVkoigVmwcoSSWExxeOx0WQxDaVZTiYb+bOwmLIgkWxkzE02SKNRLG4KRTTX4pw7c+7Jnbl/Ps5Rns2533ve877vffve7zznKZTLZfIE233AZmCTpHLq3jBwX9KJkDlnhQzWKmyvBo4A29MNiPES2BA674zQAVvEaWBY0oMa90vAotBJc9ME2zOBvcDNhK3X9rGE23zga+jcuWkCsAJYABQTtv1U/+kO4EXoxHlqQnt8/QJgexuwBPger1cBa4HboRPn6WAcBcaBLtufgEvAHWC37SLQDzyNbUGRm50g6SPQDXQBd4ErwClgI/AE+ADskjQeOnchbzwhC1SNg+23wLIGnr8m6WDQijJA+kx4DXxr4Pn3AWvJDEHGwfY/O1OSCv/PBDJ8RdpeCgwS0eAfgCXdyqKWLF+RP4HjktYAO4A+23OyKCQ342B7hIgHjP7t3LlgjLY7gdnAu4AxtzJJthYD+yTd+J1v5ozR9kLgKnC4hoaQ9h+wfa6O0HOB58DR6RyD7oRGVSHbbUQfRBckPQ5Zi6QhYCjOM6VvsCY0qgrZLgADwD1Jg6HqaAYhd0I9qtC6xHoLcAAYsb0nth2SVEw/+KcRpAkJVagnYesF3ki6HJuqVCFJj6jjTLLdTfR1WUEbULZ9MmHbKelhs/WH2gm1VKEziXUH8KyJ2P3A9cS6Bxgj0hsqGGsi7gRCNaE9vk6nCp1tNLCkEtEoEcf6DJQkvWqt5EmEakJmqlAt2J4HrEyYltteT9TAKkIWhCdkqQpNgU6i8auM4MX49/m0Y25oc5bInDHmAb8AdXLrFDPuIzQAAAAASUVORK5CYII=\n",
      "text/latex": [
       "$\\displaystyle - \\frac{\\omega}{\\omega^{2} + 1}$"
      ],
      "text/plain": [
       " -ω   \n",
       "──────\n",
       " 2    \n",
       "ω  + 1"
      ]
     },
     "execution_count": 9,
     "metadata": {},
     "output_type": "execute_result"
    }
   ],
=======
   "outputs": [],
>>>>>>> Stashed changes
   "source": [
    "X_imag  = sym.im(X)\n",
    "X_imag"
   ]
  },
  {
   "cell_type": "code",
   "execution_count": null,
   "metadata": {},
<<<<<<< Updated upstream
   "outputs": [
    {
     "data": {
      "image/png": "iVBORw0KGgoAAAANSUhEUgAAAD0AAAAkCAYAAAA6uzK6AAAAOXRFWHRTb2Z0d2FyZQBNYXRwbG90bGliIHZlcnNpb24zLjYuMiwgaHR0cHM6Ly9tYXRwbG90bGliLm9yZy8o6BhiAAAACXBIWXMAABJ0AAASdAHeZh94AAAC8ElEQVR4nO2ZW4hOURTHfx8jk3u5FCWUcin3r6QpJTyMCOUyjwpPlBQeKH9/kTQPGkqehHmTSyi3RHLJg2EkvEjiQaRBSHL5PJyD43PGnO8yh3zfv07nrLX3Xmv9W3vts9s7k8vlSAO264E64BZwFFgs6UgqzvNQk5YjSWeAMwC203Ibiy5/1ftfQpV0paBKulKQSfGX1QsYGYq3gfXABaBN0pNUggiR2i8LyAKXInJj+D4ILEsxjvQy/S+hImu6SrpSUANgu2IKW1KmupBVCiqSdKLNie1a4EMnx5IKJGWS7shmAVlJLZ0ZUFpIOr0nExzz/BfoMNO2M0BOUlHLvO2hQDMwCPgEWNKxYmyVC0kynQVuluDjM7BG0lhgNtBku0cJ9kpGEtIzgIvFOpD0TNKd8PsF8AoYUKy9ciAJ6VpJH8vhzHYW6AY8LYe9YvHHmrY9DHhcDke2+wOHgOXFrg9/sD2d4FBiCjCYDs7Uu0QG9rG9Iq99DnC6DEF1B44DOyRdTzjmgO0tCV30BO4Aq5N0jmZ6EbDNdnNkOg+U9DImoCZgGjA1P2u2W4FLktaGcgY4AFyU1JyQREEo9CLhR6Yl7QfOAzPDwb2BN/kDbI8BVgHr25mmD4BJEbkOWAossN0aPuOSEuoM5Nf0CWA+wZSuB87FjNkAtEq63I7NNmDCd0HSVf6xPX4+6bNAYzglR0k6HG203RVYCOyM6HYBjyTtCVV9gPeFBmJ7I7AxouoO5Gyvi+jqJV0p1HY+fsmApPfAfYJ6/RzTfwTQF7gb0S3hV5LjgXtFxLIPmBh5TsboStkk/UDcL+sEQSY3xbT1C9/vAGzPAIYAH0N5NDAO2FxoIJLaCEqD0NZbgjPxh4Xa6ghxpE8C24FrMW1PgK9Ag+3XwG7gFDDP9l2CzLSEutSQd5EAMNz2RNq5SPhtgZH0HFgp6UtM2wuCumsgWOn38nNTcAN4DsyV9LV0KgUhS3BrcjuUG8PvrXGdq2dklYJvnFH6LDzz6WEAAAAASUVORK5CYII=\n",
      "text/latex": [
       "$\\displaystyle \\frac{1}{\\sqrt{\\omega^{2} + 1}}$"
      ],
      "text/plain": [
       "     1     \n",
       "───────────\n",
       "   ________\n",
       "  ╱  2     \n",
       "╲╱  ω  + 1 "
      ]
     },
     "execution_count": 10,
     "metadata": {},
     "output_type": "execute_result"
    }
   ],
=======
   "outputs": [],
>>>>>>> Stashed changes
   "source": [
    "X_magn = sym.sqrt(X_real*X_real + X_imag*X_imag).simplify()\n",
    "X_magn"
   ]
  },
  {
   "cell_type": "markdown",
   "metadata": {},
   "source": [
    "La magnitud de $X(\\omega)$ es simétrica respecto a $\\omega = 0$. Así, será suficiente analizar solamente un lado del espectro de una señal de tiempo continuo."
   ]
  },
  {
   "cell_type": "markdown",
   "metadata": {},
   "source": [
    "**Ejemplo - Transformada de Fourier de una señal exponencial por una senoidal**\n",
    "\n",
    "\n",
    "\\begin{equation}\n",
    "x(t) = sin(\\omega_0 t) \\cdot e^{- \\alpha t} \\cdot \\epsilon(t)\n",
    "\\end{equation}\n",
    "\n",
    "con $\\omega \\in \\mathbb{R}^+$ "
   ]
  },
  {
   "cell_type": "code",
<<<<<<< Updated upstream
   "execution_count": 11,
   "metadata": {},
   "outputs": [
    {
     "data": {
      "image/png": "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\n",
      "text/latex": [
       "$\\displaystyle e^{- 7 t} \\sin{\\left(20 t \\right)} \\theta\\left(t\\right)$"
      ],
      "text/plain": [
       " -7⋅t               \n",
       "ℯ    ⋅sin(20⋅t)⋅θ(t)"
      ]
     },
     "execution_count": 11,
     "metadata": {},
     "output_type": "execute_result"
    }
   ],
=======
   "execution_count": null,
   "metadata": {},
   "outputs": [],
>>>>>>> Stashed changes
   "source": [
    "t,w = sym.symbols('t omega', real=True)\n",
    "w0 = 20\n",
    "x1 = sym.sin(w0 * t)*sym.exp(-7*t)*sym.Heaviside(t)\n",
    "x1"
   ]
  },
  {
   "cell_type": "code",
<<<<<<< Updated upstream
   "execution_count": 12,
   "metadata": {},
   "outputs": [
    {
     "data": {
      "image/png": "iVBORw0KGgoAAAANSUhEUgAAAGoAAAAhCAYAAAAxvj44AAAAOXRFWHRTb2Z0d2FyZQBNYXRwbG90bGliIHZlcnNpb24zLjYuMiwgaHR0cHM6Ly9tYXRwbG90bGliLm9yZy8o6BhiAAAACXBIWXMAABJ0AAASdAHeZh94AAAFKUlEQVR4nO2aa4hVVRiGn1HLVMo06SKmRYEamIZJaSkZmtgNk0oJhUKkTCsLjRTr7Q0yJLTUHCRLLelHaReS8EJZkUlGoox2zy6GhhcmJbWc1OnH2ke323OcPeOZOW6bBw7nrG996+x3n7W+tdZe3ymrrq6mkVOfJqUW0Eg6mpVaQF2wPQkYCnQGDgBfAJMkbYr5PAhMBC4CvgbGS/qsBHKLQlYj6gagHOgD3AgcBD603RbA9jBgJjAVuAr4HFhmu2NJ1BaBTEaUpEHxsu2RwB7gOmAp8BiwUNK8yOVh24OBMcCkhtRaLLIaUUnOJtxLpe0zgZ7AyoTPSkIEZpLTpaNeBDYQ1qp2QFNge8JnO3Bhg6oqIpnvKNvPA/2AuyQdilUlnzvK8tgyQybXqBy2pwMjgP6SforMu4BDHB8953N8lGWGzEaU7Vkc7aRvcnZJVcA6YGCiyUBgTcMpLC6ZjCjb5YROGkLYQOSiZ6+kvcAMYJHtLwlb8/uB9sDcEsgtClmNqDGEnd5HwB+x1wQASW8C44EphE1GX+BmSb+VQGtRKGs868sGWY2o/x2NHZURmgHYbpz/TnEa16iMkMnteU3YvhhYRHjI/RewpHdKq+rkOF3XqIPAI5KuIDzozrTdssSaTopjpj7bbYDvgD6SNke2OcAFku4sjcSasb0EWCNpRoH6CuBWSVsaVlnxSE59k4HluU6KmEKYPkqC7V+BTnmqyiWNjT4/A3xi+1VJexLtrwbOAH6vR42TgWeBOZLGJepqzDSn8WkSc24JjAZeiTtI+jM6likathfafjqley/CDeReuTO8xTGNFcAvhGOl+HXOA14HRklKtWuqpTZsX0v43Sry1NWYaU6bjY5H1C3AYWB17Es6EEZiF0nfR7aZQG/gmuTN294AfCzp0bQ3WhOSdiau8QSwGfg04fo+cA8wJ/JrDrwLPCepXg5jbbcG3gBGAU/lcUmTaU6VjY5vJq4H1iV+/B7AfuDHSFhXYCwwscAI/ZYwKuqFKHs7Apif5/prgV62W9guAxYCqyQtqi89wMvAEkmrCmg9Yaa5NtnoeERdAmxLNOgOVEg6HJUfBzZISo7mHJVRm/piCHAuoROSbCOsRe0JU+QwoML2kKh+pKSNxRJiezRwOTCygMuJMs0DauEDHNtRZwH/JBr0IJw+Y7spcAcwLSb2BeBnSbMj0znAvjw3NZmwUcnRHKi2PSFmG5zi71yjgGWSkgMK4O/ovYWk1aR89KiLNtudCWtK3yj/dSLSZJpr9Il31C6gTaJBd2B69PlSoDUQH5V3A0/GylcC6/OInQu8FStPA7YCs2K2rXnaHcF2J8IoG1rApW30vrNAfSHqoq03IRo22c7ZmgL9bD8AtCJdpjl1NjreUeuBe3MF262Ay4giijDlAOyN6vsTppkDUbkL0I08i6qkSsK0mPvuv4DKWPo8DfcBO4APCtR3A7ZJqlW6vY7a3gO+StgWENbyqUCVpGrbuUzz4pjfQODt6NpVNfnkiHfUCmCa7XaSdhGiA45G0BbCrnC47d2EEbcUuM32RsLIXBfZiortJoSOek3SwQJu/YDlxb52PiTtBnbHbbb3ETp4U8ycJtOcKht9ZB6PFtq1wPDI1B34QdL+qH4HYS4fTtiVlBMe0noS/qa1nfD0f5jiMwDoCMzPV2m7BWGjMS9ffalIk2lOm41OHiENAmYDXRN/vTqlsT0OuF3STaXWUl8cszOStAJ4CehQGjl1pgp4qNQi6pPGfFRG+A8NaxdzpT464AAAAABJRU5ErkJggg==\n",
      "text/latex": [
       "$\\displaystyle \\frac{20}{\\left(i \\omega + 7\\right)^{2} + 400}$"
      ],
      "text/plain": [
       "       20       \n",
       "────────────────\n",
       "         2      \n",
       "(ⅈ⋅ω + 7)  + 400"
      ]
     },
     "execution_count": 12,
     "metadata": {},
     "output_type": "execute_result"
    }
   ],
=======
   "execution_count": null,
   "metadata": {},
   "outputs": [],
>>>>>>> Stashed changes
   "source": [
    "X1 = fourier_transform(x1)\n",
    "X1"
   ]
  },
  {
   "cell_type": "code",
<<<<<<< Updated upstream
   "execution_count": 13,
   "metadata": {
    "scrolled": true
   },
   "outputs": [
    {
     "data": {
      "image/png": "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\n",
      "text/plain": [
       "<Figure size 500x200 with 1 Axes>"
      ]
     },
     "metadata": {},
     "output_type": "display_data"
    },
    {
     "data": {
      "image/png": "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\n",
      "text/plain": [
       "<Figure size 500x200 with 1 Axes>"
      ]
     },
     "metadata": {},
     "output_type": "display_data"
    },
    {
     "data": {
      "text/plain": [
       "<sympy.plotting.plot.Plot at 0x20dc1f0de10>"
      ]
     },
     "execution_count": 13,
     "metadata": {},
     "output_type": "execute_result"
    }
   ],
=======
   "execution_count": null,
   "metadata": {
    "scrolled": true
   },
   "outputs": [],
>>>>>>> Stashed changes
   "source": [
    "plt.rcParams['figure.figsize'] = 5, 2\n",
    "sym.plot(x1, (t,-2,5), ylabel=r'Amp',line_color='blue',legend=True, label = 'x1(t)')\n",
    "#sym.plot(sym.re(X), (w,-20,20), ylabel=r'Real',line_color='blue',legend=True, label = 'X(w)')\n",
    "#sym.plot(sym.im(X), (w,-20,20), ylabel=r'Imag',line_color='blue',legend=True, label = 'X(w)')\n",
    "\n",
    "sym.plot(sym.sqrt(\n",
    "         (sym.im(X1)*sym.im(X1)) + (sym.re(X1)*sym.re(X1))),\n",
    "         (w,-100,100), ylabel=r'Mag',line_color='blue',legend=False, label = 'X1(w)')\n",
    "\n"
   ]
  },
  {
   "cell_type": "markdown",
   "metadata": {},
   "source": [
    "Observe que:\n",
    "- $x1(t)$ corresponde a $x(t)$ multiplicada con una función senoidal de frecuencia angular de $10$ rad/seg.\n",
    "\n",
    "- Al igual que con la magnitud de $X(\\omega)$, la magnitud de $X1(\\omega)$ decae con $\\omega$, sin embargo, hay un pico en $\\omega=10$ que se relaciona con la senoidal.\n"
   ]
  },
  {
   "cell_type": "markdown",
   "metadata": {},
   "source": [
    "**Ejemplo - Transformada de Fourier de senoidales y combinaciones causales**\n",
    "\n",
    "\n",
    "\n",
    "\\begin{equation}\n",
    "x(t) = sin(\\omega_0 t) \\cdot \\epsilon(t)\n",
    "\\end{equation}\n",
    "\n",
    "con $\\omega \\in \\mathbb{R}^+$ "
   ]
  },
  {
   "cell_type": "code",
<<<<<<< Updated upstream
   "execution_count": 14,
   "metadata": {},
   "outputs": [
    {
     "data": {
      "image/png": "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\n",
      "text/latex": [
       "$\\displaystyle \\sin{\\left(5 t \\right)} \\theta\\left(t\\right) + \\sin{\\left(10 t \\right)} \\theta\\left(t\\right)$"
      ],
      "text/plain": [
       "sin(5⋅t)⋅θ(t) + sin(10⋅t)⋅θ(t)"
      ]
     },
     "execution_count": 14,
     "metadata": {},
     "output_type": "execute_result"
    }
   ],
=======
   "execution_count": null,
   "metadata": {},
   "outputs": [],
>>>>>>> Stashed changes
   "source": [
    "w1 = 10\n",
    "w2 = 5\n",
    "x2_1 = sym.sin(w1 * t)*sym.Heaviside(t)\n",
    "\n",
    "x2_2 = sym.sin(w2 * t)*sym.Heaviside(t)\n",
    "\n",
    "\n",
    "x2 = x2_1 + x2_2\n",
    "x2"
   ]
  },
  {
   "cell_type": "code",
<<<<<<< Updated upstream
   "execution_count": 15,
   "metadata": {},
   "outputs": [
    {
     "data": {
      "image/png": "iVBORw0KGgoAAAANSUhEUgAAAFMAAAAfCAYAAACbKPEXAAAAOXRFWHRTb2Z0d2FyZQBNYXRwbG90bGliIHZlcnNpb24zLjYuMiwgaHR0cHM6Ly9tYXRwbG90bGliLm9yZy8o6BhiAAAACXBIWXMAABJ0AAASdAHeZh94AAADBklEQVR4nO2YS6hNYRiGn+1aCEVCuZUByi1KiFLOgCgGLgNGBnLJrSjC6zUgKTpIykROitwGBqcMXHJJSg6SEbmUIsmAcj8Ga22WzTnW4j9rn72dt3Z7/d//rbXe/e3v+//vfwuNjY20IQw6lJtAGtieCqwHxgH9gHmSTv3Gb3ns1w+4D6yRdCUvnu3yetE/oitwB1jZlIPtBUAtsAMYC1wD6m0PzIUhFZKZkuqBegDbTbmtA45IOhyPV9meASwDNrY4SSonM5uF7U5ES8D5kqnzwKS8eFRFMIHeQHvgRYn9BdA3LxLVEswiSluTwm9sLYZqCeYr4Au/ZmEffs3WFkNVBFPSR+AWUFMyVQNcz4tHRezmtrsBQxOmwbbHAK8lPY1te4A62zeJ2qKlQH/gUF48KyUzxwO34w/A7vh6e9FB0glgDbAZaACmADMlPcmLZKHtOBkOP5W57cfAoAz3H5O0KCijCkbpmvkQeJ/h/ucBuVQ8gpS57f9+rZBUaFszA6JsrZHtAUAdUWP9CbCkM+XiEwLlbI0+A6sljSBqrmttdykjn39Gqylz23eBWYkmvOLQKk5AtscDHYFnAZ8ZTJ1Pq+CX/QRkuxdwFFgiKWSZBFHnsyj4QTPTdi0wEZhQGhjbDcBFSWsTts7AWWCnpKCCREB1PrWCHywzbQ8HVgDrm8iwB0T/bNG/ABwBLkiqC8UjLdKo81kV/JCZuQFokHS5ifnXwOjEeDKwALhre05sWyzpXkBOzaE5dX56Bp/vCBJM2+2BucCuhG0v8EjS/tjUHXhXnJd0lRSVYXsboD+4TZN0KRvr70ijzqdS8ENl5hCgB5DMqvnAlsR4FD8ktCw4ABz/g8/ftFNp1PlMCn6oYPaMv98C2J5GJMx+iMfDgJHA1qwPlvSK6EcFhaSPtovq/MnEVA1wOq1PEqGC+RT4Ciy0/QbYB5wDZtu+R6R234ptuSCgOp9awQ+ym0t6CWwCFhLtdAf50TDfICqJWZK+hnhfSgRR57Mo+K3mOFkNKPsJqJrwDXp6RSPRMeAyAAAAAElFTkSuQmCC\n",
      "text/latex": [
       "$\\displaystyle - \\frac{10}{\\omega^{2} - 100}$"
      ],
      "text/plain": [
       "  -10   \n",
       "────────\n",
       " 2      \n",
       "ω  - 100"
      ]
     },
     "execution_count": 15,
     "metadata": {},
     "output_type": "execute_result"
    }
   ],
=======
   "execution_count": null,
   "metadata": {},
   "outputs": [],
>>>>>>> Stashed changes
   "source": [
    "X2_1 = fourier_transform(x2_1)\n",
    "X2_1\n"
   ]
  },
  {
   "cell_type": "code",
<<<<<<< Updated upstream
   "execution_count": 16,
   "metadata": {},
   "outputs": [
    {
     "data": {
      "image/png": "iVBORw0KGgoAAAANSUhEUgAAAEkAAAAfCAYAAACrpOA2AAAAOXRFWHRTb2Z0d2FyZQBNYXRwbG90bGliIHZlcnNpb24zLjYuMiwgaHR0cHM6Ly9tYXRwbG90bGliLm9yZy8o6BhiAAAACXBIWXMAABJ0AAASdAHeZh94AAADIUlEQVR4nO2ZSYhUVxiFvzaKEnFARYxExIA4QARRcCJiKyFZGDAu1IWKEFwEFyKo0II5npWIGm0VydKBkJ0usgiEJEYITiA0tgMNRkyLc9MYaMHEoV3cevq6tKqr5fpePfHApaj77rvnr//9w32nGrq7u3mP6uiftwG1wPY2QGXTdyWNyYK/EE4qoQ1YkPr+NCviIjnpiaQ7eRAXyUmf2L4J/A+cAZokXc+CuF8WJBFwFlgFfAmsBUYDp22PyIK8oYjdzfZg4BqwQ9L3b5uvKJHUA5IeApeBiVnwFdJJtgcBk4HbWfAVonDb3gX8DLQT6tFWYDBwOAv+QjgJ+Bj4CRgF3Cd0t9mS/smCvJCFO2v0iCTb14Hxfbj/R0kro1pUhyhPt7+BR324/1ZEW+oWUdLN9juds+9rUg3IrbvZHgccJbT0x4AlHcvLnmrI8zD5BFgvaSrwOdBs+8Mc7amIukk32xeAxZLa87alHHVxmLQ9ExgA3Ii4ZxOwFJgE/MdLeeVias02alA8c393sz0SOAJ8IylmWC8ADgJzgYWE9P7tNfJKG/BRanxavlHUSLLdDMwBZpX/YNstwAlJG1JzA4HjwHZJp2LaIumLMv5VwL/APMJ7YIJeFc9oTrI9BVgHLKoQEVeA6an1DcAh4A9JR2PZUQVDCJnTWTbfq+IZM902Ay2STla43klo9wnmAcuBJbZbSuOVUI+IvUALwREJalI8o0SS7Q+Ar4Edqbk9wDVJ+0tTQ4GHyXVJf1HDQ6pQXMvRKOnPKnvsBOYDn0l68S+LpF9Sy1ptnyYonmuAF4pnrEiaAAwDWlNzy0g5BZgGXHqDvQ8AU3oZ5yrdbHs3sJpQBq5WI6qkeMaqScNLn10lwxqBsYTWi+3JhK7xXV83ltQBdLyJUbb3EVK6UdLlGtYniueJ9HwsJ7UDz4AVth8A+wgd5CvbrcAPwHl6dpW3CtsHgZXAEqDTdnL26ZKUPMyaFM8o6SbpHrAFWAH8SjifbAJmEArlXcJp+lkMvhrxLaGj/U7QwpOxMbUmUTzbgGOEyH9F8ayb15J6Ru4n7iLgOVMBGO6ZyLdHAAAAAElFTkSuQmCC\n",
      "text/latex": [
       "$\\displaystyle - \\frac{5}{\\omega^{2} - 25}$"
      ],
      "text/plain": [
       "  -5   \n",
       "───────\n",
       " 2     \n",
       "ω  - 25"
      ]
     },
     "execution_count": 16,
     "metadata": {},
     "output_type": "execute_result"
    }
   ],
=======
   "execution_count": null,
   "metadata": {},
   "outputs": [],
>>>>>>> Stashed changes
   "source": [
    "X2_2 = fourier_transform(x2_2)\n",
    "X2_2"
   ]
  },
  {
   "cell_type": "code",
<<<<<<< Updated upstream
   "execution_count": 17,
   "metadata": {},
   "outputs": [
    {
     "data": {
      "image/png": "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\n",
      "text/latex": [
       "$\\displaystyle \\frac{15 \\cdot \\left(50 - \\omega^{2}\\right)}{\\left(\\omega^{2} - 100\\right) \\left(\\omega^{2} - 25\\right)}$"
      ],
      "text/plain": [
       "       ⎛      2⎞    \n",
       "    15⋅⎝50 - ω ⎠    \n",
       "────────────────────\n",
       "⎛ 2      ⎞ ⎛ 2     ⎞\n",
       "⎝ω  - 100⎠⋅⎝ω  - 25⎠"
      ]
     },
     "execution_count": 17,
     "metadata": {},
     "output_type": "execute_result"
    }
   ],
=======
   "execution_count": null,
   "metadata": {},
   "outputs": [],
>>>>>>> Stashed changes
   "source": [
    "(X2_1+X2_2).simplify()"
   ]
  },
  {
   "cell_type": "code",
<<<<<<< Updated upstream
   "execution_count": 18,
   "metadata": {},
   "outputs": [
    {
     "data": {
      "image/png": "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\n",
      "text/latex": [
       "$\\displaystyle \\frac{15 \\cdot \\left(50 - \\omega^{2}\\right)}{\\left(\\omega^{2} - 100\\right) \\left(\\omega^{2} - 25\\right)}$"
      ],
      "text/plain": [
       "       ⎛      2⎞    \n",
       "    15⋅⎝50 - ω ⎠    \n",
       "────────────────────\n",
       "⎛ 2      ⎞ ⎛ 2     ⎞\n",
       "⎝ω  - 100⎠⋅⎝ω  - 25⎠"
      ]
     },
     "execution_count": 18,
     "metadata": {},
     "output_type": "execute_result"
    }
   ],
=======
   "execution_count": null,
   "metadata": {},
   "outputs": [],
>>>>>>> Stashed changes
   "source": [
    "X2 = fourier_transform(x2_1 + x2_2)\n",
    "X2"
   ]
  },
  {
   "cell_type": "code",
<<<<<<< Updated upstream
   "execution_count": 19,
   "metadata": {},
   "outputs": [
    {
     "data": {
      "image/png": "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\n",
      "text/plain": [
       "<Figure size 500x200 with 1 Axes>"
      ]
     },
     "metadata": {},
     "output_type": "display_data"
    }
   ],
=======
   "execution_count": null,
   "metadata": {},
   "outputs": [],
>>>>>>> Stashed changes
   "source": [
    "plt.rcParams['figure.figsize'] = 5, 2\n",
    "gt2_1 = sym.plot(x2_1, (t,-1,5), ylabel=r'Amp',line_color='blue',legend=False, label = 'x2_1(t)', show = False)\n",
    "gt2_2 = sym.plot(x2_2, (t,-1,5), ylabel=r'Amp',line_color='green',legend=False, label = 'x2_2(t)', show = False)\n",
    "gt2 = sym.plot(x2, (t,-1,5), ylabel=r'Amp',line_color='red',legend=False, label = 'x2(t)', show = False)\n",
    "gt2.extend(gt2_1)\n",
    "gt2.extend(gt2_2)\n",
    "gt2.show()\n",
    "\n"
   ]
  },
  {
   "cell_type": "code",
<<<<<<< Updated upstream
   "execution_count": 20,
   "metadata": {},
   "outputs": [
    {
     "data": {
      "image/png": "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\n",
      "text/plain": [
       "<Figure size 600x300 with 1 Axes>"
      ]
     },
     "metadata": {},
     "output_type": "display_data"
    }
   ],
=======
   "execution_count": null,
   "metadata": {},
   "outputs": [],
>>>>>>> Stashed changes
   "source": [
    "\n",
    "plt.rcParams['figure.figsize'] = 6, 3\n",
    "\n",
    "gw2_1 = sym.plot(sym.sqrt(\n",
    "         (sym.im(X2_1)*sym.im(X2_1)) + (sym.re(X2_1)*sym.re(X2_1))),\n",
    "         (w,0,14), ylabel=r'Mag',line_color='blue',legend=False, label = 'X2_1(w)',show = False)\n",
    "gw2_2 = sym.plot(sym.sqrt(\n",
    "         (sym.im(X2_2)*sym.im(X2_2)) + (sym.re(X2_2)*sym.re(X2_2))),\n",
    "         (w,0,14), ylabel=r'Mag',line_color='green',legend=False, label = 'X2_2(w)',show = False)\n",
    "gw2 = sym.plot(sym.sqrt(\n",
    "         (sym.im(X2)*sym.im(X2)) + (sym.re(X2)*sym.re(X2))),\n",
    "         (w,0,14), ylabel=r'Mag',line_color='red',legend=False, label = 'X2(w)',show = False)\n",
    "\n",
    "gw2.extend(gw2_1)\n",
    "gw2.extend(gw2_2)\n",
    "gw2.show()\n"
   ]
  },
  {
   "cell_type": "code",
<<<<<<< Updated upstream
   "execution_count": 21,
   "metadata": {},
   "outputs": [
    {
     "data": {
      "image/png": "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\n",
      "text/latex": [
       "$\\displaystyle \\frac{15 \\cdot \\left(50 - \\omega^{2}\\right)}{\\left(\\omega^{2} - 100\\right) \\left(\\omega^{2} - 25\\right)}$"
      ],
      "text/plain": [
       "       ⎛      2⎞    \n",
       "    15⋅⎝50 - ω ⎠    \n",
       "────────────────────\n",
       "⎛ 2      ⎞ ⎛ 2     ⎞\n",
       "⎝ω  - 100⎠⋅⎝ω  - 25⎠"
      ]
     },
     "execution_count": 21,
     "metadata": {},
     "output_type": "execute_result"
    }
   ],
=======
   "execution_count": null,
   "metadata": {},
   "outputs": [],
>>>>>>> Stashed changes
   "source": [
    "X2"
   ]
  },
  {
   "cell_type": "markdown",
   "metadata": {},
   "source": [
    "En la gráfica anterior se observa el efecto de la superposición lineal de los espectros de las dos señales senoidales."
   ]
  },
  {
   "cell_type": "markdown",
   "metadata": {},
   "source": [
    "**Ejercicio**\n",
    "\n",
    "Analice el espectro de\n",
    "\n",
    "\\begin{equation}\n",
    "x(t) = (sin(\\omega_0 t) + e^{-2t}) \\cdot \\epsilon(t)\n",
    "\\end{equation}\n",
    "\n",
    "con $\\omega_0 \\in \\mathbb{R}^+$ \n"
   ]
  },
  {
   "cell_type": "code",
<<<<<<< Updated upstream
   "execution_count": 22,
   "metadata": {},
   "outputs": [
    {
     "data": {
      "image/png": "iVBORw0KGgoAAAANSUhEUgAAAEwAAAAVCAYAAADsFggUAAAAOXRFWHRTb2Z0d2FyZQBNYXRwbG90bGliIHZlcnNpb24zLjYuMiwgaHR0cHM6Ly9tYXRwbG90bGliLm9yZy8o6BhiAAAACXBIWXMAABJ0AAASdAHeZh94AAAEzElEQVR4nO2YfYhWRRTGf7t+oGglaeQHmEEkioq5lRJqGWYf/mMKaZL2gRBGGoQWS8XjE2pKRSViEFlYGqYsJhZRKZmRiB+lZRokVBapZZq2mqa2/TFz18t4333Xinf/qAdezrznzMyZe+bMM+feqoaGBv5H89G6Uo5s1wJjgd7ASWATUCtpZ9LvGaCPpNGVWtv5oLqCvm4AFgHXATcCp4G1ti9O+l0DbK3gus4LVS11JG13BI4AYyStsd0GOAa0yXXbKal/Mq49MBOYCPQCfgZeByTpVAlfrwG3AJdLOtaMtdUQNm2KpMV5WyUzLMUF0f+h+P8MMDS2BwPdgOH5Aba7AVuAx4EdwAvAUaAWWFjkxPbVwF3AvDRYth+23WB7Yl4vaRvwFjA7bmwjWjJgzwPbCVyGpD+B7sBvwBZJ+yUdzjrbbgusIWTVCEnjJT1KCO5eYIrtrgV+5hKC+mKBbVCU2wpsTwFdgel55T8ifduzAJXpNkLS+mTc04TsGSbpTM50FbBDUhFPzABqgAclfZIpJdXbXgU8BAwDVub8XAmMBF6W9HvBnDVAPfB1apC02fZXwP2252frLAyY7XHAFAIBXwh8B7wKzE8ecCGwvGiOHPYmcz9LOCIjJO1J+g4EPitYT8Zb+4CXCnz8EmWaYfcBVcCbyXzzgUdyqjO2s/YkSUtjezkwixD09yAJmO1WwFJgArCHsFsngVuBOYSS4O6sv6SDwMGCByiE7QXAeEKwdhV06U84diluBzoBi0sQe7so/0j0IwncuCnRbwOWEJ5lI/BBzvZRrp1l8k0UBYxAohOAecATkk4D2J4JrAcmx/QsetgmYXsRIbPGAIdyfFMvqT62q4EBtrsDxyX9GvVZTdYj0kCKkVF+n/PXgZCxu1Oyl7TCdidCwJZIKspaCBcM5C6fRtK3PRh4AFgtqTYLVnRwirAjEEj272Aq4WZcRzha2W9Grs9jhOL2B0JGZ8huzwkEzkx/10Z7fiN7AK2ijyJkhP9pqQVLOgKcAHpmunyGTSOc9+MldrFflFWlHDQFSWXHSVoGLMvrYqb0pKAmi/aOhNLkgKRvc6bOUR5Ox0QMAk4BX5RZ1iHg0uxPPmCjoryzzAR7y9j/bfSI8scS9psJxe47iT67Fdslemy3JvDlLkkny/hvn5srBMx2O+ASYIOk68tMUGm0jbLUg90b5SuJ/qcoO3Mu+hICWfI4AtiuJlw232S6jMOy49KlqQlaCPujPKcotT0EuA14V9LmxLyP8NrUu2DOgVGeU8Ik6E2IzfZMUQ0Qi7rPgb62xxaNtD00lh0VRSxddgM1tgfk1nMZoU46Qris0nENwAagi+0rEnOWdUfLuB8S5YeZIs9hMwk8UGd7LSGA1QQOqQHaSOpJy2A24TJYZ3sp0AG4A2gARidkn0cdMI7Ac/kiOXsVmmO7H+Gl/0tJK5Pxowh13OpM0VhWSHqf8OmljkCI04FJQB9gLWe5ouKQ9AZwD4GXphKO4Qqgn6SNTQytAw4Ak5P5NhCqgmNRirPHFADbFxFqxrclNdZ3LfZ5p1KIHy7nAoMkleOs/LhpwAJguKSPM31Lfq2oFJ4jlEJPNndAfHetBerywYL/QMAknSBQy9ZYBDcHvQgv+TNSw195GKRp0GoprQAAAABJRU5ErkJggg==\n",
      "text/latex": [
       "$\\displaystyle e^{- 2 t} \\theta\\left(t\\right)$"
      ],
      "text/plain": [
       " -2⋅t     \n",
       "ℯ    ⋅θ(t)"
      ]
     },
     "execution_count": 22,
     "metadata": {},
     "output_type": "execute_result"
    }
   ],
=======
   "execution_count": null,
   "metadata": {},
   "outputs": [],
>>>>>>> Stashed changes
   "source": [
    "t,w = sym.symbols('t omega', real=True)\n",
    "w0 = 15\n",
    "a = 2\n",
    "x4 = (sym.sin(w0 * t)*0 + sym.exp(-a*t))*sym.Heaviside(t)\n",
    "x4"
   ]
  },
  {
   "cell_type": "code",
<<<<<<< Updated upstream
   "execution_count": 23,
   "metadata": {},
   "outputs": [
    {
     "data": {
      "image/png": "iVBORw0KGgoAAAANSUhEUgAAAC0AAAAcCAYAAAD1PDaSAAAAOXRFWHRTb2Z0d2FyZQBNYXRwbG90bGliIHZlcnNpb24zLjYuMiwgaHR0cHM6Ly9tYXRwbG90bGliLm9yZy8o6BhiAAAACXBIWXMAABJ0AAASdAHeZh94AAACXklEQVR4nO2YT4hOYRTGfx9TFjP+rIRsRBnKDFGSTE0WUhQKs0C2YqOGmknzeOw0CSOTJTsLKxYT0SSbKeRj/MmfJBZi8UXGlGQ+i3u/ceftfpR5Z6av5qm3233Puec87+k5595uoVwuU2uYMdUE/gd1sQLZbgGOAWuBhcBuSddixc8iZqXrgcfAkYgxcxGt0pL6gD4A27HC5qImNT1NerIwTXqyUIj1RrTdACxLbx+RzOzbQEnS+yhJUkQbecA6oD9z351erwAHI+aJV+nJRE1quiZJ1wHYrhmNSCrUvqZtX7Q9IZ+TMRGOvBPAz6kgYrsD2AUsB34AA0CHpKeh74TLw/Zl4J2kk//wuwlcBe4DBeAUsAFYKamU9a3LPLQY+AA0Snpp+3z60HpJY05muwj0Szo6zjONQtKWIMd+4CuwEbiRSxpYDQwDr22vAA4Dm0PCKV4Aa2IRroLZJD1XCg3ZRmwGnkgaAY4DRUl3qwQsAfNjswxwDiiSaHsMwkoXbc8EdgKnKwbbZ4G3ki6kW3OA73mZbHcCnZmtWUDZdntmb6uke9XY2u4GWoBNkn6F9rDSRWAJMBcYzNj2BCSbgGdVcl4iKUBlXc/Ze/AXwmeAAyTSfJPnU3kj1gNLU9LzUttQamsFFpGMIWw3AquArryAaaeP6tD2N5LP01wCAeEeYC/QKul5Nb+KPJrS6yDQAIwAbba/AD0k3bvd9iBJ1R4SdPR4YbsX2AfsAEq2F6SmIUlDWd+KPJqBV5KGJX0m0WQbcAvo5c9PmAHgE7AtbdiYOEQyMe4AHzOrPXT8Da5/xxSMyC8WAAAAAElFTkSuQmCC\n",
      "text/latex": [
       "$\\displaystyle \\frac{1}{i \\omega + 2}$"
      ],
      "text/plain": [
       "   1   \n",
       "───────\n",
       "ⅈ⋅ω + 2"
      ]
     },
     "execution_count": 23,
     "metadata": {},
     "output_type": "execute_result"
    }
   ],
=======
   "execution_count": null,
   "metadata": {},
   "outputs": [],
>>>>>>> Stashed changes
   "source": [
    "X4 = fourier_transform(x4)\n",
    "X4"
   ]
  },
  {
   "cell_type": "code",
<<<<<<< Updated upstream
   "execution_count": 24,
   "metadata": {},
   "outputs": [
    {
     "data": {
      "image/png": "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\n",
      "text/plain": [
       "<Figure size 1500x200 with 1 Axes>"
      ]
     },
     "metadata": {},
     "output_type": "display_data"
    }
   ],
=======
   "execution_count": null,
   "metadata": {},
   "outputs": [],
>>>>>>> Stashed changes
   "source": [
    "plt.rcParams['figure.figsize'] = 15, 2\n",
    "gt2_1 = sym.plot(x4, (t,-1,5), ylabel=r'Amp',line_color='blue',legend=False, label = 'x2_1(t)', show = False)\n",
    "#gt2_2 = sym.plot(x4, (t,-1,5), ylabel=r'Amp',line_color='green',legend=False, label = 'x2_2(t)', show = False)\n",
    "#gt2 = sym.plot(x2, (t,-1,5), ylabel=r'Amp',line_color='red',legend=False, label = 'x2(t)', show = False)\n",
    "#gt2.extend(gt2_1)\n",
    "#gt2.extend(gt2_2)\n",
    "gt2_1.show()"
   ]
  },
  {
   "cell_type": "code",
<<<<<<< Updated upstream
   "execution_count": 25,
   "metadata": {},
   "outputs": [
    {
     "data": {
      "image/png": "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\n",
      "text/plain": [
       "<Figure size 600x300 with 1 Axes>"
      ]
     },
     "metadata": {},
     "output_type": "display_data"
    }
   ],
=======
   "execution_count": null,
   "metadata": {},
   "outputs": [],
>>>>>>> Stashed changes
   "source": [
    "plt.rcParams['figure.figsize'] = 6, 3\n",
    "\n",
    "gw2_1 = sym.plot(sym.sqrt(\n",
    "         (sym.im(X4)*sym.im(X4)) + (sym.re(X4)*sym.re(X4))),\n",
    "         (w,0,24), ylabel=r'Mag',line_color='blue',legend=False, label = 'X2_1(w)',show = False)\n",
    "#gw2_2 = sym.plot(sym.sqrt(\n",
    "         #(sym.im(X2_2)*sym.im(X2_2)) + (sym.re(X2_2)*sym.re(X2_2))),\n",
    "         #(w,0,14), ylabel=r'Mag',line_color='green',legend=False, label = 'X2_2(w)',show = False)\n",
    "#gw2 = sym.plot(sym.sqrt(\n",
    "         #(sym.im(X2)*sym.im(X2)) + (sym.re(X2)*sym.re(X2))),\n",
    "         #(w,0,14), ylabel=r'Mag',line_color='red',legend=False, label = 'X2(w)',show = False)\n",
    "\n",
    "#gw2.extend(gw2_1)\n",
    "#gw2.extend(gw2_2)\n",
    "gw2_1.show()"
   ]
  },
  {
   "cell_type": "markdown",
   "metadata": {},
   "source": [
    "### Dualidad\n",
    "\n",
    "Observe que la **Transformada de Fourier** y la **Transformada Inversa de Fourier** tienen formas parecidas.\n",
    "\n",
    "\\begin{align}\n",
    "X(\\omega) &= \\int_{-\\infty}^{\\infty} x(t) \\, e^{-j \\omega t} \\; dt \\\\\n",
    "x(t) &= \\frac{1}{2 \\pi} \\int_{-\\infty}^{\\infty} X(j \\omega) \\, e^{j \\omega t} \\; d\\omega\n",
    "\\end{align}\n",
    "\n",
    "La principal diferencia está en el factor de normalización $2 \\pi$ y el signo de la exponencial.\n",
    "\n",
    "Suponga que:\n",
    "\n",
    "\\begin{equation}\n",
    "x_2(\\omega) = \\mathcal{F} \\{ x_1(t) \\}\n",
    "\\end{equation}\n",
    "\n",
    "Puede pensarse que: \n",
    "\n",
    "\\begin{equation}\n",
    "x_2(t) = x_2(\\omega) \\big\\vert_{\\omega=t}\n",
    "\\end{equation}\n",
    "\n",
    "Entonces\n",
    "\n",
    "\\begin{equation}\n",
    "\\mathcal{F} \\{ x_2(t) \\} = \\int_{-\\infty}^{\\infty} x_2(\\omega) \\big\\vert_{\\omega=t} \\, e^{-j \\omega t} \\; dt\n",
    "\\end{equation}\n",
    "\n",
    "Esta tiene la forma de **Transformada de Fourier**, pero la función interna tiene a $\\omega$ como variable, esto indica que la integral se trata como una **Transformada inversa**.  Así, para volver a la **Transformada de Fourier**, se debe multiplicar por $2\\pi$ y quitar el signo de la exponencial del kernel de transformación.\n",
    "\n",
    "\\begin{equation}\n",
    "\\mathcal{F} \\{ x_2(t) \\} = 2 \\pi \\cdot x_1(- \\omega)\n",
    "\\end{equation}\n",
    "\n",
    "Esta propiedad permite llevar los análisis desde el dominio de las frecuencias al dominio del tiempo y viceversa."
   ]
  },
  {
   "cell_type": "markdown",
   "metadata": {},
   "source": [
    "## Teoremas\n",
    "\n",
    "Retomando la transformada\n",
    "\n",
    "\\begin{equation}\n",
    "X(j \\omega) = \\int_{-\\infty}^{\\infty} x(t) \\, e^{-j \\omega t} \\; dt\n",
    "\\end{equation}\n",
    "\n",
    "### Derivadas\n",
    "\n",
    "Dadas una señal $x(t)$ y su derivada respecto al tiempo $\\frac{d x(t)}{dt}$, y conocida la **Transformada de Fourier** $X(\\omega)$ :\n",
    "\n",
    "\n",
    "\\begin{equation}\n",
    "\\mathcal{F} \\left\\{ \\frac{d x(t)}{dt} \\right\\}  = \\int_{-\\infty}^{\\infty} \\frac{d x(t)}{dt} \\, e^{-j \\omega t} \\; dt\n",
    "\\end{equation}\n",
    "\n",
    "La integral se puede resolver por partes:\n",
    "\n",
    "\\begin{equation}\n",
    "\\begin{split}\n",
    "\\mathcal{F} \\left\\{ \\frac{d x(t)}{dt} \\right\\} &= x(t) \\cdot e^{-j \\omega t} \\big\\vert_{-\\infty}^{\\infty} - \\int_{-\\infty}^{\\infty} x(t) (-j \\omega) e^{-j \\omega t} \\; dt \\\\\n",
    "&= j \\omega \\int_{-\\infty}^{\\infty} x(t) e^{-j \\omega t} \\; dt \\\\\n",
    "&= j \\omega X(\\omega) \\\n",
    "\\end{split}\n",
    "\\end{equation}\n",
    "\n",
    "\\begin{equation}\n",
    "\\frac{d x(t)}{dt} = \\frac{d \\delta(t)}{dt} * x(t)\n",
    "\\end{equation}\n",
    "\n",
    "\n",
    "La principal aplicación está en la transformación de ecuaciones diferenciales.\n",
    "\n",
    "** Ejemplo**\n",
    "\n",
    "\\begin{equation}\n",
    "2y(t) + 2 \\frac{dy}{dt} - x(t) = 0 \n",
    "\\end{equation}\n",
    "\n",
    "Aplicando la **Transformada de Fourier** con sus propiedades se obtiene:\n",
    "\\begin{equation}\n",
    "2Y(\\omega) + 2 j \\omega Y(\\omega) - X(\\omega) = 0 \n",
    "\\end{equation}\n",
    "\n",
    "Observe que en el modelo en el dominio del tiempo (ecuación diferencial) no es posible despejar una expresión equivalente a $\\frac{x(t)}{y(t)}$. Por su parte, usando el modelo en el dominio de la frecuencia, se obtiene:\n",
    "\n",
    "\n",
    "\\begin{equation}\n",
    "Y(\\omega)(2 + 2 j \\omega ) = X(\\omega) \n",
    "\\end{equation}\n",
    "\n",
    "\\begin{equation}\n",
    "\\frac{Y(\\omega)}{X(\\omega)} = \\frac{1}{2+2j\\omega} = F(\\omega)\n",
    "\\end{equation}\n",
    "\n",
    "Esta relación es conocida como **Función de transferencia** y representa el efecto que tiene el sistema sobre una señal de entrada que en el caso de la transformada de Fourier es senoidal.\n",
    "\n"
   ]
  },
  {
   "cell_type": "code",
<<<<<<< Updated upstream
   "execution_count": 40,
   "metadata": {},
   "outputs": [
    {
     "data": {
      "image/png": "iVBORw0KGgoAAAANSUhEUgAAAEIAAAAcCAYAAADV0GlvAAAAOXRFWHRTb2Z0d2FyZQBNYXRwbG90bGliIHZlcnNpb24zLjYuMiwgaHR0cHM6Ly9tYXRwbG90bGliLm9yZy8o6BhiAAAACXBIWXMAABJ0AAASdAHeZh94AAADKklEQVR4nO3ZS4hVdRwH8M/kUAt7ERIZEURB0yLHKIgKRQsJo6CC0kVFu9CGsKhgJPr12wRhDzUahDZGq6g2tRgIQyICiaQpe9CDIFuEEVPRJPTQaXH+M5453rlzi8kjdL9wOPxfv9f/9zr3DkxPT+uDU9oW4GTBYFuMM3M1HsGVWI47IuK1tuRp0yOW4iOMtCjDLFrziIgYxzhkZltizKKfIwr6hijoG6Kgb4iCviEKBtrqLDPzdFxShh+qeoo9mIyIgydantbKJ67C3tp4W3m/hHtPtDCtecTJhn6OKOgbomAQMvN/Hx/9HFFwQkIjM1/IzNY+sXvBbPnMzFHcjkvxO/ZhNCI+6UYgMzereoDl+BRbIuLdxrbH8Ociyv2P0ItudY9YgzFci+vxF/Zk5jldGGzADjyJK/AexjPzwvq+iPgpIqYWQac6792Z+USP29dYQLdZj4iIGxuM7sYvuA5vzsPgIeyOiBfL+IHMXI9NGC10LsB3GIqIL8rcDlyDqyNiTpLKzAnsjYgHe1RyQfSiW7fO8gyVx0x2WszMU1U/sz3dWHpLZfkZrMRhfFXOXYb7cUPTCAWfq7zrv8RxunVLltsxoYqnTliGJTjUmD+E82rjYXwcEUfL+FFMRMQ789CdxLld5FoMbNfQraNHZOY2rMaqiDiyANHmrQ405lYWpjJzCW7DUzVez+GbiHi+TJ2J3zrItBVba1OnYTozH67Nre+QqJt0Oup2nEdk5jO4R+W6X3eh+SOOmHv7VLdZ95JhxRC4CGfhQG39TnMVX6GqPk3sUhl15nmjw9wHXeTtqttgY+NObMDaiPisG9GI+CMz92MdXq0trcPrhd5SXOyYIc4u76myvhbnq0qazBzC5Xi8A79JtZjOzF9Vn+zdLqtn3ep9xBjuwq2YzMyZm56KiKnMHMFIRAzVzj+LlzPzfVXpvK8otqusryjvGQ84iKPYmJk/Y6cqa9+SmQfKuf3mr1L/CgvpxtzQ2KTKpm/j+9ozE4PLVA3JLCLiFWxRNUwTWIWbIuLbsmUYX0bE4bL/B1Wcb1RVlzHH/uTZpwqpm2uJdbGwkG7+BoEmKUyUvbkWAAAAAElFTkSuQmCC\n",
      "text/latex": [
       "$\\displaystyle \\frac{1}{2.0 i \\omega + 2}$"
      ],
      "text/plain": [
       "     1     \n",
       "───────────\n",
       "2.0⋅ⅈ⋅ω + 2"
      ]
     },
     "execution_count": 40,
     "metadata": {},
     "output_type": "execute_result"
    }
   ],
=======
   "execution_count": null,
   "metadata": {},
   "outputs": [],
>>>>>>> Stashed changes
   "source": [
    "# La función de transferencia\n",
    "F = 1 / (2 +1j*2*w  )\n",
    "\n",
    "F"
   ]
  },
  {
   "cell_type": "code",
<<<<<<< Updated upstream
   "execution_count": 44,
   "metadata": {},
   "outputs": [
    {
     "data": {
      "image/png": "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\n",
      "text/latex": [
       "$\\displaystyle 0.098058067569092$"
      ],
      "text/plain": [
       "0.0980580675690920"
      ]
     },
     "execution_count": 44,
     "metadata": {},
     "output_type": "execute_result"
    }
   ],
=======
   "execution_count": null,
   "metadata": {},
   "outputs": [],
>>>>>>> Stashed changes
   "source": [
    "sym.Abs(F.subs(w,5).simplify())"
   ]
  },
  {
   "cell_type": "code",
<<<<<<< Updated upstream
   "execution_count": 45,
   "metadata": {},
   "outputs": [
    {
     "data": {
      "image/png": "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\n",
      "text/plain": [
       "<Figure size 1000x200 with 1 Axes>"
      ]
     },
     "metadata": {},
     "output_type": "display_data"
    },
    {
     "data": {
      "image/png": "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\n",
      "text/plain": [
       "<Figure size 1000x200 with 1 Axes>"
      ]
     },
     "metadata": {},
     "output_type": "display_data"
    },
    {
     "data": {
      "text/plain": [
       "<sympy.plotting.plot.Plot at 0x20dc2363e50>"
      ]
     },
     "execution_count": 45,
     "metadata": {},
     "output_type": "execute_result"
    }
   ],
=======
   "execution_count": null,
   "metadata": {},
   "outputs": [],
>>>>>>> Stashed changes
   "source": [
    "plt.rcParams['figure.figsize'] = 10, 2\n",
    "sym.plot(sym.Abs(F), (w,0,10), ylabel=r'Mag',line_color='blue',legend=True, label = 'F(w)', show = True)\n",
    "sym.plot(sym.arg(F), (w,0,10), ylabel=r'Ang',line_color='blue',legend=True, label = 'F(w)', show = True)\n"
   ]
  },
  {
   "cell_type": "markdown",
   "metadata": {},
   "source": [
    "La respuesta de un sistema ante una entrada senoidal de frecuencia específica $\\omega$ se determina por el valor complejo que toma $F(\\omega)$. Por ejemplo, en la frecuencia $\\omega = 1$, $F(1) = \\frac{1}{2+2j}$"
   ]
  },
  {
   "cell_type": "code",
<<<<<<< Updated upstream
   "execution_count": 46,
   "metadata": {},
   "outputs": [
    {
     "data": {
      "image/png": "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\n",
      "text/latex": [
       "$\\displaystyle 0.125 \\cdot \\left(2 - 2.0 i\\right)$"
      ],
      "text/plain": [
       "0.125⋅(2 - 2.0⋅ⅈ)"
      ]
     },
     "execution_count": 46,
     "metadata": {},
     "output_type": "execute_result"
    }
   ],
=======
   "execution_count": null,
   "metadata": {},
   "outputs": [],
>>>>>>> Stashed changes
   "source": [
    "F1 = F.subs(w,1)\n",
    "F1\n"
   ]
  },
  {
   "cell_type": "code",
<<<<<<< Updated upstream
   "execution_count": 47,
   "metadata": {},
   "outputs": [
    {
     "data": {
      "image/png": "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\n",
      "text/latex": [
       "$\\displaystyle 0.353553390593274$"
      ],
      "text/plain": [
       "0.353553390593274"
      ]
     },
     "execution_count": 47,
     "metadata": {},
     "output_type": "execute_result"
    }
   ],
=======
   "execution_count": null,
   "metadata": {},
   "outputs": [],
>>>>>>> Stashed changes
   "source": [
    "magF1 = sym.Abs(F1)\n",
    "magF1"
   ]
  },
  {
   "cell_type": "markdown",
   "metadata": {},
   "source": [
    "Así, si el sistema es excitado con un seno de frecuencia 1, con amplitud 1, la salida será un seno de amplitud 0.35 y tendrá un desfase definido por el ángulo de la función de transferencia.\n",
    "\n",
    "\\begin{equation}\n",
    "0.35 sin(1t + ang)\n",
    "\\end{equation}\n",
    "\n",
    "## Ejercicio\n",
    "\n",
    "Deduzca cómo se calcula el ángulo de fase que introduce el sistema."
   ]
  },
  {
   "cell_type": "code",
<<<<<<< Updated upstream
   "execution_count": 48,
   "metadata": {},
   "outputs": [
    {
     "data": {
      "image/png": "iVBORw0KGgoAAAANSUhEUgAAAEIAAAAcCAYAAADV0GlvAAAAOXRFWHRTb2Z0d2FyZQBNYXRwbG90bGliIHZlcnNpb24zLjYuMiwgaHR0cHM6Ly9tYXRwbG90bGliLm9yZy8o6BhiAAAACXBIWXMAABJ0AAASdAHeZh94AAADKklEQVR4nO3ZS4hVdRwH8M/kUAt7ERIZEURB0yLHKIgKRQsJo6CC0kVFu9CGsKhgJPr12wRhDzUahDZGq6g2tRgIQyICiaQpe9CDIFuEEVPRJPTQaXH+M5453rlzi8kjdL9wOPxfv9f/9zr3DkxPT+uDU9oW4GTBYFuMM3M1HsGVWI47IuK1tuRp0yOW4iOMtCjDLFrziIgYxzhkZltizKKfIwr6hijoG6Kgb4iCviEKBtrqLDPzdFxShh+qeoo9mIyIgydantbKJ67C3tp4W3m/hHtPtDCtecTJhn6OKOgbomAQMvN/Hx/9HFFwQkIjM1/IzNY+sXvBbPnMzFHcjkvxO/ZhNCI+6UYgMzereoDl+BRbIuLdxrbH8Ociyv2P0ItudY9YgzFci+vxF/Zk5jldGGzADjyJK/AexjPzwvq+iPgpIqYWQac6792Z+USP29dYQLdZj4iIGxuM7sYvuA5vzsPgIeyOiBfL+IHMXI9NGC10LsB3GIqIL8rcDlyDqyNiTpLKzAnsjYgHe1RyQfSiW7fO8gyVx0x2WszMU1U/sz3dWHpLZfkZrMRhfFXOXYb7cUPTCAWfq7zrv8RxunVLltsxoYqnTliGJTjUmD+E82rjYXwcEUfL+FFMRMQ789CdxLld5FoMbNfQraNHZOY2rMaqiDiyANHmrQ405lYWpjJzCW7DUzVez+GbiHi+TJ2J3zrItBVba1OnYTozH67Nre+QqJt0Oup2nEdk5jO4R+W6X3eh+SOOmHv7VLdZ95JhxRC4CGfhQG39TnMVX6GqPk3sUhl15nmjw9wHXeTtqttgY+NObMDaiPisG9GI+CMz92MdXq0trcPrhd5SXOyYIc4u76myvhbnq0qazBzC5Xi8A79JtZjOzF9Vn+zdLqtn3ep9xBjuwq2YzMyZm56KiKnMHMFIRAzVzj+LlzPzfVXpvK8otqusryjvGQ84iKPYmJk/Y6cqa9+SmQfKuf3mr1L/CgvpxtzQ2KTKpm/j+9ozE4PLVA3JLCLiFWxRNUwTWIWbIuLbsmUYX0bE4bL/B1Wcb1RVlzHH/uTZpwqpm2uJdbGwkG7+BoEmKUyUvbkWAAAAAElFTkSuQmCC\n",
      "text/latex": [
       "$\\displaystyle \\frac{1}{2.0 i \\omega + 2}$"
      ],
      "text/plain": [
       "     1     \n",
       "───────────\n",
       "2.0⋅ⅈ⋅ω + 2"
      ]
     },
     "execution_count": 48,
     "metadata": {},
     "output_type": "execute_result"
    }
   ],
=======
   "execution_count": null,
   "metadata": {},
   "outputs": [],
>>>>>>> Stashed changes
   "source": [
    "F"
   ]
  },
  {
   "cell_type": "code",
<<<<<<< Updated upstream
   "execution_count": 32,
   "metadata": {},
   "outputs": [
    {
     "data": {
      "image/png": "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\n",
      "text/latex": [
       "$\\displaystyle 0.025 \\cdot \\left(2 - 6.0 i\\right)$"
      ],
      "text/plain": [
       "0.025⋅(2 - 6.0⋅ⅈ)"
      ]
     },
     "execution_count": 32,
     "metadata": {},
     "output_type": "execute_result"
    }
   ],
=======
   "execution_count": null,
   "metadata": {},
   "outputs": [],
>>>>>>> Stashed changes
   "source": [
    "F.subs(w,3)"
   ]
  },
  {
   "cell_type": "code",
<<<<<<< Updated upstream
   "execution_count": 33,
   "metadata": {},
   "outputs": [
    {
     "data": {
      "image/png": "iVBORw0KGgoAAAANSUhEUgAAAEYAAAAfCAYAAABar7u7AAAAOXRFWHRTb2Z0d2FyZQBNYXRwbG90bGliIHZlcnNpb24zLjYuMiwgaHR0cHM6Ly9tYXRwbG90bGliLm9yZy8o6BhiAAAACXBIWXMAABJ0AAASdAHeZh94AAADgUlEQVR4nO3ZW4hVZRQH8N/klNDNKJEKCoJACyrCoCyUjHwwCqYe0od8EukmZZGBUq3WQ4VEF41E6qGhoYfugg+BlBFdCEkaxqkeiiBDwohhIn3Q1Olh71ObM7d9GHKfh/nD4ezvstf6r7XXt76199czNjZmFuPR26TyzNyEu7AQR/E1NkXEcJO84LSG9d+M7bgRt+A4Ps7M85skBT3dtJQy82z8ib6I2NUkl6Yjph3nKDiNNE2k2xzzMgYVuaZRNJp8q8jM57EMSyPiRNN8usIxmfkC7sHyiPipaT50gWMycxtWKZzyfdN8Wmh0V8rM7YpI6UPVKYcj4nAjpEo0nXzvV+xEn+C3yu+xJknRZXVMN6HpiOlazDpmEvRCZs6upzbM5phJ0HgdU0VmXoIBLMDfyIj4oAku3ZZjjuPhiLgSK7A1M89sgkhXL6XMHMLtEXHgVOuecCll5mY8g1cjYv1UAjLzAWzERfgOGyLi85kSy8zrcDp+namsKXRMaue4pZSZN2AdhmoIXoWteBbX4kt8lJmXzpDwBXgTayNi2pDOzP7MfLpDHVPa2ds2eR7ewlo8VUP+o+iPiNfL9kOZuVJR6m+qyN2KJbi+3dDMHMSnEfFI2Z6LD/FcRHxVg0PHqGNne8S8hvciYk8N4WdgMXa3De1WfMNtzbsCD2LjJE//B0W0ycwe9GNPRAxMx2EGmNbOfyMmM9fhcqypKXw+5uBQW/8h3FppP47BiPhsEjkjuKa8vknxCWIoM/vKvjURsb8mp2lR185W5btQkSeWRsSxDnW1R0FPqy8z5+BObKkQewk/R8QrZde5OAIR8YUaJUSZNDdXuuZiLDOrb+Ur2zeBTuxsRcwSRQQMZ2ZrbA6WZeZ9OCsijrbd+wdO4MK2/gX+i6LLMA/VJ343nqy0r8a3U5GcADvwTqW9BQexrdJ3cIL7atvZcsxOfNMm5A38qPDwOO9GxLHM3KcoxN6tDK3A++X1eeX/YcjM5bhYcbgmMxfhKvUSfVX3iMpJQmb+hZEan0V3qmlnb6loFKPV2Zl5pFQ2XLbXY31ELKpMexEDmblXsVXfqzB8Rzl+ACexOjNHFU90F+7IzP3lvH1l3/+OOna20MkrwXzFUWpV0dvYgCcUxx5LcVtE/FKO/67IBasVu9V2RTG4WHFEckhR2Z7sgMcpQVe/EjSJbnuJ7Br8A55CTaKHnDPhAAAAAElFTkSuQmCC\n",
      "text/latex": [
       "$\\displaystyle \\frac{2}{4.0 \\omega^{2} + 4}$"
      ],
      "text/plain": [
       "    2     \n",
       "──────────\n",
       "     2    \n",
       "4.0⋅ω  + 4"
      ]
     },
     "execution_count": 33,
     "metadata": {},
     "output_type": "execute_result"
    }
   ],
=======
   "execution_count": null,
   "metadata": {},
   "outputs": [],
>>>>>>> Stashed changes
   "source": [
    "sym.re(F)"
   ]
  },
  {
   "cell_type": "code",
<<<<<<< Updated upstream
   "execution_count": 34,
   "metadata": {},
   "outputs": [
    {
     "data": {
      "image/png": "iVBORw0KGgoAAAANSUhEUgAAAFYAAAAfCAYAAAB9ATpTAAAAOXRFWHRTb2Z0d2FyZQBNYXRwbG90bGliIHZlcnNpb24zLjYuMiwgaHR0cHM6Ly9tYXRwbG90bGliLm9yZy8o6BhiAAAACXBIWXMAABJ0AAASdAHeZh94AAAEFklEQVR4nO2ZXYhVVRTHf9NUQlFKSVRQEQRakBEGZaJkNYRRYEHpg9OLSFlTWWQwQ/Xv/1AhfdgYDVIPDQ0+9C30EEgZUUmI0jAz1UMflGExEZeJFNLU6WGfO+053I9znXNnjpf5w+WevfdaZ6+1zjpr7/0/bePj48wif5w60wbEsN0N3AksAA4DXwHdkkYy6N4PbAIuAL4BNkr6vInm1sQpMzVxFdwA9AHXAzcCR4GPbZ9TS8n2aqAXeBa4GvgS+Mj2xU21tgYKlbGSbonbtjuBv4ClwIc1VB8F+iW9nrQfsr0S2AB0R/frBZYA10qaVANtDwKfSnpkqn5AwQJbAWcR3qpSNQHbpwOLgRdSQzsJmV+Wuxx4ALgpHdQE3xGyPRcUrRSk8TIwSKi11TAfaAdGU/2jwPlR+3FgUNJnVe5TAs47ISsroLCBtf08sBy4S9KxDCrpLGwr99luB+4A3ovuv8X2g5H82cChKRkdoZCBtf0icA/htf2hjvifwDEmZyeE7Ctn8aXAXGA4Gr+byYFcRNhN5ILCBdb2VmAtsELSt/XkJR0B9gEdqaEOYHdyPS/5P5jMsQK4kLClw/ZC4ErggymaP4FCLV62+whBXQWUbJez8KCkclC6gC5JCyPVl4AB23sIW617CYHblozvB44Da2yPAVsJu4zbbQ8ncvuovfNoCEXL2A2EncAnwO/R77FIZj7hADEBSW8BG4EnCIvdMuBWSb8k438APcAawm6hj3CYWExYGEeB2yQdz8uRttkjbXMwqRTY/hm4pAH97ZLW5mpRiyBdY38E/mlA/7ccbWkp5FIKbM/WkxRma2yTUKjtVh6wfREwQDgg/AtY0vvTbUfRtlt54CjwsKQrCIeEXttnTLcRLV8KbA8R9qj7p3PeppQC2z3AM8CrkroyyDeF/bd9DXAa8OtU71Vjjoq+5l4KbF8HrAeGMso3hf23fS7wJrCuCv+alu+3/XSDc1T1NdeMtT0X2A6sA57KqJY7+297DoFQeU7SbpqAer7mnbGvAe9K2pVFOGL/d6aGqrH/m+qx/7bbgH5gl6SBRh1oADV9zS1jba8HLgM6G1Crxf7fHLWzsP9XJddLgdXAkO1VSV+npOFKiieCLL7mEljbCwg1clnCjzaKLOz/5mi+LcBPkl5JuibYf0lfkOFNTBadnqhrDjBuO2bSVqYX0ay+5pWxSwjZN2K73NcOLLd9H3CmpMMV9KbC/j8ZtRcBXzdo8zbg7ai9GThA4GrLOFBBL5OveQV2B7A31fcG8D3h6VZ8spKO2C6z/+9EQx38/31qXvJfj/3PuliW5y4Rff21/TdQyvApaAcZfM0lsJLGgLG4z/YhgqEjUd9Jwf7XQlZfp/tIe1Kw/3mg5Y+0M4VWJGEKgf8AJNvAYwD/9VwAAAAASUVORK5CYII=\n",
      "text/latex": [
       "$\\displaystyle - \\frac{2.0 \\omega}{4.0 \\omega^{2} + 4}$"
      ],
      "text/plain": [
       " -2.0⋅ω   \n",
       "──────────\n",
       "     2    \n",
       "4.0⋅ω  + 4"
      ]
     },
     "execution_count": 34,
     "metadata": {},
     "output_type": "execute_result"
    }
   ],
=======
   "execution_count": null,
   "metadata": {},
   "outputs": [],
>>>>>>> Stashed changes
   "source": [
    "sym.im(F)"
   ]
  },
  {
   "cell_type": "code",
<<<<<<< Updated upstream
   "execution_count": 35,
   "metadata": {},
   "outputs": [
    {
     "data": {
      "image/png": "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\n",
      "text/latex": [
       "$\\displaystyle 0.5 \\sqrt{\\frac{\\omega^{2}}{\\left(\\omega^{2} + 1\\right)^{2}} + \\frac{1}{\\left(\\omega^{2} + 1\\right)^{2}}}$"
      ],
      "text/plain": [
       "           _______________________\n",
       "          ╱      2                \n",
       "         ╱      ω           1     \n",
       "0.5⋅    ╱   ───────── + ───────── \n",
       "       ╱            2           2 \n",
       "      ╱     ⎛ 2    ⎞    ⎛ 2    ⎞  \n",
       "    ╲╱      ⎝ω  + 1⎠    ⎝ω  + 1⎠  "
      ]
     },
     "execution_count": 35,
     "metadata": {},
     "output_type": "execute_result"
    }
   ],
=======
   "execution_count": null,
   "metadata": {},
   "outputs": [],
>>>>>>> Stashed changes
   "source": [
    "sym.sqrt(sym.re(F)**2 + \n",
    "     sym.im(F)**2  )"
   ]
  },
  {
   "cell_type": "code",
<<<<<<< Updated upstream
   "execution_count": 36,
   "metadata": {},
   "outputs": [
    {
     "data": {
      "image/png": "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\n",
      "text/latex": [
       "$\\displaystyle - \\operatorname{atan}{\\left(\\frac{2.0 \\omega \\left(2.0 \\omega^{2} + 2\\right)}{4.0 \\omega^{2} + 4} \\right)}$"
      ],
      "text/plain": [
       "     ⎛      ⎛     2    ⎞⎞\n",
       "     ⎜2.0⋅ω⋅⎝2.0⋅ω  + 2⎠⎟\n",
       "-atan⎜──────────────────⎟\n",
       "     ⎜         2        ⎟\n",
       "     ⎝    4.0⋅ω  + 4    ⎠"
      ]
     },
     "execution_count": 36,
     "metadata": {},
     "output_type": "execute_result"
    }
   ],
=======
   "execution_count": null,
   "metadata": {},
   "outputs": [],
>>>>>>> Stashed changes
   "source": [
    "sym.atan(sym.im(F)/sym.re(F))"
   ]
  },
  {
   "cell_type": "code",
<<<<<<< Updated upstream
   "execution_count": 37,
   "metadata": {},
   "outputs": [
    {
     "data": {
      "image/png": "iVBORw0KGgoAAAANSUhEUgAAAD0AAAAkCAYAAAA6uzK6AAAAOXRFWHRTb2Z0d2FyZQBNYXRwbG90bGliIHZlcnNpb24zLjYuMiwgaHR0cHM6Ly9tYXRwbG90bGliLm9yZy8o6BhiAAAACXBIWXMAABJ0AAASdAHeZh94AAAD1ElEQVR4nO3ZbYhVVRQG4GfUUrIsyqSi6INCEywroSyKpISUooJK/wRRSVTSFxloH6sVRYRiWBBCENYEUYShQVY/jMjSIkuRiiDEjDBNrCgJTZ1+nKNe79yZuTNzriXjC4d79tp7rf2uu9beZ5912jo6OlSJzJyG13EPVuBu3I6xEbGxC50nMR1X1oh3R8SvlZIrMaQFNh/Cooh4uWzfl5lTFM7P7kZvV0T80gI+nVCp05l5JC7CvLquD3FpD+pnZebP2IlVmB0RG6rktxeDKrY3EoOxuU6+GSd1o/c5bsU1mIFRWJmZx1fMD61Jb6jfKNoayPYhIpbVNNdl5kqsx22YXzW5qiO9Fbt1juoonaPfJSJiO77FOdVR249KnY6InViNyXVdk/FZs3YycxjGYFN17PajFek9H+2Z+QU+xV04BQshM2diZkSM2auQmfPwLjYqsuJxDMerLeBXeXqLiDfxAB7DGlyOqRHxYzlkJEbXqZ2KN/A9FmMHLqnRqRRtVR9ODgVUHulDAYedHigYApk5YBZ2RLQd3sgGCgak002dyMpj4d8t5nJQEBFtzR5Dr8aEiFjdSkIHC82m94X4qpVEDiZ6jHRmtqEjIvq0zWfmaWhXvEj8g4yIxX2xVRWaifQEfNmPOXbh/ogYq3jFXJCZR/XDXr/RjNOTsLyvE0TEpohYW95vwW+KN63/DM04PSwidlQxWWZOwBH4qQp7fUW3azozT8eGKibKzBPwGu7o6/7Qje0rMEtRiT0ZN0fE212NH1SjOCIz76zrn4r3KiA1FO/g2YhoqmyUmYvKjwDNYDjWYmYzg2sjfROezsz2mnQ+MSK2NiC0ABNxcX3UMnMNPoqIB8t2GxZheUS0N+lEr1BWU5eV8/U4fl+kI+IVRVH+qlL5GPxRr5CZ5+JezOoiTb/DBTXtyzANN2TmmvIa16xDrUD9ml6C6xUpPQUfNNB5BGsi4uMubG7D+XsbEbHC/+yMX+/0+5hbpuToiHirtjMzB+NGPFcjex7rI+LFUjQC23tLJDPnYE6NaCg6MvPhGtmUiPikt7brcUAEaorsExWHinqciWOxrkZ2iwOdPA/f9IHLQoyvuZY2kPXnkLQPjR5ZSxSRfLRB33Hl71+QmZMUNe0dZXsMxuGJ3hKJiG2KpaG09Se2RcQPvbXVExo5vRTPKAr19diIPZiemb/jBUWR/rrMXKeIzOpSdtCQmUfj7BrRGZk5XvGndfom3mmDiYjNmBERuxv0bVGsu+mKnf4l+w8FqxTfq66NiD39d6VXmICvywvmlvdPNRp8uEY2UPAvcYc8cnIYrqYAAAAASUVORK5CYII=\n",
      "text/latex": [
       "$\\displaystyle \\frac{0.5}{\\sqrt{\\omega^{2} + 1}}$"
      ],
      "text/plain": [
       "    0.5    \n",
       "───────────\n",
       "   ________\n",
       "  ╱  2     \n",
       "╲╱  ω  + 1 "
      ]
     },
     "execution_count": 37,
     "metadata": {},
     "output_type": "execute_result"
    }
   ],
=======
   "execution_count": null,
   "metadata": {},
   "outputs": [],
>>>>>>> Stashed changes
   "source": [
    "sym.Abs(F)"
   ]
  },
  {
   "cell_type": "code",
<<<<<<< Updated upstream
   "execution_count": 38,
   "metadata": {},
   "outputs": [
    {
     "data": {
      "image/png": "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\n",
      "text/latex": [
       "$\\displaystyle \\arg{\\left(\\frac{1}{2.0 i \\omega + 2} \\right)}$"
      ],
      "text/plain": [
       "   ⎛     1     ⎞\n",
       "arg⎜───────────⎟\n",
       "   ⎝2.0⋅ⅈ⋅ω + 2⎠"
      ]
     },
     "execution_count": 38,
     "metadata": {},
     "output_type": "execute_result"
    }
   ],
=======
   "execution_count": null,
   "metadata": {},
   "outputs": [],
>>>>>>> Stashed changes
   "source": [
    "sym.arg(F)"
   ]
  },
  {
   "cell_type": "code",
<<<<<<< Updated upstream
   "execution_count": 39,
   "metadata": {
    "scrolled": true
   },
   "outputs": [
    {
     "data": {
      "image/png": "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\n",
      "text/plain": [
       "<Figure size 500x200 with 1 Axes>"
      ]
     },
     "metadata": {},
     "output_type": "display_data"
    },
    {
     "data": {
      "image/png": "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\n",
      "text/plain": [
       "<Figure size 500x200 with 1 Axes>"
      ]
     },
     "metadata": {},
     "output_type": "display_data"
    },
    {
     "data": {
      "text/plain": [
       "<sympy.plotting.plot.Plot at 0x20dc3c19000>"
      ]
     },
     "execution_count": 39,
     "metadata": {},
     "output_type": "execute_result"
    }
   ],
=======
   "execution_count": null,
   "metadata": {
    "scrolled": true
   },
   "outputs": [],
>>>>>>> Stashed changes
   "source": [
    "plt.rcParams['figure.figsize'] = 5, 2\n",
    "sym.plot(sym.Abs(F), (w,0,10), ylabel=r'Mag',line_color='blue',legend=True, label = 'F(w)', show = True)\n",
    "sym.plot(sym.arg(F), (w,0,10), ylabel=r'arg',line_color='blue',legend=True, label = 'F(w)', show = True)\n"
   ]
  },
  {
   "cell_type": "code",
   "execution_count": null,
   "metadata": {},
   "outputs": [],
   "source": []
  }
 ],
 "metadata": {
  "kernelspec": {
   "display_name": "Python 3 (ipykernel)",
   "language": "python",
   "name": "python3"
  },
  "language_info": {
   "codemirror_mode": {
    "name": "ipython",
    "version": 3
   },
   "file_extension": ".py",
   "mimetype": "text/x-python",
   "name": "python",
   "nbconvert_exporter": "python",
   "pygments_lexer": "ipython3",
   "version": "3.10.9"
  },
  "latex_envs": {
   "LaTeX_envs_menu_present": true,
   "autoclose": false,
   "autocomplete": true,
   "bibliofile": "biblio.bib",
   "cite_by": "apalike",
   "current_citInitial": 1,
   "eqLabelWithNumbers": true,
   "eqNumInitial": 0,
   "hotkeys": {
    "equation": "Ctrl-E",
    "itemize": "Ctrl-I"
   },
   "labels_anchors": false,
   "latex_user_defs": false,
   "report_style_numbering": false,
   "user_envs_cfg": false
  },
  "toc": {
   "base_numbering": 1,
   "nav_menu": {},
   "number_sections": true,
   "sideBar": true,
   "skip_h1_title": false,
   "title_cell": "Table of Contents",
   "title_sidebar": "Contents",
   "toc_cell": false,
   "toc_position": {
    "height": "calc(100% - 180px)",
    "left": "10px",
    "top": "150px",
    "width": "227.667px"
   },
   "toc_section_display": true,
   "toc_window_display": true
  },
  "varInspector": {
   "cols": {
    "lenName": 16,
    "lenType": 16,
    "lenVar": 40
   },
   "kernels_config": {
    "python": {
     "delete_cmd_postfix": "",
     "delete_cmd_prefix": "del ",
     "library": "var_list.py",
     "varRefreshCmd": "print(var_dic_list())"
    },
    "r": {
     "delete_cmd_postfix": ") ",
     "delete_cmd_prefix": "rm(",
     "library": "var_list.r",
     "varRefreshCmd": "cat(var_dic_list()) "
    }
   },
   "types_to_exclude": [
    "module",
    "function",
    "builtin_function_or_method",
    "instance",
    "_Feature"
   ],
   "window_display": false
  }
 },
 "nbformat": 4,
 "nbformat_minor": 4
}
