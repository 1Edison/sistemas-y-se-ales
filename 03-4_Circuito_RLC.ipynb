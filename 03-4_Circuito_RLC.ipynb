{
 "cells": [
  {
   "cell_type": "code",
   "execution_count": 1,
   "metadata": {},
   "outputs": [],
   "source": [
    "import sympy as sym\n",
    "import matplotlib.pyplot as plt\n",
    "%matplotlib inline\n",
    "sym.init_printing()"
   ]
  },
  {
   "cell_type": "markdown",
   "metadata": {},
   "source": [
    "# Caracterización de Sistemas en el Dominio del Tiempo\n",
    "\n"
   ]
  },
  {
   "cell_type": "markdown",
   "metadata": {},
   "source": [
    "## Ejemplo RLC serie\n",
    "\n",
    "Considere el circuito que se muestra en la figura. Suponga que la entrada es el voltaje $x(t)$ y la salida el voltaje $y(t)$. Suponga además que no hay energía almacenada en los elementos que almacenan energía en $t<0$. Además, considere que $x(t)=0 \\forall t<0$.\n",
    "\n",
    "![Circuito](figuras/lowpass.png)\n",
    "\n",
    "Para ilustrar, considere que $L = 0.5$, $R = 1$, $C = 0.4$ ."
   ]
  },
  {
   "cell_type": "markdown",
   "metadata": {},
   "source": [
    "### Ecuación diferencial (modelo)\n",
    "\n",
    "Aplicando las [Leyes de Kirchhoff](https://en.wikipedia.org/wiki/Kirchhoff's_circuit_laws) al circuito se obtiene la siguiente ODE.\n",
    "\n",
    "\\begin{equation}\n",
    "C L \\frac{d^2 y(t)}{dt^2} + C R \\frac{d y(t)}{dt} + y(t) = x(t)\n",
    "\\end{equation}\n",
    "\n",
    "Defínala en `SymPy`"
   ]
  },
  {
   "cell_type": "code",
   "execution_count": 2,
   "metadata": {},
   "outputs": [
    {
     "data": {
      "image/png": "[encoded data removed]",
      "text/latex": [
       "$\\displaystyle C L \\frac{d^{2}}{d t^{2}} y{\\left(t \\right)} + C R \\frac{d}{d t} y{\\left(t \\right)} + y{\\left(t \\right)} = x{\\left(t \\right)}$"
      ],
      "text/plain": [
       "      2                                   \n",
       "     d              d                     \n",
       "C⋅L⋅───(y(t)) + C⋅R⋅──(y(t)) + y(t) = x(t)\n",
       "      2             dt                    \n",
       "    dt                                    "
      ]
     },
     "execution_count": 2,
     "metadata": {},
     "output_type": "execute_result"
    }
   ],
   "source": [
    "t, L, R, C = sym.symbols('t L R C', real=True)\n",
    "x = sym.Function('x')(t)\n",
    "y = sym.Function('y')(t)\n",
    "\n",
    "ode = sym.Eq(L*C*y.diff(t, 2) + R*C*y.diff(t) + y, x)\n",
    "ode\n"
   ]
  },
  {
   "cell_type": "markdown",
   "metadata": {},
   "source": [
    "Introduzca los valores de los elementos del circuito en un diccionario para usarlo después."
   ]
  },
  {
   "cell_type": "code",
   "execution_count": 3,
   "metadata": {},
   "outputs": [
    {
     "data": {
      "image/png": "[encoded data removed]",
      "text/latex": [
       "$\\displaystyle \\left\\{ C : 2, \\  L : 0.5, \\  R : 1.1\\right\\}$"
      ],
      "text/plain": [
       "{C: 2, L: 0.5, R: 1.1}"
      ]
     },
     "execution_count": 3,
     "metadata": {},
     "output_type": "execute_result"
    }
   ],
   "source": [
    "RLC = {R: 1.1,\n",
    "       L: 0.5,\n",
    "       C: 2}\n",
    "RLC"
   ]
  },
  {
   "cell_type": "markdown",
   "metadata": {},
   "source": [
    "### Respuesta impulsional\n",
    "\n",
    "Encuentre la respuesta impulsional del circuito resolviendo la ODE para $x(t)=\\delta(t)$"
   ]
  },
  {
   "cell_type": "code",
   "execution_count": 4,
   "metadata": {},
   "outputs": [
    {
     "data": {
      "image/png": "[encoded data removed]",
      "text/latex": [
       "$\\displaystyle C L \\frac{d^{2}}{d t^{2}} h{\\left(t \\right)} + C R \\frac{d}{d t} h{\\left(t \\right)} + h{\\left(t \\right)} = \\delta\\left(t\\right)$"
      ],
      "text/plain": [
       "      2                                   \n",
       "     d              d                     \n",
       "C⋅L⋅───(h(t)) + C⋅R⋅──(h(t)) + h(t) = δ(t)\n",
       "      2             dt                    \n",
       "    dt                                    "
      ]
     },
     "execution_count": 4,
     "metadata": {},
     "output_type": "execute_result"
    }
   ],
   "source": [
    "ode.subs(x, sym.DiracDelta(t)).subs(y, sym.Function('h')(t))"
   ]
  },
  {
   "cell_type": "code",
   "execution_count": 5,
   "metadata": {},
   "outputs": [
    {
     "data": {
      "image/png": "[encoded data removed]",
      "text/latex": [
       "$\\displaystyle h{\\left(t \\right)} = C_{1} e^{\\frac{t \\left(- R - \\frac{\\sqrt{C \\left(C R^{2} - 4 L\\right)}}{C}\\right)}{2 L}} + C_{2} e^{\\frac{t \\left(- R + \\frac{\\sqrt{C \\left(C R^{2} - 4 L\\right)}}{C}\\right)}{2 L}} - \\frac{e^{\\frac{t \\left(- R - \\frac{\\sqrt{C \\left(C R^{2} - 4 L\\right)}}{C}\\right)}{2 L}} \\theta\\left(t\\right)}{\\sqrt{C \\left(C R^{2} - 4 L\\right)}} + \\frac{e^{\\frac{t \\left(- R + \\frac{\\sqrt{C \\left(C R^{2} - 4 L\\right)}}{C}\\right)}{2 L}} \\theta\\left(t\\right)}{\\sqrt{C \\left(C R^{2} - 4 L\\right)}}$"
      ],
      "text/plain": [
       "                                                                              \n",
       "             ⎛        ________________⎞         ⎛        ________________⎞    \n",
       "             ⎜       ╱   ⎛   2      ⎞ ⎟         ⎜       ╱   ⎛   2      ⎞ ⎟    \n",
       "             ⎜     ╲╱  C⋅⎝C⋅R  - 4⋅L⎠ ⎟         ⎜     ╲╱  C⋅⎝C⋅R  - 4⋅L⎠ ⎟    \n",
       "           t⋅⎜-R - ───────────────────⎟       t⋅⎜-R + ───────────────────⎟    \n",
       "             ⎝              C         ⎠         ⎝              C         ⎠    \n",
       "           ────────────────────────────       ────────────────────────────    \n",
       "                       2⋅L                                2⋅L                ℯ\n",
       "h(t) = C₁⋅ℯ                             + C₂⋅ℯ                             - ─\n",
       "                                                                              \n",
       "                                                                              \n",
       "                                                                              \n",
       "\n",
       "  ⎛        ________________⎞           ⎛        ________________⎞     \n",
       "  ⎜       ╱   ⎛   2      ⎞ ⎟           ⎜       ╱   ⎛   2      ⎞ ⎟     \n",
       "  ⎜     ╲╱  C⋅⎝C⋅R  - 4⋅L⎠ ⎟           ⎜     ╲╱  C⋅⎝C⋅R  - 4⋅L⎠ ⎟     \n",
       "t⋅⎜-R - ───────────────────⎟         t⋅⎜-R + ───────────────────⎟     \n",
       "  ⎝              C         ⎠           ⎝              C         ⎠     \n",
       "────────────────────────────         ────────────────────────────     \n",
       "            2⋅L                                  2⋅L                  \n",
       "                            ⋅θ(t)   ℯ                            ⋅θ(t)\n",
       "───────────────────────────────── + ──────────────────────────────────\n",
       "         ________________                     ________________        \n",
       "        ╱   ⎛   2      ⎞                     ╱   ⎛   2      ⎞         \n",
       "      ╲╱  C⋅⎝C⋅R  - 4⋅L⎠                   ╲╱  C⋅⎝C⋅R  - 4⋅L⎠         "
      ]
     },
     "execution_count": 5,
     "metadata": {},
     "output_type": "execute_result"
    }
   ],
   "source": [
    "solution_h = sym.dsolve(\n",
    "    ode.subs(x, sym.DiracDelta(t)).subs(y, sym.Function('h')(t)))\n",
    "solution_h"
   ]
  },
  {
   "cell_type": "markdown",
   "metadata": {},
   "source": [
    "Las constantes $C_1$ y $C_2$ deben calcularse para satisfacer las condiciones iniciales  $y(t) = 0$ and $\\frac{d y(t)}{dt} = 0$ para $t<0$. "
   ]
  },
  {
   "cell_type": "code",
   "execution_count": 6,
   "metadata": {},
   "outputs": [
    {
     "data": {
      "image/png": "[encoded data removed]",
      "text/latex": [
       "$\\displaystyle \\left\\{ C_{1} : 0, \\  C_{2} : 0\\right\\}$"
      ],
      "text/plain": [
       "{C₁: 0, C₂: 0}"
      ]
     },
     "execution_count": 6,
     "metadata": {},
     "output_type": "execute_result"
    }
   ],
   "source": [
    "integration_constants = sym.solve(\n",
    "    (solution_h.rhs.limit(t, 0, '-'),\n",
    "     solution_h.rhs.diff(t).limit(t, 0, '-')),\n",
    "    ['C1', 'C2'])\n",
    "integration_constants"
   ]
  },
  {
   "cell_type": "markdown",
   "metadata": {},
   "source": [
    "Remplace los valores de las constantes de integración $C_1$ y $C_2$ en la solución de la ODE obtenida antes para encontrar la respuesta impulsional completa."
   ]
  },
  {
   "cell_type": "code",
   "execution_count": 7,
   "metadata": {},
   "outputs": [
    {
     "data": {
      "image/png": "[encoded data removed]",
      "text/latex": [
       "$\\displaystyle h{\\left(t \\right)} = - \\frac{e^{\\frac{t \\left(- R - \\frac{\\sqrt{C \\left(C R^{2} - 4 L\\right)}}{C}\\right)}{2 L}} \\theta\\left(t\\right)}{\\sqrt{C \\left(C R^{2} - 4 L\\right)}} + \\frac{e^{\\frac{t \\left(- R + \\frac{\\sqrt{C \\left(C R^{2} - 4 L\\right)}}{C}\\right)}{2 L}} \\theta\\left(t\\right)}{\\sqrt{C \\left(C R^{2} - 4 L\\right)}}$"
      ],
      "text/plain": [
       "            ⎛        ________________⎞           ⎛        ________________⎞   \n",
       "            ⎜       ╱   ⎛   2      ⎞ ⎟           ⎜       ╱   ⎛   2      ⎞ ⎟   \n",
       "            ⎜     ╲╱  C⋅⎝C⋅R  - 4⋅L⎠ ⎟           ⎜     ╲╱  C⋅⎝C⋅R  - 4⋅L⎠ ⎟   \n",
       "          t⋅⎜-R - ───────────────────⎟         t⋅⎜-R + ───────────────────⎟   \n",
       "            ⎝              C         ⎠           ⎝              C         ⎠   \n",
       "          ────────────────────────────         ────────────────────────────   \n",
       "                      2⋅L                                  2⋅L                \n",
       "         ℯ                            ⋅θ(t)   ℯ                            ⋅θ(\n",
       "h(t) = - ────────────────────────────────── + ────────────────────────────────\n",
       "                   ________________                     ________________      \n",
       "                  ╱   ⎛   2      ⎞                     ╱   ⎛   2      ⎞       \n",
       "                ╲╱  C⋅⎝C⋅R  - 4⋅L⎠                   ╲╱  C⋅⎝C⋅R  - 4⋅L⎠       \n",
       "\n",
       "  \n",
       "  \n",
       "  \n",
       "  \n",
       "  \n",
       "  \n",
       "  \n",
       "t)\n",
       "──\n",
       "  \n",
       "  \n",
       "  "
      ]
     },
     "execution_count": 7,
     "metadata": {},
     "output_type": "execute_result"
    }
   ],
   "source": [
    "h = solution_h.subs(integration_constants)\n",
    "h"
   ]
  },
  {
   "cell_type": "markdown",
   "metadata": {},
   "source": [
    "Grafique la respuesta impulsional del sistema usando los parámetros almacenados en el diccionario RLC."
   ]
  },
  {
   "cell_type": "code",
   "execution_count": 8,
   "metadata": {},
   "outputs": [
    {
     "data": {
      "image/png": "[encoded data removed]",
      "text/plain": [
       "<Figure size 504x144 with 1 Axes>"
      ]
     },
     "metadata": {
      "needs_background": "light"
     },
     "output_type": "display_data"
    }
   ],
   "source": [
    "plt.rcParams['figure.figsize'] = 7, 2\n",
    "sym.plot(h.rhs.subs(RLC), (t,-1,10), ylabel=r'h(t)');"
   ]
  },
  {
   "cell_type": "markdown",
   "metadata": {},
   "source": [
    "### Respuesta al escalón\n",
    "\n",
    "La respuesta al escalón se obtiene al integrar la respuesta impulsional."
   ]
  },
  {
   "cell_type": "code",
   "execution_count": 9,
   "metadata": {},
   "outputs": [
    {
     "data": {
      "text/latex": [
       "$\\displaystyle \\frac{- \\left(\\begin{cases} \\begin{cases} - \\frac{2 C L}{C R - \\sqrt{C^{2} R^{2} - 4 C L}} & \\text{for}\\: C R - \\sqrt{C^{2} R^{2} - 4 C L} \\neq 0 \\\\0 & \\text{otherwise} \\end{cases} & \\text{for}\\: C R - \\sqrt{C^{2} R^{2} - 4 C L} = 0 \\\\- \\frac{2 C L}{C R - \\sqrt{C^{2} R^{2} - 4 C L}} & \\text{otherwise} \\end{cases}\\right) \\theta\\left(t\\right) + \\left(\\begin{cases} \\begin{cases} - \\frac{2 C L e^{- \\frac{R t}{2 L} + \\frac{t \\sqrt{C^{2} R^{2} - 4 C L}}{2 C L}}}{C R - \\sqrt{C^{2} R^{2} - 4 C L}} & \\text{for}\\: C R - \\sqrt{C^{2} R^{2} - 4 C L} \\neq 0 \\\\t & \\text{otherwise} \\end{cases} & \\text{for}\\: C R - \\sqrt{C^{2} R^{2} - 4 C L} = 0 \\\\- \\frac{2 C L e^{- \\frac{R t}{2 L} + \\frac{t \\sqrt{C^{2} R^{2} - 4 C L}}{2 C L}}}{C R - \\sqrt{C^{2} R^{2} - 4 C L}} & \\text{otherwise} \\end{cases}\\right) \\theta\\left(t\\right)}{\\sqrt{C \\left(C R^{2} - 4 L\\right)}} - \\frac{- \\left(\\begin{cases} \\begin{cases} - \\frac{2 C L}{C R + \\sqrt{C^{2} R^{2} - 4 C L}} & \\text{for}\\: C R + \\sqrt{C^{2} R^{2} - 4 C L} \\neq 0 \\\\0 & \\text{otherwise} \\end{cases} & \\text{for}\\: C R + \\sqrt{C^{2} R^{2} - 4 C L} = 0 \\\\- \\frac{2 C L}{C R + \\sqrt{C^{2} R^{2} - 4 C L}} & \\text{otherwise} \\end{cases}\\right) \\theta\\left(t\\right) + \\left(\\begin{cases} \\begin{cases} - \\frac{2 C L e^{- \\frac{R t}{2 L} - \\frac{t \\sqrt{C^{2} R^{2} - 4 C L}}{2 C L}}}{C R + \\sqrt{C^{2} R^{2} - 4 C L}} & \\text{for}\\: C R + \\sqrt{C^{2} R^{2} - 4 C L} \\neq 0 \\\\t & \\text{otherwise} \\end{cases} & \\text{for}\\: C R + \\sqrt{C^{2} R^{2} - 4 C L} = 0 \\\\- \\frac{2 C L e^{- \\frac{R t}{2 L} - \\frac{t \\sqrt{C^{2} R^{2} - 4 C L}}{2 C L}}}{C R + \\sqrt{C^{2} R^{2} - 4 C L}} & \\text{otherwise} \\end{cases}\\right) \\theta\\left(t\\right)}{\\sqrt{C \\left(C R^{2} - 4 L\\right)}}$"
      ],
      "text/plain": [
       "                                                                              \n",
       "                                                                              \n",
       "                                                                              \n",
       "                                                                              \n",
       "                                                                              \n",
       "  ⎛⎧⎧                                       _______________                   \n",
       "  ⎜⎪⎪        -2⋅C⋅L                        ╱  2  2                            \n",
       "  ⎜⎪⎪────────────────────────  for C⋅R - ╲╱  C ⋅R  - 4⋅C⋅L  ≠ 0               \n",
       "  ⎜⎪⎪         _______________                                                ╱\n",
       "  ⎜⎪⎨        ╱  2  2                                             for C⋅R - ╲╱ \n",
       "  ⎜⎪⎪C⋅R - ╲╱  C ⋅R  - 4⋅C⋅L                                                  \n",
       "  ⎜⎪⎪                                                                         \n",
       "- ⎜⎨⎪           0                         otherwise                           \n",
       "  ⎜⎪⎩                                                                         \n",
       "  ⎜⎪                                                                          \n",
       "  ⎜⎪                         -2⋅C⋅L                                           \n",
       "  ⎜⎪                 ────────────────────────                               ot\n",
       "  ⎜⎪                          _______________                                 \n",
       "  ⎜⎪                         ╱  2  2                                          \n",
       "  ⎝⎩                 C⋅R - ╲╱  C ⋅R  - 4⋅C⋅L                                  \n",
       "                                                                              \n",
       "                                                                              \n",
       "                                                                              \n",
       "                                                                              \n",
       "                                                                              \n",
       "──────────────────────────────────────────────────────────────────────────────\n",
       "                                                                              \n",
       "                                                                              \n",
       "                                                                              \n",
       "\n",
       "                            ⎛⎧⎧                     _______________           \n",
       "                            ⎜⎪⎪                    ╱  2  2                    \n",
       "                            ⎜⎪⎪          R⋅t   t⋅╲╱  C ⋅R  - 4⋅C⋅L            \n",
       "                            ⎜⎪⎪        - ─── + ────────────────────           \n",
       "                            ⎜⎪⎪          2⋅L          2⋅C⋅L                   \n",
       "                   ⎞        ⎜⎪⎪-2⋅C⋅L⋅ℯ                                       \n",
       "                   ⎟        ⎜⎪⎨─────────────────────────────────────  for C⋅R \n",
       "_______________    ⎟        ⎜⎪⎪                _______________                \n",
       "  2  2             ⎟        ⎜⎪⎪               ╱  2  2                         \n",
       " C ⋅R  - 4⋅C⋅L  = 0⎟        ⎜⎪⎪       C⋅R - ╲╱  C ⋅R  - 4⋅C⋅L                 \n",
       "                   ⎟        ⎜⎪⎪                                               \n",
       "                   ⎟        ⎜⎪⎪                  t                            \n",
       "                   ⎟⋅θ(t) + ⎜⎨⎩                                               \n",
       "                   ⎟        ⎜⎪                                                \n",
       "                   ⎟        ⎜⎪                                      __________\n",
       "                   ⎟        ⎜⎪                                     ╱  2  2    \n",
       "herwise            ⎟        ⎜⎪                           R⋅t   t⋅╲╱  C ⋅R  - 4\n",
       "                   ⎟        ⎜⎪                         - ─── + ───────────────\n",
       "                   ⎟        ⎜⎪                           2⋅L          2⋅C⋅L   \n",
       "                   ⎠        ⎜⎪                 -2⋅C⋅L⋅ℯ                       \n",
       "                            ⎜⎪                 ───────────────────────────────\n",
       "                            ⎜⎪                                 _______________\n",
       "                            ⎜⎪                                ╱  2  2         \n",
       "                            ⎜⎪                        C⋅R - ╲╱  C ⋅R  - 4⋅C⋅L \n",
       "                            ⎝⎩                                                \n",
       "──────────────────────────────────────────────────────────────────────────────\n",
       "                         ________________                                     \n",
       "                        ╱   ⎛   2      ⎞                                      \n",
       "                      ╲╱  C⋅⎝C⋅R  - 4⋅L⎠                                      \n",
       "\n",
       "                                                          ⎞                   \n",
       "                                                          ⎟                   \n",
       "                                                          ⎟                   \n",
       "                                                          ⎟                   \n",
       "     _______________                   _______________    ⎟                   \n",
       "    ╱  2  2                           ╱  2  2             ⎟          ⎛⎧⎧      \n",
       "- ╲╱  C ⋅R  - 4⋅C⋅L  ≠ 0  for C⋅R - ╲╱  C ⋅R  - 4⋅C⋅L  = 0⎟          ⎜⎪⎪      \n",
       "                                                          ⎟          ⎜⎪⎪──────\n",
       "                                                          ⎟          ⎜⎪⎪      \n",
       "                                                          ⎟          ⎜⎪⎨      \n",
       "                                                          ⎟          ⎜⎪⎪C⋅R + \n",
       "   otherwise                                              ⎟          ⎜⎪⎪      \n",
       "                                                          ⎟⋅θ(t)   - ⎜⎨⎪      \n",
       "                                                          ⎟          ⎜⎪⎩      \n",
       "_____                                                     ⎟          ⎜⎪       \n",
       "                                                          ⎟          ⎜⎪       \n",
       "⋅C⋅L                                                      ⎟          ⎜⎪       \n",
       "─────                                                     ⎟          ⎜⎪       \n",
       "                                                          ⎟          ⎜⎪       \n",
       "                                                          ⎟          ⎝⎩       \n",
       "──────                               otherwise            ⎟                   \n",
       "                                                          ⎟                   \n",
       "                                                          ⎟                   \n",
       "                                                          ⎟                   \n",
       "                                                          ⎠                   \n",
       "──────────────────────────────────────────────────────────────── - ───────────\n",
       "                                                                              \n",
       "                                                                              \n",
       "                                                                              \n",
       "\n",
       "                                                                              \n",
       "                                                                              \n",
       "                                                                              \n",
       "                                                                              \n",
       "                                                                              \n",
       "                                 _______________                              \n",
       "  -2⋅C⋅L                        ╱  2  2                                       \n",
       "──────────────────  for C⋅R + ╲╱  C ⋅R  - 4⋅C⋅L  ≠ 0               ___________\n",
       "   _______________                                                ╱  2  2     \n",
       "  ╱  2  2                                             for C⋅R + ╲╱  C ⋅R  - 4⋅\n",
       "╲╱  C ⋅R  - 4⋅C⋅L                                                             \n",
       "                                                                              \n",
       "     0                         otherwise                                      \n",
       "                                                                              \n",
       "                                                                              \n",
       "                  -2⋅C⋅L                                                      \n",
       "          ────────────────────────                               otherwise    \n",
       "                   _______________                                            \n",
       "                  ╱  2  2                                                     \n",
       "          C⋅R + ╲╱  C ⋅R  - 4⋅C⋅L                                             \n",
       "                                                                              \n",
       "                                                                              \n",
       "                                                                              \n",
       "                                                                              \n",
       "                                                                              \n",
       "──────────────────────────────────────────────────────────────────────────────\n",
       "                                                                              \n",
       "                                                                              \n",
       "                                                                              \n",
       "\n",
       "                 ⎛⎧⎧                     _______________                      \n",
       "                 ⎜⎪⎪                    ╱  2  2                               \n",
       "                 ⎜⎪⎪          R⋅t   t⋅╲╱  C ⋅R  - 4⋅C⋅L                       \n",
       "                 ⎜⎪⎪        - ─── - ────────────────────                      \n",
       "                 ⎜⎪⎪          2⋅L          2⋅C⋅L                        ______\n",
       "        ⎞        ⎜⎪⎪-2⋅C⋅L⋅ℯ                                           ╱  2  2\n",
       "        ⎟        ⎜⎪⎨─────────────────────────────────────  for C⋅R + ╲╱  C ⋅R \n",
       "____    ⎟        ⎜⎪⎪                _______________                           \n",
       "        ⎟        ⎜⎪⎪               ╱  2  2                                    \n",
       "C⋅L  = 0⎟        ⎜⎪⎪       C⋅R + ╲╱  C ⋅R  - 4⋅C⋅L                            \n",
       "        ⎟        ⎜⎪⎪                                                          \n",
       "        ⎟        ⎜⎪⎪                  t                               otherwis\n",
       "        ⎟⋅θ(t) + ⎜⎨⎩                                                          \n",
       "        ⎟        ⎜⎪                                                           \n",
       "        ⎟        ⎜⎪                                      _______________      \n",
       "        ⎟        ⎜⎪                                     ╱  2  2               \n",
       "        ⎟        ⎜⎪                           R⋅t   t⋅╲╱  C ⋅R  - 4⋅C⋅L       \n",
       "        ⎟        ⎜⎪                         - ─── - ────────────────────      \n",
       "        ⎟        ⎜⎪                           2⋅L          2⋅C⋅L              \n",
       "        ⎠        ⎜⎪                 -2⋅C⋅L⋅ℯ                                  \n",
       "                 ⎜⎪                 ─────────────────────────────────────     \n",
       "                 ⎜⎪                                 _______________           \n",
       "                 ⎜⎪                                ╱  2  2                    \n",
       "                 ⎜⎪                        C⋅R + ╲╱  C ⋅R  - 4⋅C⋅L            \n",
       "                 ⎝⎩                                                           \n",
       "──────────────────────────────────────────────────────────────────────────────\n",
       "              ________________                                                \n",
       "             ╱   ⎛   2      ⎞                                                 \n",
       "           ╲╱  C⋅⎝C⋅R  - 4⋅L⎠                                                 \n",
       "\n",
       "                                               ⎞     \n",
       "                                               ⎟     \n",
       "                                               ⎟     \n",
       "                                               ⎟     \n",
       "_________                   _______________    ⎟     \n",
       "                           ╱  2  2             ⎟     \n",
       " - 4⋅C⋅L  ≠ 0  for C⋅R + ╲╱  C ⋅R  - 4⋅C⋅L  = 0⎟     \n",
       "                                               ⎟     \n",
       "                                               ⎟     \n",
       "                                               ⎟     \n",
       "                                               ⎟     \n",
       "e                                              ⎟     \n",
       "                                               ⎟⋅θ(t)\n",
       "                                               ⎟     \n",
       "                                               ⎟     \n",
       "                                               ⎟     \n",
       "                                               ⎟     \n",
       "                                               ⎟     \n",
       "                                               ⎟     \n",
       "                                               ⎟     \n",
       "                          otherwise            ⎟     \n",
       "                                               ⎟     \n",
       "                                               ⎟     \n",
       "                                               ⎟     \n",
       "                                               ⎠     \n",
       "─────────────────────────────────────────────────────\n",
       "                                                     \n",
       "                                                     \n",
       "                                                     "
      ]
     },
     "execution_count": 9,
     "metadata": {},
     "output_type": "execute_result"
    }
   ],
   "source": [
    "tau = sym.symbols('tau', real=True)\n",
    "\n",
    "he = sym.integrate(h.rhs.subs(t, tau), (tau, 0, t))\n",
    "he"
   ]
  },
  {
   "cell_type": "markdown",
   "metadata": {},
   "source": [
    "Para facilitar la interpretación de la expresión, considere los valores almacenados en el diccionario."
   ]
  },
  {
   "cell_type": "code",
   "execution_count": 10,
   "metadata": {},
   "outputs": [
    {
     "data": {
      "image/png": "[encoded data removed]",
      "text/latex": [
       "$\\displaystyle 1.0 \\theta\\left(t\\right) + 0.700198396297958 e^{- 1.55825756949558 t} \\theta\\left(t\\right) - 1.70019839629796 e^{- 0.641742430504416 t} \\theta\\left(t\\right)$"
      ],
      "text/plain": [
       "                              -1.55825756949558⋅t                          -0.\n",
       "1.0⋅θ(t) + 0.700198396297958⋅ℯ                   ⋅θ(t) - 1.70019839629796⋅ℯ   \n",
       "\n",
       "641742430504416⋅t     \n",
       "                 ⋅θ(t)"
      ]
     },
     "execution_count": 10,
     "metadata": {},
     "output_type": "execute_result"
    }
   ],
   "source": [
    "tau = sym.symbols('tau', real=True)\n",
    "\n",
    "he = sym.integrate(h.rhs.subs(RLC).subs(t, tau), (tau, 0, t)).simplify()\n",
    "he"
   ]
  },
  {
   "cell_type": "markdown",
   "metadata": {},
   "source": [
    "Grafique la respuesta al escalón."
   ]
  },
  {
   "cell_type": "code",
   "execution_count": 11,
   "metadata": {},
   "outputs": [
    {
     "data": {
      "image/png": "[encoded data removed]",
      "text/plain": [
       "<Figure size 504x144 with 1 Axes>"
      ]
     },
     "metadata": {
      "needs_background": "light"
     },
     "output_type": "display_data"
    }
   ],
   "source": [
    "sym.plot(he, (t,-1,10), ylabel=r'$h_\\epsilon(t)$');"
   ]
  },
  {
   "cell_type": "code",
   "execution_count": null,
   "metadata": {},
   "outputs": [],
   "source": []
  }
 ],
 "metadata": {
  "kernelspec": {
   "display_name": "Python 3",
   "language": "python",
   "name": "python3"
  },
  "language_info": {
   "codemirror_mode": {
    "name": "ipython",
    "version": 3
   },
   "file_extension": ".py",
   "mimetype": "text/x-python",
   "name": "python",
   "nbconvert_exporter": "python",
   "pygments_lexer": "ipython3",
   "version": "3.7.8"
  },
  "latex_envs": {
   "bibliofile": "biblio.bib",
   "cite_by": "apalike",
   "current_citInitial": 1,
   "eqLabelWithNumbers": true,
   "eqNumInitial": 0
  },
  "varInspector": {
   "cols": {
    "lenName": 16,
    "lenType": 16,
    "lenVar": 40
   },
   "kernels_config": {
    "python": {
     "delete_cmd_postfix": "",
     "delete_cmd_prefix": "del ",
     "library": "var_list.py",
     "varRefreshCmd": "print(var_dic_list())"
    },
    "r": {
     "delete_cmd_postfix": ") ",
     "delete_cmd_prefix": "rm(",
     "library": "var_list.r",
     "varRefreshCmd": "cat(var_dic_list()) "
    }
   },
   "types_to_exclude": [
    "module",
    "function",
    "builtin_function_or_method",
    "instance",
    "_Feature"
   ],
   "window_display": false
  }
 },
 "nbformat": 4,
 "nbformat_minor": 4
}
