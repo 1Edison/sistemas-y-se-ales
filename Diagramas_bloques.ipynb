{
 "cells": [
  {
   "cell_type": "code",
   "execution_count": 1,
   "id": "23be4f0a",
   "metadata": {},
   "outputs": [],
   "source": [
    "import sympy\n",
    "sympy.init_printing()"
   ]
  },
  {
   "cell_type": "markdown",
   "id": "b5284dc1",
   "metadata": {},
   "source": [
    "# Diagramas de bloques\n",
    "\n",
    "Es conveniente analizar sistemas elaborados como una combinación de sistemas más sencillos. \n",
    "\n",
    "\n",
    "A continuación los principales tipos de combinación."
   ]
  },
  {
   "cell_type": "markdown",
   "id": "b3f0d998",
   "metadata": {},
   "source": [
    "## Concatenación / Serie\n",
    "\n",
    "Cuando dos sistemas LTI $H_1$ y $H_2$ están interconectados de manera que la salida de $H_1$ es la entrada de $H_2$. Esta es la conexión en **Serie** o **Concatenación de sistemas**.\n",
    "\n",
    "Suponga que:\n",
    "- La respuesta impulsional de $H_1$ es $h_1(t)$.\n",
    "- La respuesta impulsional de $H_2$ es $h_2(t)$.\n",
    "- La concatenación se excita con una señal $x(t)$.\n",
    "\n",
    "La salida de $H_1$ es entonces $x(t)*h_1(t)$. La salida de la concatenación de sistemas es:\n",
    "\n",
    "\\begin{equation}\n",
    "y(t) =  x(t) * h_1(t) * h_2(t)\n",
    "\\end{equation}\n",
    "\n",
    "En el dominio de Laplace, la convolución anterior se transforma en:\n",
    "\n",
    "\\begin{equation}\n",
    "Y(s) = \\underbrace{H_1(s) \\cdot H_2(s)}_{H(s)} \\cdot X(s)\n",
    "\\end{equation}\n",
    "\n",
    "Así, los dos sistemas concatenados tienen una equivalencia $H(s) = H_1(s) \\cdot H_2(s)$.\n",
    "\n",
    "![Dos sistemas concatenados](figuras/concatenation.png)\n",
    "\n",
    "Si se tienen $N$ sistemas conectados en serie, el modelo equivalente está dado por la multiplicación de las respectivas funciones de transferencia.\n",
    "\n",
    "\\begin{equation}\n",
    "H(s) = \\prod_{n=1}^{N} H_n(s)\n",
    "\\end{equation}\n"
   ]
  },
  {
   "cell_type": "markdown",
   "id": "5e4e05e0",
   "metadata": {},
   "source": [
    "**Ejemplo**\n",
    "\n",
    "Al concatenar filtros de bajo orden se obtiene un filtro de orden más elevado.\n",
    "\n",
    "Suponga las siguientes funciones de transferencia para filtros de orden 2.\n",
    "\n",
    "\\begin{equation}\n",
    "G(s) = \\frac{1}{LC s^2 + RC s + 1}\n",
    "\\end{equation}\n",
    "\n",
    "Si se concatenan $N$ filtros con acoples de impedancia, se obtiene:\n",
    "\n",
    "\\begin{equation}\n",
    "H_N(s) = \\left( \\frac{1}{LC s^2 + RC s + 1} \\right)^N\n",
    "\\end{equation}\n"
   ]
  },
  {
   "cell_type": "markdown",
   "id": "24ba665d",
   "metadata": {},
   "source": [
    "## Paralelo\n",
    "\n",
    "Cuando dos sistemas LTI comparten la misma entrada y sus salidas se combinan, están conectados en paralelo.\n",
    "\n",
    "Cuando dos sistemas LTI $H_1$ y $H_2$ están interconectados de manera que tienen la misma entrada y sus salidas se combinan, esta es la conexión en **Paralelo** .\n",
    "\n",
    "Suponga que:\n",
    "- La respuesta impulsional de $H_1$ es $h_1(t)$.\n",
    "- La respuesta impulsional de $H_2$ es $h_2(t)$.\n",
    "- La conexión paralela se excita con una señal $x(t)$.\n",
    "\n",
    "La salida de $H_1$ es entonces $x(t)*h_1(t)$. La salida de $H_2$ es entonces $x(t)*h_2(t)$. La salida de la conexión paralela es:\n",
    "\n",
    "\\begin{equation}\n",
    "y(t) = h_1(t) * x(t) + h_2(t) * x(t)\n",
    "\\end{equation}\n",
    "\n",
    "En el dominio de Laplace, la combinación anterior se transforma en:\n",
    "\n",
    "\\begin{equation}\n",
    "Y(s) = \\underbrace{\\left( H_1(s) + H_2(s)  \\right)}_{H(s)} \\cdot X(s)\n",
    "\\end{equation}\n",
    "\n",
    "Así, los dos sistemas en paralelo tienen una equivalencia $H(s) = H_1(s) + H_2(s)$.\n",
    "\n",
    "![Parallel connection of two systems](figuras/parallel.png)\n",
    "\n",
    "Si se tienen $N$ sistemas conectados en paralelo, el modelo equivalente está dado por la suma de las respectivas funciones de transferencia.\n",
    "\n",
    "\\begin{equation}\n",
    "H(s) = \\sum_{n=1}^{N} H_n(s)\n",
    "\\end{equation}"
   ]
  },
  {
   "cell_type": "markdown",
   "id": "f9a7d528",
   "metadata": {},
   "source": [
    "## Realimentación\n",
    "\n",
    "En algunos casos, parte de la señal de salida de $H_1$ es devuelta a su entrada a través de otro sistema $H_2$. Esta conexión es llamada **realimentación**.\n",
    "\n",
    "La salida $y(t)$ está dada por:\n",
    "\n",
    "\\begin{equation}\n",
    "y(t) = \\underbrace{(x(t) + \\overbrace{y(t) * h_2(t)}^{b(t)})}_{e(t)} * h_1(t)\n",
    "\\end{equation}\n",
    "\n",
    "![Realimentacion](figuras/feedB.png)\n",
    "\n",
    "En el dominio de Laplace, la expresión se transforma en:\n",
    "\n",
    "\\begin{equation}\n",
    "y(t) = (x(t) + y(t) * h_2(t)) * h_1(t)\n",
    "\\end{equation}\n",
    "\n",
    "\\begin{equation}\n",
    "Y(s) = (X(s) + Y(s) \\cdot H_2(s)) \\cdot H_1(s)\n",
    "\\end{equation}\n",
    "\n",
    "\\begin{equation}\n",
    "Y(s) = X(s) \\cdot H_1(s) + Y(s) \\cdot H_2(s) \\cdot H_1(s)\n",
    "\\end{equation}\n",
    "\n",
    "\\begin{equation}\n",
    "Y(s) -  Y(s) \\cdot H_2(s) \\cdot H_1(s) = X(s) \\cdot H_1(s)\n",
    "\\end{equation}\n",
    "\n",
    "\\begin{equation}\n",
    "Y(s) \\cdot (1 -  H_2(s) \\cdot H_1(s)) = X(s) \\cdot H_1(s)\n",
    "\\end{equation}\n",
    "\n",
    "\\begin{equation}\n",
    "Y(s) = \\frac{H_1(s)}{1 - H_1(s) \\cdot H_2(s)} \\cdot X(s)\n",
    "\\end{equation}\n",
    "\n",
    "\n",
    "La equivalencia es\n",
    "\n",
    "\\begin{equation}\n",
    "H(s) = \\frac{H_1(s)}{1 - H_1(s) \\cdot H_2(s)}\n",
    "\\end{equation}\n",
    "\n",
    "Si la realimentación fuera negativa, la equivalencia sería:\n",
    "\n",
    "\\begin{equation}\n",
    "H(s) = \\frac{H_1(s)}{1 + H_1(s) \\cdot H_2(s)}\n",
    "\\end{equation}\n"
   ]
  },
  {
   "cell_type": "markdown",
   "id": "1d139953",
   "metadata": {},
   "source": [
    "## Álgebra de bloques\n",
    "\n",
    "Cuando hay varios subsistemas interactuando entre sí, se modelan por separado y se identifican las conexiones entre ellos. Para encontrar equivalencias deben reducirse el sistema a una sola expresión con las siguientes normas.\n",
    "\n",
    "![Álgebra de bloques](figuras/algebra_bloques.png)\n",
    "\n",
    "**Ejemplo**\n",
    "\n",
    "![Ejemplo de bloques](figuras/ejercicio_bloques01.jpg)"
   ]
  },
  {
   "cell_type": "markdown",
   "id": "d2cda956",
   "metadata": {},
   "source": [
    "## Sympy reduciendo bloques\n",
    "\n",
    "Con la ayuda de `Sympy` podrá reducir los diagramas de bloques.\n",
    "\n",
    "**ejemplo**\n",
    "\n",
    "![](figuras/ejercicio_bloques02.png)"
   ]
  },
  {
   "cell_type": "markdown",
   "id": "538c84d5",
   "metadata": {},
   "source": [
    "$$ V2 = V1\\cdot G1 \\Rightarrow V2 - V1 \\cdot G1 = 0$$\n",
    "$$ V4 = V3\\cdot G2 \\Rightarrow V4 - V3 \\cdot G2 = 0$$\n",
    "$$ C = V5\\cdot G3 \\Rightarrow C - V5 \\cdot G3 = 0$$\n",
    "$$ V6 = V4\\cdot H1 \\Rightarrow V6 - V4 \\cdot H1 = 0$$\n",
    "$$ V5 = V3 + V4 - V8 \\Rightarrow V5 -( V3 + V4 - V8) = 0$$\n"
   ]
  },
  {
   "cell_type": "code",
   "execution_count": 2,
   "id": "d1237ef3",
   "metadata": {},
   "outputs": [],
   "source": [
    "(R, V1, V2, V3, V4, V5, V6, V7, V8, C,\n",
    " G1, G2, G3, H1, H2, H3) = sympy.symbols('R, V1, V2, V3, V4, V5, V6, V7, V8, C,'\n",
    "                                         'G1, G2, G3, H1, H2, H3')\n",
    "incognitas = V1, V2, V3, V4, V5, V6, V7, V8, C"
   ]
  },
  {
   "cell_type": "code",
   "execution_count": 3,
   "id": "0b6dd25a",
   "metadata": {},
   "outputs": [
    {
     "data": {
      "image/png": "[encoded data removed]",
      "text/latex": [
       "$\\displaystyle \\left[ - G_{1} V_{1} + V_{2}, \\  - G_{2} V_{3} + V_{4}, \\  C - G_{3} V_{5}, \\  - H_{1} V_{4} + V_{6}, \\  - H_{2} V_{4} + V_{7}, \\  - C H_{3} + V_{8}, \\  - R + V_{1} + V_{6}, \\  - V_{2} + V_{3} + V_{7}, \\  - V_{3} - V_{4} + V_{5} + V_{8}\\right]$"
      ],
      "text/plain": [
       "[-G₁⋅V₁ + V₂, -G₂⋅V₃ + V₄, C - G₃⋅V₅, -H₁⋅V₄ + V₆, -H₂⋅V₄ + V₇, -C⋅H₃ + V₈, -R\n",
       " + V₁ + V₆, -V₂ + V₃ + V₇, -V₃ - V₄ + V₅ + V₈]"
      ]
     },
     "execution_count": 3,
     "metadata": {},
     "output_type": "execute_result"
    }
   ],
   "source": [
    "ecs = [# bloques\n",
    "       V2 - G1*V1,\n",
    "       V4 - G2*V3,\n",
    "       C - G3*V5,\n",
    "       V6 - H1*V4,\n",
    "       V7 - H2*V4,\n",
    "       V8 - H3*C,\n",
    "       # sumas\n",
    "       V1 - (R - V6),\n",
    "       V3 - (V2 - V7),\n",
    "       V5 - (V4 + V3 - V8),\n",
    "       ]\n",
    "ecs"
   ]
  },
  {
   "cell_type": "code",
   "execution_count": 4,
   "id": "8a260faf",
   "metadata": {},
   "outputs": [
    {
     "data": {
      "image/png": "[encoded data removed]",
      "text/latex": [
       "$\\displaystyle \\left\\{ C : \\frac{G_{1} G_{2} G_{3} R + G_{1} G_{3} R}{G_{1} G_{2} G_{3} H_{1} H_{3} + G_{1} G_{2} H_{1} + G_{2} G_{3} H_{2} H_{3} + G_{2} H_{2} + G_{3} H_{3} + 1}, \\  V_{1} : \\frac{G_{2} H_{2} R + R}{G_{1} G_{2} H_{1} + G_{2} H_{2} + 1}, \\  V_{2} : \\frac{G_{1} G_{2} H_{2} R + G_{1} R}{G_{1} G_{2} H_{1} + G_{2} H_{2} + 1}, \\  V_{3} : \\frac{G_{1} R}{G_{1} G_{2} H_{1} + G_{2} H_{2} + 1}, \\  V_{4} : \\frac{G_{1} G_{2} R}{G_{1} G_{2} H_{1} + G_{2} H_{2} + 1}, \\  V_{5} : \\frac{G_{1} G_{2} R + G_{1} R}{G_{1} G_{2} G_{3} H_{1} H_{3} + G_{1} G_{2} H_{1} + G_{2} G_{3} H_{2} H_{3} + G_{2} H_{2} + G_{3} H_{3} + 1}, \\  V_{6} : \\frac{G_{1} G_{2} H_{1} R}{G_{1} G_{2} H_{1} + G_{2} H_{2} + 1}, \\  V_{7} : \\frac{G_{1} G_{2} H_{2} R}{G_{1} G_{2} H_{1} + G_{2} H_{2} + 1}, \\  V_{8} : \\frac{G_{1} G_{2} G_{3} H_{3} R + G_{1} G_{3} H_{3} R}{G_{1} G_{2} G_{3} H_{1} H_{3} + G_{1} G_{2} H_{1} + G_{2} G_{3} H_{2} H_{3} + G_{2} H_{2} + G_{3} H_{3} + 1}\\right\\}$"
      ],
      "text/plain": [
       "⎧                       G₁⋅G₂⋅G₃⋅R + G₁⋅G₃⋅R                             G₂⋅H₂\n",
       "⎨C: ───────────────────────────────────────────────────────────, V₁: ─────────\n",
       "⎩   G₁⋅G₂⋅G₃⋅H₁⋅H₃ + G₁⋅G₂⋅H₁ + G₂⋅G₃⋅H₂⋅H₃ + G₂⋅H₂ + G₃⋅H₃ + 1      G₁⋅G₂⋅H₁ \n",
       "\n",
       "⋅R + R            G₁⋅G₂⋅H₂⋅R + G₁⋅R                G₁⋅R                    G₁⋅\n",
       "───────────, V₂: ────────────────────, V₃: ────────────────────, V₄: ─────────\n",
       "+ G₂⋅H₂ + 1      G₁⋅G₂⋅H₁ + G₂⋅H₂ + 1      G₁⋅G₂⋅H₁ + G₂⋅H₂ + 1      G₁⋅G₂⋅H₁ \n",
       "\n",
       "G₂⋅R                                    G₁⋅G₂⋅R + G₁⋅R                        \n",
       "───────────, V₅: ───────────────────────────────────────────────────────────, \n",
       "+ G₂⋅H₂ + 1      G₁⋅G₂⋅G₃⋅H₁⋅H₃ + G₁⋅G₂⋅H₁ + G₂⋅G₃⋅H₂⋅H₃ + G₂⋅H₂ + G₃⋅H₃ + 1  \n",
       "\n",
       "         G₁⋅G₂⋅H₁⋅R                G₁⋅G₂⋅H₂⋅R                            G₁⋅G₂\n",
       "V₆: ────────────────────, V₇: ────────────────────, V₈: ──────────────────────\n",
       "    G₁⋅G₂⋅H₁ + G₂⋅H₂ + 1      G₁⋅G₂⋅H₁ + G₂⋅H₂ + 1      G₁⋅G₂⋅G₃⋅H₁⋅H₃ + G₁⋅G₂\n",
       "\n",
       "⋅G₃⋅H₃⋅R + G₁⋅G₃⋅H₃⋅R                ⎫\n",
       "─────────────────────────────────────⎬\n",
       "⋅H₁ + G₂⋅G₃⋅H₂⋅H₃ + G₂⋅H₂ + G₃⋅H₃ + 1⎭"
      ]
     },
     "execution_count": 4,
     "metadata": {},
     "output_type": "execute_result"
    }
   ],
   "source": [
    "solucion = sympy.solve(ecs, incognitas)\n",
    "solucion"
   ]
  },
  {
   "cell_type": "markdown",
   "id": "1e12f958",
   "metadata": {},
   "source": [
    "De todas las incognitas halladas solo interesa la salida $C$."
   ]
  },
  {
   "cell_type": "code",
   "execution_count": 5,
   "id": "3d551b9c",
   "metadata": {},
   "outputs": [
    {
     "data": {
      "image/png": "[encoded data removed]",
      "text/latex": [
       "$\\displaystyle \\frac{G_{1} G_{2} G_{3} R + G_{1} G_{3} R}{G_{1} G_{2} G_{3} H_{1} H_{3} + G_{1} G_{2} H_{1} + G_{2} G_{3} H_{2} H_{3} + G_{2} H_{2} + G_{3} H_{3} + 1}$"
      ],
      "text/plain": [
       "                    G₁⋅G₂⋅G₃⋅R + G₁⋅G₃⋅R                   \n",
       "───────────────────────────────────────────────────────────\n",
       "G₁⋅G₂⋅G₃⋅H₁⋅H₃ + G₁⋅G₂⋅H₁ + G₂⋅G₃⋅H₂⋅H₃ + G₂⋅H₂ + G₃⋅H₃ + 1"
      ]
     },
     "execution_count": 5,
     "metadata": {},
     "output_type": "execute_result"
    }
   ],
   "source": [
    "solucion[C]"
   ]
  },
  {
   "cell_type": "markdown",
   "id": "cc2625a3",
   "metadata": {},
   "source": [
    "Esta expresión puede factorizarse."
   ]
  },
  {
   "cell_type": "code",
   "execution_count": 6,
   "id": "8957df44",
   "metadata": {},
   "outputs": [
    {
     "data": {
      "image/png": "[encoded data removed]",
      "text/latex": [
       "$\\displaystyle \\frac{G_{1} G_{3} R \\left(G_{2} + 1\\right)}{\\left(G_{3} H_{3} + 1\\right) \\left(G_{1} G_{2} H_{1} + G_{2} H_{2} + 1\\right)}$"
      ],
      "text/plain": [
       "         G₁⋅G₃⋅R⋅(G₂ + 1)         \n",
       "──────────────────────────────────\n",
       "(G₃⋅H₃ + 1)⋅(G₁⋅G₂⋅H₁ + G₂⋅H₂ + 1)"
      ]
     },
     "execution_count": 6,
     "metadata": {},
     "output_type": "execute_result"
    }
   ],
   "source": [
    "solucion[C].factor()"
   ]
  },
  {
   "cell_type": "markdown",
   "id": "4ee290dc",
   "metadata": {},
   "source": [
    "Observe que se ha encontrado una expresión para $C$ y el bloque equivalente debe ser $\\frac{C}{R}$, es decir:\n"
   ]
  },
  {
   "cell_type": "code",
   "execution_count": 10,
   "id": "0c729abe",
   "metadata": {},
   "outputs": [
    {
     "data": {
      "image/png": "[encoded data removed]",
      "text/latex": [
       "$\\displaystyle \\frac{G_{1} G_{3} \\left(G_{2} + 1\\right)}{\\left(G_{3} H_{3} + 1\\right) \\left(G_{1} G_{2} H_{1} + G_{2} H_{2} + 1\\right)}$"
      ],
      "text/plain": [
       "          G₁⋅G₃⋅(G₂ + 1)          \n",
       "──────────────────────────────────\n",
       "(G₃⋅H₃ + 1)⋅(G₁⋅G₂⋅H₁ + G₂⋅H₂ + 1)"
      ]
     },
     "execution_count": 10,
     "metadata": {},
     "output_type": "execute_result"
    }
   ],
   "source": [
    "(solucion[C]/R).simplify().factor()"
   ]
  },
  {
   "cell_type": "markdown",
   "id": "d80d3b6a",
   "metadata": {},
   "source": [
    "\n",
    "## Ejercicio para entregar\n",
    "\n",
    "1. Reducir el siguiente diagrama.\n",
    "![](figuras/ejercicio_bloques03.png)\n",
    "2. Realice el ejercicio en papel y verifique su resultado con `Sympy`.\n",
    "3. Documente el proceso y la comparación y suba un archivo pdf a la plataforma."
   ]
  },
  {
   "cell_type": "code",
   "execution_count": null,
   "id": "24366dea",
   "metadata": {},
   "outputs": [],
   "source": []
  }
 ],
 "metadata": {
  "kernelspec": {
   "display_name": "Python 3 (ipykernel)",
   "language": "python",
   "name": "python3"
  },
  "language_info": {
   "codemirror_mode": {
    "name": "ipython",
    "version": 3
   },
   "file_extension": ".py",
   "mimetype": "text/x-python",
   "name": "python",
   "nbconvert_exporter": "python",
   "pygments_lexer": "ipython3",
   "version": "3.10.9"
  },
  "latex_envs": {
   "bibliofile": "biblio.bib",
   "cite_by": "apalike",
   "current_citInitial": 1,
   "eqLabelWithNumbers": true,
   "eqNumInitial": 0
  }
 },
 "nbformat": 4,
 "nbformat_minor": 5
}
