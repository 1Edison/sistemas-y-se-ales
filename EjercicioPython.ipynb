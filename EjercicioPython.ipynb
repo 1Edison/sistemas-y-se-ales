{
 "cells": [
  {
   "cell_type": "markdown",
   "id": "bad2d464",
   "metadata": {},
   "source": [
    "# Ejercicio uso de Python\n",
    "\n",
    "## Nombres:\n",
    "- Pepito perez\n",
    "- Integrante B\n",
    "- Integrante C"
   ]
  },
  {
   "cell_type": "markdown",
   "id": "9bd6b83c",
   "metadata": {},
   "source": [
    "## Colecte la siguiente información de sus compañeros:\n",
    "\n",
    "- Nombres                             (str)\n",
    "- Edad                                    (Int)\n",
    "- Estatura                              (float)\n",
    "- Peso                                    (float)\n",
    "- Egresado del POLI   (bool)\n",
    "\n",
    "**EJemplo de datos**\n",
    "\n",
    "- Jean Diaz, 38, 1.8, 78.0, False\n"
   ]
  },
  {
   "cell_type": "code",
   "execution_count": 7,
   "id": "3b3042a6",
   "metadata": {},
   "outputs": [
    {
     "name": "stdout",
     "output_type": "stream",
     "text": [
      "S\n",
      "o\n",
      "y\n",
      "U\n",
      "n\n",
      "D\n",
      "u\n",
      "r\n",
      "o\n"
     ]
    }
   ],
   "source": [
    "# Escriba su código\n",
    "nombres = ['Pepe','Chepe','Paco']\n",
    "\n",
    "for n in 'SoyUnDuro':\n",
    "    print(n)\n",
    "    "
   ]
  },
  {
   "cell_type": "markdown",
   "id": "0de2f225",
   "metadata": {},
   "source": [
    "\n",
    "## Desarrolle un programa que entregue:\n",
    "- Edad promedio\n",
    "\n"
   ]
  },
  {
   "cell_type": "code",
   "execution_count": 2,
   "id": "0abeb357",
   "metadata": {},
   "outputs": [],
   "source": [
    "# Escriba su código\n"
   ]
  },
  {
   "cell_type": "markdown",
   "id": "33849aaa",
   "metadata": {},
   "source": [
    "\n",
    "- Índice de masa corporal promedio\n",
    "\n"
   ]
  },
  {
   "cell_type": "code",
   "execution_count": 3,
   "id": "072d9568",
   "metadata": {},
   "outputs": [],
   "source": [
    "# Escriba su código\n"
   ]
  },
  {
   "cell_type": "markdown",
   "id": "41d33817",
   "metadata": {},
   "source": [
    "\n",
    "- Cantidad de egresados del POLI\n"
   ]
  },
  {
   "cell_type": "code",
   "execution_count": 4,
   "id": "e82008e5",
   "metadata": {},
   "outputs": [],
   "source": [
    "# Escriba su código\n"
   ]
  },
  {
   "cell_type": "markdown",
   "id": "4ddb6293",
   "metadata": {},
   "source": [
    "\n",
    "- Cantidad de NO egresados del POLI\n",
    "\n"
   ]
  },
  {
   "cell_type": "code",
   "execution_count": 5,
   "id": "547cedb6",
   "metadata": {},
   "outputs": [],
   "source": [
    "# Escriba su código\n"
   ]
  },
  {
   "cell_type": "markdown",
   "id": "f6985683",
   "metadata": {},
   "source": [
    "\n",
    "- Nombre de la persona de mayor estatura\n",
    "\n"
   ]
  },
  {
   "cell_type": "code",
   "execution_count": 6,
   "id": "476f60fc",
   "metadata": {},
   "outputs": [],
   "source": [
    "# Escriba su código\n"
   ]
  },
  {
   "cell_type": "markdown",
   "id": "d597837f",
   "metadata": {},
   "source": [
    "\n",
    "\n",
    "- Nombre de la persona de menor edad"
   ]
  },
  {
   "cell_type": "code",
   "execution_count": 7,
   "id": "9340da7a",
   "metadata": {},
   "outputs": [],
   "source": [
    "# Escriba su código\n"
   ]
  }
 ],
 "metadata": {
  "kernelspec": {
   "display_name": "Python 3 (ipykernel)",
   "language": "python",
   "name": "python3"
  },
  "language_info": {
   "codemirror_mode": {
    "name": "ipython",
    "version": 3
   },
   "file_extension": ".py",
   "mimetype": "text/x-python",
   "name": "python",
   "nbconvert_exporter": "python",
   "pygments_lexer": "ipython3",
   "version": "3.10.9"
  },
  "latex_envs": {
   "bibliofile": "biblio.bib",
   "cite_by": "apalike",
   "current_citInitial": 1,
   "eqLabelWithNumbers": true,
   "eqNumInitial": 0
  }
 },
 "nbformat": 4,
 "nbformat_minor": 5
}
