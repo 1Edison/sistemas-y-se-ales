{
 "cells": [
  {
   "cell_type": "code",
   "execution_count": 53,
   "id": "4cdda966",
   "metadata": {},
   "outputs": [],
   "source": [
    "import sympy as sym\n",
    "%matplotlib inline\n",
    "sym.init_printing()\n",
    "from sympy import oo\n",
    "\n",
    "import matplotlib.pyplot as plt\n",
    "from sympy.plotting.plot import MatplotlibBackend\n",
    "\n",
    "\n",
    "def logx_plot(Hw, wrange, **kwargs):\n",
    "    p = sym.plot(Hw, wrange, **kwargs)\n",
    "    backend = MatplotlibBackend(p)\n",
    "    backend.process_series()\n",
    "    backend.ax.spines['left'].set_position(('axes', 0))\n",
    "    backend.ax.spines['bottom'].set_position(('axes', 0))\n",
    "    plt.xscale('log')\n",
    "    plt.grid(which='both')\n",
    "    return p\n",
    "\n",
    "def db(x):\n",
    "    'compute dB value'\n",
    "    return 20 * sym.log(sym.Abs(x), 10)\n",
    "\n",
    "\n",
    "def pole_zero_plot(poles, zeros, ax=None):\n",
    "    mR = -2 #  valor inicial para minimo real\n",
    "    MR = 2  #  valor inicial para maximo real\n",
    "    mI = -2 #  valor inicial para minimo imaginario\n",
    "    MI = 2  #  valor inicial para maximo imaginario\n",
    "    for pole in poles:\n",
    "        plt.plot(complex(pole).real, complex(pole).imag, 'rx', markersize=10)\n",
    "        if complex(pole).real < mR:\n",
    "            mR = complex(pole).real\n",
    "        if complex(pole).real > MR:\n",
    "            MR = complex(pole).real\n",
    "        if complex(pole).imag < mI:\n",
    "            mI = complex(pole).imag\n",
    "        if complex(pole).imag > MI:\n",
    "            MI = complex(pole).imag\n",
    "            \n",
    "    for zero in zeros:\n",
    "        plt.plot(complex(zero).real, complex(zero).imag, 'bo', markersize=10)\n",
    "        if complex(zero).real < mR:\n",
    "            mR = complex(zero).real\n",
    "        if complex(zero).real > MR:\n",
    "            MR = complex(zero).real\n",
    "        if complex(zero).imag < mI:\n",
    "            mI = complex(zero).imag\n",
    "        if complex(zero).imag > MI:\n",
    "            MI = complex(zero).imag\n",
    "\n",
    "            \n",
    "    if ax is None:\n",
    "        ax = plt.gca()\n",
    "    ax.set_aspect(1)\n",
    "    \n",
    "    plt.axis([mR*1.1, MR*1.1, mI*1.1, MI*1.1])\n",
    "    plt.xlabel(r'$\\Re \\{ s \\}$')\n",
    "    plt.ylabel(r'$\\Im \\{ s \\}$')\n",
    "    plt.grid()\n",
    "\n",
    "\n",
    "\n",
    "s = sym.symbols('s', complex=True)\n",
    "w = sym.symbols('omega', real=True)\n",
    "wc = sym.symbols('omega_c', real=True)\n"
   ]
  },
  {
   "cell_type": "markdown",
   "id": "b0f5c340",
   "metadata": {},
   "source": [
    "# Filtro de Butterworth\n",
    "\n",
    "El [Filtro de Butterworth](https://es.wikipedia.org/wiki/Filtro_de_Butterworth) es uno de los filtros electrónicos más populares. La respuesta freuencial es casi constante hasta la frecuencia de corte y después disminuye a razón de $20n \\; dB/década$, donde $n$ es la cantidad de polos del filtro."
   ]
  },
  {
   "cell_type": "markdown",
   "id": "eca251cc",
   "metadata": {},
   "source": [
    "La función de transferencia del filtto $H(s)$ debe cumplir que:\n",
    "\n",
    "- Las $2N-1$ primeras derivadas de $| H ( \\omega ) |^2$ sean cero para $\\omega = 0 $  y $\\omega =\\infty$.\n",
    "- Únicamente posee polos.\n",
    "\n",
    "Así, el cuadrado de la magnitud de la función de transferencia, para el filtro paso bajo con frecuencia de corte $\\omega_c$, de orden $N$, de ganancia unitaria en la banda de paso, con es: \n",
    "\n",
    "$$|H(\\omega)|^2= \\frac{1}{1+(\\omega / \\omega_c)^{2N}}$$\n"
   ]
  },
  {
   "cell_type": "markdown",
   "id": "d714baa3",
   "metadata": {},
   "source": [
    "La función de transferencia para el filtro Butterworth con $\\omega_c = 1$ es de la forma:\n",
    "\n",
    "$$H(s) = \\frac{1}{Polinomio\\;Butterworth}$$\n",
    "\n",
    "| Polinomio Butterworth                | N |\n",
    "|:------------------------------------:|--|\n",
    "| $s+1$                                | 1|\n",
    "| $s^2 + 1.4142s + 1$                  |2|\n",
    "| $(s+1)(s^2 + s + 1)$                 |3|\n",
    "| $(s^2+0.7654s+1)(s^2+1.8478s+1)$     |4|\n",
    "\n",
    "Hay un polinomio para valor de $N$ determinado."
   ]
  },
  {
   "cell_type": "markdown",
   "id": "8f6c3eab",
   "metadata": {},
   "source": [
    "**Ejemplo**\n",
    "\n",
    "Diseñe un filtro paso-bajo Butterworth de orden 3 con frecuencia de corte $\\omega_c= 300\\frac{rad}{s}$"
   ]
  },
  {
   "cell_type": "markdown",
   "id": "a5977d06",
   "metadata": {},
   "source": [
    "El polinomio asociado es $(s+1)(s^2+s+1)$, por lo que la función de transferencia con frecuencia normalizada es:\n",
    "\n",
    "$$\\frac{1}{\\left(s+1\\right)\\left(s^2+s+1\\right)}$$"
   ]
  },
  {
   "cell_type": "markdown",
   "id": "ab76a2fd",
   "metadata": {},
   "source": [
    "La función de transferencia del filtro buscado es:\n",
    "\n",
    "$$\\frac{1}{\\left(\\frac{s}{\\omega_c}+1\\right)\\left(\\left(\\frac{s}{\\omega_c}\\right)^2+\\frac{s}{\\omega_c}+1\\right)}$$"
   ]
  },
  {
   "cell_type": "markdown",
   "id": "bbb27389",
   "metadata": {},
   "source": [
    "**Filtro normalizado**"
   ]
  },
  {
   "cell_type": "code",
   "execution_count": 54,
   "id": "445286fe",
   "metadata": {
    "scrolled": true
   },
   "outputs": [
    {
     "data": {
      "image/png": "[encoded data removed]",
      "text/latex": [
       "$\\displaystyle \\frac{1}{\\left(s + 1\\right) \\left(s^{2} + s + 1\\right)}$"
      ],
      "text/plain": [
       "         1          \n",
       "────────────────────\n",
       "        ⎛ 2        ⎞\n",
       "(s + 1)⋅⎝s  + s + 1⎠"
      ]
     },
     "execution_count": 54,
     "metadata": {},
     "output_type": "execute_result"
    }
   ],
   "source": [
    "H_norm = 1/((s+1)*(s**2+s+1))\n",
    "H_norm"
   ]
  },
  {
   "cell_type": "markdown",
   "id": "cb556553",
   "metadata": {},
   "source": [
    "Respuesta en frecuencia del filtro normalizado."
   ]
  },
  {
   "cell_type": "code",
   "execution_count": 90,
   "id": "21514026",
   "metadata": {},
   "outputs": [
    {
     "data": {
      "text/plain": [
       "<sympy.plotting.plot.Plot at 0x27c33ed8518>"
      ]
     },
     "execution_count": 90,
     "metadata": {},
     "output_type": "execute_result"
    },
    {
     "data": {
      "image/png": "[encoded data removed]",
      "text/plain": [
       "<Figure size 720x288 with 1 Axes>"
      ]
     },
     "metadata": {
      "needs_background": "light"
     },
     "output_type": "display_data"
    }
   ],
   "source": [
    "plt.rcParams['figure.figsize'] = 10,4\n",
    "\n",
    "logx_plot(db(H_norm.subs(s, sym.I * w)),(w, 0.01, 100),\n",
    "          xlabel='$\\omega$',\n",
    "          ylabel='$20 \\log_{10} | H(j \\omega) |$ in dB',\n",
    "          line_color='b', show=False)"
   ]
  },
  {
   "cell_type": "code",
   "execution_count": 59,
   "id": "417c2ef3",
   "metadata": {},
   "outputs": [
    {
     "data": {
      "image/png": "[encoded data removed]",
      "text/plain": [
       "<Figure size 288x288 with 1 Axes>"
      ]
     },
     "metadata": {
      "needs_background": "light"
     },
     "output_type": "display_data"
    }
   ],
   "source": [
    "plt.rcParams['figure.figsize'] = 4,4\n",
    "pole_zero_plot(sym.roots(sym.denom(H_norm), s),\n",
    "               sym.roots(sym.numer(H_norm), s))"
   ]
  },
  {
   "cell_type": "markdown",
   "id": "96448cf5",
   "metadata": {},
   "source": [
    "**Filtro con frecuencia de corte**"
   ]
  },
  {
   "cell_type": "code",
   "execution_count": 63,
   "id": "6d337bfe",
   "metadata": {},
   "outputs": [
    {
     "data": {
      "image/png": "[encoded data removed]",
      "text/latex": [
       "$\\displaystyle \\frac{1}{\\left(1 + \\frac{s}{\\omega_{c}}\\right) \\left(1 + \\frac{s}{\\omega_{c}} + \\frac{s^{2}}{\\omega_{c}^{2}}\\right)}$"
      ],
      "text/plain": [
       "            1             \n",
       "──────────────────────────\n",
       "          ⎛            2 ⎞\n",
       "⎛     s ⎞ ⎜     s     s  ⎟\n",
       "⎜1 + ───⎟⋅⎜1 + ─── + ────⎟\n",
       "⎝    ω_c⎠ ⎜    ω_c      2⎟\n",
       "          ⎝          ω_c ⎠"
      ]
     },
     "execution_count": 63,
     "metadata": {},
     "output_type": "execute_result"
    }
   ],
   "source": [
    "H = H_norm.subs({s:s/wc})\n",
    "H"
   ]
  },
  {
   "cell_type": "markdown",
   "id": "9098a3c4",
   "metadata": {},
   "source": [
    "Respuesta en frecuencia del filtro (wc = ?)."
   ]
  },
  {
   "cell_type": "code",
   "execution_count": 61,
   "id": "278d8f0d",
   "metadata": {},
   "outputs": [],
   "source": [
    "# Escriba su código"
   ]
  },
  {
   "cell_type": "code",
   "execution_count": null,
   "id": "8e451ebf",
   "metadata": {},
   "outputs": [],
   "source": []
  },
  {
   "cell_type": "markdown",
   "id": "d5a536e8",
   "metadata": {},
   "source": [
    "¿Qué efectos identifica en el escalamiento de frecuencia realizado?"
   ]
  },
  {
   "cell_type": "markdown",
   "id": "8e07b28b",
   "metadata": {},
   "source": [
    "------------"
   ]
  },
  {
   "cell_type": "markdown",
   "id": "35374506",
   "metadata": {},
   "source": [
    "El método de diseño se soporta en la transformada de Laplace y por ende corresponde a un sistema de tiempo continuo que puede implementarse con amplificadores operacionales en configuración [Sallen Key](https://es.wikipedia.org/wiki/Filtro_de_Sallen-Key).\n",
    "\n",
    "![Butterworth-Circ.png](figuras/Butterworth-Circ.png)"
   ]
  },
  {
   "cell_type": "markdown",
   "id": "fe27da2e",
   "metadata": {},
   "source": [
    "--------------"
   ]
  },
  {
   "cell_type": "markdown",
   "id": "974e09a1",
   "metadata": {},
   "source": [
    "La estrategia de diseño expuesta permite obtener un filtro paso-bajo $H_{pb,N}(s)$. Para obtener un filtro paso-alto $H_{pa,N}(s)$ puede partirse de $H_{pb,N}(s)$.\n",
    "\n",
    "$$H_{pa,N}(s) = s^N H_{pb,N}(s)$$"
   ]
  },
  {
   "cell_type": "markdown",
   "id": "a5dfbfd2",
   "metadata": {},
   "source": [
    "A continuación la respuesta del filtro paso-alto normalizado."
   ]
  },
  {
   "cell_type": "code",
   "execution_count": 73,
   "id": "1310ff10",
   "metadata": {},
   "outputs": [
    {
     "data": {
      "image/png": "[encoded data removed]",
      "text/latex": [
       "$\\displaystyle \\frac{s^{3}}{\\left(s + 1\\right) \\left(s^{2} + s + 1\\right)}$"
      ],
      "text/plain": [
       "          3         \n",
       "         s          \n",
       "────────────────────\n",
       "        ⎛ 2        ⎞\n",
       "(s + 1)⋅⎝s  + s + 1⎠"
      ]
     },
     "execution_count": 73,
     "metadata": {},
     "output_type": "execute_result"
    }
   ],
   "source": [
    "Ha_norm = H_norm*s**3\n",
    "Ha_norm"
   ]
  },
  {
   "cell_type": "markdown",
   "id": "c6e0771a",
   "metadata": {},
   "source": [
    "Respuesta en frecuencia del filtro paso-alto normalizado."
   ]
  },
  {
   "cell_type": "code",
   "execution_count": 91,
   "id": "51c5a043",
   "metadata": {
    "scrolled": true
   },
   "outputs": [
    {
     "data": {
      "text/plain": [
       "<sympy.plotting.plot.Plot at 0x27c34d1c710>"
      ]
     },
     "execution_count": 91,
     "metadata": {},
     "output_type": "execute_result"
    },
    {
     "data": {
      "image/png": "[encoded data removed]",
      "text/plain": [
       "<Figure size 720x288 with 1 Axes>"
      ]
     },
     "metadata": {
      "needs_background": "light"
     },
     "output_type": "display_data"
    }
   ],
   "source": [
    "plt.rcParams['figure.figsize'] = 10,4\n",
    "logx_plot(db(Ha_norm.subs(s, sym.I * w)),(w, 0.01, 100),\n",
    "          xlabel='$\\omega$',\n",
    "          ylabel='$20 \\log_{10} | H(j \\omega) |$ in dB',\n",
    "          line_color='b', show=False)\n"
   ]
  },
  {
   "cell_type": "code",
   "execution_count": 79,
   "id": "0b1b8de3",
   "metadata": {},
   "outputs": [
    {
     "data": {
      "image/png": "[encoded data removed]",
      "text/plain": [
       "<Figure size 288x288 with 1 Axes>"
      ]
     },
     "metadata": {
      "needs_background": "light"
     },
     "output_type": "display_data"
    }
   ],
   "source": [
    "plt.rcParams['figure.figsize'] = 4,4\n",
    "pole_zero_plot(sym.roots(sym.denom(Ha_norm), s),\n",
    "               sym.roots(sym.numer(Ha_norm), s))"
   ]
  },
  {
   "cell_type": "markdown",
   "id": "6a772b1e",
   "metadata": {},
   "source": [
    "Diseñe un filtro paso-alto Butterworth de orden 3 con frecuencia de corte $\\omega_c= 300\\frac{rad}{s}$"
   ]
  },
  {
   "cell_type": "code",
   "execution_count": 80,
   "id": "8bccd670",
   "metadata": {},
   "outputs": [],
   "source": [
    "# Escriba su código"
   ]
  },
  {
   "cell_type": "markdown",
   "id": "fc869633",
   "metadata": {},
   "source": [
    "------------------"
   ]
  },
  {
   "cell_type": "markdown",
   "id": "60c37b89",
   "metadata": {},
   "source": [
    "¿Qué ocurre si se conectan un filtro paso-alto y uno paso-bajo en serie?"
   ]
  },
  {
   "cell_type": "code",
   "execution_count": 93,
   "id": "7a852f09",
   "metadata": {},
   "outputs": [],
   "source": [
    "# Escriba su código\n",
    "\n"
   ]
  },
  {
   "cell_type": "markdown",
   "id": "57ec2bae",
   "metadata": {},
   "source": [
    "## Ejercicio\n",
    "\n",
    "Diseñe un filtro de orden 6 que deje pasar solamente la voz de una cantante con registro soprano."
   ]
  },
  {
   "cell_type": "code",
   "execution_count": null,
   "id": "f8874343",
   "metadata": {},
   "outputs": [],
   "source": []
  },
  {
   "cell_type": "code",
   "execution_count": null,
   "id": "e0c97332",
   "metadata": {},
   "outputs": [],
   "source": []
  }
 ],
 "metadata": {
  "kernelspec": {
   "display_name": "Python 3",
   "language": "python",
   "name": "python3"
  },
  "language_info": {
   "codemirror_mode": {
    "name": "ipython",
    "version": 3
   },
   "file_extension": ".py",
   "mimetype": "text/x-python",
   "name": "python",
   "nbconvert_exporter": "python",
   "pygments_lexer": "ipython3",
   "version": "3.7.3"
  },
  "latex_envs": {
   "bibliofile": "biblio.bib",
   "cite_by": "apalike",
   "current_citInitial": 1,
   "eqLabelWithNumbers": true,
   "eqNumInitial": 0
  }
 },
 "nbformat": 4,
 "nbformat_minor": 5
}
