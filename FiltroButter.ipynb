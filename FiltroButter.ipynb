{
 "cells": [
  {
   "cell_type": "code",
   "execution_count": 1,
   "id": "8295dcb3",
   "metadata": {},
   "outputs": [],
   "source": [
    "import sympy as sym\n",
    "%matplotlib inline\n",
    "sym.init_printing()\n",
    "from sympy import oo\n",
    "\n",
    "import matplotlib.pyplot as plt\n",
    "from sympy.plotting.plot import MatplotlibBackend\n",
    "\n",
    "\n",
    "def logx_plot(Hw, wrange, **kwargs):\n",
    "    p = sym.plot(Hw, wrange, **kwargs)\n",
    "    backend = MatplotlibBackend(p)\n",
    "    backend.process_series()\n",
    "    backend.ax.spines['left'].set_position(('axes', 0))\n",
    "    backend.ax.spines['bottom'].set_position(('axes', 0))\n",
    "    plt.xscale('log')\n",
    "    plt.grid(which='both')\n",
    "    return p\n",
    "\n",
    "def db(x):\n",
    "    'compute dB value'\n",
    "    return 20 * sym.log(sym.Abs(x), 10)\n",
    "\n",
    "\n",
    "def pole_zero_plot(poles, zeros, ax=None):\n",
    "    mR = -2 #  valor inicial para minimo real\n",
    "    MR = 2  #  valor inicial para maximo real\n",
    "    mI = -2 #  valor inicial para minimo imaginario\n",
    "    MI = 2  #  valor inicial para maximo imaginario\n",
    "    for pole in poles:\n",
    "        plt.plot(complex(pole).real, complex(pole).imag, 'rx', markersize=10)\n",
    "        if complex(pole).real < mR:\n",
    "            mR = complex(pole).real\n",
    "        if complex(pole).real > MR:\n",
    "            MR = complex(pole).real\n",
    "        if complex(pole).imag < mI:\n",
    "            mI = complex(pole).imag\n",
    "        if complex(pole).imag > MI:\n",
    "            MI = complex(pole).imag\n",
    "            \n",
    "    for zero in zeros:\n",
    "        plt.plot(complex(zero).real, complex(zero).imag, 'bo', markersize=10)\n",
    "        if complex(zero).real < mR:\n",
    "            mR = complex(zero).real\n",
    "        if complex(zero).real > MR:\n",
    "            MR = complex(zero).real\n",
    "        if complex(zero).imag < mI:\n",
    "            mI = complex(zero).imag\n",
    "        if complex(zero).imag > MI:\n",
    "            MI = complex(zero).imag\n",
    "\n",
    "            \n",
    "    if ax is None:\n",
    "        ax = plt.gca()\n",
    "    ax.set_aspect(1)\n",
    "    \n",
    "    plt.axis([mR*1.1, MR*1.1, mI*1.1, MI*1.1])\n",
    "    plt.xlabel(r'$\\Re \\{ s \\}$')\n",
    "    plt.ylabel(r'$\\Im \\{ s \\}$')\n",
    "    plt.grid()\n",
    "\n",
    "\n",
    "\n",
    "s = sym.symbols('s', complex=True)\n",
    "w = sym.symbols('omega', real=True)\n",
    "wc = sym.symbols('omega_c', real=True)\n"
   ]
  },
  {
   "cell_type": "markdown",
   "id": "1cd6edfa",
   "metadata": {},
   "source": [
    "# Filtro de Butterworth\n",
    "\n",
    "El [Filtro de Butterworth](https://es.wikipedia.org/wiki/Filtro_de_Butterworth) es uno de los filtros electrónicos más populares. La respuesta freuencial es casi constante hasta la frecuencia de corte y después disminuye a razón de $20n \\; dB/década$, donde $n$ es la cantidad de polos del filtro."
   ]
  },
  {
   "cell_type": "markdown",
   "id": "387c5737",
   "metadata": {},
   "source": [
    "La función de transferencia del filtto $H(s)$ debe cumplir que:\n",
    "\n",
    "- Las $2N-1$ primeras derivadas de $| H ( \\omega ) |^2$ sean cero para $\\omega = 0 $  y $\\omega =\\infty$.\n",
    "- Únicamente posee polos.\n",
    "\n",
    "Así, el cuadrado de la magnitud de la función de transferencia, para el filtro paso bajo con frecuencia de corte $\\omega_c$, de orden $N$, de ganancia unitaria en la banda de paso, con es: \n",
    "\n",
    "$$|H(\\omega)|^2= \\frac{1}{1+(\\omega / \\omega_c)^{2N}}$$\n"
   ]
  },
  {
   "cell_type": "markdown",
   "id": "419f3912",
   "metadata": {},
   "source": [
    "La función de transferencia para el filtro Butterworth con $\\omega_c = 1$ es de la forma:\n",
    "\n",
    "$$H(s) = \\frac{1}{Polinomio\\;Butterworth}$$\n",
    "\n",
    "| Polinomio Butterworth                | N |\n",
    "|:------------------------------------:|--|\n",
    "| $s+1$                                | 1|\n",
    "| $s^2 + 1.4142s + 1$                  |2|\n",
    "| $(s+1)(s^2 + s + 1)$                 |3|\n",
    "| $(s^2+0.7654s+1)(s^2+1.8478s+1)$     |4|\n",
    "\n",
    "Hay un polinomio para valor de $N$ determinado."
   ]
  },
  {
   "cell_type": "markdown",
   "id": "b141ba11",
   "metadata": {},
   "source": [
    "**Ejemplo**\n",
    "\n",
    "Diseñe un filtro paso-bajo Butterworth de orden 3 con frecuencia de corte $\\omega_c= 300\\frac{rad}{s}$"
   ]
  },
  {
   "cell_type": "markdown",
   "id": "523f5ece",
   "metadata": {},
   "source": [
    "El polinomio asociado es $(s+1)(s^2+s+1)$, por lo que la función de transferencia con frecuencia normalizada es:\n",
    "\n",
    "$$\\frac{1}{\\left(s+1\\right)\\left(s^2+s+1\\right)}$$"
   ]
  },
  {
   "cell_type": "markdown",
   "id": "37f4801b",
   "metadata": {},
   "source": [
    "La función de transferencia del filtro buscado es:\n",
    "\n",
    "$$\\frac{1}{\\left(\\frac{s}{\\omega_c}+1\\right)\\left(\\left(\\frac{s}{\\omega_c}\\right)^2+\\frac{s}{\\omega_c}+1\\right)}$$"
   ]
  },
  {
   "cell_type": "markdown",
   "id": "3d2f8936",
   "metadata": {},
   "source": [
    "**Filtro normalizado**"
   ]
  },
  {
   "cell_type": "code",
   "execution_count": 2,
   "id": "d73ec311",
   "metadata": {
    "scrolled": true
   },
   "outputs": [
    {
     "data": {
      "image/png": "[encoded data removed]",
      "text/latex": [
       "$\\displaystyle \\frac{1}{\\left(s + 1\\right) \\left(s^{2} + s + 1\\right)}$"
      ],
      "text/plain": [
       "         1          \n",
       "────────────────────\n",
       "        ⎛ 2        ⎞\n",
       "(s + 1)⋅⎝s  + s + 1⎠"
      ]
     },
     "execution_count": 2,
     "metadata": {},
     "output_type": "execute_result"
    }
   ],
   "source": [
    "H_norm = 1/((s+1)*(s**2+s+1))\n",
    "H_norm"
   ]
  },
  {
   "cell_type": "markdown",
   "id": "d1364333",
   "metadata": {},
   "source": [
    "Respuesta en frecuencia del filtro normalizado."
   ]
  },
  {
   "cell_type": "code",
   "execution_count": 3,
   "id": "014f2f77",
   "metadata": {},
   "outputs": [
    {
     "data": {
      "text/plain": [
       "<sympy.plotting.plot.Plot at 0x218a1493e10>"
      ]
     },
     "execution_count": 3,
     "metadata": {},
     "output_type": "execute_result"
    },
    {
     "data": {
      "image/png": "[encoded data removed]",
      "text/plain": [
       "<Figure size 720x288 with 1 Axes>"
      ]
     },
     "metadata": {
      "needs_background": "light"
     },
     "output_type": "display_data"
    }
   ],
   "source": [
    "plt.rcParams['figure.figsize'] = 10,4\n",
    "\n",
    "logx_plot(db(H_norm.subs(s, sym.I * w)),(w, 0.01, 100),\n",
    "          xlabel='$\\omega$',\n",
    "          ylabel='$20 \\log_{10} | H(j \\omega) |$ in dB',\n",
    "          line_color='b', show=False)"
   ]
  },
  {
   "cell_type": "code",
   "execution_count": 4,
   "id": "2d0e4a3f",
   "metadata": {},
   "outputs": [
    {
     "data": {
      "image/png": "[encoded data removed]",
      "text/plain": [
       "<Figure size 288x288 with 1 Axes>"
      ]
     },
     "metadata": {
      "needs_background": "light"
     },
     "output_type": "display_data"
    }
   ],
   "source": [
    "plt.rcParams['figure.figsize'] = 4,4\n",
    "pole_zero_plot(sym.roots(sym.denom(H_norm), s),\n",
    "               sym.roots(sym.numer(H_norm), s))"
   ]
  },
  {
   "cell_type": "markdown",
   "id": "ec18675f",
   "metadata": {},
   "source": [
    "**Filtro con frecuencia de corte**"
   ]
  },
  {
   "cell_type": "code",
   "execution_count": 5,
   "id": "85e66cbe",
   "metadata": {},
   "outputs": [
    {
     "data": {
      "image/png": "[encoded data removed]",
      "text/latex": [
       "$\\displaystyle \\frac{1}{\\left(1 + \\frac{s}{\\omega_{c}}\\right) \\left(1 + \\frac{s}{\\omega_{c}} + \\frac{s^{2}}{\\omega_{c}^{2}}\\right)}$"
      ],
      "text/plain": [
       "            1             \n",
       "──────────────────────────\n",
       "          ⎛            2 ⎞\n",
       "⎛     s ⎞ ⎜     s     s  ⎟\n",
       "⎜1 + ───⎟⋅⎜1 + ─── + ────⎟\n",
       "⎝    ω_c⎠ ⎜    ω_c      2⎟\n",
       "          ⎝          ω_c ⎠"
      ]
     },
     "execution_count": 5,
     "metadata": {},
     "output_type": "execute_result"
    }
   ],
   "source": [
    "H = H_norm.subs({s:s/wc})\n",
    "H"
   ]
  },
  {
   "cell_type": "markdown",
   "id": "c537273e",
   "metadata": {},
   "source": [
    "Respuesta en frecuencia del filtro (wc = ?)."
   ]
  },
  {
   "cell_type": "code",
   "execution_count": 6,
   "id": "980aa1e8",
   "metadata": {},
   "outputs": [],
   "source": [
    "# Escriba su código"
   ]
  },
  {
   "cell_type": "code",
   "execution_count": 28,
   "id": "237017c1",
   "metadata": {},
   "outputs": [
    {
     "data": {
      "image/png": "[encoded data removed]",
      "text/latex": [
       "$\\displaystyle \\frac{1}{\\left(\\frac{s}{100} + 1\\right) \\left(\\frac{s^{2}}{10000} + \\frac{s}{100} + 1\\right)}$"
      ],
      "text/plain": [
       "             1             \n",
       "───────────────────────────\n",
       "          ⎛   2           ⎞\n",
       "⎛ s     ⎞ ⎜  s      s     ⎟\n",
       "⎜─── + 1⎟⋅⎜───── + ─── + 1⎟\n",
       "⎝100    ⎠ ⎝10000   100    ⎠"
      ]
     },
     "execution_count": 28,
     "metadata": {},
     "output_type": "execute_result"
    }
   ],
   "source": [
    "H.subs({wc:100})"
   ]
  },
  {
   "cell_type": "markdown",
   "id": "c1a7f025",
   "metadata": {},
   "source": [
    "¿Qué efectos identifica en el escalamiento de frecuencia realizado?"
   ]
  },
  {
   "cell_type": "markdown",
   "id": "407bbf34",
   "metadata": {},
   "source": [
    "------------"
   ]
  },
  {
   "cell_type": "markdown",
   "id": "060a5825",
   "metadata": {},
   "source": [
    "El método de diseño se soporta en la transformada de Laplace y por ende corresponde a un sistema de tiempo continuo que puede implementarse con amplificadores operacionales en configuración [Sallen Key](https://es.wikipedia.org/wiki/Filtro_de_Sallen-Key).\n",
    "\n",
    "![Butterworth-Circ.png](figuras/Butterworth-Circ.png)"
   ]
  },
  {
   "cell_type": "markdown",
   "id": "67f81e96",
   "metadata": {},
   "source": [
    "--------------"
   ]
  },
  {
   "cell_type": "markdown",
   "id": "1f3c0f0a",
   "metadata": {},
   "source": [
    "La estrategia de diseño expuesta permite obtener un filtro paso-bajo $H_{pb,N}(s)$. Para obtener un filtro paso-alto $H_{pa,N}(s)$ puede partirse de $H_{pb,N}(s)$.\n",
    "\n",
    "$$H_{pa,N}(s) = s^N H_{pb,N}(s)$$"
   ]
  },
  {
   "cell_type": "markdown",
   "id": "88352e9f",
   "metadata": {},
   "source": [
    "A continuación la respuesta del filtro paso-alto normalizado."
   ]
  },
  {
   "cell_type": "code",
   "execution_count": 7,
   "id": "d1423405",
   "metadata": {},
   "outputs": [
    {
     "data": {
      "image/png": "[encoded data removed]",
      "text/latex": [
       "$\\displaystyle \\frac{s^{3}}{\\left(s + 1\\right) \\left(s^{2} + s + 1\\right)}$"
      ],
      "text/plain": [
       "          3         \n",
       "         s          \n",
       "────────────────────\n",
       "        ⎛ 2        ⎞\n",
       "(s + 1)⋅⎝s  + s + 1⎠"
      ]
     },
     "execution_count": 7,
     "metadata": {},
     "output_type": "execute_result"
    }
   ],
   "source": [
    "Ha_norm = H_norm*s**3\n",
    "Ha_norm"
   ]
  },
  {
   "cell_type": "markdown",
   "id": "4653e8b8",
   "metadata": {},
   "source": [
    "Respuesta en frecuencia del filtro paso-alto normalizado."
   ]
  },
  {
   "cell_type": "code",
   "execution_count": 8,
   "id": "5c936854",
   "metadata": {
    "scrolled": true
   },
   "outputs": [
    {
     "data": {
      "text/plain": [
       "<sympy.plotting.plot.Plot at 0x218ac85b3c8>"
      ]
     },
     "execution_count": 8,
     "metadata": {},
     "output_type": "execute_result"
    },
    {
     "data": {
      "image/png": "[encoded data removed]",
      "text/plain": [
       "<Figure size 720x288 with 1 Axes>"
      ]
     },
     "metadata": {
      "needs_background": "light"
     },
     "output_type": "display_data"
    }
   ],
   "source": [
    "plt.rcParams['figure.figsize'] = 10,4\n",
    "logx_plot(db(Ha_norm.subs(s, sym.I * w)),(w, 0.01, 100),\n",
    "          xlabel='$\\omega$',\n",
    "          ylabel='$20 \\log_{10} | H(j \\omega) |$ in dB',\n",
    "          line_color='b', show=False)\n"
   ]
  },
  {
   "cell_type": "code",
   "execution_count": 9,
   "id": "ca8b8842",
   "metadata": {},
   "outputs": [
    {
     "data": {
      "image/png": "[encoded data removed]",
      "text/plain": [
       "<Figure size 288x288 with 1 Axes>"
      ]
     },
     "metadata": {
      "needs_background": "light"
     },
     "output_type": "display_data"
    }
   ],
   "source": [
    "plt.rcParams['figure.figsize'] = 4,4\n",
    "pole_zero_plot(sym.roots(sym.denom(Ha_norm), s),\n",
    "               sym.roots(sym.numer(Ha_norm), s))"
   ]
  },
  {
   "cell_type": "markdown",
   "id": "9c8d84c8",
   "metadata": {},
   "source": [
    "Diseñe un filtro paso-alto Butterworth de orden 3 con frecuencia de corte $\\omega_c= 200\\frac{rad}{s}$"
   ]
  },
  {
   "cell_type": "code",
   "execution_count": 22,
   "id": "723cebdf",
   "metadata": {},
   "outputs": [
    {
     "data": {
      "image/png": "[encoded data removed]",
      "text/latex": [
       "$\\displaystyle \\frac{s^{3}}{\\left(s + 1\\right) \\left(s^{2} + s + 1\\right)}$"
      ],
      "text/plain": [
       "          3         \n",
       "         s          \n",
       "────────────────────\n",
       "        ⎛ 2        ⎞\n",
       "(s + 1)⋅⎝s  + s + 1⎠"
      ]
     },
     "execution_count": 22,
     "metadata": {},
     "output_type": "execute_result"
    }
   ],
   "source": [
    "# Escriba su código\n",
    "H_pa = Ha_norm.subs(wc,200)\n",
    "H_pa"
   ]
  },
  {
   "cell_type": "code",
   "execution_count": 23,
   "id": "50f47c61",
   "metadata": {},
   "outputs": [
    {
     "data": {
      "text/plain": [
       "<sympy.plotting.plot.Plot at 0x218ac89f240>"
      ]
     },
     "execution_count": 23,
     "metadata": {},
     "output_type": "execute_result"
    },
    {
     "data": {
      "image/png": "[encoded data removed]",
      "text/plain": [
       "<Figure size 720x288 with 1 Axes>"
      ]
     },
     "metadata": {
      "needs_background": "light"
     },
     "output_type": "display_data"
    }
   ],
   "source": [
    "plt.rcParams['figure.figsize'] = 10,4\n",
    "logx_plot(db(H_pa.subs(s, sym.I * w)),(w, 0.01, 10000),\n",
    "          xlabel='$\\omega$',\n",
    "          ylabel='$20 \\log_{10} | H(j \\omega) |$ in dB',\n",
    "          line_color='b', show=False)\n"
   ]
  },
  {
   "cell_type": "code",
   "execution_count": 26,
   "id": "3b49f38e",
   "metadata": {},
   "outputs": [
    {
     "data": {
      "image/png": "[encoded data removed]",
      "text/latex": [
       "$\\displaystyle \\frac{s^{3}}{\\left(1 + \\frac{s}{\\omega_{c}}\\right) \\left(s + 1\\right) \\left(1 + \\frac{s}{\\omega_{c}} + \\frac{s^{2}}{\\omega_{c}^{2}}\\right) \\left(s^{2} + s + 1\\right)}$"
      ],
      "text/plain": [
       "                        3                      \n",
       "                       s                       \n",
       "───────────────────────────────────────────────\n",
       "                  ⎛            2 ⎞             \n",
       "⎛     s ⎞         ⎜     s     s  ⎟ ⎛ 2        ⎞\n",
       "⎜1 + ───⎟⋅(s + 1)⋅⎜1 + ─── + ────⎟⋅⎝s  + s + 1⎠\n",
       "⎝    ω_c⎠         ⎜    ω_c      2⎟             \n",
       "                  ⎝          ω_c ⎠             "
      ]
     },
     "execution_count": 26,
     "metadata": {},
     "output_type": "execute_result"
    }
   ],
   "source": [
    "H*H_pa"
   ]
  },
  {
   "cell_type": "markdown",
   "id": "067d8532",
   "metadata": {},
   "source": [
    "------------------"
   ]
  },
  {
   "cell_type": "markdown",
   "id": "5362852f",
   "metadata": {},
   "source": [
    "¿Qué ocurre si se conectan un filtro paso-alto y uno paso-bajo en serie?"
   ]
  },
  {
   "cell_type": "code",
   "execution_count": 24,
   "id": "789a4e73",
   "metadata": {},
   "outputs": [
    {
     "ename": "ValueError",
     "evalue": "The same variable should be used in all univariate expressions being plotted.",
     "output_type": "error",
     "traceback": [
      "\u001b[1;31m---------------------------------------------------------------------------\u001b[0m",
      "\u001b[1;31mValueError\u001b[0m                                Traceback (most recent call last)",
      "\u001b[1;32m<ipython-input-24-e0951266e455>\u001b[0m in \u001b[0;36m<module>\u001b[1;34m\u001b[0m\n\u001b[0;32m      4\u001b[0m           \u001b[0mxlabel\u001b[0m\u001b[1;33m=\u001b[0m\u001b[1;34m'$\\omega$'\u001b[0m\u001b[1;33m,\u001b[0m\u001b[1;33m\u001b[0m\u001b[1;33m\u001b[0m\u001b[0m\n\u001b[0;32m      5\u001b[0m           \u001b[0mylabel\u001b[0m\u001b[1;33m=\u001b[0m\u001b[1;34m'$20 \\log_{10} | H(j \\omega) |$ in dB'\u001b[0m\u001b[1;33m,\u001b[0m\u001b[1;33m\u001b[0m\u001b[1;33m\u001b[0m\u001b[0m\n\u001b[1;32m----> 6\u001b[1;33m           line_color='b', show=False)\n\u001b[0m",
      "\u001b[1;32m<ipython-input-1-f6e45cf4ff56>\u001b[0m in \u001b[0;36mlogx_plot\u001b[1;34m(Hw, wrange, **kwargs)\u001b[0m\n\u001b[0;32m      9\u001b[0m \u001b[1;33m\u001b[0m\u001b[0m\n\u001b[0;32m     10\u001b[0m \u001b[1;32mdef\u001b[0m \u001b[0mlogx_plot\u001b[0m\u001b[1;33m(\u001b[0m\u001b[0mHw\u001b[0m\u001b[1;33m,\u001b[0m \u001b[0mwrange\u001b[0m\u001b[1;33m,\u001b[0m \u001b[1;33m**\u001b[0m\u001b[0mkwargs\u001b[0m\u001b[1;33m)\u001b[0m\u001b[1;33m:\u001b[0m\u001b[1;33m\u001b[0m\u001b[1;33m\u001b[0m\u001b[0m\n\u001b[1;32m---> 11\u001b[1;33m     \u001b[0mp\u001b[0m \u001b[1;33m=\u001b[0m \u001b[0msym\u001b[0m\u001b[1;33m.\u001b[0m\u001b[0mplot\u001b[0m\u001b[1;33m(\u001b[0m\u001b[0mHw\u001b[0m\u001b[1;33m,\u001b[0m \u001b[0mwrange\u001b[0m\u001b[1;33m,\u001b[0m \u001b[1;33m**\u001b[0m\u001b[0mkwargs\u001b[0m\u001b[1;33m)\u001b[0m\u001b[1;33m\u001b[0m\u001b[1;33m\u001b[0m\u001b[0m\n\u001b[0m\u001b[0;32m     12\u001b[0m     \u001b[0mbackend\u001b[0m \u001b[1;33m=\u001b[0m \u001b[0mMatplotlibBackend\u001b[0m\u001b[1;33m(\u001b[0m\u001b[0mp\u001b[0m\u001b[1;33m)\u001b[0m\u001b[1;33m\u001b[0m\u001b[1;33m\u001b[0m\u001b[0m\n\u001b[0;32m     13\u001b[0m     \u001b[0mbackend\u001b[0m\u001b[1;33m.\u001b[0m\u001b[0mprocess_series\u001b[0m\u001b[1;33m(\u001b[0m\u001b[1;33m)\u001b[0m\u001b[1;33m\u001b[0m\u001b[1;33m\u001b[0m\u001b[0m\n",
      "\u001b[1;32m~\\.conda\\envs\\SistDin\\lib\\site-packages\\sympy\\plotting\\plot.py\u001b[0m in \u001b[0;36mplot\u001b[1;34m(*args, **kwargs)\u001b[0m\n\u001b[0;32m   1351\u001b[0m             \u001b[1;32mif\u001b[0m \u001b[0mlen\u001b[0m\u001b[1;33m(\u001b[0m\u001b[0mfree\u001b[0m\u001b[1;33m)\u001b[0m \u001b[1;33m>\u001b[0m \u001b[1;36m1\u001b[0m\u001b[1;33m:\u001b[0m\u001b[1;33m\u001b[0m\u001b[1;33m\u001b[0m\u001b[0m\n\u001b[0;32m   1352\u001b[0m                 raise ValueError(\n\u001b[1;32m-> 1353\u001b[1;33m                     \u001b[1;34m'The same variable should be used in all '\u001b[0m\u001b[1;33m\u001b[0m\u001b[1;33m\u001b[0m\u001b[0m\n\u001b[0m\u001b[0;32m   1354\u001b[0m                     'univariate expressions being plotted.')\n\u001b[0;32m   1355\u001b[0m     \u001b[0mx\u001b[0m \u001b[1;33m=\u001b[0m \u001b[0mfree\u001b[0m\u001b[1;33m.\u001b[0m\u001b[0mpop\u001b[0m\u001b[1;33m(\u001b[0m\u001b[1;33m)\u001b[0m \u001b[1;32mif\u001b[0m \u001b[0mfree\u001b[0m \u001b[1;32melse\u001b[0m \u001b[0mSymbol\u001b[0m\u001b[1;33m(\u001b[0m\u001b[1;34m'x'\u001b[0m\u001b[1;33m)\u001b[0m\u001b[1;33m\u001b[0m\u001b[1;33m\u001b[0m\u001b[0m\n",
      "\u001b[1;31mValueError\u001b[0m: The same variable should be used in all univariate expressions being plotted."
     ]
    }
   ],
   "source": [
    "# Escriba su código\n",
    "plt.rcParams['figure.figsize'] = 10,4\n",
    "logx_plot(db((H_pa*H).subs(s, sym.I * w)),(w, 0.01, 10000),\n",
    "          xlabel='$\\omega$',\n",
    "          ylabel='$20 \\log_{10} | H(j \\omega) |$ in dB',\n",
    "          line_color='b', show=False)\n"
   ]
  },
  {
   "cell_type": "markdown",
   "id": "f066ba0d",
   "metadata": {},
   "source": [
    "## Ejercicio\n",
    "\n",
    "Diseñe un filtro de orden 6 que deje pasar solamente la voz de una cantante con registro soprano."
   ]
  },
  {
   "cell_type": "code",
   "execution_count": null,
   "id": "d61540fb",
   "metadata": {},
   "outputs": [],
   "source": []
  },
  {
   "cell_type": "code",
   "execution_count": null,
   "id": "1f71b7be",
   "metadata": {},
   "outputs": [],
   "source": []
  }
 ],
 "metadata": {
  "kernelspec": {
   "display_name": "Python 3",
   "language": "python",
   "name": "python3"
  },
  "language_info": {
   "codemirror_mode": {
    "name": "ipython",
    "version": 3
   },
   "file_extension": ".py",
   "mimetype": "text/x-python",
   "name": "python",
   "nbconvert_exporter": "python",
   "pygments_lexer": "ipython3",
   "version": "3.7.3"
  },
  "latex_envs": {
   "bibliofile": "biblio.bib",
   "cite_by": "apalike",
   "current_citInitial": 1,
   "eqLabelWithNumbers": true,
   "eqNumInitial": 0
  }
 },
 "nbformat": 4,
 "nbformat_minor": 5
}
