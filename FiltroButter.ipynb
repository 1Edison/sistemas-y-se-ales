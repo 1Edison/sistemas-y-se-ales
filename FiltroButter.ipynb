{
 "cells": [
  {
   "cell_type": "code",
   "execution_count": 2,
   "id": "8295dcb3",
   "metadata": {},
   "outputs": [],
   "source": [
    "import sympy as sym\n",
    "%matplotlib inline\n",
    "sym.init_printing()\n",
    "from sympy import oo\n",
    "\n",
    "import matplotlib.pyplot as plt\n",
    "from sympy.plotting.plot import MatplotlibBackend\n",
    "\n",
    "\n",
    "def logx_plot(Hw, wrange, **kwargs):\n",
    "    p = sym.plot(Hw, wrange, **kwargs)\n",
    "    backend = MatplotlibBackend(p)\n",
    "    backend.process_series()\n",
    "    backend.ax.spines['left'].set_position(('axes', 0))\n",
    "    backend.ax.spines['bottom'].set_position(('axes', 0))\n",
    "    plt.xscale('log')\n",
    "    plt.grid(which='both')\n",
    "    return p\n",
    "\n",
    "def db(x):\n",
    "    'compute dB value'\n",
    "    return 20 * sym.log(sym.Abs(x), 10)\n",
    "\n",
    "\n",
    "def pole_zero_plot(poles, zeros, ax=None):\n",
    "    mR = -2 #  valor inicial para minimo real\n",
    "    MR = 2  #  valor inicial para maximo real\n",
    "    mI = -2 #  valor inicial para minimo imaginario\n",
    "    MI = 2  #  valor inicial para maximo imaginario\n",
    "    for pole in poles:\n",
    "        plt.plot(complex(pole).real, complex(pole).imag, 'rx', markersize=10)\n",
    "        if complex(pole).real < mR:\n",
    "            mR = complex(pole).real\n",
    "        if complex(pole).real > MR:\n",
    "            MR = complex(pole).real\n",
    "        if complex(pole).imag < mI:\n",
    "            mI = complex(pole).imag\n",
    "        if complex(pole).imag > MI:\n",
    "            MI = complex(pole).imag\n",
    "            \n",
    "    for zero in zeros:\n",
    "        plt.plot(complex(zero).real, complex(zero).imag, 'bo', markersize=10)\n",
    "        if complex(zero).real < mR:\n",
    "            mR = complex(zero).real\n",
    "        if complex(zero).real > MR:\n",
    "            MR = complex(zero).real\n",
    "        if complex(zero).imag < mI:\n",
    "            mI = complex(zero).imag\n",
    "        if complex(zero).imag > MI:\n",
    "            MI = complex(zero).imag\n",
    "\n",
    "            \n",
    "    if ax is None:\n",
    "        ax = plt.gca()\n",
    "    ax.set_aspect(1)\n",
    "    \n",
    "    plt.axis([mR*1.1, MR*1.1, mI*1.1, MI*1.1])\n",
    "    plt.xlabel(r'$\\Re \\{ s \\}$')\n",
    "    plt.ylabel(r'$\\Im \\{ s \\}$')\n",
    "    plt.grid()\n",
    "\n",
    "\n",
    "\n",
    "s = sym.symbols('s', complex=True)\n",
    "w = sym.symbols('omega', real=True)\n",
    "wc = sym.symbols('omega_c', real=True)\n"
   ]
  },
  {
   "cell_type": "code",
   "execution_count": 3,
   "id": "6aeb9306",
   "metadata": {},
   "outputs": [
    {
     "data": {
      "text/plain": [
       "'1.4'"
      ]
     },
     "execution_count": 3,
     "metadata": {},
     "output_type": "execute_result"
    }
   ],
   "source": [
    "sym.__version__"
   ]
  },
  {
   "cell_type": "markdown",
   "id": "1cd6edfa",
   "metadata": {},
   "source": [
    "# Filtro de Butterworth\n",
    "\n",
    "El [Filtro de Butterworth](https://es.wikipedia.org/wiki/Filtro_de_Butterworth) es uno de los filtros electrónicos más populares. La respuesta freuencial es casi constante hasta la frecuencia de corte y después disminuye a razón de $20n \\; dB/década$, donde $n$ es la cantidad de polos del filtro."
   ]
  },
  {
   "cell_type": "markdown",
   "id": "387c5737",
   "metadata": {},
   "source": [
    "La función de transferencia del filtto $H(s)$ debe cumplir que:\n",
    "\n",
    "- Las $2N-1$ primeras derivadas de $| H ( \\omega ) |^2$ sean cero para $\\omega = 0 $  y $\\omega =\\infty$.\n",
    "- Únicamente posee polos.\n",
    "\n",
    "Así, el cuadrado de la magnitud de la función de transferencia, para el filtro paso bajo con frecuencia de corte $\\omega_c$, de orden $N$, de ganancia unitaria en la banda de paso, con es: \n",
    "\n",
    "$$|H(\\omega)|^2= \\frac{1}{1+(\\omega / \\omega_c)^{2N}}$$\n"
   ]
  },
  {
   "cell_type": "markdown",
   "id": "419f3912",
   "metadata": {},
   "source": [
    "La función de transferencia para el filtro Butterworth con $\\omega_c = 1$ es de la forma:\n",
    "\n",
    "$$H(s) = \\frac{1}{Polinomio\\;Butterworth}$$\n",
    "\n",
    "| Polinomio Butterworth                | N |\n",
    "|:------------------------------------:|--|\n",
    "| $s+1$                                | 1|\n",
    "| $s^2 + 1.4142s + 1$                  |2|\n",
    "| $(s+1)(s^2 + s + 1)$                 |3|\n",
    "| $(s^2+0.7654s+1)(s^2+1.8478s+1)$     |4|\n",
    "\n",
    "Hay un polinomio para valor de $N$ determinado."
   ]
  },
  {
   "cell_type": "markdown",
   "id": "b141ba11",
   "metadata": {},
   "source": [
    "**Ejemplo**\n",
    "\n",
    "Diseñe un filtro paso-bajo Butterworth de orden 3 con frecuencia de corte $\\omega_c= 300\\frac{rad}{s}$"
   ]
  },
  {
   "cell_type": "markdown",
   "id": "523f5ece",
   "metadata": {},
   "source": [
    "El polinomio asociado es $(s+1)(s^2+s+1)$, por lo que la función de transferencia con frecuencia normalizada es:\n",
    "\n",
    "$$\\frac{1}{\\left(s+1\\right)\\left(s^2+s+1\\right)}$$"
   ]
  },
  {
   "cell_type": "markdown",
   "id": "37f4801b",
   "metadata": {},
   "source": [
    "La función de transferencia del filtro buscado es:\n",
    "\n",
    "$$\\frac{1}{\\left(\\frac{s}{\\omega_c}+1\\right)\\left(\\left(\\frac{s}{\\omega_c}\\right)^2+\\frac{s}{\\omega_c}+1\\right)}$$"
   ]
  },
  {
   "cell_type": "markdown",
   "id": "3d2f8936",
   "metadata": {},
   "source": [
    "**Filtro normalizado**"
   ]
  },
  {
   "cell_type": "code",
   "execution_count": 4,
   "id": "d73ec311",
   "metadata": {
    "scrolled": true
   },
   "outputs": [
    {
     "data": {
      "image/png": "[encoded data removed]",
      "text/latex": [
       "$\\displaystyle \\frac{1}{\\left(s + 1\\right) \\left(s^{2} + s + 1\\right)}$"
      ],
      "text/plain": [
       "         1          \n",
       "────────────────────\n",
       "        ⎛ 2        ⎞\n",
       "(s + 1)⋅⎝s  + s + 1⎠"
      ]
     },
     "execution_count": 4,
     "metadata": {},
     "output_type": "execute_result"
    }
   ],
   "source": [
    "H_norm = 1/((s+1)*(s**2+s+1))\n",
    "H_norm"
   ]
  },
  {
   "cell_type": "markdown",
   "id": "d1364333",
   "metadata": {},
   "source": [
    "Respuesta en frecuencia del filtro normalizado."
   ]
  },
  {
   "cell_type": "code",
   "execution_count": 5,
   "id": "014f2f77",
   "metadata": {
    "scrolled": true
   },
   "outputs": [
    {
     "data": {
      "text/plain": [
       "<sympy.plotting.plot.Plot at 0x236305f3898>"
      ]
     },
     "execution_count": 5,
     "metadata": {},
     "output_type": "execute_result"
    },
    {
     "data": {
      "image/png": "[encoded data removed]",
      "text/plain": [
       "<Figure size 720x288 with 1 Axes>"
      ]
     },
     "metadata": {
      "needs_background": "light"
     },
     "output_type": "display_data"
    }
   ],
   "source": [
    "plt.rcParams['figure.figsize'] = 10,4\n",
    "\n",
    "logx_plot(db(H_norm.subs(s, sym.I * w)),(w, 0.01, 100),\n",
    "          xlabel='$\\omega$',\n",
    "          ylabel='$20 \\log_{10} | H(j \\omega) |$ in dB',\n",
    "          line_color='b', show=False)"
   ]
  },
  {
   "cell_type": "code",
   "execution_count": 5,
   "id": "2d0e4a3f",
   "metadata": {},
   "outputs": [
    {
     "data": {
      "image/png": "[encoded data removed]",
      "text/plain": [
       "<Figure size 288x288 with 1 Axes>"
      ]
     },
     "metadata": {
      "needs_background": "light"
     },
     "output_type": "display_data"
    }
   ],
   "source": [
    "plt.rcParams['figure.figsize'] = 4,4\n",
    "pole_zero_plot(sym.roots(sym.denom(H_norm), s),\n",
    "               sym.roots(sym.numer(H_norm), s))"
   ]
  },
  {
   "cell_type": "markdown",
   "id": "ec18675f",
   "metadata": {},
   "source": [
    "**Filtro con frecuencia de corte**"
   ]
  },
  {
   "cell_type": "code",
   "execution_count": 6,
   "id": "85e66cbe",
   "metadata": {},
   "outputs": [
    {
     "data": {
      "image/png": "[encoded data removed]",
      "text/latex": [
       "$\\displaystyle \\frac{1}{\\left(1 + \\frac{s}{\\omega_{c}}\\right) \\left(1 + \\frac{s}{\\omega_{c}} + \\frac{s^{2}}{\\omega_{c}^{2}}\\right)}$"
      ],
      "text/plain": [
       "            1             \n",
       "──────────────────────────\n",
       "          ⎛            2 ⎞\n",
       "⎛     s ⎞ ⎜     s     s  ⎟\n",
       "⎜1 + ───⎟⋅⎜1 + ─── + ────⎟\n",
       "⎝    ω_c⎠ ⎜    ω_c      2⎟\n",
       "          ⎝          ω_c ⎠"
      ]
     },
     "execution_count": 6,
     "metadata": {},
     "output_type": "execute_result"
    }
   ],
   "source": [
    "H = H_norm.subs({s:s/wc})\n",
    "H"
   ]
  },
  {
   "cell_type": "markdown",
   "id": "c537273e",
   "metadata": {},
   "source": [
    "Respuesta en frecuencia del filtro (wc = ?)."
   ]
  },
  {
   "cell_type": "code",
   "execution_count": 7,
   "id": "980aa1e8",
   "metadata": {},
   "outputs": [],
   "source": [
    "# Escriba su código"
   ]
  },
  {
   "cell_type": "code",
   "execution_count": 8,
   "id": "237017c1",
   "metadata": {},
   "outputs": [
    {
     "data": {
      "image/png": "[encoded data removed]",
      "text/latex": [
       "$\\displaystyle \\frac{27000000}{\\left(s + 300\\right) \\left(s^{2} + 300 s + 90000\\right)}$"
      ],
      "text/plain": [
       "           27000000           \n",
       "──────────────────────────────\n",
       "          ⎛ 2                ⎞\n",
       "(s + 300)⋅⎝s  + 300⋅s + 90000⎠"
      ]
     },
     "execution_count": 8,
     "metadata": {},
     "output_type": "execute_result"
    }
   ],
   "source": [
    "H300 = H.subs({wc:300})\n",
    "H300.simplify()"
   ]
  },
  {
   "cell_type": "code",
   "execution_count": 10,
   "id": "7dfccf93",
   "metadata": {
    "scrolled": false
   },
   "outputs": [
    {
     "data": {
      "text/plain": [
       "<sympy.plotting.plot.Plot at 0x2363bb08ef0>"
      ]
     },
     "execution_count": 10,
     "metadata": {},
     "output_type": "execute_result"
    },
    {
     "data": {
      "image/png": "[encoded data removed]",
      "text/plain": [
       "<Figure size 720x288 with 1 Axes>"
      ]
     },
     "metadata": {
      "needs_background": "light"
     },
     "output_type": "display_data"
    }
   ],
   "source": [
    "plt.rcParams['figure.figsize'] = 10,4\n",
    "\n",
    "logx_plot(db(H300.subs(s, sym.I * w)),(w, 10, 10000),\n",
    "          xlabel='$\\omega$',\n",
    "          ylabel='$20 \\log_{10} | H(j \\omega) |$ in dB',\n",
    "          line_color='b', show=False)"
   ]
  },
  {
   "cell_type": "markdown",
   "id": "c1a7f025",
   "metadata": {},
   "source": [
    "¿Qué efectos identifica en el escalamiento de frecuencia realizado?"
   ]
  },
  {
   "cell_type": "markdown",
   "id": "407bbf34",
   "metadata": {},
   "source": [
    "------------"
   ]
  },
  {
   "cell_type": "markdown",
   "id": "060a5825",
   "metadata": {},
   "source": [
    "El método de diseño se soporta en la transformada de Laplace y por ende corresponde a un sistema de tiempo continuo que puede implementarse con amplificadores operacionales en configuración [Sallen Key](https://es.wikipedia.org/wiki/Filtro_de_Sallen-Key).\n",
    "\n",
    "![Butterworth-Circ.png](figuras/Butterworth-Circ.png)"
   ]
  },
  {
   "cell_type": "markdown",
   "id": "67f81e96",
   "metadata": {},
   "source": [
    "--------------"
   ]
  },
  {
   "cell_type": "markdown",
   "id": "1f3c0f0a",
   "metadata": {},
   "source": [
    "La estrategia de diseño expuesta permite obtener un filtro paso-bajo $H_{pb,N}(s)$. Para obtener un filtro paso-alto $H_{pa,N}(s)$ puede partirse de $H_{pb,N}(s)$.\n",
    "\n",
    "$$H_{pa,N}(s) = s^N H_{pb,N}(s)$$"
   ]
  },
  {
   "cell_type": "markdown",
   "id": "88352e9f",
   "metadata": {},
   "source": [
    "A continuación la respuesta del filtro paso-alto normalizado."
   ]
  },
  {
   "cell_type": "code",
   "execution_count": 11,
   "id": "d1423405",
   "metadata": {},
   "outputs": [
    {
     "data": {
      "image/png": "[encoded data removed]",
      "text/latex": [
       "$\\displaystyle \\frac{s^{3}}{\\left(s + 1\\right) \\left(s^{2} + s + 1\\right)}$"
      ],
      "text/plain": [
       "          3         \n",
       "         s          \n",
       "────────────────────\n",
       "        ⎛ 2        ⎞\n",
       "(s + 1)⋅⎝s  + s + 1⎠"
      ]
     },
     "execution_count": 11,
     "metadata": {},
     "output_type": "execute_result"
    }
   ],
   "source": [
    "Ha_norm = H_norm*s**3\n",
    "Ha_norm"
   ]
  },
  {
   "cell_type": "markdown",
   "id": "4653e8b8",
   "metadata": {},
   "source": [
    "Respuesta en frecuencia del filtro paso-alto normalizado."
   ]
  },
  {
   "cell_type": "code",
   "execution_count": 12,
   "id": "5c936854",
   "metadata": {
    "scrolled": true
   },
   "outputs": [
    {
     "data": {
      "text/plain": [
       "<sympy.plotting.plot.Plot at 0x2363bcbecf8>"
      ]
     },
     "execution_count": 12,
     "metadata": {},
     "output_type": "execute_result"
    },
    {
     "data": {
      "image/png": "[encoded data removed]",
      "text/plain": [
       "<Figure size 720x288 with 1 Axes>"
      ]
     },
     "metadata": {
      "needs_background": "light"
     },
     "output_type": "display_data"
    }
   ],
   "source": [
    "plt.rcParams['figure.figsize'] = 10,4\n",
    "logx_plot(db(Ha_norm.subs(s, sym.I * w)),(w, 0.01, 100),\n",
    "          xlabel='$\\omega$',\n",
    "          ylabel='$20 \\log_{10} | H(j \\omega) |$ in dB',\n",
    "          line_color='b', show=False)\n"
   ]
  },
  {
   "cell_type": "code",
   "execution_count": 13,
   "id": "ca8b8842",
   "metadata": {},
   "outputs": [
    {
     "data": {
      "image/png": "[encoded data removed]",
      "text/plain": [
       "<Figure size 288x288 with 1 Axes>"
      ]
     },
     "metadata": {
      "needs_background": "light"
     },
     "output_type": "display_data"
    }
   ],
   "source": [
    "plt.rcParams['figure.figsize'] = 4,4\n",
    "pole_zero_plot(sym.roots(sym.denom(Ha_norm), s),\n",
    "               sym.roots(sym.numer(Ha_norm), s))"
   ]
  },
  {
   "cell_type": "markdown",
   "id": "9c8d84c8",
   "metadata": {},
   "source": [
    "Diseñe un filtro paso-alto Butterworth de orden 3 con frecuencia de corte $\\omega_c= 200\\frac{rad}{s}$"
   ]
  },
  {
   "cell_type": "code",
   "execution_count": 14,
   "id": "cfd04953",
   "metadata": {},
   "outputs": [
    {
     "data": {
      "image/png": "[encoded data removed]",
      "text/latex": [
       "$\\displaystyle \\frac{s^{3}}{\\left(s + 1\\right) \\left(s^{2} + s + 1\\right)}$"
      ],
      "text/plain": [
       "          3         \n",
       "         s          \n",
       "────────────────────\n",
       "        ⎛ 2        ⎞\n",
       "(s + 1)⋅⎝s  + s + 1⎠"
      ]
     },
     "execution_count": 14,
     "metadata": {},
     "output_type": "execute_result"
    }
   ],
   "source": [
    "Ha_norm"
   ]
  },
  {
   "cell_type": "code",
   "execution_count": 15,
   "id": "55208cf6",
   "metadata": {},
   "outputs": [
    {
     "data": {
      "image/png": "[encoded data removed]",
      "text/latex": [
       "$\\displaystyle \\frac{s^{3}}{\\omega_{c}^{3} \\left(1 + \\frac{s}{\\omega_{c}}\\right) \\left(1 + \\frac{s}{\\omega_{c}} + \\frac{s^{2}}{\\omega_{c}^{2}}\\right)}$"
      ],
      "text/plain": [
       "                3              \n",
       "               s               \n",
       "───────────────────────────────\n",
       "               ⎛            2 ⎞\n",
       "   3 ⎛     s ⎞ ⎜     s     s  ⎟\n",
       "ω_c ⋅⎜1 + ───⎟⋅⎜1 + ─── + ────⎟\n",
       "     ⎝    ω_c⎠ ⎜    ω_c      2⎟\n",
       "               ⎝          ω_c ⎠"
      ]
     },
     "execution_count": 15,
     "metadata": {},
     "output_type": "execute_result"
    }
   ],
   "source": [
    "Ha_norm.subs(s,s/wc)"
   ]
  },
  {
   "cell_type": "code",
   "execution_count": 17,
   "id": "723cebdf",
   "metadata": {},
   "outputs": [
    {
     "data": {
      "image/png": "[encoded data removed]",
      "text/latex": [
       "$\\displaystyle \\frac{s^{3}}{\\left(s + 200\\right) \\left(s^{2} + 200 s + 40000\\right)}$"
      ],
      "text/plain": [
       "               3              \n",
       "              s               \n",
       "──────────────────────────────\n",
       "          ⎛ 2                ⎞\n",
       "(s + 200)⋅⎝s  + 200⋅s + 40000⎠"
      ]
     },
     "execution_count": 17,
     "metadata": {},
     "output_type": "execute_result"
    }
   ],
   "source": [
    "# Escriba su código\n",
    "H_pa = Ha_norm.subs(s,s/200)\n",
    "H_pa.simplify()"
   ]
  },
  {
   "cell_type": "code",
   "execution_count": 18,
   "id": "50f47c61",
   "metadata": {},
   "outputs": [
    {
     "data": {
      "text/plain": [
       "<sympy.plotting.plot.Plot at 0x2363cec9d30>"
      ]
     },
     "execution_count": 18,
     "metadata": {},
     "output_type": "execute_result"
    },
    {
     "data": {
      "image/png": "[encoded data removed]",
      "text/plain": [
       "<Figure size 720x288 with 1 Axes>"
      ]
     },
     "metadata": {
      "needs_background": "light"
     },
     "output_type": "display_data"
    }
   ],
   "source": [
    "plt.rcParams['figure.figsize'] = 10,4\n",
    "logx_plot(db(H_pa.subs(s, sym.I * w)),(w, 0.01, 10000),\n",
    "          xlabel='$\\omega$',\n",
    "          ylabel='$20 \\log_{10} | H(j \\omega) |$ in dB',\n",
    "          line_color='b', show=False)\n"
   ]
  },
  {
   "cell_type": "code",
   "execution_count": 19,
   "id": "3b49f38e",
   "metadata": {},
   "outputs": [
    {
     "data": {
      "image/png": "[encoded data removed]",
      "text/latex": [
       "$\\displaystyle \\frac{s^{3}}{8000000 \\left(\\frac{s}{300} + 1\\right) \\left(\\frac{s}{200} + 1\\right) \\left(\\frac{s^{2}}{90000} + \\frac{s}{300} + 1\\right) \\left(\\frac{s^{2}}{40000} + \\frac{s}{200} + 1\\right)}$"
      ],
      "text/plain": [
       "                                3                              \n",
       "                               s                               \n",
       "───────────────────────────────────────────────────────────────\n",
       "                            ⎛   2           ⎞ ⎛   2           ⎞\n",
       "        ⎛ s     ⎞ ⎛ s     ⎞ ⎜  s      s     ⎟ ⎜  s      s     ⎟\n",
       "8000000⋅⎜─── + 1⎟⋅⎜─── + 1⎟⋅⎜───── + ─── + 1⎟⋅⎜───── + ─── + 1⎟\n",
       "        ⎝300    ⎠ ⎝200    ⎠ ⎝90000   300    ⎠ ⎝40000   200    ⎠"
      ]
     },
     "execution_count": 19,
     "metadata": {},
     "output_type": "execute_result"
    }
   ],
   "source": [
    "H300*H_pa"
   ]
  },
  {
   "cell_type": "markdown",
   "id": "067d8532",
   "metadata": {},
   "source": [
    "------------------"
   ]
  },
  {
   "cell_type": "markdown",
   "id": "5362852f",
   "metadata": {},
   "source": [
    "¿Qué ocurre si se conectan un filtro paso-alto y uno paso-bajo en serie?"
   ]
  },
  {
   "cell_type": "code",
   "execution_count": 21,
   "id": "789a4e73",
   "metadata": {},
   "outputs": [
    {
     "data": {
      "text/plain": [
       "<sympy.plotting.plot.Plot at 0x2363cdbe3c8>"
      ]
     },
     "execution_count": 21,
     "metadata": {},
     "output_type": "execute_result"
    },
    {
     "data": {
      "image/png": "[encoded data removed]",
      "text/plain": [
       "<Figure size 720x288 with 1 Axes>"
      ]
     },
     "metadata": {
      "needs_background": "light"
     },
     "output_type": "display_data"
    }
   ],
   "source": [
    "# Escriba su código\n",
    "plt.rcParams['figure.figsize'] = 10,4\n",
    "logx_plot(db((H300*H_pa).subs(s, sym.I * w)),(w, 10, 10000),\n",
    "          xlabel='$\\omega$',\n",
    "          ylabel='$20 \\log_{10} | H(j \\omega) |$ in dB',\n",
    "          line_color='b', show=False)\n"
   ]
  },
  {
   "cell_type": "markdown",
   "id": "f066ba0d",
   "metadata": {},
   "source": [
    "## Ejercicio\n",
    "\n",
    "Diseñe un filtro de orden 6 que deje pasar solamente la voz de una cantante con registro soprano."
   ]
  },
  {
   "cell_type": "markdown",
   "id": "b01568c7",
   "metadata": {},
   "source": [
    "La banda\n",
    "$260Hz - 1300Hz$\n",
    "\n",
    "- Paso alto de orden 3 con frecuencia de corte 260Hz o $2\\pi\\cdot 260 \\frac{rad}{s}$\n",
    "- Paso bajo de orden 3 con frecuencia de corte 1300Hz\n",
    "- Poner en serie los dos filtros\n",
    "\n",
    "El sistema tendría 6 polos y 3 ceros."
   ]
  },
  {
   "cell_type": "code",
   "execution_count": 22,
   "id": "1f71b7be",
   "metadata": {},
   "outputs": [],
   "source": [
    "import scipy.signal as signal"
   ]
  },
  {
   "cell_type": "code",
   "execution_count": 23,
   "id": "0cd6debb",
   "metadata": {
    "collapsed": true
   },
   "outputs": [
    {
     "ename": "TypeError",
     "evalue": "butter() missing 2 required positional arguments: 'N' and 'Wn'",
     "output_type": "error",
     "traceback": [
      "\u001b[1;31m---------------------------------------------------------------------------\u001b[0m",
      "\u001b[1;31mTypeError\u001b[0m                                 Traceback (most recent call last)",
      "\u001b[1;32m<ipython-input-23-e7af86e96deb>\u001b[0m in \u001b[0;36m<module>\u001b[1;34m\u001b[0m\n\u001b[1;32m----> 1\u001b[1;33m \u001b[0msignal\u001b[0m\u001b[1;33m.\u001b[0m\u001b[0mbutter\u001b[0m\u001b[1;33m(\u001b[0m\u001b[1;33m)\u001b[0m\u001b[1;33m\u001b[0m\u001b[1;33m\u001b[0m\u001b[0m\n\u001b[0m",
      "\u001b[1;31mTypeError\u001b[0m: butter() missing 2 required positional arguments: 'N' and 'Wn'"
     ]
    }
   ],
   "source": [
    "signal.butter()"
   ]
  },
  {
   "cell_type": "code",
   "execution_count": 24,
   "id": "be9bffaf",
   "metadata": {},
   "outputs": [
    {
     "data": {
      "image/png": "[encoded data removed]",
      "text/latex": [
       "$\\displaystyle \\frac{s^{3}}{4354703137 \\left(\\frac{s}{1633} + 1\\right) \\left(\\frac{s^{2}}{2666689} + \\frac{s}{1633} + 1\\right)}$"
      ],
      "text/plain": [
       "                     3                    \n",
       "                    s                     \n",
       "──────────────────────────────────────────\n",
       "                      ⎛    2             ⎞\n",
       "           ⎛ s      ⎞ ⎜   s       s      ⎟\n",
       "4354703137⋅⎜──── + 1⎟⋅⎜─────── + ──── + 1⎟\n",
       "           ⎝1633    ⎠ ⎝2666689   1633    ⎠"
      ]
     },
     "execution_count": 24,
     "metadata": {},
     "output_type": "execute_result"
    }
   ],
   "source": [
    "FiltroEP1 = ((s/1633)**3)/(((s/1633) + 1)*((s/1633)**2 + (s/1633) + 1))\n",
    "FiltroEP1"
   ]
  },
  {
   "cell_type": "code",
   "execution_count": 25,
   "id": "37240198",
   "metadata": {},
   "outputs": [
    {
     "data": {
      "image/png": "[encoded data removed]",
      "text/latex": [
       "$\\displaystyle \\frac{1}{\\left(\\frac{s}{8168} + 1\\right) \\left(\\frac{s^{2}}{66716224} + \\frac{s}{8168} + 1\\right)}$"
      ],
      "text/plain": [
       "               1                \n",
       "────────────────────────────────\n",
       "           ⎛    2              ⎞\n",
       "⎛ s      ⎞ ⎜   s        s      ⎟\n",
       "⎜──── + 1⎟⋅⎜──────── + ──── + 1⎟\n",
       "⎝8168    ⎠ ⎝66716224   8168    ⎠"
      ]
     },
     "execution_count": 25,
     "metadata": {},
     "output_type": "execute_result"
    }
   ],
   "source": [
    "FiltroEP2 = 1/(((s/8168) + 1)*((s/8168)**2 + (s/8168) + 1))\n",
    "FiltroEP2"
   ]
  },
  {
   "cell_type": "code",
   "execution_count": 28,
   "id": "c1e1e6d5",
   "metadata": {},
   "outputs": [
    {
     "data": {
      "image/png": "[encoded data removed]",
      "text/latex": [
       "$\\displaystyle \\frac{544938117632 s^{3}}{\\left(s + 1633\\right) \\left(s + 8168\\right) \\left(s^{2} + 1633 s + 2666689\\right) \\left(s^{2} + 8168 s + 66716224\\right)}$"
      ],
      "text/plain": [
       "                                         3                            \n",
       "                           544938117632⋅s                             \n",
       "──────────────────────────────────────────────────────────────────────\n",
       "                      ⎛ 2                   ⎞ ⎛ 2                    ⎞\n",
       "(s + 1633)⋅(s + 8168)⋅⎝s  + 1633⋅s + 2666689⎠⋅⎝s  + 8168⋅s + 66716224⎠"
      ]
     },
     "execution_count": 28,
     "metadata": {},
     "output_type": "execute_result"
    }
   ],
   "source": [
    "Filtro = FiltroEP1*FiltroEP2\n",
    "Filtro.simplify()"
   ]
  },
  {
   "cell_type": "code",
   "execution_count": 29,
   "id": "f8ca0aa0",
   "metadata": {},
   "outputs": [
    {
     "data": {
      "text/plain": [
       "<sympy.plotting.plot.Plot at 0x2363ed560b8>"
      ]
     },
     "execution_count": 29,
     "metadata": {},
     "output_type": "execute_result"
    },
    {
     "data": {
      "image/png": "[encoded data removed]",
      "text/plain": [
       "<Figure size 720x288 with 1 Axes>"
      ]
     },
     "metadata": {
      "needs_background": "light"
     },
     "output_type": "display_data"
    }
   ],
   "source": [
    "# Escriba su código\n",
    "plt.rcParams['figure.figsize'] = 10,4\n",
    "logx_plot(db((Filtro).subs(s, sym.I * w)),(w, 100, 100000),\n",
    "          xlabel='$\\omega$',\n",
    "          ylabel='$20 \\log_{10} | H(j \\omega) |$ in dB',\n",
    "          line_color='b', show=False)"
   ]
  }
 ],
 "metadata": {
  "kernelspec": {
   "display_name": "Python 3",
   "language": "python",
   "name": "python3"
  },
  "language_info": {
   "codemirror_mode": {
    "name": "ipython",
    "version": 3
   },
   "file_extension": ".py",
   "mimetype": "text/x-python",
   "name": "python",
   "nbconvert_exporter": "python",
   "pygments_lexer": "ipython3",
   "version": "3.7.3"
  },
  "latex_envs": {
   "LaTeX_envs_menu_present": true,
   "autoclose": false,
   "autocomplete": true,
   "bibliofile": "biblio.bib",
   "cite_by": "apalike",
   "current_citInitial": 1,
   "eqLabelWithNumbers": true,
   "eqNumInitial": 0,
   "hotkeys": {
    "equation": "Ctrl-E",
    "itemize": "Ctrl-I"
   },
   "labels_anchors": false,
   "latex_user_defs": false,
   "report_style_numbering": false,
   "user_envs_cfg": false
  },
  "varInspector": {
   "cols": {
    "lenName": 16,
    "lenType": 16,
    "lenVar": 40
   },
   "kernels_config": {
    "python": {
     "delete_cmd_postfix": "",
     "delete_cmd_prefix": "del ",
     "library": "var_list.py",
     "varRefreshCmd": "print(var_dic_list())"
    },
    "r": {
     "delete_cmd_postfix": ") ",
     "delete_cmd_prefix": "rm(",
     "library": "var_list.r",
     "varRefreshCmd": "cat(var_dic_list()) "
    }
   },
   "types_to_exclude": [
    "module",
    "function",
    "builtin_function_or_method",
    "instance",
    "_Feature"
   ],
   "window_display": false
  }
 },
 "nbformat": 4,
 "nbformat_minor": 5
}
