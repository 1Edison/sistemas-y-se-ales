{
 "cells": [
  {
   "cell_type": "code",
   "execution_count": 18,
   "id": "3c725396",
   "metadata": {},
   "outputs": [
    {
     "data": {
      "text/plain": [
       "'1.3.0'"
      ]
     },
     "execution_count": 18,
     "metadata": {},
     "output_type": "execute_result"
    }
   ],
   "source": [
    "from ipywidgets import interact\n",
    "import sympy as sym\n",
    "import numpy as np\n",
    "from scipy.signal import cont2discrete, lti, dlti\n",
    "import matplotlib.pyplot as plt\n",
    "%matplotlib inline\n",
    "sym.init_printing()\n",
    "import scipy as sci\n",
    "def botones(G1, G2,Rev):\n",
    "    # Función para obtener valores de botones deslizantes\n",
    "    f1 = 1\n",
    "    f2 = 2\n",
    "    plt.stem([0,f1,f2,f2*2],\n",
    "             [0,G1,G2,0])\n",
    "    plt.grid()\n",
    "    \n",
    "    return(G1, G2,Rev)\n",
    "\n",
    "import sounddevice as sd\n",
    "from scipy.io.wavfile import write\n",
    "\n",
    "sci.__version__"
   ]
  },
  {
   "cell_type": "markdown",
   "id": "6fae348e",
   "metadata": {},
   "source": [
    "# Reto\n",
    "\n",
    "Diseñe e implemente un sistema de procesamiento de audio que reciba sonidos muestreados a $44100 \\; \\text{muestras/s}$ y cumpla con los siguientes requerimientos:\n",
    "\n",
    "- Recibe como entrada la señal del micrófono o audio grabado (queda a su elección).\n",
    "- Como pre-procesamiento se deben eliminar o atenuar las frecuencias por debajo de los $20Hz$.\n",
    "- Se filtrar la señal al menos con $5$ bandas, cada una con una ganancia ajustable e independiente.\n",
    "- Al final se mezclan las señales correspondientes a cada banda y se introduce un efecto de reverberación ajustable"
   ]
  },
  {
   "cell_type": "markdown",
   "id": "a561cc96",
   "metadata": {},
   "source": [
    "-------------------------"
   ]
  },
  {
   "cell_type": "code",
   "execution_count": 12,
   "id": "c1c83964",
   "metadata": {},
   "outputs": [],
   "source": [
    "fs = 44100  # Frecuencia de muestreo\n",
    "duracion = 10  # Duración de la grabación\n",
    "x = sd.rec(int(duracion * fs),\n",
    "           samplerate=fs,\n",
    "           channels=1)\n",
    "# \"duracion\" segundos grabados en un canal\n",
    "# frecuencia de muestreo \"fs\"\n",
    "sd.wait()  # Espera mientras se hace la grabación\n",
    "\n",
    "write('JPDP20220223_.wav', fs, x)  # guarda x en .WAV\n"
   ]
  },
  {
   "cell_type": "code",
   "execution_count": 13,
   "id": "9846359d",
   "metadata": {},
   "outputs": [
    {
     "data": {
      "application/vnd.jupyter.widget-view+json": {
       "model_id": "157efc74123a4ee29f526d5ef31f23a2",
       "version_major": 2,
       "version_minor": 0
      },
      "text/plain": [
       "interactive(children=(FloatSlider(value=1.0, description='G1', max=2.0), FloatSlider(value=1.0, description='G…"
      ]
     },
     "metadata": {},
     "output_type": "display_data"
    },
    {
     "data": {
      "text/plain": [
       "<function __main__.botones(G1, G2, Rev)>"
      ]
     },
     "metadata": {},
     "output_type": "display_data"
    }
   ],
   "source": [
    "# Se ajustan los valores ganancia para \n",
    "# cada banda con botones deslizantes\n",
    "w = interact(botones,\n",
    "             G1=(0., 2.), \n",
    "             G2=(0., 2.), \n",
    "             Rev = (0.0,10.) );\n",
    "display(w)"
   ]
  },
  {
   "cell_type": "code",
   "execution_count": 17,
   "id": "dd0501f2",
   "metadata": {},
   "outputs": [],
   "source": [
    "# Se recuperan los valores de la interfaz\n",
    "g1,g2,r = w.widget.result"
   ]
  },
  {
   "cell_type": "markdown",
   "id": "5370ca69",
   "metadata": {},
   "source": [
    "## Preprocesamiento\n",
    "\n",
    "- Explique su funcionamiento"
   ]
  },
  {
   "cell_type": "code",
   "execution_count": 4,
   "id": "66c16737",
   "metadata": {},
   "outputs": [],
   "source": [
    "## Código de preprocesamiento\n"
   ]
  },
  {
   "cell_type": "markdown",
   "id": "18b1dc65",
   "metadata": {},
   "source": [
    "## Ecualización\n",
    "\n",
    "- Explique su funcionamiento\n",
    "\n",
    "- Puede resumir todo con tablas o explicar parte por parte\n",
    "\n",
    "\n",
    "### Banda 1\n",
    "\n",
    "- Explique su diseño\n",
    "\n",
    "### Banda 2\n",
    "\n",
    "- Explique su diseño\n",
    "\n",
    "### Banda n\n",
    "\n",
    "- Explique su diseño\n",
    "\n"
   ]
  },
  {
   "cell_type": "code",
   "execution_count": 5,
   "id": "e18973d4",
   "metadata": {},
   "outputs": [],
   "source": [
    "## Código de ecualización\n"
   ]
  },
  {
   "cell_type": "markdown",
   "id": "9965df74",
   "metadata": {},
   "source": [
    "## Reverberación\n",
    "\n",
    "- Explique su funcionamiento\n"
   ]
  },
  {
   "cell_type": "code",
   "execution_count": 20,
   "id": "753458a3",
   "metadata": {},
   "outputs": [],
   "source": [
    "## Código de Reverberación\n",
    "\n",
    "\n"
   ]
  },
  {
   "cell_type": "markdown",
   "id": "c3ff1e8f",
   "metadata": {},
   "source": [
    "## Resultados\n",
    "\n",
    "- Genere y compare el sonido procesado con el original.\n",
    "- Compare los espectros y las sensacion sonoras."
   ]
  },
  {
   "cell_type": "code",
   "execution_count": null,
   "id": "f3923c9b",
   "metadata": {},
   "outputs": [],
   "source": []
  }
 ],
 "metadata": {
  "kernelspec": {
   "display_name": "Python 3",
   "language": "python",
   "name": "python3"
  },
  "language_info": {
   "codemirror_mode": {
    "name": "ipython",
    "version": 3
   },
   "file_extension": ".py",
   "mimetype": "text/x-python",
   "name": "python",
   "nbconvert_exporter": "python",
   "pygments_lexer": "ipython3",
   "version": "3.7.3"
  },
  "latex_envs": {
   "bibliofile": "biblio.bib",
   "cite_by": "apalike",
   "current_citInitial": 1,
   "eqLabelWithNumbers": true,
   "eqNumInitial": 0
  }
 },
 "nbformat": 4,
 "nbformat_minor": 5
}
