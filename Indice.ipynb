{
 "cells": [
  {
   "cell_type": "markdown",
   "metadata": {
    "id": "W7A0gXbOTIXT"
   },
   "source": [
    "# Señales y Sistemas\n",
    "\n",
    "\n",
    "- Contiene una colección de notebooks de [Jupyter](https://jupyter.org/) con notas y ejemplos con el contenido propuesto para el curso **SEÑALES Y SISTEMAS**.\n",
    "\n",
    "- Estas notas fueron escritas por [Jean Pierre DÍAZ-PAZ](https://www.ecoprofe.com/JPDP) y [Jorge Humberto Erazo-Aux]().\n",
    "\n",
    "- Los notebooks contienen código en [IPython 3](http://ipython.org/).\n",
    "\n",
    "- Este repostorio es una adaptación de diversas fuentes, entre las que se destaca el repositorio del curso [Signals and Systems](http://www.int.uni-rostock.de/Signal-und-Systemtheorie.428.0.html) del profesor [Sascha Spors](http://www.int.uni-rostock.de/Staff-Info.23+B6JmNIYXNoPWUxOTliMTNjY2U2MDcyZjJiZTI0YTc4MmFkYTE5NjQzJnR4X2pwc3RhZmZfcGkxJTVCYmFja0lkJTVEPTMmdHhfanBzdGFmZl9waTElNUJzaG93VWlkJTVEPTExMQ__.0.html)\n"
   ]
  },
  {
   "cell_type": "markdown",
   "metadata": {
    "id": "nsG10RMfTIXX"
   },
   "source": [
    "## 0  Introducción\n",
    "\n",
    "- [Introducción a la programación con Python y Jupyter](PythonJupyter.ipynb)\n",
    "- [Ejercicio: Programación con Python y Jupyter (Básico)](EjercicioPython.ipynb)\n",
    "- [Ejercicio: Programación con Python y Jupyter (Intermedio)](Introduccion_IPYNB_v2.ipynb)\n",
    "- [Cálculos en ingeniería con Sympy y Jupyter Notebooks](SympyJupyter.ipynb)\n",
    "- [Ejercicio: Análisis de un circuito DC con Sympy](EjercicioSympy.ipynb)\n",
    "\n",
    "\n"
   ]
  },
  {
   "cell_type": "markdown",
   "metadata": {
    "id": "upGGfLJsTIXY"
   },
   "source": [
    "## 1  Señales y sistemas de tiempo continuo\n",
    "\n",
    "- [Señales Estándar](SenalesEstandar.ipynb)\n",
    "- [Caracterización de Sistemas LTI en el Dominio del Tiempo](CaracterizacionLTI.ipynb)\n",
    "- [Modelo dinámico de un circuito RLC](CircuitoRLC.ipynb)\n",
    "- [Ejercicio: Análisis de un circuito con almacenamiento de energía](EjercicioCircuito.ipynb)\n"
   ]
  },
  {
   "cell_type": "markdown",
   "metadata": {
    "id": "8ixBEWWsTIXZ"
   },
   "source": [
    "## 2  Fourier\n",
    "\n",
    "- [Series de Fourier](04_Series_de_Fourier.ipynb)\n",
    "\n",
    "- [Ejercicio: Series de Fourier](tareas/Ejercicio_SerieFourier.ipynb)\n",
    "\n",
    "- [Transformada de Fourier](05_Transformada_Fourier.ipynb)\n",
    "\n",
    "- [Circuito RLC con transformada de Fourier](CircuitoRLC_Fourier.ipynb)"
   ]
  },
  {
   "cell_type": "markdown",
   "metadata": {
    "id": "8G0KkVHXTIXZ"
   },
   "source": [
    "## 3  Laplace\n",
    "\n",
    "- [Transformada de Laplace](06_Transformada_Laplace.ipynb)\n",
    "- [Modelos en el dominio de la frecuencia](07_Modelos_en_Frecuencia.ipynb)\n",
    "-[Diagramas de bloques](Diagramas_bloques.ipynb)\n",
    "- [Operaciones con modelos en el dominio de la frecuencia](08_Combinaciones.ipynb) REVISAR BODE\n",
    "\n",
    "\n"
   ]
  },
  {
   "cell_type": "markdown",
   "metadata": {
    "id": "W5Hz8WWNTIXa"
   },
   "source": [
    "## 4   Señales y sistemas de tiempo discreto\n",
    "\n",
    "- [Señales Estándar](SenalesEstandarTD.ipynb)\n",
    "- [Teorema de muestreo](09_muestreo.ipynb)\n",
    "- [Modelos en el dominio del tiempo](LTI_discreto.ipynb)\n"
   ]
  },
  {
   "cell_type": "markdown",
   "metadata": {
    "id": "OhR3rrNdTIXb"
   },
   "source": [
    "## 5  Transformadas de Fourier para señales discretas\n",
    "\n",
    "- [Transformada de Fourier de tiempo discreto](FourierDTFT.ipynb)\n",
    "- [Transformada discreta de Fourier](FourierDFT.ipynb)\n",
    "- [Espectros de sonidos](sonidos.ipynb)\n",
    "- [Ejercicio: Espectros de sonidos](tareas/Ejercicio_Sonidos.ipynb)\n"
   ]
  },
  {
   "cell_type": "markdown",
   "metadata": {
    "id": "imQRxnKWTIXa"
   },
   "source": [
    "## 6  Transformada z\n",
    "\n",
    "- [Transformada z](10_Transformada_Z.ipynb)\n",
    "\n"
   ]
  },
  {
   "cell_type": "markdown",
   "metadata": {
    "id": "tE5KZ8OyTIXc"
   },
   "source": [
    "## 7 Casos\n",
    "\n",
    "- [Análisis de manchas solares](ManchasSolares.ipynb)\n",
    "- [Locación sintética de sonidos](ConvolucionSalon.ipynb)\n",
    "- [Diseño de filtros](FiltroButter.ipynb)\n",
    "- [Filtros discretos](FiltrosDiscretos.ipynb)\n",
    "- [Marcación telefónica](MarcadoFFT.ipynb)\n",
    "\n"
   ]
  },
  {
   "cell_type": "code",
   "execution_count": null,
   "metadata": {
    "id": "qxvsxJoGTIXd"
   },
   "outputs": [],
   "source": []
  }
 ],
 "metadata": {
  "colab": {
   "name": "Indice.ipynb",
   "provenance": []
  },
  "kernelspec": {
   "display_name": "Python 3",
   "language": "python",
   "name": "python3"
  },
  "language_info": {
   "codemirror_mode": {
    "name": "ipython",
    "version": 3
   },
   "file_extension": ".py",
   "mimetype": "text/x-python",
   "name": "python",
   "nbconvert_exporter": "python",
   "pygments_lexer": "ipython3",
   "version": "3.7.3"
  },
  "latex_envs": {
   "LaTeX_envs_menu_present": true,
   "autoclose": false,
   "autocomplete": true,
   "bibliofile": "biblio.bib",
   "cite_by": "apalike",
   "current_citInitial": 1,
   "eqLabelWithNumbers": true,
   "eqNumInitial": 0,
   "hotkeys": {
    "equation": "Ctrl-E",
    "itemize": "Ctrl-I"
   },
   "labels_anchors": false,
   "latex_user_defs": false,
   "report_style_numbering": false,
   "user_envs_cfg": false
  },
  "varInspector": {
   "cols": {
    "lenName": 16,
    "lenType": 16,
    "lenVar": 40
   },
   "kernels_config": {
    "python": {
     "delete_cmd_postfix": "",
     "delete_cmd_prefix": "del ",
     "library": "var_list.py",
     "varRefreshCmd": "print(var_dic_list())"
    },
    "r": {
     "delete_cmd_postfix": ") ",
     "delete_cmd_prefix": "rm(",
     "library": "var_list.r",
     "varRefreshCmd": "cat(var_dic_list()) "
    }
   },
   "types_to_exclude": [
    "module",
    "function",
    "builtin_function_or_method",
    "instance",
    "_Feature"
   ],
   "window_display": false
  }
 },
 "nbformat": 4,
 "nbformat_minor": 1
}
