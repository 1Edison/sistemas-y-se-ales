{
 "cells": [
  {
   "cell_type": "markdown",
   "metadata": {},
   "source": [
    "# Señales y Systemas\n",
    "\n",
    "Contiene una colección de notebooks de [Jupyter](https://jupyter.org/) con notas y ejemplos con el contenido propuesto para el curso **SEÑALES Y SISTEMAS** orientado por [Jean Pierre DÍAZ-PAZ](https://www.ecoprofe.com/JPDP). Los notebooks contienen código en [IPython 3](http://ipython.org/).\n",
    "\n",
    "Este repostorio es una adaptación de diversas fuentes, entre las que se destaca el repositorio del curso [Signals and Systems](http://www.int.uni-rostock.de/Signal-und-Systemtheorie.428.0.html) del profesor [Sascha Spors](http://www.int.uni-rostock.de/Staff-Info.23+B6JmNIYXNoPWUxOTliMTNjY2U2MDcyZjJiZTI0YTc4MmFkYTE5NjQzJnR4X2pwc3RhZmZfcGkxJTVCYmFja0lkJTVEPTMmdHhfanBzdGFmZl9waTElNUJzaG93VWlkJTVEPTExMQ__.0.html)\n"
   ]
  },
  {
   "cell_type": "markdown",
   "metadata": {},
   "source": [
    "## 0 Introducción\n",
    "\n",
    "\n"
   ]
  },
  {
   "cell_type": "markdown",
   "metadata": {},
   "source": [
    "## 1  Señales y sistemas de tiempo continuo\n",
    "\n",
    "- [Señales estándar](01_Senales_estándar.ipynb)\n",
    "\n",
    "- [Operaciones](02_Operaciones.ipynb)\n",
    "\n",
    "- [Respuesta impulsional](03-1_LTI_Respuesta_impulsional.ipynb)\n",
    "\n",
    "- [Convolución](03-2_LTI_Convolucion.ipynb)\n",
    "\n",
    "- [Respuesta al escalón](03-3_LTI_Respuesta_escalon.ipynb)\n",
    "\n",
    "- [Análisis de circuito RLC](03-4_Circuito_RLC.ipynb)\n"
   ]
  },
  {
   "cell_type": "markdown",
   "metadata": {},
   "source": [
    "## 2  Fourier\n",
    "\n",
    "- [Series de Fourier](04_Series_de_Fourier.ipynb)\n",
    "\n",
    "- [Transformada de Fourier](05_Transformada_Fourier.ipynb)\n"
   ]
  },
  {
   "cell_type": "markdown",
   "metadata": {},
   "source": [
    "## 3  Laplace\n",
    "\n",
    "- [Transformada de Laplace](06_Transformada_Laplace.ipynb)\n",
    "- [Modelos en el dominio de la frecuencia](07_Modelos_en_Frecuencia.ipynb)\n",
    "- [Operaciones con modelos en el dominio de la frecuencia](08_Combinaciones.ipynb)\n",
    "\n",
    "\n"
   ]
  },
  {
   "cell_type": "markdown",
   "metadata": {},
   "source": [
    "## 4  Sistemas de tiempo discreto\n",
    "\n",
    "- [Teorema de muestreo](09_muestreo.ipynb)\n",
    "\n"
   ]
  },
  {
   "cell_type": "markdown",
   "metadata": {},
   "source": [
    "## 5  Transformada z\n",
    "\n",
    "- [Transformada z](10_Transformada_Z.ipynb)\n",
    "\n"
   ]
  },
  {
   "cell_type": "markdown",
   "metadata": {},
   "source": [
    "## 6  Transformada discreta de Fourier\n",
    "\n",
    "\n",
    "\n"
   ]
  },
  {
   "cell_type": "markdown",
   "metadata": {},
   "source": [
    "## Final\n",
    "\n",
    "[Análisis de sistemas LTI](11_Analisis_LTI.ipynb)\n"
   ]
  },
  {
   "cell_type": "code",
   "execution_count": null,
   "metadata": {},
   "outputs": [],
   "source": []
  }
 ],
 "metadata": {
  "kernelspec": {
   "display_name": "Python 3",
   "language": "python",
   "name": "python3"
  },
  "language_info": {
   "codemirror_mode": {
    "name": "ipython",
    "version": 3
   },
   "file_extension": ".py",
   "mimetype": "text/x-python",
   "name": "python",
   "nbconvert_exporter": "python",
   "pygments_lexer": "ipython3",
   "version": "3.7.8"
  },
  "latex_envs": {
   "bibliofile": "biblio.bib",
   "cite_by": "apalike",
   "current_citInitial": 1,
   "eqLabelWithNumbers": true,
   "eqNumInitial": 0
  }
 },
 "nbformat": 4,
 "nbformat_minor": 4
}
