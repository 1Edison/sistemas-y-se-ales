{
 "cells": [
  {
   "cell_type": "code",
   "execution_count": null,
   "id": "409e1f8c",
   "metadata": {},
   "outputs": [],
   "source": [
    "import sympy as sym\n",
    "sym.init_printing()\n",
    "import matplotlib.pyplot as plt\n",
    "%matplotlib inline"
   ]
  },
  {
   "cell_type": "markdown",
   "id": "76759ca1",
   "metadata": {},
   "source": [
    "Considere el circuito que se muestra en la figura. Suponga que la entrada es el voltaje $x(t)$ y la salida es el voltaje $y(t)$. Suponga además que no hay energía almacenada en los elementos que almacenan energía en $t<0$. Además, considere que $x(t)=0 \\forall t<0$.\n",
    "\n",
    "![bloque](figuras/bloque_tiempo.PNG)\n",
    "\n",
    "\n",
    "![Circuito](figuras/lowpass.png)\n",
    "\n",
    "\n",
    "\\begin{align}\n",
    "R i(t) + L \\frac{di}{dt} + \\frac{1}{C} \\int_{0}^{t} i(\\tau) d\\tau &= x(t) \\\\\n",
    "C R \\frac{d y(t)}{dt} + C L \\frac{d^2 y(t)}{dt^2} + y(t)& = x(t) \\\\\n",
    "\\end{align}\n"
   ]
  },
  {
   "cell_type": "code",
   "execution_count": 4,
   "id": "339eeaf0",
   "metadata": {},
   "outputs": [],
   "source": [
    "t, L, R, C, w = sym.symbols('t L R C omega', real=True)\n",
    "x = sym.Function('x')(t)\n",
    "y = sym.Function('y')(t)\n",
    "X = sym.Function('X')(w)\n",
    "Y = sym.Function('Y')(w)\n"
   ]
  },
  {
   "cell_type": "code",
   "execution_count": 5,
   "id": "74706f20",
   "metadata": {
    "scrolled": true
   },
   "outputs": [
    {
     "data": {
      "image/png": "[encoded data removed]",
      "text/latex": [
       "$\\displaystyle C L \\frac{d^{2}}{d t^{2}} y{\\left(t \\right)} + C R \\frac{d}{d t} y{\\left(t \\right)} + y{\\left(t \\right)} = x{\\left(t \\right)}$"
      ],
      "text/plain": [
       "      2                                   \n",
       "     d              d                     \n",
       "C⋅L⋅───(y(t)) + C⋅R⋅──(y(t)) + y(t) = x(t)\n",
       "      2             dt                    \n",
       "    dt                                    "
      ]
     },
     "execution_count": 5,
     "metadata": {},
     "output_type": "execute_result"
    }
   ],
   "source": [
    "ode = sym.Eq(C*R*y.diff(t) + C*L*y.diff(t, 2) +  y, x)\n",
    "ode"
   ]
  },
  {
   "cell_type": "code",
   "execution_count": null,
   "id": "8107e901",
   "metadata": {},
   "outputs": [],
   "source": []
  },
  {
   "cell_type": "code",
   "execution_count": 8,
   "id": "37ce21b1",
   "metadata": {},
   "outputs": [],
   "source": [
    "RLC = {R:1, L:1, C:1}"
   ]
  },
  {
   "cell_type": "code",
   "execution_count": 10,
   "id": "3cd0aa87",
   "metadata": {},
   "outputs": [
    {
     "data": {
      "image/png": "[encoded data removed]",
      "text/latex": [
       "$\\displaystyle \\frac{1}{\\omega^{2} + \\omega + 1}$"
      ],
      "text/plain": [
       "    1     \n",
       "──────────\n",
       " 2        \n",
       "ω  + ω + 1"
      ]
     },
     "execution_count": 10,
     "metadata": {},
     "output_type": "execute_result"
    }
   ],
   "source": [
    "Frlc = F.subs(RLC)\n",
    "Frlc"
   ]
  },
  {
   "cell_type": "code",
   "execution_count": 11,
   "id": "82111088",
   "metadata": {},
   "outputs": [
    {
     "data": {
      "image/png": "[encoded data removed]",
      "text/latex": [
       "$\\displaystyle y{\\left(t \\right)} + \\frac{d}{d t} y{\\left(t \\right)} + \\frac{d^{2}}{d t^{2}} y{\\left(t \\right)} = x{\\left(t \\right)}$"
      ],
      "text/plain": [
       "                    2             \n",
       "       d           d              \n",
       "y(t) + ──(y(t)) + ───(y(t)) = x(t)\n",
       "       dt           2             \n",
       "                  dt              "
      ]
     },
     "execution_count": 11,
     "metadata": {},
     "output_type": "execute_result"
    }
   ],
   "source": [
    "oderlc = ode.subs(RLC)\n",
    "oderlc "
   ]
  }
 ],
 "metadata": {
  "kernelspec": {
   "display_name": "Python 3",
   "language": "python",
   "name": "python3"
  },
  "language_info": {
   "codemirror_mode": {
    "name": "ipython",
    "version": 3
   },
   "file_extension": ".py",
   "mimetype": "text/x-python",
   "name": "python",
   "nbconvert_exporter": "python",
   "pygments_lexer": "ipython3",
   "version": "3.7.3"
  },
  "latex_envs": {
   "bibliofile": "biblio.bib",
   "cite_by": "apalike",
   "current_citInitial": 1,
   "eqLabelWithNumbers": true,
   "eqNumInitial": 0
  }
 },
 "nbformat": 4,
 "nbformat_minor": 5
}
