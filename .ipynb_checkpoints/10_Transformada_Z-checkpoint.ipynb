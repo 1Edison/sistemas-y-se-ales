{
 "cells": [
  {
   "cell_type": "code",
   "execution_count": 1,
   "metadata": {},
   "outputs": [],
   "source": [
    "import sympy as sym\n",
    "sym.init_printing()\n",
    "%matplotlib inline\n"
   ]
  },
  {
   "cell_type": "markdown",
   "metadata": {},
   "source": [
    "## Definición\n",
    "\n",
    "\n",
    "La [transformada $z$](https://en.wikipedia.org/wiki/Z-transform) permite representar una señal discreta $x[k]$ en el dominio de las frecuencias. La función base para la transformación es $z^{-k}$ con $z \\in \\mathbb{C}$\n",
    "\n",
    "### Transformada bilateral\n",
    "La transformada $z$ bilateral se define como\n",
    "\n",
    "\n",
    "\\begin{equation}\n",
    "X(z) = \\sum_{k = -\\infty}^{\\infty} x[k] \\, z^{-k}\n",
    "\\end{equation}\n",
    "\n",
    "donde $X(z) = \\mathcal{Z} \\{ x[k] \\}$ es la transformada Z de $x[k]$.\n",
    "\n",
    "La variable $z$ puede ser interpretada como una [frecuencia compleja](../discrete_signals/standard_signals.ipynb#Complex-Exponential-Signal) $z = e^{\\Sigma + j \\Omega}$ con $\\Sigma, \\Omega \\in \\mathbb{R}$.\n",
    "\n",
    "La existencia de $X(z) = \\mathcal{Z} \\{ x[k] \\}$ depende de la señal $x[k]$ y los valores $z$. Los valores de $z$ que hacen que la transformada $z$ converja forman la ROC (región de convergencia).\n",
    "\n",
    "### Transformada de un lado\n",
    "\n",
    "En las señales causales se cumple que $x[k] = 0$ para $k <0$, por lo cual la transformada se convierte en:\n",
    "\n",
    "\\begin{equation}\n",
    "X(z) = \\sum_{k = -\\infty}^{\\infty} x[k] \\cdot \\epsilon[k] \\, z^{-k} = \\sum_{k = 0}^{\\infty} x[k] \\, z^{-k}\n",
    "\\end{equation}\n",
    "\n",
    "\\begin{equation}\n",
    "X(z) = \\sum_{k = 0}^{\\infty} x[k] \\, z^{-k}\n",
    "\\end{equation}\n",
    "\n",
    "Así como la transformada de Laplace se usa para resolver ecuacioes diferenciales, la transforada $z$ se usa para resolver ecuaciones en diferencias."
   ]
  },
  {
   "cell_type": "markdown",
   "metadata": {},
   "source": [
    "### Señales de duración finita\n",
    "\n",
    "Dada una señal $x[k]$ de duración finita, $x[k] = 0$ para $\\{k : k < M_1 \\wedge k \\geq M_2\\}$ con $M_1 < M_2$, por lo cual\n",
    "\n",
    "\\begin{equation}\n",
    "X(z) = \\sum_{k=M_1}^{M_2 - 1} x[k] \\, z^{-k} = x[M_1] \\, z^{-M_1} + x[M_1 + 1] \\, z^{- (M_1 + 1)} + \\dots + x[M_2 - 1] \\, z^{- (M_2-1)}\n",
    "\\end{equation}\n",
    "\n",
    "La transformada $z$ de una señal de duración finita es un polinomio en $z$.\n",
    "\n",
    "- Si la señal es causal, la ROC corresponde a $z \\in \\mathbb{C} \\setminus \\{ 0 \\}$. \n",
    "\n",
    "\\begin{equation}\n",
    "X(z) = x[0] + x[1] \\, z^{-1} + \\dots + x[M_2 - 1] \\, z^{- (M_2-1)}\n",
    "\\end{equation}\n",
    "\n",
    "- Si la señal es anticausal, la ROC corresponde a $z \\in \\mathbb{C} \\setminus \\{ infty \\}$. \n",
    "\n",
    "\\begin{equation}\n",
    "X(z) = x[M_1] \\, z^{(M_1)}+ \\dots + x[-2] \\, z^{2} + x[-1] \\, z^{1} + x[0]  \n",
    "\\end{equation}\n",
    "\n",
    "- Si la señal tiene parte causal y parte anticausal, la ROC corresponde a $z \\in \\mathbb{C} \\setminus \\{ infty , 0 \\}$. \n",
    "\n",
    "\\begin{equation}\n",
    "X(z) = x[M_1] \\, z^{(M_1)} + \\dots + x[0] + \\dots + x[M_2 - 1] \\, z^{- (M_2-1)}\n",
    "\\end{equation}\n"
   ]
  },
  {
   "cell_type": "markdown",
   "metadata": {},
   "source": [
    "### Transformada del delta de Dirac\n",
    "\n",
    "\\begin{equation}\n",
    "\\mathcal{Z} \\{ \\delta[k] \\} = \\sum_{k = -\\infty}^{\\infty} \\delta[k] \\, z^{-k} = 1\n",
    "\\end{equation}\n",
    "\n",
    "para $z \\in \\mathbb{C}$. La ROC corresponde a todo el plano $z$.\n",
    "\n",
    "Como $\\mathcal{Z} \\{ \\delta[k] \\} = 1$, todas las frecuencias están presentes en la señal con igual peso.\n"
   ]
  },
  {
   "cell_type": "code",
   "execution_count": 2,
   "metadata": {},
   "outputs": [
    {
     "data": {
      "image/png": "[encoded data removed]",
      "text/latex": [
       "$\\displaystyle 1$"
      ],
      "text/plain": [
       "1"
      ]
     },
     "execution_count": 2,
     "metadata": {},
     "output_type": "execute_result"
    }
   ],
   "source": [
    "\n",
    "\n",
    "k = sym.symbols('k', integer=True)\n",
    "z = sym.symbols('z', complex=True)\n",
    "\n",
    "X = sym.summation(sym.KroneckerDelta(k, 0) * z**(-k), (k, -sym.oo, sym.oo))\n",
    "X"
   ]
  },
  {
   "cell_type": "markdown",
   "metadata": {},
   "source": [
    "### Transformada de un pulso\n",
    "\n",
    "Suponga que $x[k] = \\text{rect}_N[k]$ es una señal causal rectangular de duración $N$.\n",
    "\n",
    "\\begin{equation}\n",
    "\\mathcal{Z} \\{ \\text{rect}_N[k] \\} = \\sum_{k=0}^{N-1} z^{-k} = 1 + z^{-1} + \\dots + z^{-N + 1}\n",
    "\\end{equation}\n",
    "\n",
    "con $z \\in \\mathbb{C} \\setminus \\{ 0 \\}$.\n",
    "\n",
    "Observe que la sumatoria resultante puede reescribirse como\n",
    "\n",
    "\\begin{equation}\n",
    "\\mathcal{Z} \\{ \\text{rect}_N[k] \\} =  \\begin{cases}\n",
    "\\frac{1 - z^{-N}}{1 - z^{-1}} & \\text{for } z \\neq 1 \\\\\n",
    "N & \\text{for } z = 1\n",
    "\\end{cases}\n",
    "\\end{equation}"
   ]
  },
  {
   "cell_type": "markdown",
   "metadata": {},
   "source": [
    "### Transformada de una Exponencial Compleja y causal\n",
    "\n",
    "\n",
    "La transformada $X(z) = \\mathcal{Z} \\{ x[k] \\}$ de una señal exponencial compleja y causal\n",
    "\n",
    "\n",
    "\\begin{equation}\n",
    "x[k] = \\epsilon[k] \\cdot z_0^k\n",
    "\\end{equation}\n",
    "\n",
    "con frecuencia compleja $z_0 \\in \\mathbb{C}$ se obtiene de la expresión integral de la transfomada $z$\n",
    "\n",
    "\n",
    "\\begin{equation}\n",
    "X(z) = \\sum_{k=0}^{\\infty} z_0^k \\cdot z^{-k} = \\sum_{k=0}^{\\infty} \\left( \\frac{z_0}{z} \\right)^k = \\frac{z}{z - z_0}\n",
    "\\end{equation}\n",
    "\n",
    "Lo anterior ya que la sumatoria resultante es una [serie geométrica](https://en.wikipedia.org/wiki/Geometric_series). Esta transformada converge si $\\left| \\frac{z_0}{z} \\right| < 1$, es decir, la ROC es\n",
    "\n",
    "\\begin{equation}\n",
    "|z| > |z_0|\n",
    "\\end{equation}\n",
    "\n",
    "Así, la transformada $z$ de la señal causal exponencial compleja es:\n",
    "\n",
    "\\begin{equation}\n",
    "\\mathcal{Z} \\{ \\epsilon[k] \\cdot z_0^k \\} = \\frac{z}{z - z_0} \\qquad \\text{for } |z| > |z_0|\n",
    "\\end{equation}\n"
   ]
  },
  {
   "cell_type": "code",
   "execution_count": 3,
   "metadata": {},
   "outputs": [
    {
     "data": {
      "text/latex": [
       "$\\displaystyle \\begin{cases} \\frac{1}{1 - \\frac{z_{0}}{z}} & \\text{for}\\: \\left|{\\frac{z_{0}}{z}}\\right| < 1 \\\\\\sum_{k=0}^{\\infty} z^{- k} z_{0}^{k} & \\text{otherwise} \\end{cases}$"
      ],
      "text/plain": [
       "⎧     1             │z₀│    \n",
       "⎪   ──────      for │──│ < 1\n",
       "⎪       z₀          │z │    \n",
       "⎪   1 - ──                  \n",
       "⎪       z                   \n",
       "⎪                           \n",
       "⎪  ∞                        \n",
       "⎨ ___                       \n",
       "⎪ ╲                         \n",
       "⎪  ╲    -k   k              \n",
       "⎪  ╱   z  ⋅z₀    otherwise  \n",
       "⎪ ╱                         \n",
       "⎪ ‾‾‾                       \n",
       "⎪k = 0                      \n",
       "⎩                           "
      ]
     },
     "execution_count": 3,
     "metadata": {},
     "output_type": "execute_result"
    }
   ],
   "source": [
    "z0 = sym.symbols('z0')\n",
    "\n",
    "X = sym.summation(z0**k * z**(-k), (k, 0, sym.oo))\n",
    "X"
   ]
  },
  {
   "cell_type": "code",
   "execution_count": 4,
   "metadata": {},
   "outputs": [
    {
     "data": {
      "image/png": "[encoded data removed]",
      "text/latex": [
       "$\\displaystyle \\frac{0.5 \\left(-1 + i\\right)}{- 0.5 s \\left(1 - i\\right) - 1}$"
      ],
      "text/plain": [
       "   0.5⋅(-1 + ⅈ)   \n",
       "──────────────────\n",
       "-0.5⋅s⋅(1 - ⅈ) - 1"
      ]
     },
     "execution_count": 4,
     "metadata": {},
     "output_type": "execute_result"
    }
   ],
   "source": [
    "X"
   ]
  },
  {
   "cell_type": "markdown",
   "metadata": {},
   "source": [
    "## Convergence\n",
    "\n",
    "The definition of the $z$-transform constitutes an infinite series. A sufficient but not necessary condition for the convergence of an infinite series is that its elements are absolutely summable. Applying this to the definition of the two-sided $z$-transform $X(z) = \\mathcal{Z} \\{ [k] \\}$ of a given signal $x[k]$ yields\n",
    "\n",
    "\\begin{equation}\n",
    "\\sum_{k = -\\infty}^{\\infty} | x[k] \\cdot z^{- k} | = \\sum_{k = -\\infty}^{\\infty} | x[k] | \\cdot | z |^{- k}  < \\infty\n",
    "\\end{equation}\n",
    "\n",
    "It can be concluded from this result that the ROC is determined solely by the magnitude $|z|$ of the complex frequency. It follows further that the ROC is given as a ring in the $z$-plane which may include $z=0$ and/or $z=\\infty$. The phase $\\Omega$ of the complex frequency $z$ has no effect in terms of convergence, as $z = e^{\\Sigma} \\cdot e^{j \\Omega}$.\n",
    "\n",
    "For a right-sided signal of infinite length with $x[k] = 0$ for $k < M$, the ROC is given in the form of $|z| > a$ with $a \\in \\mathbb{R}^+$. This can be concluded from the decay of the term $| z |^{- k}$ for $k \\to \\infty$, which ensures convergence for a given $a$. However this holds only for signals $x[k]$ with [exponential growth](https://en.wikipedia.org/wiki/Exponential_growth). Please refer to the $z$-transform of the causal exponential signal derived above. \n",
    "\n",
    "The same reasoning leads to the ROCs of a left-sided and two-sided signal. The resulting ROCs are illustrated in the following\n",
    "\n",
    "![Region of convergence for left-/two-/right-sided signals](ROC.png)\n",
    "\n",
    "The gray areas denote the values $z$ for which the $z$-transform converges. The borders $a$ of these areas (dashed lines) depend on the signal $x[k]$. In case that the $z$-transform $X(z)$ is given in terms of a rational function in $z$, the ROC has to be chosen such that it does not include zeros of the denominator polynomial. A more detailed discussion of the ROCs for the $z$-transform can be found in the literature, e.g. [[Girod et al.](index.ipynb#Literature)]."
   ]
  }
 ],
 "metadata": {
  "kernelspec": {
   "display_name": "Python 3",
   "language": "python",
   "name": "python3"
  },
  "language_info": {
   "codemirror_mode": {
    "name": "ipython",
    "version": 3
   },
   "file_extension": ".py",
   "mimetype": "text/x-python",
   "name": "python",
   "nbconvert_exporter": "python",
   "pygments_lexer": "ipython3",
   "version": "3.7.8"
  },
  "latex_envs": {
   "bibliofile": "biblio.bib",
   "cite_by": "apalike",
   "current_citInitial": 1,
   "eqLabelWithNumbers": true,
   "eqNumInitial": 0
  }
 },
 "nbformat": 4,
 "nbformat_minor": 4
}
