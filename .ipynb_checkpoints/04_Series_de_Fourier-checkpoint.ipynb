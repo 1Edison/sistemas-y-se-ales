{
 "cells": [
  {
   "cell_type": "code",
   "execution_count": 1,
   "metadata": {},
   "outputs": [
    {
     "data": {
      "text/plain": [
       "'1.4'"
      ]
     },
     "execution_count": 1,
     "metadata": {},
     "output_type": "execute_result"
    }
   ],
   "source": [
    "# !pip install pandas\n",
    "import sympy as sym\n",
    "import numpy as np\n",
    "import pandas as pd\n",
    "import matplotlib.pyplot as plt\n",
    "\n",
    "%matplotlib notebook\n",
    "\n",
    "sym.init_printing()\n",
    "sym.__version__\n"
   ]
  },
  {
   "cell_type": "markdown",
   "metadata": {},
   "source": [
    "## Correlación\n",
    "\n",
    "\n",
    "La correlación entre las señales $f(t)$ y $g(t)$ es una operación que indica cuán parecidas son las dos señales entre sí.\n",
    "\n",
    "\\begin{equation}\n",
    "(f \\; \\circ \\; g)(\\tau) = h(\\tau) = \\int_{-\\infty}^{\\infty} f(t) \\cdot g(t + \\tau) \\; dt\n",
    "\\end{equation}\n",
    "\n",
    "Observe que la correlación y la convolución tienen estructura similares.\n",
    "\n",
    "\\begin{equation}\n",
    "f(t) * g(t) = \\int_{-\\infty}^{\\infty} f(\\tau) \\cdot g(t - \\tau) \\; d\\tau\n",
    "\\end{equation}"
   ]
  },
  {
   "cell_type": "markdown",
   "metadata": {},
   "source": [
    "## Señales periódicas\n",
    "\n",
    "La señal $y(t)$ es periódica si cumple con la condición $y(t+nT)=y(t)$ para todo $n$ entero. En este caso, $T$ es el periodo de la señal.\n",
    " \n",
    "![SENO](figuras/grafica_seno.PNG)\n",
    "\n",
    "La señal seno es la oscilación más pura que se puede expresar matemáticamente. Esta señal surge al considerar la proyección de un movimiento circular uniforme.\n",
    "\n"
   ]
  },
  {
   "cell_type": "markdown",
   "metadata": {},
   "source": [
    "## Serie de Fourier\n",
    "\n",
    "\n",
    "Si se combinan apropiadamente un conjunto de oscilaciones puras, como combinaciones lineales de señales desplazadas y escaladas en tiempo y amplitud, podría recrearse cualquiér señal periódica. Esta idea da lugar a las series de Fourier.\n",
    "\n",
    "\\begin{equation}\n",
    "y(t) = \\sum_{n=0}^{\\infty} C_n \\cdot cos(n \\omega_0 t - \\phi_n)\n",
    "\\end{equation}\n",
    "\n",
    "La señal $y(t)$ es igual a una combinación de infinitas señales coseno, cada una con una amplitud $C_n$, una frecuencia $n \\omega_0$ y un desfase $\\phi_n$.\n"
   ]
  },
  {
   "cell_type": "markdown",
   "metadata": {},
   "source": [
    "También puede expresarse como:\n",
    "\n",
    "\\begin{equation}\n",
    "y(t) = \\sum_{n=0}^{\\infty} A_n \\cdot cos(n \\omega_0 t) + B_n \\cdot sin(n \\omega_0 t)  \n",
    "\\end{equation}\n",
    "\n",
    "La serie queda definida si se encuentran los valores apropiados de $A_n$ y $B_n$ para todos los valores de $n$.\n",
    "\n",
    "Observe que:\n",
    "- $A_n$ debe ser más grande si $y(t)$ se \"parece\" más a un cos.\n",
    "- $B_n$ debe ser más grande si $y(t)$ se \"parece\" más a un sin."
   ]
  },
  {
   "cell_type": "markdown",
   "metadata": {},
   "source": [
    "\\begin{equation}\n",
    "y(t) = \\sum_{n=0}^{\\infty} A_n \\cdot cos(n \\omega_0 t) + B_n \\cdot sin(n \\omega_0 t)  \n",
    "\\end{equation}\n",
    "\n",
    "\\begin{equation}\n",
    "(f \\; \\circ \\; g)(\\tau) = \\int_{-\\infty}^{\\infty} f(t) \\cdot g(t + \\tau) \\; dt\n",
    "\\end{equation}\n",
    "\n",
    "\\begin{equation}\n",
    "(y \\; \\circ \\; sin_n)(\\tau) = \\int_{-\\infty}^{\\infty} y(t) \\cdot sin(n \\omega_0(t + \\tau)) \\; dt\n",
    "\\end{equation}\n",
    "\n"
   ]
  },
  {
   "cell_type": "markdown",
   "metadata": {},
   "source": [
    "Considerando:\n",
    "- $\\tau=0$ para no incluir desfases.\n",
    "- la señal $y(t)$ es periódica con periodo $T$.\n",
    "\n",
    "\\begin{equation}\n",
    "(y \\; \\circ \\; sin_n)(0) = \\frac{1}{T} \\int_{0}^{T} y(t) \\cdot sin(n \\omega_0 t) \\; dt\n",
    "\\end{equation}\n",
    "\n",
    "Esta expresión puede interpretarse como el parecido de una señal $y(t)$ a la señal $sin$ con crecuencia $n \\omega_0$ promediado a lo largo de un periodo sin desfase del seno."
   ]
  },
  {
   "cell_type": "markdown",
   "metadata": {},
   "source": [
    "Retomando la idea inicial\n",
    "\n",
    "\\begin{equation}\n",
    "y(t) = \\sum_{n=0}^{\\infty} A_n \\cdot cos(n \\omega_0 t) + B_n \\cdot sin(n \\omega_0 t)  \n",
    "\\end{equation}\n",
    "\n",
    "donde\n",
    "\\begin{equation}\n",
    "A_n = \\frac{1}{T} \\int_{0}^{T} y(t) \\cdot cos(n \\omega_0 t) \\; dt\n",
    "\\end{equation}\n",
    "\n",
    "\\begin{equation}\n",
    "B_n = \\frac{1}{T} \\int_{0}^{T} y(t) \\cdot sin(n \\omega_0 t) \\; dt\n",
    "\\end{equation}"
   ]
  },
  {
   "cell_type": "markdown",
   "metadata": {},
   "source": [
    "Se recomienda al estudiante que encuentre la relación entre las Series anteriores y la siguiente alternativa para representar la Series de Fourier.\n",
    "\n",
    "\\begin{equation}\n",
    "y(t) = \\sum_{n=-\\infty}^{\\infty} C_n \\cdot e^{j n \\omega_0 t}\n",
    "\\end{equation}\n",
    "\n",
    "donde \n",
    "\n",
    "\\begin{equation}\n",
    "C_n = \\frac{1}{T} \\int_{0}^{T} y(t) \\cdot e^{-j n \\omega_0 t} \\; dt\n",
    "\\end{equation}"
   ]
  },
  {
   "cell_type": "markdown",
   "metadata": {},
   "source": [
    "Los valores $C_n$ son el espectro de la señal periódica $y(t)$ y son una representación en el dominio de la frecuencia."
   ]
  },
  {
   "cell_type": "markdown",
   "metadata": {},
   "source": [
    "**Ejemplo # 1**\n",
    "\n",
    "La señal $y(t) = sin(2 \\pi t)$ es en sí misma una oscilación pura de periodo $T=1$. "
   ]
  },
  {
   "cell_type": "code",
   "execution_count": 2,
   "metadata": {},
   "outputs": [
    {
     "data": {
      "image/png": "[encoded data removed]",
      "text/latex": [
       "$\\displaystyle \\sin{\\left(2 \\pi t \\right)}$"
      ],
      "text/plain": [
       "sin(2⋅π⋅t)"
      ]
     },
     "execution_count": 2,
     "metadata": {},
     "output_type": "execute_result"
    }
   ],
   "source": [
    "# Se define y como el seno de t\n",
    "t = sym.symbols('t', real=True)\n",
    "#T = sym.symbols('T', real=True)\n",
    "T = 1\n",
    "nw = sym.symbols('n', real=True)\n",
    "delta = sym.DiracDelta(nw)\n",
    "w0 = 2 * sym.pi / T\n",
    "\n",
    "# y = t**2\n",
    "# y = 4*sym.sin(w0*t + 0.5) - 10\n",
    "y = sym.sin(w0*t)\n",
    "# y = (t-0.5)*(t-0.5)\n",
    "y\n"
   ]
  },
  {
   "cell_type": "markdown",
   "metadata": {},
   "source": [
    "Aunque la sumatoria de las series de Fourier incluye infinitos términos, solamente se tomaran las primeras 3 componentes."
   ]
  },
  {
   "cell_type": "code",
   "execution_count": 3,
   "metadata": {},
   "outputs": [
    {
     "data": {
      "text/html": [
       "<div>\n",
       "<style scoped>\n",
       "    .dataframe tbody tr th:only-of-type {\n",
       "        vertical-align: middle;\n",
       "    }\n",
       "\n",
       "    .dataframe tbody tr th {\n",
       "        vertical-align: top;\n",
       "    }\n",
       "\n",
       "    .dataframe thead th {\n",
       "        text-align: right;\n",
       "    }\n",
       "</style>\n",
       "<table border=\"1\" class=\"dataframe\">\n",
       "  <thead>\n",
       "    <tr style=\"text-align: right;\">\n",
       "      <th></th>\n",
       "      <th>C</th>\n",
       "      <th>C_real</th>\n",
       "      <th>C_imag</th>\n",
       "      <th>C_Abs</th>\n",
       "      <th>C_Arg</th>\n",
       "    </tr>\n",
       "  </thead>\n",
       "  <tbody>\n",
       "    <tr>\n",
       "      <th>-3</th>\n",
       "      <td>-1.15412232722322e-128 + 1.87889153567358e-133*I</td>\n",
       "      <td>-0.0</td>\n",
       "      <td>0.0</td>\n",
       "      <td>0.0</td>\n",
       "      <td>3.141576</td>\n",
       "    </tr>\n",
       "    <tr>\n",
       "      <th>-2</th>\n",
       "      <td>9.23297861778574e-128 - 6.04390099471001e-132*I</td>\n",
       "      <td>0.0</td>\n",
       "      <td>-0.0</td>\n",
       "      <td>0.0</td>\n",
       "      <td>-0.000065</td>\n",
       "    </tr>\n",
       "    <tr>\n",
       "      <th>-1</th>\n",
       "      <td>2.11259981339749e-23 + 0.5*I</td>\n",
       "      <td>0.0</td>\n",
       "      <td>0.5</td>\n",
       "      <td>0.5</td>\n",
       "      <td>1.570796</td>\n",
       "    </tr>\n",
       "    <tr>\n",
       "      <th>0</th>\n",
       "      <td>0</td>\n",
       "      <td>0.0</td>\n",
       "      <td>0.0</td>\n",
       "      <td>0.0</td>\n",
       "      <td>NaN</td>\n",
       "    </tr>\n",
       "    <tr>\n",
       "      <th>1</th>\n",
       "      <td>2.11259981339749e-23 - 0.5*I</td>\n",
       "      <td>0.0</td>\n",
       "      <td>-0.5</td>\n",
       "      <td>0.5</td>\n",
       "      <td>-1.570796</td>\n",
       "    </tr>\n",
       "    <tr>\n",
       "      <th>2</th>\n",
       "      <td>9.23297861778574e-128 + 6.04390099471001e-132*I</td>\n",
       "      <td>0.0</td>\n",
       "      <td>0.0</td>\n",
       "      <td>0.0</td>\n",
       "      <td>0.000065</td>\n",
       "    </tr>\n",
       "    <tr>\n",
       "      <th>3</th>\n",
       "      <td>-1.15412232722322e-128 - 1.87889153567358e-133*I</td>\n",
       "      <td>-0.0</td>\n",
       "      <td>-0.0</td>\n",
       "      <td>0.0</td>\n",
       "      <td>-3.141576</td>\n",
       "    </tr>\n",
       "  </tbody>\n",
       "</table>\n",
       "</div>"
      ],
      "text/plain": [
       "                                                   C C_real C_imag C_Abs  \\\n",
       "-3  -1.15412232722322e-128 + 1.87889153567358e-133*I   -0.0    0.0   0.0   \n",
       "-2   9.23297861778574e-128 - 6.04390099471001e-132*I    0.0   -0.0   0.0   \n",
       "-1                      2.11259981339749e-23 + 0.5*I    0.0    0.5   0.5   \n",
       "0                                                  0    0.0    0.0   0.0   \n",
       "1                       2.11259981339749e-23 - 0.5*I    0.0   -0.5   0.5   \n",
       "2    9.23297861778574e-128 + 6.04390099471001e-132*I    0.0    0.0   0.0   \n",
       "3   -1.15412232722322e-128 - 1.87889153567358e-133*I   -0.0   -0.0   0.0   \n",
       "\n",
       "       C_Arg  \n",
       "-3  3.141576  \n",
       "-2 -0.000065  \n",
       "-1  1.570796  \n",
       "0        NaN  \n",
       "1  -1.570796  \n",
       "2   0.000065  \n",
       "3  -3.141576  "
      ]
     },
     "execution_count": 3,
     "metadata": {},
     "output_type": "execute_result"
    }
   ],
   "source": [
    "n_max = 3\n",
    "\n",
    "y_ser = 0\n",
    "C = 0\n",
    "ns = range(-n_max,n_max+1)\n",
    "espectro = pd.DataFrame(index = ns,\n",
    "                        columns= ['C','C_real','C_imag','C_Abs','C_Arg'])\n",
    "\n",
    "for n in espectro.index:\n",
    "    C_n = (1/T)*sym.integrate(y*sym.exp(-1j*n*w0*t), (t,0,T)).evalf()\n",
    "    y_ser = y_ser + C_n*sym.exp(1j*n*w0*t)\n",
    "    espectro['C'][n]=C_n\n",
    "    C_r = float(sym.re(C_n))\n",
    "    C_i = float(sym.im(C_n))\n",
    "    C_Abs = float(sym.Abs(C_n))\n",
    "    C_Arg = float(sym.arg(C_n))\n",
    "    espectro['C_real'][n] = C_r\n",
    "    espectro['C_imag'][n] = C_i\n",
    "    espectro['C_Abs'][n] = C_Abs\n",
    "    espectro['C_Arg'][n] = C_Arg\n",
    "espectro"
   ]
  },
  {
   "cell_type": "markdown",
   "metadata": {},
   "source": [
    "La señal reconstruida con un **n_max** componentes"
   ]
  },
  {
   "cell_type": "code",
   "execution_count": 4,
   "metadata": {},
   "outputs": [
    {
     "data": {
      "image/png": "[encoded data removed]",
      "text/latex": [
       "$\\displaystyle \\left(2.11259981339749 \\cdot 10^{-23} - 0.5 i\\right) e^{2.0 i \\pi t} + \\left(9.23297861778574 \\cdot 10^{-128} + 6.04390099471001 \\cdot 10^{-132} i\\right) e^{4.0 i \\pi t} + \\left(-1.15412232722322 \\cdot 10^{-128} - 1.87889153567358 \\cdot 10^{-133} i\\right) e^{6.0 i \\pi t} + \\left(-1.15412232722322 \\cdot 10^{-128} + 1.87889153567358 \\cdot 10^{-133} i\\right) e^{- 6.0 i \\pi t} + \\left(9.23297861778574 \\cdot 10^{-128} - 6.04390099471001 \\cdot 10^{-132} i\\right) e^{- 4.0 i \\pi t} + \\left(2.11259981339749 \\cdot 10^{-23} + 0.5 i\\right) e^{- 2.0 i \\pi t}$"
      ],
      "text/plain": [
       "                                2.0⋅ⅈ⋅π⋅t                                     \n",
       "(2.11259981339749e-23 - 0.5⋅ⅈ)⋅ℯ          + (9.23297861778574e-128 + 6.0439009\n",
       "\n",
       "                 4.0⋅ⅈ⋅π⋅t                                                    \n",
       "9471001e-132⋅ⅈ)⋅ℯ          + (-1.15412232722322e-128 - 1.87889153567358e-133⋅ⅈ\n",
       "\n",
       "   6.0⋅ⅈ⋅π⋅t                                                       -6.0⋅ⅈ⋅π⋅t \n",
       ")⋅ℯ          + (-1.15412232722322e-128 + 1.87889153567358e-133⋅ⅈ)⋅ℯ           \n",
       "\n",
       "                                                     -4.0⋅ⅈ⋅π⋅t               \n",
       "+ (9.23297861778574e-128 - 6.04390099471001e-132⋅ⅈ)⋅ℯ           + (2.112599813\n",
       "\n",
       "                    -2.0⋅ⅈ⋅π⋅t\n",
       "39749e-23 + 0.5⋅ⅈ)⋅ℯ          "
      ]
     },
     "execution_count": 4,
     "metadata": {},
     "output_type": "execute_result"
    }
   ],
   "source": [
    "y_ser"
   ]
  },
  {
   "cell_type": "code",
   "execution_count": 5,
   "metadata": {},
   "outputs": [
    {
     "data": {
      "image/png": "[encoded data removed]",
      "text/plain": [
       "<Figure size 504x144 with 1 Axes>"
      ]
     },
     "metadata": {
      "needs_background": "light"
     },
     "output_type": "display_data"
    }
   ],
   "source": [
    "plt.rcParams['figure.figsize'] = 7, 2\n",
    "#g1 = sym.plot(y, (t,0,1), ylabel=r'Amp',show=False,line_color='blue',legend=True, label = 'y(t) original')\n",
    "#g2 = sym.plot(sym.re(y_ser), (t,-1,2), ylabel=r'Amp',show=False,line_color='red',legend=True, label = 'y(t) reconstruida')\n",
    "g1 = sym.plot(y, (t,0,1), ylabel=r'Amp',show=False,line_color='blue')\n",
    "g2 = sym.plot(sym.re(y_ser), (t,-1,2), ylabel=r'Amp',show=False,line_color='red')\n",
    "\n",
    "g1.extend(g2)\n",
    "g1.show()"
   ]
  },
  {
   "cell_type": "code",
   "execution_count": 6,
   "metadata": {},
   "outputs": [
    {
     "data": {
      "image/png": "[encoded data removed]",
      "text/latex": [
       "$\\displaystyle 0$"
      ],
      "text/plain": [
       "0"
      ]
     },
     "execution_count": 6,
     "metadata": {},
     "output_type": "execute_result"
    }
   ],
   "source": [
    "C"
   ]
  },
  {
   "cell_type": "code",
   "execution_count": 8,
   "metadata": {},
   "outputs": [
    {
     "name": "stderr",
     "output_type": "stream",
     "text": [
      "C:\\Users\\Usuario\\.conda\\envs\\SistDin\\lib\\site-packages\\ipykernel_launcher.py:2: UserWarning: In Matplotlib 3.3 individual lines on a stem plot will be added as a LineCollection instead of individual lines. This significantly improves the performance of a stem plot. To remove this warning and switch to the new behaviour, set the \"use_line_collection\" keyword argument to True.\n",
      "  \n"
     ]
    },
    {
     "data": {
      "text/plain": [
       "<StemContainer object of 3 artists>"
      ]
     },
     "execution_count": 8,
     "metadata": {},
     "output_type": "execute_result"
    },
    {
     "data": {
      "image/png": "[encoded data removed]",
      "text/plain": [
       "<Figure size 504x288 with 1 Axes>"
      ]
     },
     "metadata": {
      "needs_background": "light"
     },
     "output_type": "display_data"
    }
   ],
   "source": [
    "plt.rcParams['figure.figsize'] = 7, 4\n",
    "plt.stem(espectro.index,espectro['C_Abs'])\n"
   ]
  },
  {
   "cell_type": "markdown",
   "metadata": {},
   "source": [
    "**Ejercicio**\n",
    "\n",
    "Use las siguientes funciones para definir un periodo de una señal periódica con periodo $T=1$:\n",
    "\n",
    "\\begin{equation}\n",
    "y_1(t) = \\begin{cases}\n",
    "-1 &  0 \\leq t < 0.5 \\\\\n",
    "1 &  0.5 \\leq t < 1 \n",
    "\\end{cases}\n",
    "\\end{equation}\n",
    "\n",
    "\n",
    "\\begin{equation}\n",
    "y_2(t) = t\n",
    "\\end{equation}\n",
    "\n",
    "\\begin{equation}\n",
    "y_3(t) = 3 sin(2 \\pi t)\n",
    "\\end{equation}\n",
    "\n",
    "Varíe la cantidad de componentes que reconstruyen cada función y analice la reconstrucción obtenida y los valores de $C_n$"
   ]
  },
  {
   "cell_type": "code",
   "execution_count": null,
   "metadata": {},
   "outputs": [],
   "source": []
  },
  {
   "cell_type": "code",
   "execution_count": null,
   "metadata": {},
   "outputs": [],
   "source": []
  }
 ],
 "metadata": {
  "kernelspec": {
   "display_name": "Python 3",
   "language": "python",
   "name": "python3"
  },
  "language_info": {
   "codemirror_mode": {
    "name": "ipython",
    "version": 3
   },
   "file_extension": ".py",
   "mimetype": "text/x-python",
   "name": "python",
   "nbconvert_exporter": "python",
   "pygments_lexer": "ipython3",
   "version": "3.7.3"
  },
  "latex_envs": {
   "bibliofile": "biblio.bib",
   "cite_by": "apalike",
   "current_citInitial": 1,
   "eqLabelWithNumbers": true,
   "eqNumInitial": 0
  },
  "varInspector": {
   "cols": {
    "lenName": 16,
    "lenType": 16,
    "lenVar": 40
   },
   "kernels_config": {
    "python": {
     "delete_cmd_postfix": "",
     "delete_cmd_prefix": "del ",
     "library": "var_list.py",
     "varRefreshCmd": "print(var_dic_list())"
    },
    "r": {
     "delete_cmd_postfix": ") ",
     "delete_cmd_prefix": "rm(",
     "library": "var_list.r",
     "varRefreshCmd": "cat(var_dic_list()) "
    }
   },
   "types_to_exclude": [
    "module",
    "function",
    "builtin_function_or_method",
    "instance",
    "_Feature"
   ],
   "window_display": false
  }
 },
 "nbformat": 4,
 "nbformat_minor": 4
}
