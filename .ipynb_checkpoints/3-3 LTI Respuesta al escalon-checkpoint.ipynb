{
 "cells": [
  {
   "cell_type": "markdown",
   "metadata": {},
   "source": [
    "# Caracterización de Sistemas en el Dominio del Tiempo\n",
    "\n",
    "*This Jupyter notebook is part of a [collection of notebooks](../index.ipynb) in the bachelors module Signals and Systems, Communications Engineering, Universität Rostock. Please direct questions and suggestions to [Sascha.Spors@uni-rostock.de](mailto:Sascha.Spors@uni-rostock.de).*"
   ]
  },
  {
   "cell_type": "markdown",
   "metadata": {},
   "source": [
    "## Respuesta al escalón\n",
    "\n",
    "La respuesta de un sistema LTI ante una señal escalón $\\epsilon(t)$ en la entrada se conoce como [*respuesta al escalón*](https://en.wikipedia.org/wiki/Step_response). It is defined as\n",
    "\n",
    "\\begin{equation}\n",
    "h_\\epsilon(t) = \\mathcal{H} \\{ \\epsilon(t) \\}\n",
    "\\end{equation}\n",
    "\n",
    "Puede entenderse la señal escalón en la entrada como el encendido de un sistema en el instante $t=0$. Se relaciona con la respuesta al impulso mediante:\n",
    "\n",
    "\\begin{equation}\n",
    "h_\\epsilon(t) = \\epsilon(t) * h(t) = \\int_{-\\infty}^{t} h(\\tau) \\; d\\tau\n",
    "\\end{equation}\n",
    "\n",
    "Pues debe tenerse en cuenta que:\n",
    "\n",
    "\\begin{equation}\n",
    "\\epsilon(t) = \\int_{-\\infty}^{t} \\delta(\\tau) d\\tau\n",
    "\\end{equation}\n",
    "\n",
    "La expresión que muestra la respuesta al escalón es equivalente a:\n",
    "\n",
    "\n",
    "\\begin{equation}\n",
    "h(t) = \\frac{d h_\\epsilon(t)}{dt}\n",
    "\\end{equation}\n",
    "\n",
    "Así, la respuesta de un sistema LTI $y(t) = \\mathcal{H} \\{ x(t) \\}$  ante cualquier señal de entrada $x(t)$ puede encontrarse a partir de la respuesta al escalón como:\n",
    "\n",
    "\\begin{equation}\n",
    "y(t) = x(t) * \\frac{d h_\\epsilon(t)}{dt} = \\frac{d x(t)}{dt} * h_\\epsilon(t)\n",
    "\\end{equation}\n",
    "\n",
    "Observe que la señal de entrada del sistema LTI está determinado por la covolución de la derivada de la señal de entrada con la respuesta al escalón.\n",
    "\n",
    "La respuesta al escalón es una alternativa apropiada a la caracterización de sistemas LTI pues el impulso de Dirac no puede obtenerse en la práctica."
   ]
  },
  {
   "cell_type": "code",
   "execution_count": null,
   "metadata": {},
   "outputs": [],
   "source": []
  }
 ],
 "metadata": {
  "kernelspec": {
   "display_name": "Python 3",
   "language": "python",
   "name": "python3"
  },
  "language_info": {
   "codemirror_mode": {
    "name": "ipython",
    "version": 3
   },
   "file_extension": ".py",
   "mimetype": "text/x-python",
   "name": "python",
   "nbconvert_exporter": "python",
   "pygments_lexer": "ipython3",
   "version": "3.7.8"
  },
  "latex_envs": {
   "bibliofile": "biblio.bib",
   "cite_by": "apalike",
   "current_citInitial": 1,
   "eqLabelWithNumbers": true,
   "eqNumInitial": 0
  }
 },
 "nbformat": 4,
 "nbformat_minor": 4
}
