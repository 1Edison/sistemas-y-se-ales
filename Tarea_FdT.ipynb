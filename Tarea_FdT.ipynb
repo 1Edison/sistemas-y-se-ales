{
 "cells": [
  {
   "cell_type": "code",
   "execution_count": 1,
   "metadata": {},
   "outputs": [],
   "source": [
    "# Aquí van las librerías y funciones que va a usar\n",
    "\n",
    "\n",
    "%matplotlib inline\n",
    "import matplotlib.pyplot as plt\n",
    "import sympy as sym\n",
    "from sympy import oo\n",
    "sym.init_printing()\n",
    "\n",
    "## Puede que requiera incorporar más librerías o definir nuevas funciones.  Hágalo a continuación\n"
   ]
  },
  {
   "cell_type": "markdown",
   "metadata": {},
   "source": [
    "## Tarea\n",
    "\n",
    "Nombres: **Ponga aquí sus nombres completos separados por coma**"
   ]
  },
  {
   "cell_type": "markdown",
   "metadata": {},
   "source": [
    "Suponga que tiene un sistema de tiempo continuo que se excita con una entrada $x(t)$ y responde con una señal $y(t)$, como lo muestra la figura:\n",
    "\n",
    "![Diagrama de un bloque](figuras/bloque.png)\n",
    "\n",
    "Analice el comportamiento del sistema para los modelos de cada uno de los casos siguientes:"
   ]
  },
  {
   "cell_type": "markdown",
   "metadata": {},
   "source": [
    "|Caso  |       Ecuación                                                                         |\n",
    "|------|----------------------------------------------------------------------------------------|\n",
    "| A    | \\begin{equation} \\frac{dy}{dt} + 2y(t) = 1x(t) \\end{equation}                          |\n",
    "| B    | \\begin{equation} \\frac{dy}{dt} + 2y(t) = 2x(t) \\end{equation}                          |\n",
    "| C    | \\begin{equation} \\frac{dy}{dt} + 2y(t) = 4x(t) \\end{equation}                          |\n",
    "| D    | \\begin{equation} \\frac{dy}{dt} + 1y(t) = 2x(t) \\end{equation}                          |\n",
    "| E    | \\begin{equation} \\frac{dy}{dt} + 0.5y(t) = 2x(t) \\end{equation}                        |\n",
    "| F    | \\begin{equation} \\frac{dy}{dt} + 4y(t) = 2x(t) \\end{equation}                          |\n",
    "| G    | \\begin{equation} \\frac{dy}{dt} - 2y(t) = 1x(t) \\end{equation}                          |\n",
    "| H    | \\begin{equation} \\frac{dy}{dt} - 2y(t) = 2x(t) \\end{equation}                          |\n",
    "| I    | \\begin{equation} \\frac{dy}{dt} - 2y(t) = 4x(t) \\end{equation}                          |\n",
    "| J    | \\begin{equation} \\frac{dy}{dt} - 1y(t) = 2x(t) \\end{equation}                          |\n",
    "| K    | \\begin{equation} \\frac{dy}{dt} - 0.5y(t) = 2x(t) \\end{equation}                        |\n",
    "| L    | \\begin{equation} \\frac{dy}{dt} - 4y(t) = 2x(t) \\end{equation}                          |\n",
    "| M    | \\begin{equation} \\frac{d^{2}y}{dt^{2}} + 4\\frac{dy}{dt} + 9y(t) = 6x(t) \\end{equation} |\n",
    "| N    | \\begin{equation} \\frac{d^{2}y}{dt^{2}} + 6\\frac{dy}{dt} + 9y(t) = 6x(t) \\end{equation} |\n",
    "| O    | \\begin{equation} \\frac{d^{2}y}{dt^{2}} + 9\\frac{dy}{dt} + 9y(t) = 6x(t) \\end{equation} |\n",
    "| P    | \\begin{equation} \\frac{d^{2}y}{dt^{2}} + 12\\frac{dy}{dt} + 9y(t) = 6x(t) \\end{equation}|\n",
    "| Q    | \\begin{equation} \\frac{d^{2}y}{dt^{2}} + 9y(t) = 6x(t) \\end{equation}                  |\n",
    "| R    | \\begin{equation} \\frac{dy}{dt} = 6x(t) \\end{equation}                                  |\n",
    "| S    | \\begin{equation} \\frac{dy}{dt} + 2y(t) = 2\\frac{dx}{dt} \\end{equation}                 |\n",
    "| T    | \\begin{equation} \\frac{d^{2}y}{dt^{2}} + 12\\frac{dy}{dt} + 9y(t) = 6\\frac{dx}{dt} \\end{equation}|\n",
    "| U    | \\begin{equation} \\frac{d^{2}y}{dt^{2}} + 12\\frac{dy}{dt} + 9y(t) = 6\\frac{d^{2}x}{dt^{2}} \\end{equation}|\n"
   ]
  },
  {
   "cell_type": "markdown",
   "metadata": {},
   "source": [
    "### Análisis\n",
    "\n",
    "- De qué orden es el sistema?\n",
    "\n",
    "- Lleve la ecuación diferencial al dominio de las frecuencias usando la transformada de Fourier.\n",
    "\\begin{equation}\n",
    "EscribaAquíLaEcuaciónTransformada\n",
    "\\end{equation}\n",
    "\n",
    "- Encuentre la función de transferencia del sistema en dominio de Fourier.\n",
    "\\begin{equation}\n",
    "F_A(s) = EscribaAquíLaFunciónDeTransferencia\n",
    "\\end{equation}\n",
    "\n",
    "- Grafique y analice la respuesta frecuencial del sistema.\n",
    "\n",
    "- Lleve la ecuación diferencial al dominio de las frecuencias usando la transformada de Laplace.\n",
    "\\begin{equation}\n",
    "EscribaAquíLaEcuaciónTransformada\n",
    "\\end{equation}\n",
    "\n",
    "- Encuentre la función de transferencia del sistema en dominio de Laplace.\n",
    "\\begin{equation}\n",
    "F_A(s) = EscribaAquíLaFunciónDeTransferencia\n",
    "\\end{equation}\n",
    "\n",
    "- Grafique y analie el mapa de polos y ceros.\n",
    "\n",
    "- Grafique y analice la respuesta al escalón (relacione con el mapa de polos y ceros)."
   ]
  },
  {
   "cell_type": "code",
   "execution_count": 2,
   "metadata": {},
   "outputs": [],
   "source": [
    "## Aquí va el código para generar la gráfica pedida. Ejecute el código para generar la gráfica."
   ]
  },
  {
   "cell_type": "markdown",
   "metadata": {},
   "source": [
    "- Analice las gráfica obtenidas, escriba su análisis y determine la estabilidad del sistema y el tipo de amortiguamiento.\n",
    "    - Escriba aquí su discusión.\n",
    "    - Puede usar viñetas o párrafos.\n",
    "    - Conserve las sangrías para facilitar la lectura."
   ]
  },
  {
   "cell_type": "code",
   "execution_count": 3,
   "metadata": {},
   "outputs": [],
   "source": [
    "## Aquí va el código extra que puede requerir para responder a las preguntas."
   ]
  },
  {
   "cell_type": "markdown",
   "metadata": {},
   "source": [
    "Suponga que algunos de los sistemas modelados se interconectan entre sí segun el diagrama siguiente:\n",
    "\n",
    "![Diagrama de bloques](figuras/BloquesT.png)\n",
    "\n",
    "Tomando $X(.)$ como la entrada y $Y(.)$ como la salida:\n",
    "- ¿Cuál es la función de transferencia de Fourier equivalente para estos sistemas conectados?\n",
    "- ¿Cuál es la función de transferencia de Laplace equivalente para estos sistemas conectados?\n",
    "- Grafique y analice la respuesta frecuencial.\n",
    "- Grafique  y analice el mapa de polos y ceros.\n",
    "- Grafique la respuesta al escalón.\n",
    "\n",
    "**escriba su análisis y determine la estabilidad del sistema y el tipo de amortiguamiento**"
   ]
  },
  {
   "cell_type": "code",
   "execution_count": 4,
   "metadata": {},
   "outputs": [],
   "source": [
    "## Aquí va el código para generar la gráfica pedida. Ejecute el código para generar la gráfica."
   ]
  },
  {
   "cell_type": "markdown",
   "metadata": {},
   "source": [
    "## Conclusiones\n",
    "\n",
    "Escriba sus conclusiones\n",
    "\n",
    "- Use viñetas"
   ]
  },
  {
   "cell_type": "code",
   "execution_count": null,
   "metadata": {},
   "outputs": [],
   "source": []
  }
 ],
 "metadata": {
  "kernelspec": {
   "display_name": "Python 3",
   "language": "python",
   "name": "python3"
  },
  "language_info": {
   "codemirror_mode": {
    "name": "ipython",
    "version": 3
   },
   "file_extension": ".py",
   "mimetype": "text/x-python",
   "name": "python",
   "nbconvert_exporter": "python",
   "pygments_lexer": "ipython3",
   "version": "3.7.3"
  },
  "latex_envs": {
   "LaTeX_envs_menu_present": true,
   "autoclose": false,
   "autocomplete": true,
   "bibliofile": "biblio.bib",
   "cite_by": "apalike",
   "current_citInitial": 1,
   "eqLabelWithNumbers": true,
   "eqNumInitial": 0,
   "hotkeys": {
    "equation": "Ctrl-E",
    "itemize": "Ctrl-I"
   },
   "labels_anchors": false,
   "latex_user_defs": false,
   "report_style_numbering": false,
   "user_envs_cfg": false
  },
  "toc": {
   "base_numbering": 1,
   "nav_menu": {},
   "number_sections": true,
   "sideBar": true,
   "skip_h1_title": false,
   "title_cell": "Table of Contents",
   "title_sidebar": "Contents",
   "toc_cell": false,
   "toc_position": {},
   "toc_section_display": true,
   "toc_window_display": false
  },
  "varInspector": {
   "cols": {
    "lenName": 16,
    "lenType": 16,
    "lenVar": 40
   },
   "kernels_config": {
    "python": {
     "delete_cmd_postfix": "",
     "delete_cmd_prefix": "del ",
     "library": "var_list.py",
     "varRefreshCmd": "print(var_dic_list())"
    },
    "r": {
     "delete_cmd_postfix": ") ",
     "delete_cmd_prefix": "rm(",
     "library": "var_list.r",
     "varRefreshCmd": "cat(var_dic_list()) "
    }
   },
   "types_to_exclude": [
    "module",
    "function",
    "builtin_function_or_method",
    "instance",
    "_Feature"
   ],
   "window_display": false
  }
 },
 "nbformat": 4,
 "nbformat_minor": 4
}
