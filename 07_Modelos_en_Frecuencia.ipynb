{
 "cells": [
  {
   "cell_type": "code",
   "execution_count": 1,
   "metadata": {},
   "outputs": [],
   "source": [
    "import sympy as sym\n",
    "%matplotlib inline\n",
    "sym.init_printing()\n",
    "\n",
    "import matplotlib.pyplot as plt\n",
    "from sympy.plotting.plot import MatplotlibBackend\n",
    "\n",
    "def logx_plot(Hw, wrange, **kwargs):\n",
    "    'create plot with logarithmic x-axis'\n",
    "    p = sym.plot(Hw, wrange, show=False, **kwargs)\n",
    "    backend = MatplotlibBackend(p)\n",
    "    backend.process_series()\n",
    "    #backend.ax[0].spines['left'].set_position(('axes', 0))\n",
    "    #backend.ax[0].spines['bottom'].set_position(('axes', 0))\n",
    "    plt.xscale('log')\n",
    "    plt.grid(which='both')\n",
    "\n",
    "def db(x):\n",
    "    'compute dB value'\n",
    "    return 20 * sym.log(sym.Abs(x), 10)"
   ]
  },
  {
   "cell_type": "code",
   "execution_count": 15,
   "metadata": {},
   "outputs": [
    {
     "data": {
      "image/png": "[encoded data removed]",
      "text/latex": [
       "$\\displaystyle 0.3010299956639812$"
      ],
      "text/plain": [
       "0.3010299956639812"
      ]
     },
     "execution_count": 15,
     "metadata": {},
     "output_type": "execute_result"
    }
   ],
   "source": [
    "np.log10(2)"
   ]
  },
  {
   "cell_type": "markdown",
   "metadata": {},
   "source": [
    "# Caracterización de Sistemas en Dominio de la Frecuencia\n"
   ]
  },
  {
   "cell_type": "markdown",
   "metadata": {},
   "source": [
    "## Función de Transferencia\n",
    "\n",
    "Hay distintas representaciones para modelar sistemas LTI. Algunas de estas son:\n",
    "- Los coeficientes constantes de las Ecuaciones Diferenciales(ODEs).\n",
    "- La [respuesta impulsional].\n",
    "- La [respuesta al escalón]. \n",
    "\n",
    "La [Función de transferencia] usa la forma $e^{s t}$ como eigenfunción para establecer combinaciones de $e^{s t}$ al ser excitado un sistema LTI. Se usa la transformada de Laplace para esta representación."
   ]
  },
  {
   "cell_type": "markdown",
   "metadata": {},
   "source": [
    "### Respuesta al Impulso y Señales de Entrada y Salida\n",
    "\n",
    "La operación de convolución en el dominio temporal tiene equivalencia en el dominio de la frecuencia.\n",
    "\n",
    "\n",
    "\n",
    "En el dominio temporal, la salida $y(t)$ de un sistema LTI está dada por la convolución entre la entrada $x(t)$ y la [respuesta al impulso](../systems_time_domain/impulse_response.ipynb) $h(t)$.\n",
    "\n",
    "\\begin{equation}\n",
    "y(t) = x(t) * h(t)\n",
    "\\end{equation}\n",
    "\n",
    "En el dominio transformado se tiene\n",
    "\n",
    "\\begin{equation}\n",
    "Y(s) = X(s) \\cdot H(s)\n",
    "\\end{equation}\n",
    "\n",
    "donde $X(s) = \\mathcal{L} \\{ x(t) \\}$ y $Y(s) = \\mathcal{L} \\{ y(t) \\}$ son las transformadas de Laplace de las señales de entrada y salida.\n",
    "\n",
    "La función de transferencia $H(s)$ está dada por la transformada de Laplace de la respuesta al impulso $h(t)$\n",
    "\n",
    "\\begin{equation}\n",
    "H(s) = \\mathcal{L} \\{ h(t) \\}\n",
    "\\end{equation}\n",
    "\n",
    "Así, un sistema LTI queda caracterizado mediante la respuesta impulsional en el dominio temporal y en el dominio frecuencial.\n",
    "\n",
    "Note también que puede encontrarse la función de transferencia como el cociente entre las señales de salida $Y(s)$ y  $X(s)$ en el dominio de Laplace.\n",
    "\n",
    "\\begin{equation}\n",
    "H(s) = \\frac{Y(s)}{X(s)}\n",
    "\\end{equation}\n",
    "\n",
    "O como el cociente entre las señales de salida $Y(\\omega)$ y  $X(\\omega)$ en el dominio de Fourier.\n",
    "\n",
    "\\begin{equation}\n",
    "H(\\omega) = \\frac{Y(\\omega)}{X(\\omega)}\n",
    "\\end{equation}\n",
    "\n",
    "En cuanto a señales:\n",
    "\n",
    "- La transformada de Laplace permite analizar formas transitorias y estáticas de las señales.\n",
    "- La transformada de Fourier permite analizar solamente formas estáticas de las señales oscilatorias, composición espectral.\n",
    "\n",
    "\n",
    "\n",
    "En cuanto a sistemas:\n",
    "- La transformada de Laplace permite analizar comportamientos transitorios y estáticos de los sistemas ante cualquier señal de entrada.\n",
    "- La transformada de Fourier permite analizar solamente la respuesta de los sistemas anre excitaciones oscilatorias, respuesta frecuencial.\n",
    "\n",
    "Escoger una u otra transformada depende de la aplicación.\n",
    "\n",
    "Puede obtener la respuesta frecuencial de un sistema modelado como función de transferencia de Laplace con la equivalencia $s = j\\omega$.\n"
   ]
  },
  {
   "cell_type": "markdown",
   "metadata": {},
   "source": [
    "### Función de Transferencia y Ecuaciones Diferenciales\n",
    "\n",
    "Suponga una ecuación diferencial con coeficientes constantes $\\alpha_n$ y $\\beta_m$.\n",
    "\n",
    "\\begin{equation}\n",
    "\\alpha_N \\frac{d^N}{d t^N} y(t) + \\alpha_{N-1} \\frac{d^{N-1}}{d t^{N-1}} y(t) + ... + \\alpha_{2} \\frac{d^{2}}{d t^{2}} y(t) + \\alpha_{1} \\frac{d}{d t} y(t) + \\alpha_{0} y(t) = \\beta_M \\frac{d^M}{d t^M} x(t) + \\beta_{M-1} \\frac{d^{M-1}}{d t^{M-1}} x(t) + ... + \\beta_{2} \\frac{d^{2}}{d t^{2}} x(t) + \\beta_{1} \\frac{d}{d t} x(t) + \\beta_{0} x(t)\n",
    "\\end{equation}\n",
    "\n",
    "\n",
    "\\begin{equation}\n",
    "\\sum_{n=0}^{N} \\alpha_n \\frac{d^n}{d t^n} y(t) = \\sum_{m=0}^{M} \\beta_m \\frac{d^m}{d t^m} x(t)\n",
    "\\end{equation}\n",
    "\n",
    "donde $\\alpha_N \\neq 0$ y $N$ es el orden del modelo. \n",
    "\n",
    "Suponga también que los valores iniciales son iguales a cero.\n",
    "\n",
    "Al aplicar la Transformada de Laplace a la ecuación se tiene:\n",
    "\n",
    "\\begin{equation}\n",
    "Y(s) \\sum_{n=0}^{N} \\alpha_n s^n = X(s) \\sum_{m=0}^{M} \\beta_m s^m\n",
    "\\end{equation}\n",
    "\n",
    "De donde se obtiene la función de transferencia como:\n",
    "\n",
    "\\begin{equation}\n",
    "H(s) = \\frac{Y(s)}{X(s)} = \\frac{\\sum_{m=0}^{M} \\beta_m s^m}{\\sum_{n=0}^{N} \\alpha_n s^n}\n",
    "\\end{equation}\n",
    "\n",
    "Observe que la forma es **polinomio** sobre **polinomio**. "
   ]
  },
  {
   "cell_type": "markdown",
   "metadata": {},
   "source": [
    "**Ejemplo**\n",
    "\n",
    "Los coeficientes del filtro RLC analizado antes se pueden obtener de Ecuación Diferencial como:\n",
    "\n",
    "\\begin{equation}\n",
    "C L \\frac{d^2 y(t)}{dt^2} + C R \\frac{d y(t)}{dt} + y(t) = x(t)\n",
    "\\end{equation}\n",
    "\n",
    "\\begin{align}\n",
    "\\beta_0 &= 1 & \\alpha_0 &= 1 \\\\\n",
    "& & \\alpha_1 &= C R \\\\\n",
    "& & \\alpha_2 &= C L\n",
    "\\end{align}\n",
    "\n",
    "\n",
    "A partir de estos coeficientes se define la función de transferencia $H(s)$ en `SymPy`."
   ]
  },
  {
   "cell_type": "code",
   "execution_count": 2,
   "metadata": {},
   "outputs": [],
   "source": [
    "\n",
    "s = sym.symbols('s', complex=True)\n",
    "w = sym.symbols('omega', real=True)\n",
    "\n",
    "R = 1\n",
    "L = 0.5\n",
    "C = 0.4\n",
    "\n",
    "beta = 1\n",
    "alpha = L*C, R*C, 1\n",
    "\n",
    "Num_s = sym.Poly(beta, s)\n",
    "Den_s = sym.Poly(alpha, s)\n"
   ]
  },
  {
   "cell_type": "code",
   "execution_count": 3,
   "metadata": {},
   "outputs": [
    {
     "data": {
      "image/png": "[encoded data removed]",
      "text/latex": [
       "$\\displaystyle \\frac{1}{0.2 s^{2} + 0.4 s + 1.0}$"
      ],
      "text/plain": [
       "         1          \n",
       "────────────────────\n",
       "     2              \n",
       "0.2⋅s  + 0.4⋅s + 1.0"
      ]
     },
     "execution_count": 3,
     "metadata": {},
     "output_type": "execute_result"
    }
   ],
   "source": [
    "H = Num_s / Den_s\n",
    "H"
   ]
  },
  {
   "cell_type": "code",
   "execution_count": 4,
   "metadata": {},
   "outputs": [
    {
     "data": {
      "image/png": "[encoded data removed]",
      "text/latex": [
       "$\\displaystyle \\frac{1}{- 0.2 \\omega^{2} + 0.4 i \\omega + 1.0}$"
      ],
      "text/plain": [
       "           1            \n",
       "────────────────────────\n",
       "       2                \n",
       "- 0.2⋅ω  + 0.4⋅ⅈ⋅ω + 1.0"
      ]
     },
     "execution_count": 4,
     "metadata": {},
     "output_type": "execute_result"
    }
   ],
   "source": [
    "Hw = H.subs(s,w*1j)\n",
    "Hw"
   ]
  },
  {
   "cell_type": "markdown",
   "metadata": {},
   "source": [
    "Varios programas definen la función de transferencia únicamente a partir de los coeficientes $\\alpha$ y $\\beta$.Este es el caso del Toolbox [`scipy.signal`](http://docs.scipy.org/doc/scipy/reference/signal.html) para python donde se puede evaluar numéricamente $H(j \\omega)$ en un conjunto de valores de frecuencia angular $\\omega_i$ a partir de los coeficientes del modelo."
   ]
  },
  {
   "cell_type": "code",
   "execution_count": 5,
   "metadata": {},
   "outputs": [
    {
     "data": {
      "image/png": "[encoded data removed]",
      "text/plain": [
       "<Figure size 432x288 with 1 Axes>"
      ]
     },
     "metadata": {
      "needs_background": "light"
     },
     "output_type": "display_data"
    }
   ],
   "source": [
    "from scipy import signal\n",
    "\n",
    "R = 1\n",
    "L = 0.5\n",
    "C = 0.4\n",
    "beta = 1\n",
    "alpha = L*C, R*C, 1\n",
    "\n",
    "w, H = signal.freqresp((beta, alpha))\n",
    "\n",
    "import matplotlib.pyplot as plt\n",
    "\n",
    "plt.plot(w, abs(H))\n",
    "plt.xlabel('$\\omega$ in $s^{-1}$')\n",
    "plt.ylabel('$|H(j \\omega)|$')\n",
    "plt.grid();"
   ]
  },
  {
   "cell_type": "markdown",
   "metadata": {},
   "source": [
    "## Gráficas de Bode \n",
    "\n",
    "La función de transferencia en el dominio de Fourier caracteriza la transmisión de un sistema LTI con respecto a una señal armónica $e^{j \\omega t}$ con frecuencia angular $\\omega = 2 \\pi f$.\n",
    "\n",
    "A menudo se trabajan las funciones magnitud $| H(j \\omega) |$ y fase $\\varphi_H(j \\omega)$ de forma separada.\n",
    "\n",
    "\n",
    "\\begin{align}\n",
    "| Y(j \\omega) | &= | X(j \\omega) | \\cdot | H(j \\omega) | \\\\\n",
    "\\varphi_Y(j \\omega) &= \\varphi_X(j \\omega) + \\varphi_H(j \\omega)\n",
    "\\end{align}\n",
    "\n",
    "donde $X(j \\omega)$ es la señal de entrada y $| X(j \\omega) |$ and $\\varphi_X(j \\omega)$ su magnitud y fase, respectivamente.\n",
    "\n",
    "Observe que $| H(j \\omega) |$ muestra la atenuación o amplificación en función de la frecuencia $| X(j \\omega) |$ de la señal de entrada. Por otra parte, $\\varphi_H(j \\omega)$ muestra la fase que se introduce en el sistema. \n",
    "\n",
    "Las [gráficas de Bode](https://en.wikipedia.org/wiki/Bode_plot) se usan para representar gráficamente las propiedades del sistema en términos de magnitud y fase en función de la frecuencia. Se trata de una gráfica logarítmica de la magnitud de la función de transferencia en [decibeles](https://en.wikipedia.org/wiki/Decibel)  $20 \\log_{10} | H(j \\omega) |$ contra el logaritmo de la frecuencia $\\omega$ o $f$.\n",
    "\n",
    "La fase $\\varphi_H(j \\omega)$ se grafica linealmente contra el logaritmo de la frecuencia.\n",
    "\n",
    "Como $H(s)$ es racional respecto a $s$, se puede representar en términos de polos y ceros.\n",
    "\n",
    "\\begin{equation}\n",
    "H(s) = K \\cdot \\frac{\\prod_{\\mu=1}^{M} (s - s_{0 \\mu})}{\\prod_{\\nu=1}^{N} (s - s_{\\infty \\nu})}\n",
    "\\end{equation}\n",
    "\n",
    "considerando que $s=j \\omega$\n",
    "\\begin{equation}\n",
    "H(j \\omega) = K \\cdot \\frac{\\prod_{\\mu=1}^{M} (j \\omega - s_{0 \\mu})}{\\prod_{\\nu=1}^{N} (j \\omega - s_{\\infty \\nu})}\n",
    "\\end{equation}\n",
    "\n",
    "donde $s_{0 \\mu}$ y $s_{\\infty \\nu}$ son el $\\mu$-ecimo cero and $\\nu$-ecimo polo de $H(s)$. El logaritmo de la magnitud y la fase son:\n",
    "\n",
    "\\begin{align}\n",
    "\\log_{10} | H(j \\omega) | &= \\sum_{\\mu=0}^{M} \\log_{10} |j \\omega - s_{0 \\mu}| - \\sum_{\\nu=0}^{N} \\log_{10} |j \\omega - s_{\\infty \\nu}| + \\log_{10} |K|   \\\\\n",
    "\\varphi_H(j \\omega) &= \\sum_{\\mu=0}^{M} \\arg (j \\omega - s_{0 \\mu}) - \\sum_{\\nu=0}^{N} \\arg (j \\omega - s_{\\infty \\nu})\n",
    "\\end{align}\n",
    "\n",
    "donde $\\arg(\\cdot)$ es el [argumento](https://en.wikipedia.org/wiki/Argument_%28complex_analysis%29) (fase) de una función compleja.\n",
    "\n",
    "Los resultados anteriores permiten aproximar las gráficas de Bode a mano. Se recomienda revisar la [literatura](https://en.wikipedia.org/wiki/Bode_plot#Rules_for_handmade_Bode_plot)."
   ]
  },
  {
   "cell_type": "markdown",
   "metadata": {},
   "source": [
    "**Ejemplo**\n",
    "\n",
    "La gráfica de Bode del filtro anterior\n",
    "\n",
    "La función de transferencia $H(j \\omega)$ se obtiene a partir de $H(s)$ como\n",
    "\n",
    "\\begin{equation}\n",
    "H(j \\omega) = \\frac{1}{C L s^2 + C R s + 1} \\bigg\\rvert_{s = j \\omega}\n",
    "\\end{equation}"
   ]
  },
  {
   "cell_type": "code",
   "execution_count": 11,
   "metadata": {},
   "outputs": [
    {
     "data": {
      "image/png": "[encoded data removed]",
      "text/latex": [
       "$\\displaystyle \\left[ -1.0 - 2.0 i, \\  -1.0 + 2.0 i\\right]$"
      ],
      "text/plain": [
       "[-1.0 - 2.0⋅ⅈ, -1.0 + 2.0⋅ⅈ]"
      ]
     },
     "execution_count": 11,
     "metadata": {},
     "output_type": "execute_result"
    }
   ],
   "source": [
    "sym.solve(C*L*s**2 + R*C*s + 1)"
   ]
  },
  {
   "cell_type": "code",
   "execution_count": 7,
   "metadata": {},
   "outputs": [
    {
     "data": {
      "image/png": "[encoded data removed]",
      "text/latex": [
       "$\\displaystyle 1.004987562112089$"
      ],
      "text/plain": [
       "1.004987562112089"
      ]
     },
     "execution_count": 7,
     "metadata": {},
     "output_type": "execute_result"
    }
   ],
   "source": [
    "import numpy as np\n",
    "np.sqrt(0.1*0.1+1)"
   ]
  },
  {
   "cell_type": "code",
   "execution_count": 39,
   "metadata": {},
   "outputs": [
    {
     "data": {
      "image/png": "[encoded data removed]",
      "text/latex": [
       "$\\displaystyle \\frac{100}{\\left(i \\omega - 10.0 i\\right) \\left(i \\omega + 10.0 i\\right)}$"
      ],
      "text/plain": [
       "             100             \n",
       "─────────────────────────────\n",
       "(ⅈ⋅ω - 10.0⋅ⅈ)⋅(ⅈ⋅ω + 10.0⋅ⅈ)"
      ]
     },
     "execution_count": 39,
     "metadata": {},
     "output_type": "execute_result"
    }
   ],
   "source": [
    "s = sym.symbols('s')\n",
    "w = sym.symbols('omega', real=True)\n",
    "\n",
    "R = 1\n",
    "L = 0.5\n",
    "C = 0.4\n",
    "\n",
    "# Hs = 1/(C*L*s**2 + C*R*s + 1)\n",
    "Hs = 100/((s+0+10j)*(s+0-10j))\n",
    "# Hs = 1/((s+20))\n",
    "H = Hs.subs(s, sym.I * w)\n",
    "H\n",
    "\n"
   ]
  },
  {
   "cell_type": "code",
   "execution_count": 40,
   "metadata": {},
   "outputs": [
    {
     "data": {
      "image/png": "[encoded data removed]",
      "text/plain": [
       "<Figure size 864x432 with 1 Axes>"
      ]
     },
     "metadata": {
      "needs_background": "light"
     },
     "output_type": "display_data"
    },
    {
     "data": {
      "image/png": "[encoded data removed]",
      "text/plain": [
       "<Figure size 864x432 with 1 Axes>"
      ]
     },
     "metadata": {
      "needs_background": "light"
     },
     "output_type": "display_data"
    }
   ],
   "source": [
    "plt.rcParams['figure.figsize'] = 12, 6\n",
    "\n",
    "logx_plot(db(H), (w, 0.01, 1000),\n",
    "          xlabel='w', ylabel='dB')\n",
    "logx_plot(sym.arg(H), (w, 0.01, 1000),\n",
    "          xlabel='w', ylabel='ang')"
   ]
  },
  {
   "cell_type": "code",
   "execution_count": 41,
   "metadata": {},
   "outputs": [
    {
     "data": {
      "text/plain": [
       "'3.1.0'"
      ]
     },
     "execution_count": 41,
     "metadata": {},
     "output_type": "execute_result"
    }
   ],
   "source": [
    "import matplotlib\n",
    "matplotlib.__version__"
   ]
  }
 ],
 "metadata": {
  "kernelspec": {
   "display_name": "Python 3 (ipykernel)",
   "language": "python",
   "name": "python3"
  },
  "language_info": {
   "codemirror_mode": {
    "name": "ipython",
    "version": 3
   },
   "file_extension": ".py",
   "mimetype": "text/x-python",
   "name": "python",
   "nbconvert_exporter": "python",
   "pygments_lexer": "ipython3",
   "version": "3.10.9"
  },
  "latex_envs": {
   "LaTeX_envs_menu_present": true,
   "autoclose": false,
   "autocomplete": true,
   "bibliofile": "biblio.bib",
   "cite_by": "apalike",
   "current_citInitial": 1,
   "eqLabelWithNumbers": true,
   "eqNumInitial": 0,
   "hotkeys": {
    "equation": "Ctrl-E",
    "itemize": "Ctrl-I"
   },
   "labels_anchors": false,
   "latex_user_defs": false,
   "report_style_numbering": false,
   "user_envs_cfg": false
  },
  "varInspector": {
   "cols": {
    "lenName": 16,
    "lenType": 16,
    "lenVar": 40
   },
   "kernels_config": {
    "python": {
     "delete_cmd_postfix": "",
     "delete_cmd_prefix": "del ",
     "library": "var_list.py",
     "varRefreshCmd": "print(var_dic_list())"
    },
    "r": {
     "delete_cmd_postfix": ") ",
     "delete_cmd_prefix": "rm(",
     "library": "var_list.r",
     "varRefreshCmd": "cat(var_dic_list()) "
    }
   },
   "types_to_exclude": [
    "module",
    "function",
    "builtin_function_or_method",
    "instance",
    "_Feature"
   ],
   "window_display": false
  }
 },
 "nbformat": 4,
 "nbformat_minor": 4
}
