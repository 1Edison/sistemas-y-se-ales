{
 "cells": [
  {
   "cell_type": "code",
   "execution_count": 1,
   "id": "abd17c5e",
   "metadata": {},
   "outputs": [],
   "source": [
    "import numpy as np\n",
    "import sympy as sym"
   ]
  },
  {
   "cell_type": "markdown",
   "id": "7df91c14",
   "metadata": {},
   "source": [
    "# Filtro 2 Orden\n",
    "\n",
    "El siguiente circuito corresponde a un filtro de orden 2.\n",
    "\n",
    "![figuras/filtro2AO.png](figuras/filtro2AO.png)\n",
    "\n",
    "1. Analice el circuito en el dominio del tiempo y encuentre una ecuación diferencial que represente la relación entre las señales $vi(t)$ y $vo(t)$."
   ]
  },
  {
   "cell_type": "markdown",
   "id": "6770b4d8",
   "metadata": {},
   "source": [
    "Escriba su desarrollo"
   ]
  },
  {
   "cell_type": "markdown",
   "id": "3ff00c14",
   "metadata": {},
   "source": [
    "2. Considere que la señal de entrada es un escalón de amplitud $2$. Encuentre $vo(t)$ resolviendo la ecuación diferencial del modelo encontrado anterior. Describa paso a paso la solución de forma analítica. (resolver a mano)."
   ]
  },
  {
   "cell_type": "markdown",
   "id": "dcc7b6cb",
   "metadata": {},
   "source": [
    "Escriba su desarrollo"
   ]
  },
  {
   "cell_type": "markdown",
   "id": "d1e8060d",
   "metadata": {},
   "source": [
    "3. Considere que la señal de entrada es un escalón de amplitud $2$. Encuentre $vo(t)$ resolviendo la ecuación diferencial del modelo encontrado anterior con sympy."
   ]
  },
  {
   "cell_type": "markdown",
   "id": "9d4be105",
   "metadata": {},
   "source": [
    "Escriba su desarrollo"
   ]
  },
  {
   "cell_type": "markdown",
   "id": "0e6183dd",
   "metadata": {},
   "source": [
    "4. Analice y "
   ]
  }
 ],
 "metadata": {
  "kernelspec": {
   "display_name": "Python 3 (ipykernel)",
   "language": "python",
   "name": "python3"
  },
  "language_info": {
   "codemirror_mode": {
    "name": "ipython",
    "version": 3
   },
   "file_extension": ".py",
   "mimetype": "text/x-python",
   "name": "python",
   "nbconvert_exporter": "python",
   "pygments_lexer": "ipython3",
   "version": "3.10.9"
  }
 },
 "nbformat": 4,
 "nbformat_minor": 5
}
