{
 "cells": [
  {
   "cell_type": "markdown",
   "metadata": {},
   "source": [
    "# Señales de tiempo discreto"
   ]
  },
  {
   "cell_type": "markdown",
   "metadata": {},
   "source": [
    "\n",
    "## Señales estándar\n",
    "\n",
    "\n",
    "Las señales $x(t)\\in \\mathbb{C}$ analizadas anteriormente se definen en tiempo continuo $t \\in \\mathbb{R}$.\n",
    "\n",
    "Una señal en tiempo discreto $x[k] \\in \\mathbb{C}$ es una secuencia de valores que depende del índice $k \\in \\mathbb{Z}$.\n",
    "\n",
    "Las señales $x(t)$ y $x[k]$ se relacionan mediante el teorema de muestreo según el cual$x[k] := x(k T)$.\n",
    "\n",
    "\n",
    "Algunas [señales](https://en.wikipedia.org/wiki/Signal_%28electrical_engineering%29) desempeñan un rol importante en las aplicaciones del **procesamiento de señales**, **telecomunicaciones**, **control automático** y se usan para caracterizar las propiedades de los sistemas Lineales e Invariantes en el Tiempo (LTI).\n",
    "\n",
    "A continuación se introducen e ilustran estas señales estándar.\n"
   ]
  },
  {
   "cell_type": "markdown",
   "metadata": {},
   "source": [
    "### Exponencial compleja\n",
    "\n",
    "\n",
    "La señal exponencial compleja en el dominio del tiempo discreto $k$ se define matemáticamente con la [función exponencial compleja](https://en.wikipedia.org/wiki/Exponential_function#Complex_plane)\n",
    "\n",
    "\n",
    "\\begin{equation}\n",
    "x[k] = e^{(\\Sigma + j \\Omega) \\, k} = z^k\n",
    "\\end{equation}\n",
    "\n",
    "\n",
    "donde $z = e^{\\Sigma + j \\Omega}$ describe una frecuencia compleja con $z \\in \\mathbb{C}$ with $\\Sigma, \\Omega \\in \\mathbb{R}$. La exponencial compleja de tiempo discreto se relaciona con la de tiempo continuo $x(t) = e^{(\\sigma + j \\omega) t}$ por el teorema de muestreo. \n",
    "\n",
    "\n",
    "\\begin{equation}\n",
    "x[k] = x(k T) = e^{(\\sigma + j \\omega) k T} = e^{( \\sigma T + j \\omega T ) k}\n",
    "\\end{equation}\n",
    "\n",
    "donde $T$ es el periodo de muestreo. Al analizar las expresiones para las señales puede observarse que $\\Sigma = \\sigma T$ y $\\Omega = \\omega T$. Por lo anterior se denomina *frecuencia normalizada* a $\\Omega$. De acuerdo con [Euler's formula](https://en.wikipedia.org/wiki/Euler's_formula), la exponencial compleja puede reescribirse como:\n",
    "\n",
    "\\begin{equation}\n",
    "x[k] = e^{\\Sigma k} \\cos[\\Omega k] + j e^{\\Sigma k} \\sin[\\Omega k]\n",
    "\\end{equation}\n",
    "\n",
    "Las partes real e imaginar$\\Omega$ ia de $x[k]$ son senos y cosenos de frecuencia normalizada  modulando una exponencial. Observe que hay ambigüedad con los valores de frecuencia normalizada.\n",
    "\n",
    "\\begin{equation}\n",
    "\\cos[\\Omega k] = \\cos[(\\Omega + n \\cdot 2 \\pi) \\cdot k]\n",
    "\\end{equation}\n",
    "\n",
    "\n",
    "con $n \\in \\mathbb{Z}$. $\\Omega$ es única solamente si $-\\pi < \\Omega < \\pi$. Así, la frecuencia normalizada $\\Omega = \\pm \\pi$ representa las frecuencias más altas y más bajas posibles en el mundo de tiempo discreto.\n",
    "\n",
    "$x[k]$ es periodica solamente si\n",
    "\n",
    "\\begin{equation}\n",
    "x[k] = x[k + n \\cdot N_\\text{p}]\n",
    "\\end{equation}\n",
    "\n",
    "\n",
    "Para $n \\in \\mathbb{Z}$ y $N_\\text{p} \\in \\mathbb{N}$. Lo que obliga a que\n",
    "\n",
    "\\begin{equation}\n",
    "N_\\text{p} = \\frac{2 \\pi}{\\Omega}\n",
    "\\end{equation}\n",
    "\n",
    "Solamente $\\Omega = \\frac{2 \\pi}{N_\\text{p}}$ con $N_\\text{p} \\in \\mathbb{N}$ es periodica con periodo $N_\\text{p}$.\n",
    "\n",
    "La señal, representada de forma polar es\n",
    "\n",
    "\\begin{equation}\n",
    "x[k] = z^k = |z|^k \\cdot e^{j \\varphi(z) k}\n",
    "\\end{equation}\n",
    "\n",
    "\n",
    "* exponencialmente decreciente si  $|z| < 1$ ($\\Sigma < 0$)\n",
    "* constante (1) si  $|z| < 1$ ($\\Sigma = 1$)\n",
    "* exponencialmente creciente si   $|z| > 1$ ($\\Sigma < 0$)\n",
    "\n",
    "\n",
    "\n",
    "\n",
    "\n",
    "\n",
    "\n",
    "\n"
   ]
  },
  {
   "cell_type": "markdown",
   "metadata": {},
   "source": [
    "**Ejemplo**\n"
   ]
  },
  {
   "cell_type": "code",
   "execution_count": 1,
   "metadata": {},
   "outputs": [],
   "source": [
    "import numpy as np\n",
    "import matplotlib.pyplot as plt\n",
    "%matplotlib inline\n",
    "\n",
    "\n",
    "def exponential_signal(k, Sigma, Omega):\n",
    "    return np.exp((Sigma + 1j * Omega) * k)\n",
    "\n",
    "\n",
    "def plot_signal(k, x):\n",
    "    plt.figure(figsize=(10, 4))\n",
    "    plt.subplot(121)\n",
    "    plt.stem(k, np.real(x))\n",
    "    plt.xlabel('$k$')\n",
    "    plt.ylabel(r'$\\Re \\{ x[k] \\}$')\n",
    "\n",
    "    plt.subplot(122)\n",
    "    plt.stem(k, np.imag(x))\n",
    "    plt.xlabel('$k$')\n",
    "    plt.ylabel(r'$\\Im \\{ x[k] \\}$')\n",
    "    plt.tight_layout()"
   ]
  },
  {
   "cell_type": "markdown",
   "metadata": {},
   "source": [
    "Un vector `x` con valores de la señal se define con los índices $k$, $\\Sigma = 0.025$ y $\\Omega = 0.5$. "
   ]
  },
  {
   "cell_type": "code",
   "execution_count": 2,
   "metadata": {
    "scrolled": true
   },
   "outputs": [
    {
     "data": {
      "text/plain": [
       "array([ 1.        +0.j        ,  0.89979867+0.49156225j,\n",
       "        0.5680042 +0.88461412j,  0.07624651+1.07518404j,\n",
       "       -0.45991338+1.00492907j, -0.90781465+0.67815778j,\n",
       "       -1.15020718+0.16395806j, -1.11555049-0.41786919j,\n",
       "       -0.79836212-0.92436066j, -0.26398437-1.22418317j])"
      ]
     },
     "execution_count": 2,
     "metadata": {},
     "output_type": "execute_result"
    }
   ],
   "source": [
    "k = np.arange(31)\n",
    "x = exponential_signal(k, 0.025, 0.5)\n",
    "x[:10]"
   ]
  },
  {
   "cell_type": "code",
   "execution_count": 3,
   "metadata": {
    "scrolled": true
   },
   "outputs": [
    {
     "name": "stderr",
     "output_type": "stream",
     "text": [
      "C:\\Users\\Usuario\\.conda\\envs\\SistDin\\lib\\site-packages\\ipykernel_launcher.py:13: UserWarning: In Matplotlib 3.3 individual lines on a stem plot will be added as a LineCollection instead of individual lines. This significantly improves the performance of a stem plot. To remove this warning and switch to the new behaviour, set the \"use_line_collection\" keyword argument to True.\n",
      "  del sys.path[0]\n",
      "C:\\Users\\Usuario\\.conda\\envs\\SistDin\\lib\\site-packages\\ipykernel_launcher.py:18: UserWarning: In Matplotlib 3.3 individual lines on a stem plot will be added as a LineCollection instead of individual lines. This significantly improves the performance of a stem plot. To remove this warning and switch to the new behaviour, set the \"use_line_collection\" keyword argument to True.\n"
     ]
    },
    {
     "data": {
      "image/png": "[encoded data removed]",
      "text/plain": [
       "<Figure size 720x288 with 2 Axes>"
      ]
     },
     "metadata": {
      "needs_background": "light"
     },
     "output_type": "display_data"
    }
   ],
   "source": [
    "plot_signal(k, x)"
   ]
  },
  {
   "cell_type": "markdown",
   "metadata": {},
   "source": [
    "Una señal periodica"
   ]
  },
  {
   "cell_type": "code",
   "execution_count": 4,
   "metadata": {},
   "outputs": [
    {
     "name": "stderr",
     "output_type": "stream",
     "text": [
      "C:\\Users\\Usuario\\.conda\\envs\\SistDin\\lib\\site-packages\\ipykernel_launcher.py:13: UserWarning: In Matplotlib 3.3 individual lines on a stem plot will be added as a LineCollection instead of individual lines. This significantly improves the performance of a stem plot. To remove this warning and switch to the new behaviour, set the \"use_line_collection\" keyword argument to True.\n",
      "  del sys.path[0]\n",
      "C:\\Users\\Usuario\\.conda\\envs\\SistDin\\lib\\site-packages\\ipykernel_launcher.py:18: UserWarning: In Matplotlib 3.3 individual lines on a stem plot will be added as a LineCollection instead of individual lines. This significantly improves the performance of a stem plot. To remove this warning and switch to the new behaviour, set the \"use_line_collection\" keyword argument to True.\n"
     ]
    },
    {
     "data": {
      "image/png": "[encoded data removed]",
      "text/plain": [
       "<Figure size 720x288 with 2 Axes>"
      ]
     },
     "metadata": {
      "needs_background": "light"
     },
     "output_type": "display_data"
    }
   ],
   "source": [
    "Np = 20\n",
    "x = exponential_signal(k, 0, 2 * np.pi / Np)\n",
    "plot_signal(k, x)"
   ]
  },
  {
   "cell_type": "markdown",
   "metadata": {},
   "source": [
    "Una señal no periodica"
   ]
  },
  {
   "cell_type": "code",
   "execution_count": 5,
   "metadata": {},
   "outputs": [
    {
     "name": "stderr",
     "output_type": "stream",
     "text": [
      "C:\\Users\\Usuario\\.conda\\envs\\SistDin\\lib\\site-packages\\ipykernel_launcher.py:13: UserWarning: In Matplotlib 3.3 individual lines on a stem plot will be added as a LineCollection instead of individual lines. This significantly improves the performance of a stem plot. To remove this warning and switch to the new behaviour, set the \"use_line_collection\" keyword argument to True.\n",
      "  del sys.path[0]\n",
      "C:\\Users\\Usuario\\.conda\\envs\\SistDin\\lib\\site-packages\\ipykernel_launcher.py:18: UserWarning: In Matplotlib 3.3 individual lines on a stem plot will be added as a LineCollection instead of individual lines. This significantly improves the performance of a stem plot. To remove this warning and switch to the new behaviour, set the \"use_line_collection\" keyword argument to True.\n"
     ]
    },
    {
     "data": {
      "image/png": "[encoded data removed]",
      "text/plain": [
       "<Figure size 720x288 with 2 Axes>"
      ]
     },
     "metadata": {
      "needs_background": "light"
     },
     "output_type": "display_data"
    }
   ],
   "source": [
    "Np = 20.5\n",
    "x = exponential_signal(k, 0, 2 * np.pi / Np)\n",
    "plot_signal(k, x)"
   ]
  },
  {
   "cell_type": "markdown",
   "metadata": {},
   "source": [
    "**Ejercicio**\n",
    "\n",
    "* Defina valores para $\\Sigma$  y $\\Omega$ de manera que pueda crear señales decrecientes, constantes y crecientes con distinta frecuencia angular.\n",
    "* Verifique la ambigüedad en las frecuencias al sumar múltiplos enteros de  $2 \\pi$ a $\\Omega$\n"
   ]
  },
  {
   "cell_type": "code",
   "execution_count": 6,
   "metadata": {},
   "outputs": [],
   "source": [
    "## Escriba su código aquí\n"
   ]
  },
  {
   "cell_type": "markdown",
   "metadata": {},
   "source": [
    "### Impulso de Dirac\n",
    "\n",
    " $\\delta[k]$ no se obtiene al muestrear su versión de tiempo continuo. Se define como:\n",
    " \n",
    "\\begin{equation}\n",
    "\\delta[k] = \\begin{cases}\n",
    "1 & \\text{for } k = 0 \\\\\n",
    "0 & \\text{otherwise}\n",
    "\\end{cases}\n",
    "\\end{equation}\n",
    "\n",
    "Tambien se conoce como [*Kronecker delta*](https://en.wikipedia.org/wiki/Kronecker_delta) y mantiene las propiedades más importantes de la vrsión de tiempo continuo $\\delta(t)$.\n",
    "\n",
    "1. **Desplazamiento**\n",
    "    \\begin{equation}\n",
    "    \\sum_{\\kappa = -\\infty}^{\\infty} x[\\kappa] \\cdot \\delta[k - \\kappa] = x[k]\n",
    "    \\end{equation}\n",
    "    The sifting property implies $\\sum_{\\kappa = -\\infty}^{\\infty} x[\\kappa] = 1$.\n",
    "    \n",
    "2. **Multiplicación**\n",
    "    \\begin{equation}\n",
    "    x[k] \\cdot \\delta[k - \\kappa] = x[\\kappa] \\cdot \\delta[k - \\kappa]\n",
    "    \\end{equation}\n",
    "    \n",
    "3. **Linealidad**\n",
    "    \\begin{equation}\n",
    "    a \\cdot \\delta[k] + b \\cdot \\delta[k] = (a+b) \\cdot \\delta[k]\n",
    "    \\end{equation}\n",
    "\n"
   ]
  },
  {
   "cell_type": "markdown",
   "metadata": {},
   "source": [
    "**Ejemplo**"
   ]
  },
  {
   "cell_type": "code",
   "execution_count": 7,
   "metadata": {},
   "outputs": [
    {
     "name": "stderr",
     "output_type": "stream",
     "text": [
      "C:\\Users\\Usuario\\.conda\\envs\\SistDin\\lib\\site-packages\\ipykernel_launcher.py:7: UserWarning: In Matplotlib 3.3 individual lines on a stem plot will be added as a LineCollection instead of individual lines. This significantly improves the performance of a stem plot. To remove this warning and switch to the new behaviour, set the \"use_line_collection\" keyword argument to True.\n",
      "  import sys\n"
     ]
    },
    {
     "data": {
      "text/plain": [
       "(-0.1, 1.1)"
      ]
     },
     "execution_count": 7,
     "metadata": {},
     "output_type": "execute_result"
    },
    {
     "data": {
      "image/png": "[encoded data removed]",
      "text/plain": [
       "<Figure size 432x288 with 1 Axes>"
      ]
     },
     "metadata": {
      "needs_background": "light"
     },
     "output_type": "display_data"
    }
   ],
   "source": [
    "def dirac(k):\n",
    "    return np.where(k == 0, 1.0, 0.0)\n",
    "\n",
    "\n",
    "k = np.arange(-10, 11)\n",
    "x = dirac(k)\n",
    "plt.stem(k, x)\n",
    "plt.xlabel('$k$')\n",
    "plt.ylabel('$\\delta[k]$')\n",
    "plt.ylim([-0.1, 1.1])"
   ]
  },
  {
   "cell_type": "markdown",
   "metadata": {},
   "source": [
    "Propiedad de multiplicación"
   ]
  },
  {
   "cell_type": "code",
   "execution_count": 8,
   "metadata": {},
   "outputs": [
    {
     "name": "stderr",
     "output_type": "stream",
     "text": [
      "C:\\Users\\Usuario\\.conda\\envs\\SistDin\\lib\\site-packages\\ipykernel_launcher.py:7: UserWarning: In Matplotlib 3.3 individual lines on a stem plot will be added as a LineCollection instead of individual lines. This significantly improves the performance of a stem plot. To remove this warning and switch to the new behaviour, set the \"use_line_collection\" keyword argument to True.\n",
      "  import sys\n",
      "C:\\Users\\Usuario\\.conda\\envs\\SistDin\\lib\\site-packages\\ipykernel_launcher.py:13: UserWarning: In Matplotlib 3.3 individual lines on a stem plot will be added as a LineCollection instead of individual lines. This significantly improves the performance of a stem plot. To remove this warning and switch to the new behaviour, set the \"use_line_collection\" keyword argument to True.\n",
      "  del sys.path[0]\n"
     ]
    },
    {
     "data": {
      "image/png": "[encoded data removed]",
      "text/plain": [
       "<Figure size 720x288 with 2 Axes>"
      ]
     },
     "metadata": {
      "needs_background": "light"
     },
     "output_type": "display_data"
    }
   ],
   "source": [
    "x = dirac(k - 6)\n",
    "y = np.cos(k)\n",
    "w = x*y\n",
    "\n",
    "plt.figure(figsize=(10, 4))\n",
    "plt.subplot(121)\n",
    "plt.stem(k, y)\n",
    "plt.xlabel('$k$')\n",
    "plt.ylabel(r'$\\cos[\\Omega k]$')\n",
    "plt.ylim([-1.1, 1.1])\n",
    "\n",
    "plt.subplot(122)\n",
    "plt.stem(k, w)\n",
    "plt.xlabel('$k$')\n",
    "plt.ylabel('$\\cos[\\Omega k] \\cdot \\delta[k - \\kappa]$')\n",
    "plt.ylim([-1.1, 1.1])\n",
    "plt.tight_layout()"
   ]
  },
  {
   "cell_type": "markdown",
   "metadata": {},
   "source": [
    "### Escalón\n",
    "\n",
    "\\begin{equation}\n",
    "\\epsilon[k] = \\begin{cases} 1 & k \\geq 0 \\\\  0 & k < 0 \\end{cases}\n",
    "\\end{equation}\n",
    "\n",
    "Representa activaciones en momentos especificos. Se relaciona con el impulso mediante:\n",
    "\n",
    "\\begin{equation}\n",
    "\\epsilon[k] = \\sum_{\\kappa = -\\infty}^{k} \\delta[\\kappa]\n",
    "\\end{equation}\n",
    "\n",
    "Lo que implica que:\n",
    "\n",
    "\\begin{equation}\n",
    "\\delta[k] = \\epsilon[k] - \\epsilon[k-1]\n",
    "\\end{equation}"
   ]
  },
  {
   "cell_type": "markdown",
   "metadata": {},
   "source": [
    "**Ejemplo**\n"
   ]
  },
  {
   "cell_type": "code",
   "execution_count": 9,
   "metadata": {},
   "outputs": [
    {
     "name": "stderr",
     "output_type": "stream",
     "text": [
      "C:\\Users\\Usuario\\.conda\\envs\\SistDin\\lib\\site-packages\\ipykernel_launcher.py:8: UserWarning: In Matplotlib 3.3 individual lines on a stem plot will be added as a LineCollection instead of individual lines. This significantly improves the performance of a stem plot. To remove this warning and switch to the new behaviour, set the \"use_line_collection\" keyword argument to True.\n",
      "  \n"
     ]
    },
    {
     "data": {
      "text/plain": [
       "(-0.1, 1.1)"
      ]
     },
     "execution_count": 9,
     "metadata": {},
     "output_type": "execute_result"
    },
    {
     "data": {
      "image/png": "[encoded data removed]",
      "text/plain": [
       "<Figure size 432x288 with 1 Axes>"
      ]
     },
     "metadata": {
      "needs_background": "light"
     },
     "output_type": "display_data"
    }
   ],
   "source": [
    "def heaviside(k):\n",
    "    return np.where(k >= 0, 1.0, 0.0)\n",
    "\n",
    "\n",
    "k = np.arange(-5, 20)\n",
    "x = heaviside(k)\n",
    "\n",
    "plt.stem(k, x)\n",
    "plt.xlabel('$k$')\n",
    "plt.ylabel('$\\epsilon[k]$')\n",
    "plt.ylim([-0.1, 1.1])"
   ]
  },
  {
   "cell_type": "code",
   "execution_count": 10,
   "metadata": {},
   "outputs": [
    {
     "ename": "NameError",
     "evalue": "name 'sym' is not defined",
     "output_type": "error",
     "traceback": [
      "\u001b[1;31m---------------------------------------------------------------------------\u001b[0m",
      "\u001b[1;31mNameError\u001b[0m                                 Traceback (most recent call last)",
      "\u001b[1;32m<ipython-input-10-da6a1129bf36>\u001b[0m in \u001b[0;36m<module>\u001b[1;34m\u001b[0m\n\u001b[0;32m      1\u001b[0m \u001b[0mplt\u001b[0m\u001b[1;33m.\u001b[0m\u001b[0mrcParams\u001b[0m\u001b[1;33m[\u001b[0m\u001b[1;34m'figure.figsize'\u001b[0m\u001b[1;33m]\u001b[0m \u001b[1;33m=\u001b[0m \u001b[1;36m9\u001b[0m\u001b[1;33m,\u001b[0m \u001b[1;36m3\u001b[0m\u001b[1;33m\u001b[0m\u001b[1;33m\u001b[0m\u001b[0m\n\u001b[1;32m----> 2\u001b[1;33m \u001b[0msym\u001b[0m\u001b[1;33m.\u001b[0m\u001b[0mplot\u001b[0m\u001b[1;33m(\u001b[0m\u001b[0mstep\u001b[0m\u001b[1;33m,\u001b[0m \u001b[1;33m(\u001b[0m\u001b[0mt\u001b[0m\u001b[1;33m,\u001b[0m \u001b[1;33m-\u001b[0m\u001b[1;36m2\u001b[0m\u001b[1;33m,\u001b[0m \u001b[1;36m20\u001b[0m\u001b[1;33m)\u001b[0m\u001b[1;33m,\u001b[0m \u001b[0mylim\u001b[0m\u001b[1;33m=\u001b[0m\u001b[1;33m[\u001b[0m\u001b[1;33m-\u001b[0m\u001b[1;36m0.2\u001b[0m\u001b[1;33m,\u001b[0m \u001b[1;36m1.2\u001b[0m\u001b[1;33m]\u001b[0m\u001b[1;33m,\u001b[0m \u001b[0mylabel\u001b[0m\u001b[1;33m=\u001b[0m\u001b[1;34mr'$\\epsilon(t)$'\u001b[0m\u001b[1;33m)\u001b[0m\u001b[1;33m;\u001b[0m\u001b[1;33m\u001b[0m\u001b[1;33m\u001b[0m\u001b[0m\n\u001b[0m",
      "\u001b[1;31mNameError\u001b[0m: name 'sym' is not defined"
     ]
    }
   ],
   "source": [
    "plt.rcParams['figure.figsize'] = 9, 3\n",
    "sym.plot(step, (t, -2, 20), ylim=[-0.2, 1.2], ylabel=r'$\\epsilon(t)$');"
   ]
  },
  {
   "cell_type": "markdown",
   "metadata": {},
   "source": [
    "**Ejercicio**\n",
    "\n",
    "Construya una señal armónica de tiempo discreto que se \"enciende\" en el instante $k=3$. \n",
    "\n"
   ]
  },
  {
   "cell_type": "code",
   "execution_count": null,
   "metadata": {},
   "outputs": [],
   "source": [
    "## Escriba su código aquí\n"
   ]
  },
  {
   "cell_type": "markdown",
   "metadata": {},
   "source": [
    "### Señal signo\n",
    "\n",
    "\n",
    "\\begin{equation}\n",
    "\\text{sgn}[k] = \\begin{cases} 1 & k>0 \\\\ 0 & k=0 \\\\ -1 & k < 0  \\end{cases}\n",
    "\\end{equation}\n",
    "\n",
    "Sirve para obtener el valor absoluto de $x[k]$\n",
    "\n",
    "\\begin{equation}\n",
    "|x[k]| = x[k] \\cdot \\text{sgn}(x[k])\n",
    "\\end{equation}\n",
    "\n",
    "Se relaciona con el escalón\n",
    "\n",
    "\\begin{equation}\n",
    "\\text{sgn}[k] = \\epsilon[k] - \\epsilon[-k]\n",
    "\\end{equation}"
   ]
  },
  {
   "cell_type": "code",
   "execution_count": null,
   "metadata": {},
   "outputs": [],
   "source": [
    "k = np.arange(-10, 11)\n",
    "x = np.sign(k)\n",
    "\n",
    "plt.stem(k, x)\n",
    "plt.xlabel('$k$')\n",
    "plt.ylabel('$\\mathrm{sgn}[k]$')\n",
    "plt.ylim([-1.1, 1.1])"
   ]
  },
  {
   "cell_type": "markdown",
   "metadata": {},
   "source": [
    "Obtenga la señal signo a partir de escalones"
   ]
  },
  {
   "cell_type": "code",
   "execution_count": null,
   "metadata": {},
   "outputs": [],
   "source": [
    "# Escriba su código\n"
   ]
  },
  {
   "cell_type": "markdown",
   "metadata": {},
   "source": [
    "## Operaciones con señales\n",
    "\n",
    "\n",
    "Las señales estándar permiten formar señales de estructuras más complejas mediante operaciones como la superposición, el desplazamiento temporal, el escalamiento, etc."
   ]
  },
  {
   "cell_type": "markdown",
   "metadata": {},
   "source": [
    "### Superposición\n",
    "\n",
    "Considere que $x[k]$ es la superposición ponderada de las señales $x_\\text{A}[k]$ y $x_\\text{B}[k]$, es decir, la relación está dada por:\n",
    "\n",
    "\\begin{equation}\n",
    "x[k] = A \\cdot x_\\text{A}[k] + B \\cdot x_\\text{B}[k]\n",
    "\\end{equation}\n",
    "\n",
    "donde $A, B \\in \\mathbb{C}$.\n",
    "\n",
    "**Ejercicio**\n",
    "\n",
    "$x(t) = A \\cdot \\cos[\\Omega_1 k] + B \\cdot \\cos[\\Omega_2 k]$ con pesos $A$, $B$ y frecuencias normalizadas $\\Omega_1$ y $\\Omega_2$."
   ]
  },
  {
   "cell_type": "code",
   "execution_count": null,
   "metadata": {},
   "outputs": [],
   "source": [
    "import numpy as np\n",
    "import matplotlib.pyplot as plt\n",
    "%matplotlib inline\n",
    "\n",
    "k = np.arange(0, 51)\n",
    "x = np.cos(2 * np.pi / 10 * k) + 2 * np.cos(2 * np.pi / 15 * k)\n",
    "\n",
    "plt.figure(figsize=(6, 3))\n",
    "plt.stem(k, x)\n",
    "plt.xlabel('$k$')\n",
    "plt.ylabel('$x[k]$')\n",
    "plt.gca().margins(y=0.1)"
   ]
  },
  {
   "cell_type": "markdown",
   "metadata": {},
   "source": [
    "### Desplazamiento temporal\n",
    "\n",
    "x[k] = s[k-\\kappa]\n",
    "\\end{equation}\n",
    "\n",
    "con $\\kappa \\in \\mathbb{Z}$. La señal $s[k]$ tiene\n",
    "\n",
    "* desplazamiento a la derecha $\\kappa > 0$\n",
    "* desplazamiento a la izquierda $\\kappa < 0$\n",
    "\n",
    "**Ejercicio**\n",
    "\n",
    "Explique la forma de generar una señal [ diente de sierra](https://en.wikipedia.org/wiki/Sawtooth_wave) superponiendo rampas $k \\cdot \\text{rect}_N[k]$ desplazadas.\n"
   ]
  },
  {
   "cell_type": "code",
   "execution_count": null,
   "metadata": {
    "scrolled": true
   },
   "outputs": [],
   "source": [
    "def sawtooth(k, N):\n",
    "    return np.mod(k, N)\n",
    "np.mod()\n",
    "\n",
    "k = np.arange(-10, 40)\n",
    "x = sawtooth(k, 10)\n",
    "\n",
    "plt.figure(figsize=(6, 3))\n",
    "plt.stem(k, x)\n",
    "plt.xlabel('$k$')\n",
    "plt.ylabel('$x[k]$')\n",
    "plt.gca().margins(y=0.1)"
   ]
  }
 ],
 "metadata": {
  "kernelspec": {
   "display_name": "Python 3",
   "language": "python",
   "name": "python3"
  },
  "language_info": {
   "codemirror_mode": {
    "name": "ipython",
    "version": 3
   },
   "file_extension": ".py",
   "mimetype": "text/x-python",
   "name": "python",
   "nbconvert_exporter": "python",
   "pygments_lexer": "ipython3",
   "version": "3.7.3"
  },
  "latex_envs": {
   "bibliofile": "biblio.bib",
   "cite_by": "apalike",
   "current_citInitial": 1,
   "eqLabelWithNumbers": true,
   "eqNumInitial": 0
  },
  "varInspector": {
   "cols": {
    "lenName": 16,
    "lenType": 16,
    "lenVar": 40
   },
   "kernels_config": {
    "python": {
     "delete_cmd_postfix": "",
     "delete_cmd_prefix": "del ",
     "library": "var_list.py",
     "varRefreshCmd": "print(var_dic_list())"
    },
    "r": {
     "delete_cmd_postfix": ") ",
     "delete_cmd_prefix": "rm(",
     "library": "var_list.r",
     "varRefreshCmd": "cat(var_dic_list()) "
    }
   },
   "types_to_exclude": [
    "module",
    "function",
    "builtin_function_or_method",
    "instance",
    "_Feature"
   ],
   "window_display": false
  }
 },
 "nbformat": 4,
 "nbformat_minor": 4
}
