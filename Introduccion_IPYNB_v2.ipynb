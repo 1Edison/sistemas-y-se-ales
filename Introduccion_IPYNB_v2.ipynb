{
 "cells": [
  {
   "cell_type": "markdown",
   "metadata": {},
   "source": [
    "# Ejercicio: Uso de Python nivel medio\n",
    "\n",
    "## Nombres:\n",
    "- Pepito Perez\n",
    "- Kiko Guanabacoa\n",
    "- Elkin Tovan Piro"
   ]
  },
  {
   "cell_type": "markdown",
   "metadata": {
    "id": "27VhRjC7VkmU"
   },
   "source": [
    "En el código se importan los módulos por usar, se realiza el procesamiento de la información y se generan salidas.\n",
    "\n",
    "** Ejemplo**"
   ]
  },
  {
   "cell_type": "code",
   "execution_count": 1,
   "metadata": {
    "colab": {
     "base_uri": "https://localhost:8080/",
     "height": 444
    },
    "id": "0mKv6csSVkmV",
    "outputId": "cf969fdf-7e86-417b-c397-39c3bfa8dd40"
   },
   "outputs": [
    {
     "data": {
      "text/plain": [
       "<Figure size 1400x700 with 1 Axes>"
      ]
     },
     "metadata": {},
     "output_type": "display_data"
    }
   ],
   "source": [
    "import numpy as np\n",
    "from matplotlib import pyplot as plt\n",
    "\n",
    "ys = 200 + np.random.randn(100)\n",
    "x = [x for x in range(len(ys))]\n",
    "\n",
    "\n",
    "plt.rcParams['figure.figsize'] = 14, 7\n",
    "plt.plot(x, ys, '-')\n",
    "plt.fill_between(x, ys, 195, where=(ys > 195), facecolor='g', alpha=0.6)\n",
    "\n",
    "plt.title(\"Gráfica de ejemplo\")\n",
    "plt.show()"
   ]
  },
  {
   "cell_type": "markdown",
   "metadata": {
    "id": "b5KxFtp2VkmY"
   },
   "source": [
    "\n",
    "## Datos de éxito\n",
    "\n",
    "Suponga que su empresa posee datos relacionados con la estimación de varios expertos de la probabilidad del éxito que tendría al abrir filiales en distintas ciudades del país.\n",
    "\n",
    "La variable ```exito_estimado``` es un diccionario de Python, es decir, una estructura de datos organizada que almacena los datos mediante parejas clave-valor. Puede consultar más información respecto a los [diccionarios](https://www.w3schools.com/python/python_dictionaries.asp). La sintaxis para crear un diccionario es:\n",
    "\n",
    "```python\n",
    "user_dictionary = {'Key1': Value1, 'Key2': Value2, 'Key3': Value3}\n",
    "```\n",
    "\n",
    "El diccionario ```exito_estimado``` tiene strings como claves (ciudades) y listas como valores (las estimaciones de los expertos)."
   ]
  },
  {
   "cell_type": "code",
   "execution_count": 14,
   "metadata": {
    "id": "UVc48D7YVkmZ"
   },
   "outputs": [],
   "source": [
    "# Estimación de los expertos\n",
    "exito_estimado = {\n",
    "    'Armenia': [0.55, 0.33, 0.15, 0.24],\n",
    "    'Cucuta': [0.66, 0.8, 0.95, 0.22],\n",
    "    'Manizales': [0.5],\n",
    "    'Bogota': [0.22, 0.22, 0.25],\n",
    "    'Medellín': [0.99, 0.5, 0.69],\n",
    "    'Popayán': [0.45],\n",
    "    'Cartagena': [0.19, 0.21],\n",
    "    'San Andrés': [0.27],\n",
    "    'Pereira': [0.5, 0.8, 0.66, 0.11, 0.99, 0.56],\n",
    "    'Tolima': [0.32],\n",
    "    'Neiva': [0.58, 0.44],\n",
    "    'Villavicencio': [0.99],\n",
    "    'Quibdo': [0.71, 0.56, 0.31],\n",
    "    'Cali': [0.7, 0.89, 0.72, 0.46, 0.99],\n",
    "    'Santa Marta': [0.53, 0.54, 0.37]\n",
    "}"
   ]
  },
  {
   "cell_type": "code",
   "execution_count": 17,
   "metadata": {
    "colab": {
     "base_uri": "https://localhost:8080/"
    },
    "id": "USl0sOmYYnpP",
    "outputId": "7dd8c7d8-34cb-4839-c907-5f047af64a44"
   },
   "outputs": [
    {
     "data": {
      "text/plain": [
       "['Armenia',\n",
       " 'Cucuta',\n",
       " 'Manizales',\n",
       " 'Bogota',\n",
       " 'Medellín',\n",
       " 'Popayán',\n",
       " 'Cartagena',\n",
       " 'San Andrés',\n",
       " 'Pereira',\n",
       " 'Tolima',\n",
       " 'Neiva',\n",
       " 'Villavicencio',\n",
       " 'Quibdo',\n",
       " 'Cali',\n",
       " 'Santa Marta']"
      ]
     },
     "execution_count": 17,
     "metadata": {},
     "output_type": "execute_result"
    }
   ],
   "source": [
    "list(exito_estimado.keys())"
   ]
  },
  {
   "cell_type": "code",
   "execution_count": 18,
   "metadata": {
    "colab": {
     "base_uri": "https://localhost:8080/"
    },
    "id": "JXwZdKF9Ym-H",
    "outputId": "2d17ecd7-6d51-4477-901a-128415e209d4"
   },
   "outputs": [
    {
     "data": {
      "text/plain": [
       "[[0.55, 0.33, 0.15, 0.24],\n",
       " [0.66, 0.8, 0.95, 0.22],\n",
       " [0.5],\n",
       " [0.22, 0.22, 0.25],\n",
       " [0.99, 0.5, 0.69],\n",
       " [0.45],\n",
       " [0.19, 0.21],\n",
       " [0.27],\n",
       " [0.5, 0.8, 0.66, 0.11, 0.99, 0.56],\n",
       " [0.32],\n",
       " [0.58, 0.44],\n",
       " [0.99],\n",
       " [0.71, 0.56, 0.31],\n",
       " [0.7, 0.89, 0.72, 0.46, 0.99],\n",
       " [0.53, 0.54, 0.37]]"
      ]
     },
     "execution_count": 18,
     "metadata": {},
     "output_type": "execute_result"
    }
   ],
   "source": [
    "list(exito_estimado.values())"
   ]
  },
  {
   "cell_type": "markdown",
   "metadata": {
    "id": "XwWp3S0rZ_3d"
   },
   "source": [
    "El comando `in` permite verificar si una ciudad hace parte de las opciones."
   ]
  },
  {
   "cell_type": "code",
   "execution_count": 19,
   "metadata": {
    "colab": {
     "base_uri": "https://localhost:8080/"
    },
    "id": "gxvMU7_KY89-",
    "outputId": "18d18f7b-af8e-4b51-f20e-3aacfca57167"
   },
   "outputs": [
    {
     "name": "stdout",
     "output_type": "stream",
     "text": [
      "¿Está Neiva entre las opciones?\n",
      "True\n",
      "¿Está Bucaramanga entre las opciones?\n",
      "False\n"
     ]
    }
   ],
   "source": [
    "print('¿Está Neiva entre las opciones?')\n",
    "print('Neiva' in exito_estimado)\n",
    "\n",
    "print('¿Está Bucaramanga entre las opciones?')\n",
    "Bucaramanga_boolean = 'Bucaramanga' in exito_estimado\n",
    "print(Bucaramanga_boolean)"
   ]
  },
  {
   "cell_type": "markdown",
   "metadata": {
    "id": "C8TMcpmVaepk"
   },
   "source": [
    "Pueden extrarse las estimaciones de una ciudad."
   ]
  },
  {
   "cell_type": "code",
   "execution_count": 20,
   "metadata": {
    "colab": {
     "base_uri": "https://localhost:8080/"
    },
    "id": "40F4ceHEagDI",
    "outputId": "a42c794b-4a25-4943-96be-a28fb6a55815"
   },
   "outputs": [
    {
     "data": {
      "text/plain": [
       "[0.66, 0.8, 0.95, 0.22]"
      ]
     },
     "execution_count": 20,
     "metadata": {},
     "output_type": "execute_result"
    }
   ],
   "source": [
    "exito_estimado['Cucuta'] "
   ]
  },
  {
   "cell_type": "markdown",
   "metadata": {
    "id": "b4MphGawbOp2"
   },
   "source": [
    "Y almacenarlos en una variable nueva"
   ]
  },
  {
   "cell_type": "code",
   "execution_count": 21,
   "metadata": {
    "id": "EoTdTOBlbFXS"
   },
   "outputs": [],
   "source": [
    "cucuta_list = exito_estimado['Cucuta'] "
   ]
  },
  {
   "cell_type": "code",
   "execution_count": 22,
   "metadata": {
    "colab": {
     "base_uri": "https://localhost:8080/"
    },
    "id": "7mqqp7e0b_yR",
    "outputId": "2afc28fc-8f9e-4b56-d83f-f470447bf9a0"
   },
   "outputs": [
    {
     "name": "stdout",
     "output_type": "stream",
     "text": [
      "[0.66, 0.8, 0.95, 0.22]\n"
     ]
    }
   ],
   "source": [
    "print(cucuta_list)"
   ]
  },
  {
   "cell_type": "markdown",
   "metadata": {
    "id": "_5nWFTNRbrl6"
   },
   "source": [
    "Compare las siguientes indexaciones"
   ]
  },
  {
   "cell_type": "code",
   "execution_count": 23,
   "metadata": {
    "colab": {
     "base_uri": "https://localhost:8080/"
    },
    "id": "ulGoidFYbYAP",
    "outputId": "5dcdf871-d1f0-48ed-beaa-97357f66698b"
   },
   "outputs": [
    {
     "name": "stdout",
     "output_type": "stream",
     "text": [
      "0.8\n"
     ]
    }
   ],
   "source": [
    "print(cucuta_list[1])"
   ]
  },
  {
   "cell_type": "code",
   "execution_count": 24,
   "metadata": {
    "colab": {
     "base_uri": "https://localhost:8080/"
    },
    "id": "LIt8wTFUb3uG",
    "outputId": "e66c80fc-54f0-45fa-c9c0-fab4e288f818"
   },
   "outputs": [
    {
     "name": "stdout",
     "output_type": "stream",
     "text": [
      "0.8\n"
     ]
    }
   ],
   "source": [
    "print(exito_estimado['Cucuta'] [1])"
   ]
  },
  {
   "cell_type": "markdown",
   "metadata": {
    "id": "EDQcDZxkcSuk"
   },
   "source": [
    "¿Cuántas estimaciones tiene Medellín?"
   ]
  },
  {
   "cell_type": "code",
   "execution_count": 26,
   "metadata": {
    "id": "8UJLZqzkcbzW"
   },
   "outputs": [
    {
     "data": {
      "text/plain": [
       "3"
      ]
     },
     "execution_count": 26,
     "metadata": {},
     "output_type": "execute_result"
    }
   ],
   "source": [
    "# Escriba su código\n",
    "len(exito_estimado['Medellín'])\n"
   ]
  },
  {
   "cell_type": "markdown",
   "metadata": {
    "id": "BkZzlSOgcyPS"
   },
   "source": [
    "Usando ```sum()```, ```min()```, and ```max()```, calcule la estimaciones mínima, máxima y promedio de Quibdo.\n"
   ]
  },
  {
   "cell_type": "code",
   "execution_count": 27,
   "metadata": {
    "id": "_NseoyMndQtZ"
   },
   "outputs": [
    {
     "name": "stdout",
     "output_type": "stream",
     "text": [
      "máximo =  0.71\n"
     ]
    }
   ],
   "source": [
    "# Escriba su código\n",
    "print('máximo = ', max(exito_estimado['Quibdo']))"
   ]
  },
  {
   "cell_type": "markdown",
   "metadata": {
    "id": "-mq1Fhe-eFiH"
   },
   "source": [
    "Usando ```for ``` , calcule la estimación promedio de todas las ciudades y use ```print``` para generar un reporte similar a :\n",
    "```\n",
    "Ciudad: Valledupar , Promedio: 0.32\n",
    "Ciudad: Mocoa , Promedio: 0.13\n",
    "```"
   ]
  },
  {
   "cell_type": "code",
   "execution_count": 32,
   "metadata": {
    "id": "6MjkfAg5e-bs"
   },
   "outputs": [
    {
     "name": "stdout",
     "output_type": "stream",
     "text": [
      "Ciudad:  Armenia , Promedio:  2\n",
      "Ciudad:  Cucuta , Promedio:  2\n",
      "Ciudad:  Manizales , Promedio:  2\n",
      "Ciudad:  Bogota , Promedio:  2\n",
      "Ciudad:  Medellín , Promedio:  2\n",
      "Ciudad:  Popayán , Promedio:  2\n",
      "Ciudad:  Cartagena , Promedio:  2\n",
      "Ciudad:  San Andrés , Promedio:  2\n",
      "Ciudad:  Pereira , Promedio:  2\n",
      "Ciudad:  Tolima , Promedio:  2\n",
      "Ciudad:  Neiva , Promedio:  2\n",
      "Ciudad:  Villavicencio , Promedio:  2\n",
      "Ciudad:  Quibdo , Promedio:  2\n",
      "Ciudad:  Cali , Promedio:  2\n",
      "Ciudad:  Santa Marta , Promedio:  2\n"
     ]
    }
   ],
   "source": [
    "# Escriba su código\n",
    "for x in exito_estimado:\n",
    "    print('Ciudad: ',x, ', Promedio: ',2)"
   ]
  },
  {
   "cell_type": "markdown",
   "metadata": {
    "id": "OcVC9bMnq1bm"
   },
   "source": [
    "Observe una forma de encontrar cuántas estimaciones se tienen para cada ciudad.\n",
    "\n"
   ]
  },
  {
   "cell_type": "code",
   "execution_count": 36,
   "metadata": {},
   "outputs": [
    {
     "data": {
      "text/plain": [
       "[['Armenia', 1],\n",
       " ['Cucuta', 1],\n",
       " ['Manizales', 1],\n",
       " ['Bogota', 1],\n",
       " ['Medellín', 1],\n",
       " ['Popayán', 1],\n",
       " ['Cartagena', 1],\n",
       " ['San Andrés', 1],\n",
       " ['Pereira', 1],\n",
       " ['Tolima', 1],\n",
       " ['Neiva', 1],\n",
       " ['Villavicencio', 1],\n",
       " ['Quibdo', 1],\n",
       " ['Cali', 1],\n",
       " ['Santa Marta', 1]]"
      ]
     },
     "execution_count": 36,
     "metadata": {},
     "output_type": "execute_result"
    }
   ],
   "source": [
    "[[i,1] for i in exito_estimado]"
   ]
  },
  {
   "cell_type": "code",
   "execution_count": 33,
   "metadata": {
    "colab": {
     "base_uri": "https://localhost:8080/"
    },
    "id": "s-CrVeN5pn55",
    "outputId": "ecd55be3-0e1b-43e8-8692-af5724bf0b1f"
   },
   "outputs": [
    {
     "data": {
      "text/plain": [
       "[['Armenia', 4],\n",
       " ['Cucuta', 4],\n",
       " ['Manizales', 1],\n",
       " ['Bogota', 3],\n",
       " ['Medellín', 3],\n",
       " ['Popayán', 1],\n",
       " ['Cartagena', 2],\n",
       " ['San Andrés', 1],\n",
       " ['Pereira', 6],\n",
       " ['Tolima', 1],\n",
       " ['Neiva', 2],\n",
       " ['Villavicencio', 1],\n",
       " ['Quibdo', 3],\n",
       " ['Cali', 5],\n",
       " ['Santa Marta', 3]]"
      ]
     },
     "execution_count": 33,
     "metadata": {},
     "output_type": "execute_result"
    }
   ],
   "source": [
    "estimaciones = [[n, len(exito_estimado[n])] for n in exito_estimado]\n",
    "estimaciones"
   ]
  },
  {
   "cell_type": "markdown",
   "metadata": {
    "id": "0is62hxDro_d"
   },
   "source": [
    "¿Puede proponer otra forma de encontrar el número de estimaciones por ciudad?"
   ]
  },
  {
   "cell_type": "code",
   "execution_count": null,
   "metadata": {
    "id": "vuGwWU-or2Os"
   },
   "outputs": [],
   "source": [
    "# Escriba su código\n"
   ]
  },
  {
   "cell_type": "markdown",
   "metadata": {
    "id": "Ghj04G6Pr6Gc"
   },
   "source": [
    "Genere la lista de listas `suma_cuadrados` que contenga listas con la forma [ciudad, p], con $p= \\Sigma estimacion^2$.  \n",
    "\n",
    "Una posible solución se muestra a continuación."
   ]
  },
  {
   "cell_type": "code",
   "execution_count": 37,
   "metadata": {
    "colab": {
     "base_uri": "https://localhost:8080/"
    },
    "id": "cUKs9xd0sVsb",
    "outputId": "1e84d77b-605e-4a87-9a0d-802c984d16d5"
   },
   "outputs": [
    {
     "data": {
      "text/plain": [
       "[['Armenia', 0.49150000000000005],\n",
       " ['Cucuta', 2.0265],\n",
       " ['Manizales', 0.25],\n",
       " ['Bogota', 0.1593],\n",
       " ['Medellín', 1.7062],\n",
       " ['Popayán', 0.2025],\n",
       " ['Cartagena', 0.0802],\n",
       " ['San Andrés', 0.0729],\n",
       " ['Pereira', 2.6314],\n",
       " ['Tolima', 0.1024],\n",
       " ['Neiva', 0.53],\n",
       " ['Villavicencio', 0.9801],\n",
       " ['Quibdo', 0.9138000000000001],\n",
       " ['Cali', 2.9922000000000004],\n",
       " ['Santa Marta', 0.7094]]"
      ]
     },
     "execution_count": 37,
     "metadata": {},
     "output_type": "execute_result"
    }
   ],
   "source": [
    "suma_cuadrados = [[i, sum([k**2 for k in exito_estimado[i]]) ]  for i in exito_estimado ]\n",
    "suma_cuadrados"
   ]
  },
  {
   "cell_type": "markdown",
   "metadata": {
    "id": "yKZR1LhZuDuE"
   },
   "source": [
    "¿Puede proponer otra forma?"
   ]
  },
  {
   "cell_type": "code",
   "execution_count": null,
   "metadata": {
    "id": "eRY030FUuIcJ"
   },
   "outputs": [],
   "source": [
    "# Escriba su código"
   ]
  },
  {
   "cell_type": "markdown",
   "metadata": {
    "id": "2f9PNVSTvlhf"
   },
   "source": [
    "Bajo el supuesto según el cuál varias opiniones de expertos evitan posibles sesgos, se tendrán en cuenta solo las ciudades que tengan al menos 3 estimaciones.\n",
    "\n",
    "Cree un diccionario con los promedios de las ciudades excluyendo aquellas que no tengan al menos 3 estimaciones de éxito."
   ]
  },
  {
   "cell_type": "code",
   "execution_count": 38,
   "metadata": {
    "colab": {
     "base_uri": "https://localhost:8080/"
    },
    "id": "ESm-O9lNvlCu",
    "outputId": "28e8df19-3c3f-4e08-8aaa-ace065bcb003"
   },
   "outputs": [
    {
     "name": "stdout",
     "output_type": "stream",
     "text": [
      "Calculando promedio de  Armenia\n",
      "Calculando promedio de  Cucuta\n",
      "No se tiene en cuenta a  Manizales\n",
      "Calculando promedio de  Bogota\n",
      "Calculando promedio de  Medellín\n",
      "No se tiene en cuenta a  Popayán\n",
      "No se tiene en cuenta a  Cartagena\n",
      "No se tiene en cuenta a  San Andrés\n",
      "Calculando promedio de  Pereira\n",
      "No se tiene en cuenta a  Tolima\n",
      "No se tiene en cuenta a  Neiva\n",
      "No se tiene en cuenta a  Villavicencio\n",
      "Calculando promedio de  Quibdo\n",
      "Calculando promedio de  Cali\n",
      "Calculando promedio de  Santa Marta\n"
     ]
    },
    {
     "data": {
      "text/plain": [
       "{'Armenia': 0.3175,\n",
       " 'Cucuta': 0.6575000000000001,\n",
       " 'Bogota': 0.22999999999999998,\n",
       " 'Medellín': 0.7266666666666666,\n",
       " 'Pereira': 0.6033333333333333,\n",
       " 'Quibdo': 0.5266666666666667,\n",
       " 'Cali': 0.752,\n",
       " 'Santa Marta': 0.48}"
      ]
     },
     "execution_count": 38,
     "metadata": {},
     "output_type": "execute_result"
    }
   ],
   "source": [
    "# Crea un diccionario vacío para llenarlo con los promedios \n",
    "promedios = {}\n",
    "\n",
    "# For sobre cada ciudad para generar la información relacionada\n",
    "for i in  list(exito_estimado.keys()):\n",
    "    estimaciones = exito_estimado[i] # estimaciones de la ciudad i\n",
    "\n",
    "    # Solo se calcula el promedio si hay al menos 3 estimaciones\n",
    "    if len(estimaciones) >= 3:\n",
    "        print(\"Calculando promedio de \",i)\n",
    "        promedio = sum(estimaciones) / len(estimaciones)\n",
    "        promedios[i] =  promedio # mete promedio a diccionario con clave ciudad\n",
    "    else:\n",
    "        print(\"No se tiene en cuenta a \", i)\n",
    "promedios"
   ]
  },
  {
   "cell_type": "markdown",
   "metadata": {
    "id": "P96ajAUWB5Q6"
   },
   "source": [
    "Se presenta la información del diccionario de promedios"
   ]
  },
  {
   "cell_type": "code",
   "execution_count": 39,
   "metadata": {
    "colab": {
     "base_uri": "https://localhost:8080/"
    },
    "id": "Eyd6kE4rBd6_",
    "outputId": "c45f6b56-e025-4e68-ea7f-47bf6c58b79c"
   },
   "outputs": [
    {
     "name": "stdout",
     "output_type": "stream",
     "text": [
      "Ciudad: Armenia, éxito estimado promedio: 0.32\n",
      "Ciudad: Cucuta, éxito estimado promedio: 0.66\n",
      "Ciudad: Bogota, éxito estimado promedio: 0.23\n",
      "Ciudad: Medellín, éxito estimado promedio: 0.73\n",
      "Ciudad: Pereira, éxito estimado promedio: 0.60\n",
      "Ciudad: Quibdo, éxito estimado promedio: 0.53\n",
      "Ciudad: Cali, éxito estimado promedio: 0.75\n",
      "Ciudad: Santa Marta, éxito estimado promedio: 0.48\n"
     ]
    }
   ],
   "source": [
    "for k in promedios: \n",
    "    print(\"Ciudad: {0:s}, éxito estimado promedio: {1:.2f}\".format(k, promedios[k]))"
   ]
  },
  {
   "cell_type": "markdown",
   "metadata": {
    "id": "Zylffv8bCQrz"
   },
   "source": [
    "* El promedio más alto es para Cali con 0.75. \n",
    "* El promedio más bajo es para Bogotá con 0.23. "
   ]
  },
  {
   "cell_type": "markdown",
   "metadata": {
    "id": "HyJsWkrcDX_O"
   },
   "source": [
    "Las estimaciones de los expertos difieren entre sí. La diferencia entre las estimaciones máxima y mínima (el rango) respecto a una misma ciudad plantea un grado de incertidumbre respecto a las decisiones.  Por esa razón, se genera una alerta para las ciudades que presenten rangos superiores a 0.6. "
   ]
  },
  {
   "cell_type": "code",
   "execution_count": 40,
   "metadata": {
    "colab": {
     "base_uri": "https://localhost:8080/"
    },
    "id": "LjjvG9TFDXZ0",
    "outputId": "c6465fe3-849d-498b-d8d1-d85fb26135a9"
   },
   "outputs": [
    {
     "name": "stdout",
     "output_type": "stream",
     "text": [
      "Ciudad: Armenia, éxito estimado promedio: 0.32, alertas: False\n",
      "Ciudad: Cucuta, éxito estimado promedio: 0.66, alertas: True\n",
      "Ciudad: Manizales, *No se tiene en cuenta*\n",
      "Ciudad: Bogota, éxito estimado promedio: 0.23, alertas: False\n",
      "Ciudad: Medellín, éxito estimado promedio: 0.73, alertas: False\n",
      "Ciudad: Popayán, *No se tiene en cuenta*\n",
      "Ciudad: Cartagena, *No se tiene en cuenta*\n",
      "Ciudad: San Andrés, *No se tiene en cuenta*\n",
      "Ciudad: Pereira, éxito estimado promedio: 0.60, alertas: True\n",
      "Ciudad: Tolima, *No se tiene en cuenta*\n",
      "Ciudad: Neiva, *No se tiene en cuenta*\n",
      "Ciudad: Villavicencio, *No se tiene en cuenta*\n",
      "Ciudad: Quibdo, éxito estimado promedio: 0.53, alertas: False\n",
      "Ciudad: Cali, éxito estimado promedio: 0.75, alertas: False\n",
      "Ciudad: Santa Marta, éxito estimado promedio: 0.48, alertas: False\n"
     ]
    }
   ],
   "source": [
    "# Create an empty dictionary to hold country mean estimates\n",
    "rangos = {}\n",
    "alertas = {}\n",
    "# Ciclo sobre cada ciudad para estimar estadísticos relacionados\n",
    "for c in  list(exito_estimado.keys()):\n",
    "    if len(exito_estimado[c])>2:\n",
    "        min_data = min(exito_estimado[c])\n",
    "        max_data = max(exito_estimado[c])\n",
    "        rango = max_data - min_data        \n",
    "        mean = sum(exito_estimado[c])/len(exito_estimado[c])\n",
    "        rangos[c] = [mean,rango]\n",
    "        if rango > 0.6:\n",
    "            alertas[c] = True\n",
    "        else:\n",
    "            alertas[c] = False\n",
    "        print(\"Ciudad: {0:s}, éxito estimado promedio: {1:.2f}, alertas: {2:}\".format(c, promedios[c],alertas[c]))\n",
    "    else:\n",
    "        print(\"Ciudad: {0:s}, *No se tiene en cuenta*\".format(c))"
   ]
  },
  {
   "cell_type": "markdown",
   "metadata": {
    "id": "3GxVFjqBWgnj"
   },
   "source": [
    "Proponga una forma para seleccionar la ciudad con mayor promedio sin alerta."
   ]
  },
  {
   "cell_type": "code",
   "execution_count": null,
   "metadata": {
    "id": "zv1hGWb1Wcj-"
   },
   "outputs": [],
   "source": [
    "# Escriba su código\n"
   ]
  },
  {
   "cell_type": "markdown",
   "metadata": {
    "id": "v8wisaqaW2TT"
   },
   "source": [
    "La decisión tomada anteriormente se basa en los estadísticos de promedio y rango, sin embargo, podría considerarse una estrategia que asegure los escenarios más pesimista que muestran las estimaciones mínimas.\n",
    "\n",
    "Desarrolle una estrategia que le permita seleccionar la mejor ciudad a partir de los datos más pesimistas."
   ]
  },
  {
   "cell_type": "code",
   "execution_count": null,
   "metadata": {
    "id": "VsC7MEPSXyk5"
   },
   "outputs": [],
   "source": [
    "# Escriba su código\n"
   ]
  },
  {
   "cell_type": "markdown",
   "metadata": {
    "id": "invDetl0Vknb"
   },
   "source": [
    "## Lectura adicional\n",
    "\n",
    "* [http://www.python.org](http://www.python.org) - The official web page of the Python programming language.\n",
    "* [http://www.python.org/dev/peps/pep-0008](http://www.python.org/dev/peps/pep-0008) - Guía de estilo para la programación en Python. Altamente recomendada (en inglés).\n",
    "* [http://www.greenteapress.com/thinkpython/](http://www.greenteapress.com/thinkpython/) - Un libro gratuito sobre Python.\n",
    "* [Python Essential Reference](http://www.amazon.com/Python-Essential-Reference-4th-Edition/dp/0672329786) - Un buen libro de referencia sobre programación en Python."
   ]
  },
  {
   "cell_type": "markdown",
   "metadata": {
    "id": "3Vuh29vBVknc"
   },
   "source": [
    "### Versiones"
   ]
  },
  {
   "cell_type": "code",
   "execution_count": null,
   "metadata": {
    "id": "3qu_Wx5ZVknd"
   },
   "outputs": [],
   "source": [
    "import sys\n",
    "import IPython"
   ]
  },
  {
   "cell_type": "code",
   "execution_count": null,
   "metadata": {
    "colab": {
     "base_uri": "https://localhost:8080/"
    },
    "id": "URFCRFRFVknd",
    "outputId": "ae4a3110-4f4a-4368-cfa5-f5e6cd250959"
   },
   "outputs": [
    {
     "name": "stdout",
     "output_type": "stream",
     "text": [
      "Este notebook fue evaluado con: Python 3.7.13 (default, Apr 24 2022, 01:04:09) \n",
      "[GCC 7.5.0] y IPython 5.5.0.\n"
     ]
    }
   ],
   "source": [
    "print(\"Este notebook fue evaluado con: Python %s y IPython %s.\" % (sys.version, IPython.__version__))"
   ]
  }
 ],
 "metadata": {
  "anaconda-cloud": {},
  "colab": {
   "collapsed_sections": [],
   "provenance": []
  },
  "kernelspec": {
   "display_name": "Python 3",
   "language": "python",
   "name": "python3"
  },
  "language_info": {
   "codemirror_mode": {
    "name": "ipython",
    "version": 3
   },
   "file_extension": ".py",
   "mimetype": "text/x-python",
   "name": "python",
   "nbconvert_exporter": "python",
   "pygments_lexer": "ipython3",
   "version": "3.7.3"
  },
  "latex_envs": {
   "bibliofile": "biblio.bib",
   "cite_by": "apalike",
   "current_citInitial": 1,
   "eqLabelWithNumbers": true,
   "eqNumInitial": 0
  },
  "varInspector": {
   "cols": {
    "lenName": 16,
    "lenType": 16,
    "lenVar": 40
   },
   "kernels_config": {
    "python": {
     "delete_cmd_postfix": "",
     "delete_cmd_prefix": "del ",
     "library": "var_list.py",
     "varRefreshCmd": "print(var_dic_list())"
    },
    "r": {
     "delete_cmd_postfix": ") ",
     "delete_cmd_prefix": "rm(",
     "library": "var_list.r",
     "varRefreshCmd": "cat(var_dic_list()) "
    }
   },
   "types_to_exclude": [
    "module",
    "function",
    "builtin_function_or_method",
    "instance",
    "_Feature"
   ],
   "window_display": false
  }
 },
 "nbformat": 4,
 "nbformat_minor": 1
}
